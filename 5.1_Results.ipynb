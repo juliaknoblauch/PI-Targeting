{
 "cells": [
  {
   "cell_type": "markdown",
   "source": [
    "# Results of Methodology"
   ],
   "metadata": {
    "collapsed": false
   }
  },
  {
   "cell_type": "markdown",
   "source": [
    "## Data Loading and Preparation"
   ],
   "metadata": {
    "collapsed": false
   }
  },
  {
   "cell_type": "code",
   "execution_count": 3,
   "outputs": [],
   "source": [
    "import multiprocessing as mp\n",
    "from copy import copy\n",
    "import itertools\n",
    "import collections\n",
    "\n",
    "import numpy as np\n",
    "import pandas as pd\n",
    "import json\n",
    "\n",
    "import matplotlib.pyplot as plt\n",
    "import seaborn as sns\n",
    "\n",
    "from sklearn.compose import ColumnTransformer\n",
    "from sklearn.preprocessing import StandardScaler\n",
    "\n",
    "from sklearn.linear_model import Ridge, LogisticRegression\n",
    "from sklearn.ensemble import GradientBoostingRegressor, GradientBoostingClassifier, RandomForestRegressor, RandomForestClassifier\n",
    "\n",
    "from sklearn.model_selection import train_test_split, StratifiedShuffleSplit, StratifiedKFold, GridSearchCV\n",
    "from sklearn.model_selection._search import ParameterGrid\n",
    "\n",
    "from xbcausalforest import XBCF\n",
    "\n",
    "# Load model definitions from general module\n",
    "# See https://github.com/johaupt/treatment-learn\n",
    "#import sys\n",
    "#sys.path.append('C:/Users/julia/OneDrive - Humboldt-Universitaet zu Berlin, CMS/Desktop_alt/thesis/code/treatment-learn')\n",
    "import helper\n",
    "from treatlearn.double_robust_transformation import DoubleRobustTransformer\n",
    "from treatlearn.indirect import SingleModel, HurdleModel, TwoModelRegressor\n",
    "from treatlearn.evaluation import transformed_outcome_loss"
   ],
   "metadata": {
    "collapsed": false,
    "pycharm": {
     "name": "#%%\n"
    }
   }
  },
  {
   "cell_type": "code",
   "execution_count": 4,
   "outputs": [],
   "source": [
    "from helper import *"
   ],
   "metadata": {
    "collapsed": false,
    "pycharm": {
     "name": "#%%\n"
    }
   }
  },
  {
   "cell_type": "code",
   "execution_count": 5,
   "outputs": [],
   "source": [
    "# For plotting in Latex font only\n",
    "# import matplotlib\n",
    "# import matplotlib.pyplot as plt\n",
    "# from matplotlib import rc\n",
    "# rc('font',**{'family':'serif','serif':['cm']})\n",
    "# ## for Palatino and other serif fonts use:\n",
    "# #rc('font',**{'family':'serif','serif':['Palatino']})\n",
    "# rc('text', usetex=True)\n",
    "# #matplotlib.rcParams['mathtext.fontset'] = 'cm'\n",
    "# matplotlib.pyplot.title(r'ABC123 vs $\\mathrm{ABC123}^{123}$')\n",
    "# plt.rc('text.latex', preamble=r'\\usepackage{underscore}')"
   ],
   "metadata": {
    "collapsed": false,
    "pycharm": {
     "name": "#%%\n"
    }
   }
  },
  {
   "cell_type": "code",
   "execution_count": 6,
   "outputs": [],
   "source": [
    "from datetime import date\n",
    "\n",
    "today = date.today()"
   ],
   "metadata": {
    "collapsed": false,
    "pycharm": {
     "name": "#%%\n"
    }
   }
  },
  {
   "cell_type": "markdown",
   "source": [
    "Results of different runs, some after scaling"
   ],
   "metadata": {
    "collapsed": false,
    "pycharm": {
     "name": "#%% md\n"
    }
   }
  },
  {
   "cell_type": "code",
   "source": [
    "predictions = np.load(f\"results/run_thorugh_2022-05-30.npy\", allow_pickle=True)\n",
    "predictions_test = [fold for fold in predictions]"
   ],
   "metadata": {
    "collapsed": false,
    "pycharm": {
     "name": "#%%\n"
    }
   },
   "execution_count": 24,
   "outputs": []
  },
  {
   "cell_type": "code",
   "execution_count": 7,
   "outputs": [],
   "source": [
    "# 5.2 All models, without scaling\n",
    "DATA_PATH = \"data/fashionB_clean_nonlinear.csv\"\n",
    "RESULT_PATH = \"prediction_test_results_5.2\"\n",
    "#RESULT_PATH = \"oracle_prediction_test_targeting\" # for scaled predictions after selection\n",
    "predictions = np.load(f\"results/{RESULT_PATH}.npy\", allow_pickle=True)\n",
    "predictions_test = [fold for fold in predictions]"
   ],
   "metadata": {
    "collapsed": false,
    "pycharm": {
     "name": "#%%\n"
    }
   }
  },
  {
   "cell_type": "code",
   "execution_count": 81,
   "outputs": [],
   "source": [
    "#5.3. Regularization: 50 folds with CATE Scaling\n",
    "RESULT_PATH = \"prediction_test_scaled_cv_CATE\"\n",
    "predictions_test = np.load(f\"results/{RESULT_PATH}.npy\", allow_pickle=True)\n",
    "predictions_test = [fold for fold in predictions_test]\n",
    "RESULT_PATH = \"prediction_train_scaled_cv_CATE\"\n",
    "predictions_train = np.load(f\"results/{RESULT_PATH}.npy\", allow_pickle=True)\n",
    "predictions_train = [fold for fold in predictions_train]"
   ],
   "metadata": {
    "collapsed": false,
    "pycharm": {
     "name": "#%%\n"
    }
   }
  },
  {
   "cell_type": "code",
   "execution_count": null,
   "outputs": [],
   "source": [
    "#5.3. Regularization: 50 folds without CATE Scaling\n",
    "RESULT_PATH = \"prediction_test_cv\"\n",
    "predictions_test = np.load(f\"results/{RESULT_PATH}.npy\", allow_pickle=True)\n",
    "predictions_test = [fold for fold in predictions_test]\n",
    "RESULT_PATH = \"prediction_train_cv\"\n",
    "predictions_train = np.load(f\"results/{RESULT_PATH}.npy\", allow_pickle=True)\n",
    "predictions_train = [fold for fold in predictions_train]"
   ],
   "metadata": {
    "collapsed": false,
    "pycharm": {
     "name": "#%%\n"
    }
   }
  },
  {
   "cell_type": "code",
   "execution_count": 23,
   "outputs": [],
   "source": [
    "#5.3. Regularization: 50 folds with Oracle Scaling, XBCF shifted beforehand\n",
    "RESULT_PATH = \"prediction_test_oracle_cv\"\n",
    "predictions_test = np.load(f\"results/{RESULT_PATH}.npy\", allow_pickle=True)\n",
    "predictions_test = [fold for fold in predictions_test]\n",
    "RESULT_PATH = \"prediction_train_oracle_cv\"\n",
    "predictions_train = np.load(f\"results/{RESULT_PATH}.npy\", allow_pickle=True)\n",
    "predictions_train = [fold for fold in predictions_train]\n"
   ],
   "metadata": {
    "collapsed": false,
    "pycharm": {
     "name": "#%%\n"
    }
   }
  },
  {
   "cell_type": "code",
   "execution_count": 8,
   "outputs": [],
   "source": [
    "DATA_PATH = \"data/fashionB_clean_nonlinear.csv\"\n",
    "SEED=42\n",
    "N_SPLITS = 5\n",
    "np.random.seed(SEED)\n",
    "\n",
    "X = pd.read_csv(DATA_PATH)\n",
    "\n",
    "DEBUG = False\n",
    "\n",
    "# Load data\n",
    "\n",
    "c = X.pop('converted').to_numpy()\n",
    "g = X.pop('TREATMENT').to_numpy()\n",
    "y = X.pop('checkoutAmount').to_numpy()\n",
    "tau_conversion = X.pop('TREATMENT_EFFECT_CONVERSION')\n",
    "tau_basket = X.pop('TREATMENT_EFFECT_BASKET')\n",
    "tau_response = X.pop('TREATMENT_EFFECT_RESPONSE')\n"
   ],
   "metadata": {
    "collapsed": false,
    "pycharm": {
     "name": "#%%\n"
    }
   }
  },
  {
   "cell_type": "markdown",
   "source": [
    "## Evaluate Conversion"
   ],
   "metadata": {
    "collapsed": false
   }
  },
  {
   "cell_type": "code",
   "execution_count": 9,
   "outputs": [],
   "source": [
    "eval_conversion = [calc_classification_error(outcome_dict[\"conversion\"], y_true=c[outcome_dict[\"idx\"]], g=np.nonzero(g[outcome_dict[\"idx\"]]))\n",
    "             for outcome_dict in predictions_test]"
   ],
   "metadata": {
    "collapsed": false,
    "pycharm": {
     "name": "#%%\n"
    }
   }
  },
  {
   "cell_type": "code",
   "execution_count": 10,
   "outputs": [],
   "source": [
    "eval_conversion = pd.concat([pd.DataFrame(x) for x in eval_conversion], axis=0, keys=range(len(eval_conversion)))\n",
    "eval_conversion.index.rename([\"fold\",\"metric\"], inplace=True)"
   ],
   "metadata": {
    "collapsed": false,
    "pycharm": {
     "name": "#%%\n"
    }
   }
  },
  {
   "cell_type": "code",
   "execution_count": 11,
   "outputs": [],
   "source": [
    "eval_conversion = eval_conversion.groupby(\"metric\").mean().T"
   ],
   "metadata": {
    "collapsed": false,
    "pycharm": {
     "name": "#%%\n"
    }
   }
  },
  {
   "cell_type": "code",
   "execution_count": 12,
   "outputs": [],
   "source": [
    "eval_conversion.index = pd.MultiIndex.from_tuples(eval_conversion.index.str.split(\"_\", expand=True).tolist())\n",
    "eval_conversion = eval_conversion.rename(mapper={\"ROC-AUC\": \"ROC-AUC\", \"brier\": \"Brier Score\"}, axis=1)"
   ],
   "metadata": {
    "collapsed": false,
    "pycharm": {
     "name": "#%%\n"
    }
   }
  },
  {
   "cell_type": "code",
   "execution_count": 13,
   "outputs": [
    {
     "data": {
      "text/plain": "metric                        ROC-AUC  Brier Score\nsingle-model    outcome gbt  0.670755     0.100660\n                hurdle  gbt  0.669654     0.100490\ntwo-model       hurdle  gbt  0.657968     0.101391\nConversion-Rate              0.500000     0.105053",
      "text/html": "<div>\n<style scoped>\n    .dataframe tbody tr th:only-of-type {\n        vertical-align: middle;\n    }\n\n    .dataframe tbody tr th {\n        vertical-align: top;\n    }\n\n    .dataframe thead th {\n        text-align: right;\n    }\n</style>\n<table border=\"1\" class=\"dataframe\">\n  <thead>\n    <tr style=\"text-align: right;\">\n      <th></th>\n      <th></th>\n      <th>metric</th>\n      <th>ROC-AUC</th>\n      <th>Brier Score</th>\n    </tr>\n  </thead>\n  <tbody>\n    <tr>\n      <th rowspan=\"2\" valign=\"top\">single-model</th>\n      <th>outcome</th>\n      <th>gbt</th>\n      <td>0.670755</td>\n      <td>0.100660</td>\n    </tr>\n    <tr>\n      <th>hurdle</th>\n      <th>gbt</th>\n      <td>0.669654</td>\n      <td>0.100490</td>\n    </tr>\n    <tr>\n      <th>two-model</th>\n      <th>hurdle</th>\n      <th>gbt</th>\n      <td>0.657968</td>\n      <td>0.101391</td>\n    </tr>\n    <tr>\n      <th>Conversion-Rate</th>\n      <th></th>\n      <th></th>\n      <td>0.500000</td>\n      <td>0.105053</td>\n    </tr>\n  </tbody>\n</table>\n</div>"
     },
     "execution_count": 13,
     "metadata": {},
     "output_type": "execute_result"
    }
   ],
   "source": [
    "eval_conversion"
   ],
   "metadata": {
    "collapsed": false,
    "pycharm": {
     "name": "#%%\n"
    }
   }
  },
  {
   "cell_type": "code",
   "execution_count": 12,
   "outputs": [],
   "source": [
    "eval_conversion.to_latex(buf=f\"results/conversion_prediction_quality_{today}_cv50.tex\", float_format=\"%.3f\")\n"
   ],
   "metadata": {
    "collapsed": false,
    "pycharm": {
     "name": "#%%\n"
    }
   }
  },
  {
   "cell_type": "markdown",
   "source": [
    "## 5.1 Evaluate CATE"
   ],
   "metadata": {
    "collapsed": false
   }
  },
  {
   "cell_type": "code",
   "execution_count": 14,
   "outputs": [],
   "source": [
    "eval_test = [calc_prediction_error(outcome_dict[\"treatment_spending\"],\n",
    "                                   y[outcome_dict[\"idx\"]], g[outcome_dict[\"idx\"]], tau_true=tau_response[outcome_dict[\"idx\"]],\n",
    "                                   time_dict=outcome_dict['time_model']) #\n",
    "             for outcome_dict in predictions_test]"
   ],
   "metadata": {
    "collapsed": false,
    "pycharm": {
     "name": "#%%\n"
    }
   }
  },
  {
   "cell_type": "code",
   "execution_count": 15,
   "outputs": [
    {
     "data": {
      "text/plain": "[{'single-model_outcome_gbt': {'transformed_outcome_loss': 4282.278213209041,\n   'root_mean_squared_error': 2.9362007439922206,\n   'mean_absolute_error': 2.158427412523232,\n   'training_time': 25.900500297546387},\n  'single-model_hurdle_gbt': {'transformed_outcome_loss': 4281.727286179715,\n   'root_mean_squared_error': 2.8653531725174513,\n   'mean_absolute_error': 2.0491341011279163,\n   'training_time': 29.480369806289673},\n  'two-model_outcome_gbt': {'transformed_outcome_loss': 4283.503663897647,\n   'root_mean_squared_error': 3.205326271578667,\n   'mean_absolute_error': 2.3491021007688273,\n   'training_time': 20.190366506576538},\n  'two-model_hurdle_gbt': {'transformed_outcome_loss': 4284.142360745319,\n   'root_mean_squared_error': 3.2081669365743593,\n   'mean_absolute_error': 2.4177086960835656,\n   'training_time': 21.345075607299805},\n  'dr_outcome_gbt': {'transformed_outcome_loss': 4283.651255448995,\n   'root_mean_squared_error': 3.0025190259341152,\n   'mean_absolute_error': 2.280260815833829,\n   'training_time': 12.93765902519226},\n  'oracle__': {'transformed_outcome_loss': 4274.719146098475,\n   'root_mean_squared_error': 0.0,\n   'mean_absolute_error': 0.0,\n   'training_time': None},\n  'ATE__': {'transformed_outcome_loss': 4288.487001924099,\n   'root_mean_squared_error': 3.7031387599470107,\n   'mean_absolute_error': 3.0257878867500714,\n   'training_time': None},\n  'xbcf_outcome_xbcf': {'transformed_outcome_loss': 4285.198874215639,\n   'root_mean_squared_error': 3.2798436753129256,\n   'mean_absolute_error': 2.4272351970899386,\n   'training_time': 1332.671379327774}},\n {'single-model_outcome_gbt': {'transformed_outcome_loss': 3970.244240876376,\n   'root_mean_squared_error': 3.1347795897547113,\n   'mean_absolute_error': 2.311345532176766,\n   'training_time': 25.72019052505493},\n  'single-model_hurdle_gbt': {'transformed_outcome_loss': 3971.1248886436156,\n   'root_mean_squared_error': 2.9923422293615483,\n   'mean_absolute_error': 2.2023044048458855,\n   'training_time': 29.723719835281372},\n  'two-model_outcome_gbt': {'transformed_outcome_loss': 3972.9014049284256,\n   'root_mean_squared_error': 3.436289430317445,\n   'mean_absolute_error': 2.553054320355849,\n   'training_time': 19.58768391609192},\n  'two-model_hurdle_gbt': {'transformed_outcome_loss': 3974.030986076069,\n   'root_mean_squared_error': 3.336476308032786,\n   'mean_absolute_error': 2.52729398222178,\n   'training_time': 21.79815173149109},\n  'dr_outcome_gbt': {'transformed_outcome_loss': 3973.743362275208,\n   'root_mean_squared_error': 3.1108074374374373,\n   'mean_absolute_error': 2.3352183947879213,\n   'training_time': 12.837438821792603},\n  'oracle__': {'transformed_outcome_loss': 3965.6342596104237,\n   'root_mean_squared_error': 0.0,\n   'mean_absolute_error': 0.0,\n   'training_time': None},\n  'ATE__': {'transformed_outcome_loss': 3976.4261201354643,\n   'root_mean_squared_error': 3.763616252584416,\n   'mean_absolute_error': 3.054854433555224,\n   'training_time': None},\n  'xbcf_outcome_xbcf': {'transformed_outcome_loss': 3974.739982891234,\n   'root_mean_squared_error': 3.2459141214625036,\n   'mean_absolute_error': 2.32914208960525,\n   'training_time': 1311.0112626552582}},\n {'single-model_outcome_gbt': {'transformed_outcome_loss': 4373.787814643515,\n   'root_mean_squared_error': 3.235389782865949,\n   'mean_absolute_error': 2.302974347220998,\n   'training_time': 26.009868621826172},\n  'single-model_hurdle_gbt': {'transformed_outcome_loss': 4368.027298218902,\n   'root_mean_squared_error': 3.1083640003053183,\n   'mean_absolute_error': 2.218609639991669,\n   'training_time': 29.214728116989136},\n  'two-model_outcome_gbt': {'transformed_outcome_loss': 4373.807465991551,\n   'root_mean_squared_error': 3.540286278215348,\n   'mean_absolute_error': 2.5499652912930793,\n   'training_time': 19.41085147857666},\n  'two-model_hurdle_gbt': {'transformed_outcome_loss': 4372.7413402737875,\n   'root_mean_squared_error': 3.567605332912089,\n   'mean_absolute_error': 2.6199632875011445,\n   'training_time': 21.78092336654663},\n  'dr_outcome_gbt': {'transformed_outcome_loss': 4372.245706852239,\n   'root_mean_squared_error': 3.2794836387362345,\n   'mean_absolute_error': 2.3759830172837946,\n   'training_time': 12.763726234436035},\n  'oracle__': {'transformed_outcome_loss': 4328.5500570247395,\n   'root_mean_squared_error': 0.0,\n   'mean_absolute_error': 0.0,\n   'training_time': None},\n  'ATE__': {'transformed_outcome_loss': 4379.038544522763,\n   'root_mean_squared_error': 3.8906720974188844,\n   'mean_absolute_error': 3.0697932025100276,\n   'training_time': None},\n  'xbcf_outcome_xbcf': {'transformed_outcome_loss': 4369.977724853165,\n   'root_mean_squared_error': 3.177381937290363,\n   'mean_absolute_error': 2.3638402716463585,\n   'training_time': 1305.9009144306183}},\n {'single-model_outcome_gbt': {'transformed_outcome_loss': 4211.525339817035,\n   'root_mean_squared_error': 3.0089242329632877,\n   'mean_absolute_error': 2.2371379102882902,\n   'training_time': 25.711694478988647},\n  'single-model_hurdle_gbt': {'transformed_outcome_loss': 4212.216147640194,\n   'root_mean_squared_error': 3.0273380305676416,\n   'mean_absolute_error': 2.2353300407240897,\n   'training_time': 29.31754732131958},\n  'two-model_outcome_gbt': {'transformed_outcome_loss': 4215.590027851367,\n   'root_mean_squared_error': 3.2828870590350796,\n   'mean_absolute_error': 2.427588337023243,\n   'training_time': 20.25262713432312},\n  'two-model_hurdle_gbt': {'transformed_outcome_loss': 4217.288244527762,\n   'root_mean_squared_error': 3.324382095009209,\n   'mean_absolute_error': 2.5298995369884154,\n   'training_time': 22.070571660995483},\n  'dr_outcome_gbt': {'transformed_outcome_loss': 4212.109221706313,\n   'root_mean_squared_error': 3.0290432507740035,\n   'mean_absolute_error': 2.2581934892208384,\n   'training_time': 12.728106498718262},\n  'oracle__': {'transformed_outcome_loss': 4205.003996417076,\n   'root_mean_squared_error': 0.0,\n   'mean_absolute_error': 0.0,\n   'training_time': None},\n  'ATE__': {'transformed_outcome_loss': 4219.157166066322,\n   'root_mean_squared_error': 3.7580066426424796,\n   'mean_absolute_error': 3.049745492543795,\n   'training_time': None},\n  'xbcf_outcome_xbcf': {'transformed_outcome_loss': 4211.487969627712,\n   'root_mean_squared_error': 2.8901043897631107,\n   'mean_absolute_error': 2.004004802829762,\n   'training_time': 1323.4012260437012}},\n {'single-model_outcome_gbt': {'transformed_outcome_loss': 4059.586521931052,\n   'root_mean_squared_error': 2.968383258334699,\n   'mean_absolute_error': 2.214962297536322,\n   'training_time': 26.05673575401306},\n  'single-model_hurdle_gbt': {'transformed_outcome_loss': 4064.194038404304,\n   'root_mean_squared_error': 3.0249873374831036,\n   'mean_absolute_error': 2.2518781035039854,\n   'training_time': 29.355342388153076},\n  'two-model_outcome_gbt': {'transformed_outcome_loss': 4058.811524007017,\n   'root_mean_squared_error': 3.368531537459826,\n   'mean_absolute_error': 2.5509035411380827,\n   'training_time': 19.301445722579956},\n  'two-model_hurdle_gbt': {'transformed_outcome_loss': 4062.2794759945923,\n   'root_mean_squared_error': 3.2863803951282966,\n   'mean_absolute_error': 2.50460741781146,\n   'training_time': 22.265284776687622},\n  'dr_outcome_gbt': {'transformed_outcome_loss': 4058.2100198394146,\n   'root_mean_squared_error': 3.0186588143493887,\n   'mean_absolute_error': 2.2913004982429475,\n   'training_time': 12.834956407546997},\n  'oracle__': {'transformed_outcome_loss': 4048.386162241654,\n   'root_mean_squared_error': 0.0,\n   'mean_absolute_error': 0.0,\n   'training_time': None},\n  'ATE__': {'transformed_outcome_loss': 4068.2468455389844,\n   'root_mean_squared_error': 3.728924954511444,\n   'mean_absolute_error': 3.047506123702645,\n   'training_time': None},\n  'xbcf_outcome_xbcf': {'transformed_outcome_loss': 4060.6910905182845,\n   'root_mean_squared_error': 3.079249059522174,\n   'mean_absolute_error': 2.334507235517957,\n   'training_time': 1325.3512060642242}}]"
     },
     "execution_count": 15,
     "metadata": {},
     "output_type": "execute_result"
    }
   ],
   "source": [
    "eval_test"
   ],
   "metadata": {
    "collapsed": false,
    "pycharm": {
     "name": "#%%\n"
    }
   }
  },
  {
   "cell_type": "code",
   "execution_count": 16,
   "outputs": [],
   "source": [
    "eval_test_dataframe = pd.concat([pd.DataFrame(x) for x in eval_test], axis=0, keys=range(len(eval_test)))"
   ],
   "metadata": {
    "collapsed": false,
    "pycharm": {
     "name": "#%%\n"
    }
   }
  },
  {
   "cell_type": "code",
   "execution_count": 17,
   "outputs": [],
   "source": [
    "eval_test_dataframe.index.rename([\"fold\",\"metric\"], inplace=True)"
   ],
   "metadata": {
    "collapsed": false,
    "pycharm": {
     "name": "#%%\n"
    }
   }
  },
  {
   "cell_type": "code",
   "execution_count": 18,
   "outputs": [],
   "source": [
    "eval_precision = eval_test_dataframe.groupby(\"metric\").mean().T"
   ],
   "metadata": {
    "collapsed": false,
    "pycharm": {
     "name": "#%%\n"
    }
   }
  },
  {
   "cell_type": "code",
   "execution_count": 19,
   "outputs": [],
   "source": [
    "eval_precision.index = pd.MultiIndex.from_tuples(eval_precision.index.str.split(\"_\", expand=True).tolist())\n",
    "eval_precision = eval_precision.rename(mapper={\"transformed_outcome_loss\": \"TOL\", \"root_mean_squared_error\": \"RMSE\", \"mean_absolute_error\": \"MAE\"}, axis=1)"
   ],
   "metadata": {
    "collapsed": false,
    "pycharm": {
     "name": "#%%\n"
    }
   }
  },
  {
   "cell_type": "markdown",
   "source": [
    "ATE and Oracle are same as in paper. Rest is too high without tuning (also in comparison to ATE)"
   ],
   "metadata": {
    "collapsed": false
   }
  },
  {
   "cell_type": "code",
   "execution_count": 20,
   "outputs": [
    {
     "data": {
      "text/plain": "metric                         TOL  RMSE   MAE  training_time\nsingle-model outcome gbt   4179.48  3.06  2.24          25.88\n             hurdle  gbt   4179.46  3.00  2.19          29.42\ntwo-model    outcome gbt   4180.92  3.37  2.49          19.75\n             hurdle  gbt   4182.10  3.34  2.52          21.85\ndr           outcome gbt   4179.99  3.09  2.31          12.82\noracle                     4164.46  0.00  0.00            NaN\nATE                        4186.27  3.77  3.05            NaN\nxbcf         outcome xbcf  4180.42  3.13  2.29        1319.67",
      "text/html": "<div>\n<style scoped>\n    .dataframe tbody tr th:only-of-type {\n        vertical-align: middle;\n    }\n\n    .dataframe tbody tr th {\n        vertical-align: top;\n    }\n\n    .dataframe thead th {\n        text-align: right;\n    }\n</style>\n<table border=\"1\" class=\"dataframe\">\n  <thead>\n    <tr style=\"text-align: right;\">\n      <th></th>\n      <th></th>\n      <th>metric</th>\n      <th>TOL</th>\n      <th>RMSE</th>\n      <th>MAE</th>\n      <th>training_time</th>\n    </tr>\n  </thead>\n  <tbody>\n    <tr>\n      <th rowspan=\"2\" valign=\"top\">single-model</th>\n      <th>outcome</th>\n      <th>gbt</th>\n      <td>4179.48</td>\n      <td>3.06</td>\n      <td>2.24</td>\n      <td>25.88</td>\n    </tr>\n    <tr>\n      <th>hurdle</th>\n      <th>gbt</th>\n      <td>4179.46</td>\n      <td>3.00</td>\n      <td>2.19</td>\n      <td>29.42</td>\n    </tr>\n    <tr>\n      <th rowspan=\"2\" valign=\"top\">two-model</th>\n      <th>outcome</th>\n      <th>gbt</th>\n      <td>4180.92</td>\n      <td>3.37</td>\n      <td>2.49</td>\n      <td>19.75</td>\n    </tr>\n    <tr>\n      <th>hurdle</th>\n      <th>gbt</th>\n      <td>4182.10</td>\n      <td>3.34</td>\n      <td>2.52</td>\n      <td>21.85</td>\n    </tr>\n    <tr>\n      <th>dr</th>\n      <th>outcome</th>\n      <th>gbt</th>\n      <td>4179.99</td>\n      <td>3.09</td>\n      <td>2.31</td>\n      <td>12.82</td>\n    </tr>\n    <tr>\n      <th>oracle</th>\n      <th></th>\n      <th></th>\n      <td>4164.46</td>\n      <td>0.00</td>\n      <td>0.00</td>\n      <td>NaN</td>\n    </tr>\n    <tr>\n      <th>ATE</th>\n      <th></th>\n      <th></th>\n      <td>4186.27</td>\n      <td>3.77</td>\n      <td>3.05</td>\n      <td>NaN</td>\n    </tr>\n    <tr>\n      <th>xbcf</th>\n      <th>outcome</th>\n      <th>xbcf</th>\n      <td>4180.42</td>\n      <td>3.13</td>\n      <td>2.29</td>\n      <td>1319.67</td>\n    </tr>\n  </tbody>\n</table>\n</div>"
     },
     "execution_count": 20,
     "metadata": {},
     "output_type": "execute_result"
    }
   ],
   "source": [
    "eval_precision.round(2)"
   ],
   "metadata": {
    "collapsed": false,
    "pycharm": {
     "name": "#%%\n"
    }
   }
  },
  {
   "cell_type": "code",
   "execution_count": 19,
   "outputs": [],
   "source": [
    "# write out the table\n",
    "eval_precision.to_latex(buf=f\"results/treatment_prediction_quality_{today}.tex\", float_format=\"%.2f\")"
   ],
   "metadata": {
    "collapsed": false,
    "pycharm": {
     "name": "#%%\n"
    }
   }
  },
  {
   "cell_type": "code",
   "execution_count": 20,
   "outputs": [
    {
     "data": {
      "text/plain": "SpearmanrResult(correlation=1.0, pvalue=0.0)"
     },
     "execution_count": 20,
     "metadata": {},
     "output_type": "execute_result"
    }
   ],
   "source": [
    "import scipy.stats as stats\n",
    "stats.spearmanr(eval_precision[[\"RMSE\"]], eval_precision[[\"TOL\"]])"
   ],
   "metadata": {
    "collapsed": false,
    "pycharm": {
     "name": "#%%\n"
    }
   }
  },
  {
   "cell_type": "code",
   "execution_count": 21,
   "outputs": [
    {
     "data": {
      "text/plain": "array([4, 0, 2, 1, 3, 5], dtype=int64)"
     },
     "execution_count": 21,
     "metadata": {},
     "output_type": "execute_result"
    }
   ],
   "source": [
    "np.argsort(eval_precision[[\"RMSE\"]].values.flatten())"
   ],
   "metadata": {
    "collapsed": false,
    "pycharm": {
     "name": "#%%\n"
    }
   }
  },
  {
   "cell_type": "code",
   "execution_count": 22,
   "outputs": [
    {
     "data": {
      "text/plain": "array([4, 0, 2, 1, 3, 5], dtype=int64)"
     },
     "execution_count": 22,
     "metadata": {},
     "output_type": "execute_result"
    }
   ],
   "source": [
    "np.argsort(eval_precision[[\"TOL\"]].values.flatten())\n"
   ],
   "metadata": {
    "collapsed": false,
    "pycharm": {
     "name": "#%%\n"
    }
   }
  },
  {
   "cell_type": "markdown",
   "source": [
    "## 5.2 Evaluate PIs\n",
    "### PICP, MPIW"
   ],
   "metadata": {
    "collapsed": false
   }
  },
  {
   "cell_type": "code",
   "execution_count": 90,
   "outputs": [],
   "source": [
    "from helper import *\n",
    "unc_eval_test = [helper.calc_uncertainty_metrics(outcome_dict[\"prediction_intervals\"],\n",
    "                                                 time_dict=outcome_dict[\"time_pi\"],\n",
    "                                                 tau_true=tau_response[outcome_dict[\"idx\"]]\n",
    "                                                 )\n",
    "             for outcome_dict in predictions_test]"
   ],
   "metadata": {
    "collapsed": false,
    "pycharm": {
     "name": "#%%\n"
    }
   }
  },
  {
   "cell_type": "code",
   "execution_count": 78,
   "outputs": [
    {
     "data": {
      "text/plain": "array([{'idx': array([    15,     17,     26, ..., 119238, 119241, 119243]), 'conversion': {'single-model_outcome_gbt': array([0.04322822, 0.0870595 , 0.24646043, ..., 0.09211538, 0.14967952,\n              0.19753322]), 'single-model_hurdle_gbt': array([0.05122514, 0.09204595, 0.26105572, ..., 0.08445664, 0.13021363,\n              0.19868886]), 'two-model_hurdle_gbt': array([0.07386939, 0.114136  , 0.19304165, ..., 0.10627231, 0.14940705,\n              0.16250635]), 'Conversion-Rate__': array([0.11926778, 0.11926778, 0.11926778, ..., 0.11926778, 0.11926778,\n              0.11926778])}, 'treatment_conversion': {'single-model_hurdle_gbt': array([0.01532561, 0.02987715, 0.05436079, ..., 0.04262516, 0.0550649 ,\n              0.07573804]), 'two-model_hurdle_gbt': array([0.02977157, 0.04255592, 0.04795257, ..., 0.04866471, 0.07125806,\n              0.06583043]), 'ATE__': array([0.04777018, 0.04777018, 0.04777018, ..., 0.04777018, 0.04777018,\n              0.04777018]), 'oracle__': array([-0.00076798,  0.00848336,  0.0543066 , ...,  0.08099362,\n               0.06781842,  0.09716138])}, 'treatment_basket_value': {'single-model_hurdle_gbt': array([ 0.        ,  0.14808536,  0.        , ..., -0.22709289,\n              -0.66428719,  0.        ]), 'two-model_hurdle_gbt': array([ -1.4666921 ,   3.57378396, -21.71085865, ...,  -5.62107268,\n               -8.64701541,   4.29144074]), 'ATE__': array([-1.56138187, -1.56138187, -1.56138187, ..., -1.56138187,\n              -1.56138187, -1.56138187]), 'oracle__': array([ 3.10212736,  5.37398109, -4.46388351, ..., -6.80910365,\n              -0.18305433,  3.76114992])}, 'treatment_spending': {'single-model_hurdle_gbt': array([1.07433891, 2.13119174, 4.59114126, ..., 3.7837766 , 5.12640687,\n              7.04298838]), 'two-model_outcome_gbt': array([1.15653916, 4.5066708 , 1.02294737, ..., 5.17172489, 7.66652803,\n              6.25021311]), 'two-model_hurdle_gbt': array([2.1742028 , 3.69030491, 0.35311009, ..., 4.09650233, 5.80114503,\n              6.69704009]), 'xbcf_outcome_xbcf': array([1.26708299, 3.7209071 , 4.37704517, ..., 4.2500787 , 6.49299815,\n              4.1844793 ]), 'oracle__': array([9.00972793e-03, 8.81337556e-01, 2.73223458e+00, ...,\n              6.26414532e+00, 7.37093672e+00, 1.07185485e+01]), 'ATE__': array([4.54083933, 4.54083933, 4.54083933, ..., 4.54083933, 4.54083933,\n              4.54083933])}, 'control_predictions': {}, 'prediction_intervals': {0.05: defaultdict(<class 'dict'>, {'xbcf_outcome_xbcf': {'quantile_model': {'pred_low': array([-0.23670042, -0.20369952, -0.20137257, ..., -0.18018283,\n              -0.17493118, -0.20833755]), 'pred_high': array([ 5.38799838, 10.90512138, 16.57968896, ..., 11.309549  ,\n              23.24780564, 18.02241895])}}, 'Agnostic_QR_two-model': {'quantile_model': {'pred_low': array([-0.43270285, -0.48603152, -0.73723007, ..., -0.57535949,\n              -0.57590886, -0.58948642]), 'pred_high': array([ 6.88819188,  8.5598108 ,  9.79400014, ..., 10.88735784,\n              10.63293017, 14.23271617])}}, 'CP_two-model_NN': {'quantile_model': {'pred_low': array([-2.0061619 , -1.97335875, -1.96969807, ..., -1.96985411,\n              -2.0230413 , -1.93887174]), 'pred_high': array([20.51395166, 20.84198322, 20.87858996, ..., 20.87702959,\n              20.34515772, 21.18685327])}}, 'MAPIE_two-model_naive': {'quantile_model': {'pred_low': array([-1.89856531, -1.87382134, -1.91302146, ..., -1.86387527,\n              -1.83508152, -1.84504348]), 'pred_high': array([19.29850404, 19.54594371, 19.15394254, ..., 19.64540442,\n              19.93334195, 19.83372235])}}}), 0.32: defaultdict(<class 'dict'>, {'xbcf_outcome_xbcf': {'quantile_model': {'pred_low': array([0.53188141, 3.0467437 , 2.62417394, ..., 3.6959156 , 3.92945664,\n              1.62885732]), 'pred_high': array([1.99898686, 4.48317751, 6.18370723, ..., 4.95476796, 9.80382184,\n              7.19681246])}}, 'Agnostic_QR_two-model': {'quantile_model': {'pred_low': array([ -1.56035453, -16.02635431, -46.759194  , ..., -16.72981286,\n              -18.45658208,  -9.32813843]), 'pred_high': array([ 1.541478  , 17.57222555,  8.24079248, ..., 10.22877416,\n               3.88714202, 20.33190621])}}, 'CP_two-model_NN': {'quantile_model': {'pred_low': array([-33.91905737, -31.81716251, -27.94519234, ..., -28.63696003,\n              -26.80319691, -24.31388855]), 'pred_high': array([34.02931643, 36.13121128, 40.00318146, ..., 39.31141376,\n              41.14517689, 43.63448524])}}, 'MAPIE_two-model_naive': {'quantile_model': {'pred_low': array([-34.15917796, -31.3943145 , -34.91148723, ..., -30.62296237,\n              -27.34408786, -29.18447771]), 'pred_high': array([36.35426353, 39.119127  , 35.60195427, ..., 39.89047913,\n              43.16935364, 41.32896379])}}})}, 'time_model': {'single-model_hurdle_gbt': 38.681861877441406, 'two-model_outcome_gbt': 26.908073663711548, 'two-model_hurdle_gbt': 31.437823057174683, 'xbcf_outcome_xbcf': 1719.2013957500458}, 'time_pi': {0.05: defaultdict(<class 'dict'>, {'xbcf_outcome_xbcf': 1719.2013957500458, 'QR_Agnostic': 1704.8556907176971, 'Agnostic_QR_two-model': 1594.8377649784088, 'CP_two-model_NN': 3551.975622177124, 'MAPIE_two-model_naive': 16.792205810546875}), 0.32: defaultdict(<class 'dict'>, {'xbcf_outcome_xbcf': 1719.2013957500458, 'QR_Agnostic': 1110.3907701969147, 'Agnostic_QR_two-model': 1036.2316331863403, 'CP_two-model_NN': 1180.6056323051453, 'MAPIE_two-model_naive': 28.499380350112915})}},\n       {'idx': array([     1,      9,     12, ..., 119236, 119237, 119240]), 'conversion': {'single-model_outcome_gbt': array([0.13523175, 0.14303886, 0.04175595, ..., 0.07075288, 0.27193853,\n              0.04407439]), 'single-model_hurdle_gbt': array([0.12199306, 0.12503196, 0.04976576, ..., 0.07774717, 0.31428856,\n              0.04263821]), 'two-model_hurdle_gbt': array([0.12250884, 0.10729944, 0.06668695, ..., 0.08499737, 0.24392679,\n              0.06222287]), 'Conversion-Rate__': array([0.1192887, 0.1192887, 0.1192887, ..., 0.1192887, 0.1192887,\n              0.1192887])}, 'treatment_conversion': {'single-model_hurdle_gbt': array([0.07004515, 0.07375747, 0.01375132, ..., 0.01324568, 0.18782806,\n              0.01950453]), 'two-model_hurdle_gbt': array([0.06930463, 0.05295758, 0.01344509, ..., 0.01088266, 0.1556574 ,\n              0.03560524]), 'ATE__': array([0.04781211, 0.04781211, 0.04781211, ..., 0.04781211, 0.04781211,\n              0.04781211]), 'oracle__': array([ 0.09105945,  0.11871202,  0.00908851, ..., -0.00077533,\n               0.10987957,  0.08402407])}, 'treatment_basket_value': {'single-model_hurdle_gbt': array([0., 0., 0., ..., 0., 0., 0.]), 'two-model_hurdle_gbt': array([ -0.24591825,  -2.95467883,   0.63004683, ...,  -0.12824194,\n                0.73980985, -10.40652469]), 'ATE__': array([-1.04212482, -1.04212482, -1.04212482, ..., -1.04212482,\n              -1.04212482, -1.04212482]), 'oracle__': array([-4.03495504, -4.12790629,  2.40406638, ...,  2.78090877,\n              -0.63793225, -5.87056904])}, 'treatment_spending': {'single-model_hurdle_gbt': array([ 5.02629782,  5.11331041,  1.27834314, ...,  1.31979604,\n              15.64425706,  1.75360498]), 'two-model_outcome_gbt': array([ 5.42206878,  4.67630636, -0.38621751, ...,  0.48918157,\n              11.66453527,  2.97631275]), 'two-model_hurdle_gbt': array([ 5.35523658,  3.88345944,  1.29502181, ...,  1.08365119,\n              14.4491497 ,  2.85520376]), 'xbcf_outcome_xbcf': array([3.19035451, 3.45351304, 3.73503317, ..., 3.86379272, 4.08224453,\n              8.09918319]), 'oracle__': array([ 6.55993591,  7.77346601,  0.89352626, ...,  0.08462564,\n              10.19744421,  7.16482553]), 'ATE__': array([4.61463386, 4.61463386, 4.61463386, ..., 4.61463386, 4.61463386,\n              4.61463386])}, 'control_predictions': {}, 'prediction_intervals': {0.05: defaultdict(<class 'dict'>, {'xbcf_outcome_xbcf': {'quantile_model': {'pred_low': array([-0.28262556, -0.27198499, -0.25374263, ..., -0.25096153,\n              -0.24441579, -0.16027176]), 'pred_high': array([10.00606114,  9.26960853,  8.0892008 , ...,  8.2256946 ,\n               9.90091402, 13.97412632])}}, 'Agnostic_QR_two-model': {'quantile_model': {'pred_low': array([-0.41354781, -0.3650944 , -0.48929569, ..., -0.6941039 ,\n              -0.61684433, -0.50554901]), 'pred_high': array([ 7.52829747,  7.38774226, 10.19313529, ..., 12.76950881,\n              12.71630019,  9.49767001])}}, 'CP_two-model_NN': {'quantile_model': {'pred_low': array([-1.89177266, -1.9090767 , -1.90548143, ..., -1.89669226,\n              -1.81515809, -1.89276016]), 'pred_high': array([19.69308422, 19.52004385, 19.55599658, ..., 19.64388824,\n              20.45922995, 19.6832093 ])}}, 'MAPIE_two-model_naive': {'quantile_model': {'pred_low': array([-1.86116459, -1.8750181 , -1.91715893, ..., -1.90677266,\n              -1.78971564, -1.88553087]), 'pred_high': array([19.6523445 , 19.51380935, 19.09240111, ..., 19.19626382,\n              20.36683399, 19.40868168])}}}), 0.32: defaultdict(<class 'dict'>, {'xbcf_outcome_xbcf': {'quantile_model': {'pred_low': array([1.75170624, 1.96982651, 1.84777563, ..., 2.00777257, 3.037327  ,\n              7.05721757]), 'pred_high': array([4.84257475, 5.17762278, 5.03257891, ..., 5.15328786, 4.89718978,\n              9.25770573])}}, 'Agnostic_QR_two-model': {'quantile_model': {'pred_low': array([-14.27095857,  -7.07574294,  -1.9701598 , ...,  -6.25580648,\n              -19.93513442, -15.84459374]), 'pred_high': array([ 2.50205209, -1.94241143,  2.04723328, ..., 12.56333732,\n              30.21648697, -2.32337399])}}, 'CP_two-model_NN': {'quantile_model': {'pred_low': array([-30.61625004, -26.77542782, -29.37536955, ..., -31.88015461,\n              -29.62554932, -30.94162285]), 'pred_high': array([40.97815228, 44.81897449, 42.21903276, ..., 39.7142477 ,\n              41.968853  , 40.65277946])}}, 'MAPIE_two-model_naive': {'quantile_model': {'pred_low': array([-29.98900342, -31.09089425, -36.06695316, ..., -35.00552695,\n              -22.89788111, -33.02978489]), 'pred_high': array([40.95185234, 39.84996151, 34.8739026 , ..., 35.93532882,\n              48.04297465, 37.91107087])}}})}, 'time_model': {'single-model_hurdle_gbt': 38.87620759010315, 'two-model_outcome_gbt': 27.823306798934937, 'two-model_hurdle_gbt': 31.04727029800415, 'xbcf_outcome_xbcf': 1766.321119070053}, 'time_pi': {0.05: defaultdict(<class 'dict'>, {'xbcf_outcome_xbcf': 1766.321119070053, 'QR_Agnostic': 1690.602293252945, 'Agnostic_QR_two-model': 1580.9737620353699, 'CP_two-model_NN': 4262.226001262665, 'MAPIE_two-model_naive': 21.454814672470093}), 0.32: defaultdict(<class 'dict'>, {'xbcf_outcome_xbcf': 1766.321119070053, 'QR_Agnostic': 1577.1930077075958, 'Agnostic_QR_two-model': 1472.0597348213196, 'CP_two-model_NN': 3767.8295102119446, 'MAPIE_two-model_naive': 16.408372402191162})}},\n       {'idx': array([     3,      8,     12, ..., 119239, 119241, 119242]), 'conversion': {'single-model_outcome_gbt': array([0.15269522, 0.08589556, 0.03956601, ..., 0.44030974, 0.12850384,\n              0.1046113 ]), 'single-model_hurdle_gbt': array([0.11290037, 0.11289052, 0.0428898 , ..., 0.45679953, 0.12172736,\n              0.12701702]), 'two-model_hurdle_gbt': array([0.12149679, 0.10603174, 0.06390157, ..., 0.29532144, 0.14374238,\n              0.13095364]), 'Conversion-Rate__': array([0.11926778, 0.11926778, 0.11926778, ..., 0.11926778, 0.11926778,\n              0.11926778])}, 'treatment_conversion': {'single-model_hurdle_gbt': array([0.04795265, 0.06442785, 0.01200159, ..., 0.14910396, 0.04570404,\n              0.06365191]), 'two-model_hurdle_gbt': array([0.03551596, 0.05643479, 0.01718338, ..., 0.08102201, 0.05520417,\n              0.04697217]), 'ATE__': array([0.04777018, 0.04777018, 0.04777018, ..., 0.04777018, 0.04777018,\n              0.04777018]), 'oracle__': array([0.03677752, 0.07047183, 0.00908851, ..., 0.05235969, 0.06781842,\n              0.04754174])}, 'treatment_basket_value': {'single-model_hurdle_gbt': array([ 0.        ,  0.50315777,  0.        , ..., -0.82558037,\n               0.        ,  0.50315777]), 'two-model_hurdle_gbt': array([-2.4102094 ,  1.64882792, -2.03596195, ..., -4.56044154,\n               1.45056085,  4.10998551]), 'ATE__': array([-1.1873411, -1.1873411, -1.1873411, ..., -1.1873411, -1.1873411,\n              -1.1873411]), 'oracle__': array([-2.704291  ,  2.37247673,  2.40406638, ..., -2.87048356,\n              -0.18305433, -2.04634058])}, 'treatment_spending': {'single-model_hurdle_gbt': array([ 2.77968703,  4.9293299 ,  1.11004299, ..., 18.38016949,\n               4.58716844,  4.96494426]), 'two-model_outcome_gbt': array([ 3.89645573,  7.91106302, -0.17320371, ...,  9.72070548,\n               5.48724736,  3.2852482 ]), 'two-model_hurdle_gbt': array([2.32180034, 4.80750518, 1.49599769, ..., 9.18527072, 5.40426977,\n              4.22733888]), 'xbcf_outcome_xbcf': array([ 4.77121109,  7.39088948,  3.38974283, ..., 16.44328766,\n               3.65545561,  5.3283439 ]), 'oracle__': array([1.78194073, 4.6454862 , 0.89352626, ..., 5.27443365, 7.37093672,\n              3.10359318]), 'ATE__': array([4.58398299, 4.58398299, 4.58398299, ..., 4.58398299, 4.58398299,\n              4.58398299])}, 'control_predictions': {}, 'prediction_intervals': {0.05: defaultdict(<class 'dict'>, {'xbcf_outcome_xbcf': {'quantile_model': {'pred_low': array([-0.13435523, -0.10462181, -0.12613854, ..., -0.11720115,\n              -0.1440912 , -0.12433602]), 'pred_high': array([16.6937724 , 22.51338103,  8.65498273, ..., 71.26644341,\n              15.77412868, 17.79332248])}}, 'Agnostic_QR_two-model': {'quantile_model': {'pred_low': array([-0.28052325, -0.38865978, -0.53954373, ..., -1.12971929,\n              -0.59829188, -0.44514696]), 'pred_high': array([ 5.74171218,  9.455116  , 10.41387355, ..., 21.75869257,\n              10.27624964, 10.76965934])}}, 'CP_two-model_NN': {'quantile_model': {'pred_low': array([-1.80750974, -1.86366082, -1.98106707, ..., -1.71806781,\n              -1.98325339, -1.89408854]), 'pred_high': array([20.01374998, 19.45223917, 18.27817669, ..., 20.90816922,\n              18.25631347, 19.147962  ])}}, 'MAPIE_two-model_naive': {'quantile_model': {'pred_low': array([-1.88776337, -1.84614747, -1.91333643, ..., -1.80685659,\n              -1.85668711, -1.8861494 ]), 'pred_high': array([19.39582165, 19.81198066, 19.14009103, ..., 20.20488946,\n              19.70658421, 19.41196132])}}}), 0.32: defaultdict(<class 'dict'>, {'xbcf_outcome_xbcf': {'quantile_model': {'pred_low': array([2.56248982, 5.62970112, 2.63107878, ..., 9.44396515, 1.91550365,\n              3.42916506]), 'pred_high': array([ 6.80381536,  9.86470696,  4.12884192, ..., 20.61666294,\n               4.64118112,  7.8367121 ])}}, 'Agnostic_QR_two-model': {'quantile_model': {'pred_low': array([-21.99180925, -13.17921327,  -3.58892552, ..., -86.99642642,\n              -15.80797266, -29.61273402]), 'pred_high': array([ 0.83989542,  2.88128339,  0.66760761, ..., 58.43801357,\n               4.93474627, 23.56853452])}}, 'CP_two-model_NN': {'quantile_model': {'pred_low': array([-29.19432211, -37.79969501, -35.40307951, ...,   5.11598396,\n              -29.61795616, -33.36449146]), 'pred_high': array([46.9768281 , 38.37145519, 40.7680707 , ..., 81.28713417,\n              46.55319405, 42.80665874])}}, 'MAPIE_two-model_naive': {'quantile_model': {'pred_low': array([-31.79182789, -26.49075484, -34.80187719, ..., -24.78557261,\n              -28.67670691, -29.57928297]), 'pred_high': array([38.1975126 , 43.49858564, 35.18746329, ..., 45.20376788,\n              41.31263358, 40.41005751])}}})}, 'time_model': {'single-model_hurdle_gbt': 36.35126233100891, 'two-model_outcome_gbt': 28.11991548538208, 'two-model_hurdle_gbt': 31.937814474105835, 'xbcf_outcome_xbcf': 1799.3572642803192}, 'time_pi': {0.05: defaultdict(<class 'dict'>, {'xbcf_outcome_xbcf': 1799.3572642803192, 'QR_Agnostic': 1646.7339253425598, 'Agnostic_QR_two-model': 1546.396713733673, 'CP_two-model_NN': 4184.116804361343, 'MAPIE_two-model_naive': 19.37078309059143}), 0.32: defaultdict(<class 'dict'>, {'xbcf_outcome_xbcf': 1799.3572642803192, 'QR_Agnostic': 1538.1152591705322, 'Agnostic_QR_two-model': 1435.2984745502472, 'CP_two-model_NN': 4221.295283794403, 'MAPIE_two-model_naive': 15.954129219055176})}},\n       {'idx': array([     4,     11,     16, ..., 119233, 119234, 119235]), 'conversion': {'single-model_outcome_gbt': array([0.08252712, 0.05588205, 0.07294802, ..., 0.11732705, 0.10395802,\n              0.08988753]), 'single-model_hurdle_gbt': array([0.07991819, 0.05329318, 0.08448438, ..., 0.10109657, 0.11275062,\n              0.08293554]), 'two-model_hurdle_gbt': array([0.09603406, 0.07618405, 0.09674798, ..., 0.10391953, 0.12363316,\n              0.09748297]), 'Conversion-Rate__': array([0.1192887, 0.1192887, 0.1192887, ..., 0.1192887, 0.1192887,\n              0.1192887])}, 'treatment_conversion': {'single-model_hurdle_gbt': array([0.03465726, 0.01375763, 0.02372   , ..., 0.05685606, 0.05389402,\n              0.02491591]), 'two-model_hurdle_gbt': array([0.03730184, 0.02828595, 0.02479424, ..., 0.05323454, 0.05913456,\n              0.0318434 ]), 'ATE__': array([0.04781211, 0.04781211, 0.04781211, ..., 0.04781211, 0.04781211,\n              0.04781211]), 'oracle__': array([ 0.03533416, -0.00076798, -0.00076798, ...,  0.06422044,\n               0.0627878 ,  0.03448152])}, 'treatment_basket_value': {'single-model_hurdle_gbt': array([-0.33238372,  0.        ,  0.        , ...,  0.        ,\n              -0.33238372,  0.        ]), 'two-model_hurdle_gbt': array([ 1.66512902,  0.08775691,  0.6969446 , ...,  0.50962878,\n              -9.30239748, -0.46248365]), 'ATE__': array([-0.29826473, -0.29826473, -0.29826473, ..., -0.29826473,\n              -0.29826473, -0.29826473]), 'oracle__': array([-0.12959499,  3.10212736,  3.10212736, ...,  1.36913749,\n               2.65699124,  0.77353928])}, 'treatment_spending': {'single-model_hurdle_gbt': array([2.77323877, 1.16584663, 3.11022019, ..., 5.52290906, 4.9447287 ,\n              2.00695002]), 'two-model_outcome_gbt': array([2.84204173, 1.53021384, 1.71267298, ..., 5.66968759, 3.81351929,\n              1.86629544]), 'two-model_hurdle_gbt': array([3.23400732, 2.5635223 , 2.94764418, ..., 5.20461705, 4.90317365,\n              2.64871349]), 'xbcf_outcome_xbcf': array([3.50528829, 2.05973751, 2.18274505, ..., 7.82382648, 3.8196411 ,\n              4.09497091]), 'oracle__': array([2.78806036, 0.3335798 , 0.02915919, ..., 6.29015809, 6.36147859,\n              2.90981944]), 'ATE__': array([4.68328402, 4.68328402, 4.68328402, ..., 4.68328402, 4.68328402,\n              4.68328402])}, 'control_predictions': {}, 'prediction_intervals': {0.05: defaultdict(<class 'dict'>, {'xbcf_outcome_xbcf': {'quantile_model': {'pred_low': array([-0.44645409, -0.45125124, -0.43902024, ..., -0.26762685,\n              -0.41526365, -0.44178997]), 'pred_high': array([11.09481682,  4.9970968 ,  5.0087193 , ..., 15.03580315,\n               9.27327375, 10.52332417])}}, 'Agnostic_QR_two-model': {'quantile_model': {'pred_low': array([-0.40422472, -0.50090139, -0.84955035, ..., -0.60506572,\n              -0.669879  , -0.51166742]), 'pred_high': array([10.66559052, 12.93226305, 19.49972691, ..., 13.13172172,\n              12.7457197 , 10.06945235])}}, 'CP_two-model_NN': {'quantile_model': {'pred_low': array([-1.90991857, -1.94928395, -1.92212963, ..., -1.8587557 ,\n              -1.8846104 , -1.91986309]), 'pred_high': array([19.65503187, 19.26137805, 19.53292122, ..., 20.16666057,\n              19.90811357, 19.55558662])}}, 'MAPIE_two-model_naive': {'quantile_model': {'pred_low': array([-1.89264886, -1.9058748 , -1.89870964, ..., -1.85701771,\n              -1.89029703, -1.89442198]), 'pred_high': array([19.45666608, 19.32440666, 19.39605822, ..., 19.81297754,\n              19.48018436, 19.43893486])}}}), 0.32: defaultdict(<class 'dict'>, {'xbcf_outcome_xbcf': {'quantile_model': {'pred_low': array([1.99508678, 1.75451232, 1.81567462, ..., 7.34813418, 2.92605381,\n              2.32072831]), 'pred_high': array([5.17658383, 2.51423955, 2.57437188, ..., 8.21175163, 4.64701917,\n              5.50173089])}}, 'Agnostic_QR_two-model': {'quantile_model': {'pred_low': array([-11.72342862, -27.70066984, -24.86011671, ...,  -5.37466626,\n              -17.13714334,  -5.51083179]), 'pred_high': array([ 7.50227745, 17.6863846 , 27.2786476 , ..., 16.51910273,\n               8.79746582, 19.78337979])}}, 'CP_two-model_NN': {'quantile_model': {'pred_low': array([-30.4581213 , -35.28405476, -32.29664707, ..., -27.78633118,\n              -23.2352457 , -33.7584219 ]), 'pred_high': array([39.29208851, 34.46615505, 37.45356274, ..., 41.96387863,\n              46.5149641 , 35.99178791])}}, 'MAPIE_two-model_naive': {'quantile_model': {'pred_low': array([-32.51730247, -33.77138485, -33.65921413, ..., -29.08515124,\n              -32.17506   , -32.82240734]), 'pred_high': array([37.91588163, 36.66179924, 36.77396997, ..., 41.34803286,\n              38.2581241 , 37.61077675])}}})}, 'time_model': {'single-model_hurdle_gbt': 36.82955718040466, 'two-model_outcome_gbt': 27.90142297744751, 'two-model_hurdle_gbt': 30.78167223930359, 'xbcf_outcome_xbcf': 1853.2121033668518}, 'time_pi': {0.05: defaultdict(<class 'dict'>, {'xbcf_outcome_xbcf': 1853.2121033668518, 'QR_Agnostic': 1690.3074662685394, 'Agnostic_QR_two-model': 1583.332189798355, 'CP_two-model_NN': 4647.17173910141, 'MAPIE_two-model_naive': 26.09256887435913}), 0.32: defaultdict(<class 'dict'>, {'xbcf_outcome_xbcf': 1853.2121033668518, 'QR_Agnostic': 1611.556825876236, 'Agnostic_QR_two-model': 1512.1336193084717, 'CP_two-model_NN': 3682.2966532707214, 'MAPIE_two-model_naive': 15.431296348571777})}},\n       {'idx': array([    14,     29,     37, ..., 119201, 119202, 119240]), 'conversion': {'single-model_outcome_gbt': array([0.16789168, 0.14100292, 0.23650462, ..., 0.0490502 , 0.09513659,\n              0.04209181]), 'single-model_hurdle_gbt': array([0.19295461, 0.14253674, 0.28807175, ..., 0.05345869, 0.10666279,\n              0.03729976]), 'two-model_hurdle_gbt': array([0.14243859, 0.12764105, 0.2093011 , ..., 0.06814649, 0.11688544,\n              0.06100762]), 'Conversion-Rate__': array([0.1192887, 0.1192887, 0.1192887, ..., 0.1192887, 0.1192887,\n              0.1192887])}, 'treatment_conversion': {'single-model_hurdle_gbt': array([0.10115353, 0.06085588, 0.07873993, ..., 0.01649826, 0.0366937 ,\n              0.0153716 ]), 'two-model_hurdle_gbt': array([0.05759134, 0.0538861 , 0.06020353, ..., 0.02919528, 0.04246446,\n              0.03037552]), 'ATE__': array([0.04781211, 0.04781211, 0.04781211, ..., 0.04781211, 0.04781211,\n              0.04781211]), 'oracle__': array([0.0978901 , 0.07349067, 0.06443989, ..., 0.00366046, 0.0982074 ,\n              0.08402407])}, 'treatment_basket_value': {'single-model_hurdle_gbt': array([ 0.        ,  0.        ,  0.        , ...,  0.        ,\n              -2.57781184, -1.31748499]), 'two-model_hurdle_gbt': array([-1.14406135,  3.89054574,  7.1581699 , ...,  1.99231994,\n              -2.88071487, -8.06314687]), 'ATE__': array([-1.68465675, -1.68465675, -1.68465675, ..., -1.68465675,\n              -1.68465675, -1.68465675]), 'oracle__': array([ 1.91208703,  1.40892709, -4.47596455, ...,  3.14415359,\n              -1.86174536, -5.87056904])}, 'treatment_spending': {'single-model_hurdle_gbt': array([7.13628913, 7.79040274, 8.94797882, ..., 1.81078385, 2.94043909,\n              1.30499147]), 'two-model_outcome_gbt': array([6.26184673, 5.16180203, 7.57153614, ..., 2.90705002, 4.54023803,\n              2.19586898]), 'two-model_hurdle_gbt': array([4.9888753 , 6.52805795, 8.12240527, ..., 3.16582983, 3.62784843,\n              2.43538718]), 'xbcf_outcome_xbcf': array([ 2.15948103,  6.62973997, 16.18380457, ...,  2.86049092,\n               5.12344189,  2.69463591]), 'oracle__': array([6.56855907, 9.89947396, 6.16036655, ..., 0.28901545, 7.83927285,\n              7.16482553]), 'ATE__': array([4.55434342, 4.55434342, 4.55434342, ..., 4.55434342, 4.55434342,\n              4.55434342])}, 'control_predictions': {}, 'prediction_intervals': {0.05: defaultdict(<class 'dict'>, {'xbcf_outcome_xbcf': {'quantile_model': {'pred_low': array([-0.29366542, -0.18873917, -0.08813072, ..., -0.22916687,\n              -0.24001629, -0.23271888]), 'pred_high': array([16.16360566, 14.92171609, 40.59383823, ...,  8.31843638,\n              16.06105017,  9.28635785])}}, 'Agnostic_QR_two-model': {'quantile_model': {'pred_low': array([-0.44260488, -0.78808625, -0.84567798, ..., -0.56818448,\n              -0.5246626 , -0.46108954]), 'pred_high': array([ 9.12682142, 17.38712941, 17.61226907, ..., 17.26581292,\n              11.06959302, 10.54434567])}}, 'CP_two-model_NN': {'quantile_model': {'pred_low': array([-1.84853343, -1.86575153, -1.85171461, ..., -1.91576026,\n              -1.98628787, -1.91650344]), 'pred_high': array([20.04643447, 19.87425346, 20.01462269, ..., 19.3741662 ,\n              18.66889007, 19.36673439])}}, 'MAPIE_two-model_naive': {'quantile_model': {'pred_low': array([-1.87494771, -1.86356209, -1.83880358, ..., -1.88806847,\n              -1.86386841, -1.88778292]), 'pred_high': array([19.59689957, 19.71075578, 19.95834082, ..., 19.46569198,\n              19.70769261, 19.46854751])}}}), 0.32: defaultdict(<class 'dict'>, {'xbcf_outcome_xbcf': {'quantile_model': {'pred_low': array([ 0.08862241,  5.85980035, 11.57245954, ...,  2.16946217,\n               4.06143846,  1.88044857]), 'pred_high': array([ 3.1284618 ,  7.40570395, 20.46904978, ...,  3.70563801,\n               6.37936079,  3.41303873])}}, 'Agnostic_QR_two-model': {'quantile_model': {'pred_low': array([-13.72598323, -24.09931817, -28.30239674, ...,  -9.6100289 ,\n              -31.71946154,  -9.27914578]), 'pred_high': array([31.86010084, 22.12652288, 23.02855314, ..., 27.58037166,\n              26.7353201 , -2.47351269])}}, 'CP_two-model_NN': {'quantile_model': {'pred_low': array([-25.69869423, -23.83862495, -28.96575356, ..., -22.21566582,\n              -25.86243033, -20.70485544]), 'pred_high': array([21.53735352, 23.39742279, 18.27029419, ..., 25.02038193,\n              21.37361741, 26.5311923 ])}}, 'MAPIE_two-model_naive': {'quantile_model': {'pred_low': array([-30.46717377, -29.9631024 , -25.39608749, ..., -32.42039929,\n              -30.78214392, -32.8055003 ]), 'pred_high': array([40.08313788, 40.58720925, 45.15422417, ..., 38.12991237,\n              39.76816774, 37.74481136])}}})}, 'time_model': {'single-model_hurdle_gbt': 36.102494955062866, 'two-model_outcome_gbt': 29.166665077209473, 'two-model_hurdle_gbt': 33.286476612091064, 'xbcf_outcome_xbcf': 1861.2054533958435}, 'time_pi': {0.05: defaultdict(<class 'dict'>, {'xbcf_outcome_xbcf': 1861.2054533958435, 'QR_Agnostic': 1684.4884567260742, 'Agnostic_QR_two-model': 1582.4331920146942, 'CP_two-model_NN': 4622.283874511719, 'MAPIE_two-model_naive': 25.977763175964355}), 0.32: defaultdict(<class 'dict'>, {'xbcf_outcome_xbcf': 1861.2054533958435, 'QR_Agnostic': 1627.9177124500275, 'Agnostic_QR_two-model': 1519.8442175388336, 'CP_two-model_NN': 3708.124969959259, 'MAPIE_two-model_naive': 14.236854553222656})}},\n       {'idx': array([     6,      7,     10, ..., 119205, 119217, 119220]), 'conversion': {'single-model_outcome_gbt': array([0.15503662, 0.18055287, 0.1131535 , ..., 0.12145274, 0.26409076,\n              0.13334164]), 'single-model_hurdle_gbt': array([0.15449286, 0.18687076, 0.17588711, ..., 0.11786058, 0.31467805,\n              0.14111479]), 'two-model_hurdle_gbt': array([0.12843725, 0.17435699, 0.12485041, ..., 0.11655221, 0.20418149,\n              0.15233263]), 'Conversion-Rate__': array([0.1192887, 0.1192887, 0.1192887, ..., 0.1192887, 0.1192887,\n              0.1192887])}, 'treatment_conversion': {'single-model_hurdle_gbt': array([0.04394113, 0.08881526, 0.06888415, ..., 0.01433604, 0.11229173,\n              0.06380894]), 'two-model_hurdle_gbt': array([0.04197591, 0.10106034, 0.04886772, ..., 0.0414015 , 0.05604297,\n              0.07338834]), 'ATE__': array([0.04781211, 0.04781211, 0.04781211, ..., 0.04781211, 0.04781211,\n              0.04781211]), 'oracle__': array([0.04991055, 0.08063181, 0.08240489, ..., 0.02355302, 0.09824405,\n              0.0826351 ])}, 'treatment_basket_value': {'single-model_hurdle_gbt': array([ 0.        ,  0.        , -2.07593024, ...,  0.        ,\n              -0.61755629,  0.        ]), 'two-model_hurdle_gbt': array([  0.14459267, -12.82308624, -18.59862982, ...,   1.16409737,\n               -0.6593572 ,  -0.50931903]), 'ATE__': array([-1.81622359, -1.81622359, -1.81622359, ..., -1.81622359,\n              -1.81622359, -1.81622359]), 'oracle__': array([ 2.85774959, -3.37782033, -3.8125374 , ..., -4.58864035,\n               1.18462812,  0.03197376])}, 'treatment_spending': {'single-model_hurdle_gbt': array([ 4.14216917,  9.84115846,  5.92063037, ...,  1.28079367,\n              13.92216603,  6.88888592]), 'two-model_outcome_gbt': array([2.39691029, 8.40600427, 1.62301755, ..., 2.83991514, 4.31582973,\n              6.4011009 ]), 'two-model_hurdle_gbt': array([4.0938363 , 8.71392927, 2.67995023, ..., 3.93195009, 6.49898404,\n              7.80747437]), 'xbcf_outcome_xbcf': array([7.21412371, 7.68060482, 2.99451515, ..., 2.15523566, 2.10288414,\n              3.53593063]), 'oracle__': array([ 5.02971631,  7.37846812,  6.82057019, ...,  1.32843495,\n              12.23617214,  8.71378213]), 'ATE__': array([4.53460742, 4.53460742, 4.53460742, ..., 4.53460742, 4.53460742,\n              4.53460742])}, 'control_predictions': {}, 'prediction_intervals': {0.05: defaultdict(<class 'dict'>, {'xbcf_outcome_xbcf': {'quantile_model': {'pred_low': array([-0.08449686, -0.0850467 , -0.1857143 , ..., -0.39329236,\n              -0.39241243, -0.20002367]), 'pred_high': array([13.78463617, 17.66987371, 10.70789334, ..., 18.54974864,\n              18.34057015, 11.45429429])}}, 'Agnostic_QR_two-model': {'quantile_model': {'pred_low': array([-0.55779261, -0.59696789, -0.7076728 , ..., -0.65319965,\n              -1.03132605, -0.83093926]), 'pred_high': array([10.19658591, 14.2035338 , 10.4839984 , ..., 11.09677873,\n              19.27302823, 14.71227223])}}, 'CP_two-model_NN': {'quantile_model': {'pred_low': array([-1.86522198, -1.79061968, -1.88156224, ..., -2.10220887,\n              -0.91246367, -1.71680303]), 'pred_high': array([19.63351784, 20.37954082, 19.47011521, ..., 17.26364894,\n              29.16110096, 21.11770735])}}, 'MAPIE_two-model_naive': {'quantile_model': {'pred_low': array([-1.88958816, -1.8218463 , -1.88005313, ..., -1.8512975 ,\n              -1.87600177, -1.84786893]), 'pred_high': array([19.42361188, 20.10103051, 19.51896218, ..., 19.80651849,\n              19.55947581, 19.84080422])}}}), 0.32: defaultdict(<class 'dict'>, {'xbcf_outcome_xbcf': {'quantile_model': {'pred_low': array([ 6.13386058,  6.74244186,  1.34714504, ..., -2.84088168,\n              -2.35741865,  2.12014213]), 'pred_high': array([8.25820021, 8.33246767, 4.85268789, ..., 7.97633206, 5.72864696,\n              4.81734891])}}, 'Agnostic_QR_two-model': {'quantile_model': {'pred_low': array([-14.67285375, -13.36814636, -43.10336726, ..., -27.52860647,\n              -53.85485207, -24.78308736]), 'pred_high': array([ 9.09663105, 20.40449417, 15.51598121, ...,  4.94184391,\n              51.97489708, 19.11185286])}}, 'CP_two-model_NN': {'quantile_model': {'pred_low': array([-36.43430328, -35.15925694, -40.25493193, ..., -46.74624777,\n              -48.7385397 , -29.24622726]), 'pred_high': array([46.16915131, 47.44419765, 42.34852266, ..., 35.85720682,\n              33.86491489, 53.35722733])}}, 'MAPIE_two-model_naive': {'quantile_model': {'pred_low': array([-32.94107924, -25.97376621, -32.78282189, ..., -32.4329291 ,\n              -31.03424727, -29.39835886]), 'pred_high': array([37.38595835, 44.35327138, 37.5442157 , ..., 37.89410849,\n              39.29279031, 40.92867872])}}})}, 'time_model': {'single-model_hurdle_gbt': 38.86058449745178, 'two-model_outcome_gbt': 27.182749271392822, 'two-model_hurdle_gbt': 31.3597354888916, 'xbcf_outcome_xbcf': 1831.1911056041718}, 'time_pi': {0.05: defaultdict(<class 'dict'>, {'xbcf_outcome_xbcf': 1831.1911056041718, 'QR_Agnostic': 1693.3908004760742, 'Agnostic_QR_two-model': 1586.6073229312897, 'CP_two-model_NN': 4849.120863437653, 'MAPIE_two-model_naive': 27.5552077293396}), 0.32: defaultdict(<class 'dict'>, {'xbcf_outcome_xbcf': 1831.1911056041718, 'QR_Agnostic': 1587.5195333957672, 'Agnostic_QR_two-model': 1484.0821750164032, 'CP_two-model_NN': 3695.327228784561, 'MAPIE_two-model_naive': 13.840555667877197})}},\n       {'idx': array([     0,      2,      5, ..., 119236, 119237, 119244]), 'conversion': {'single-model_outcome_gbt': array([0.13515078, 0.06934714, 0.14337591, ..., 0.06190094, 0.28955088,\n              0.04240286]), 'single-model_hurdle_gbt': array([0.1262845 , 0.07173878, 0.1321082 , ..., 0.07828146, 0.2408454 ,\n              0.04203637]), 'two-model_hurdle_gbt': array([0.14702311, 0.0980848 , 0.1140687 , ..., 0.09078331, 0.21276543,\n              0.0630921 ]), 'Conversion-Rate__': array([0.1192887, 0.1192887, 0.1192887, ..., 0.1192887, 0.1192887,\n              0.1192887])}, 'treatment_conversion': {'single-model_hurdle_gbt': array([0.04078988, 0.03490319, 0.05815591, ..., 0.01690193, 0.13906902,\n              0.02266297]), 'two-model_hurdle_gbt': array([0.06910354, 0.05080417, 0.04273088, ..., 0.01522192, 0.10959084,\n              0.04110346]), 'ATE__': array([0.04781211, 0.04781211, 0.04781211, ..., 0.04781211, 0.04781211,\n              0.04781211]), 'oracle__': array([ 0.00386651,  0.0463569 ,  0.06689696, ..., -0.00077533,\n               0.10987957,  0.03647233])}, 'treatment_basket_value': {'single-model_hurdle_gbt': array([0., 0., 0., ..., 0., 0., 0.]), 'two-model_hurdle_gbt': array([-3.40531339, -8.33989088,  2.07204583, ..., -0.50838358,\n               3.3341407 , -9.18600863]), 'ATE__': array([-0.77664209, -0.77664209, -0.77664209, ..., -0.77664209,\n              -0.77664209, -0.77664209]), 'oracle__': array([ 4.38330004,  2.52312043,  0.3406405 , ...,  2.78090877,\n              -0.63793225,  1.69015879])}, 'treatment_spending': {'single-model_hurdle_gbt': array([ 4.48941751,  4.0656204 ,  4.96594192, ...,  1.69005221,\n              12.68618059,  2.03489839]), 'two-model_outcome_gbt': array([ 5.84082651,  5.07818959,  4.496255  , ...,  0.8674503 ,\n              10.93335242,  4.05083703]), 'two-model_hurdle_gbt': array([ 7.2248964 ,  4.62524861,  3.81976947, ...,  1.48367731,\n              10.79774656,  3.37495596]), 'xbcf_outcome_xbcf': array([4.67443086, 4.81470704, 1.62381031, ..., 1.97315624, 4.51089722,\n              4.48169647]), 'oracle__': array([ 0.9459487 ,  4.87410841,  6.34200375, ...,  0.08462564,\n              10.19744421,  3.36071428]), 'ATE__': array([4.62424119, 4.62424119, 4.62424119, ..., 4.62424119, 4.62424119,\n              4.62424119])}, 'control_predictions': {}, 'prediction_intervals': {0.05: defaultdict(<class 'dict'>, {'xbcf_outcome_xbcf': {'quantile_model': {'pred_low': array([-0.53552964, -0.49010139, -0.76759117, ..., -0.66264094,\n              -0.64551223, -0.51993142]), 'pred_high': array([17.41298709, 11.86576164,  5.7580175 , ...,  5.75028044,\n              16.81823551, 11.18748642])}}, 'Agnostic_QR_two-model': {'quantile_model': {'pred_low': array([-0.77855401, -0.59338216, -0.59376074, ..., -0.63286127,\n              -0.65113384, -0.50600621]), 'pred_high': array([16.69185816, 14.82816258, 12.64846618, ..., 14.55701575,\n              12.35973864, 11.55003282])}}, 'CP_two-model_NN': {'quantile_model': {'pred_low': array([-1.80535325, -2.04253702, -1.80510226, ..., -1.92776333,\n              -1.89227695, -1.96027222]), 'pred_high': array([22.09596095, 19.72412319, 22.09847082, ..., 20.87186011,\n              21.22672386, 20.54677117])}}, 'MAPIE_two-model_naive': {'quantile_model': {'pred_low': array([-1.85898248, -1.85570894, -1.87413938, ..., -1.90014221,\n              -1.80644245, -1.86180568]), 'pred_high': array([19.59297809, 19.62571354, 19.44140915, ..., 19.18138085,\n              20.11837841, 19.56474614])}}}), 0.32: defaultdict(<class 'dict'>, {'xbcf_outcome_xbcf': {'quantile_model': {'pred_low': array([3.74293568, 4.27850577, 0.75829831, ..., 1.42571693, 2.8895143 ,\n              3.80061858]), 'pred_high': array([5.61173021, 5.30329959, 2.33315993, ..., 2.53563046, 5.2395028 ,\n              5.03351335])}}, 'Agnostic_QR_two-model': {'quantile_model': {'pred_low': array([-20.00929775, -16.69248898, -10.99139896, ...,  -5.92535687,\n              -13.74647765,  -5.91206615]), 'pred_high': array([20.68829217, 15.50867509, 22.21656562, ..., 10.39359675,\n              27.76455016, -3.84539087])}}, 'CP_two-model_NN': {'quantile_model': {'pred_low': array([-33.51782489, -44.13319969, -28.78742981, ..., -33.90580511,\n              -25.50176144, -32.04902864]), 'pred_high': array([37.48203778, 26.86666298, 42.21243286, ..., 37.09405756,\n              45.49810123, 38.95083404])}}, 'MAPIE_two-model_naive': {'quantile_model': {'pred_low': array([-30.08217676, -30.57087547, -31.3002556 , ..., -33.86095926,\n              -25.25461288, -31.02046025]), 'pred_high': array([40.35309469, 39.86439598, 39.13501585, ..., 36.5743122 ,\n              45.18065857, 39.41481121])}}})}, 'time_model': {'single-model_hurdle_gbt': 36.11811828613281, 'two-model_outcome_gbt': 28.68233895301819, 'two-model_hurdle_gbt': 33.00525879859924, 'xbcf_outcome_xbcf': 1854.2361266613007}, 'time_pi': {0.05: defaultdict(<class 'dict'>, {'xbcf_outcome_xbcf': 1854.2361266613007, 'QR_Agnostic': 1659.1792590618134, 'Agnostic_QR_two-model': 1569.6169056892395, 'CP_two-model_NN': 4232.82346200943, 'MAPIE_two-model_naive': 23.298672199249268}), 0.32: defaultdict(<class 'dict'>, {'xbcf_outcome_xbcf': 1854.2361266613007, 'QR_Agnostic': 1584.2480118274689, 'Agnostic_QR_two-model': 1480.9732029438019, 'CP_two-model_NN': 4343.62011551857, 'MAPIE_two-model_naive': 13.591133117675781})}},\n       {'idx': array([     4,     10,     13, ..., 119231, 119232, 119243]), 'conversion': {'single-model_outcome_gbt': array([0.09469028, 0.14020801, 0.04913108, ..., 0.06585883, 0.15567344,\n              0.21622388]), 'single-model_hurdle_gbt': array([0.09013109, 0.15249354, 0.04698025, ..., 0.08260137, 0.1347519 ,\n              0.20338204]), 'two-model_hurdle_gbt': array([0.10390035, 0.11856164, 0.06653652, ..., 0.09200357, 0.11744105,\n              0.18603379]), 'Conversion-Rate__': array([0.11926778, 0.11926778, 0.11926778, ..., 0.11926778, 0.11926778,\n              0.11926778])}, 'treatment_conversion': {'single-model_hurdle_gbt': array([0.03221232, 0.04645515, 0.01703377, ..., 0.0204703 , 0.07120971,\n              0.08636402]), 'two-model_hurdle_gbt': array([0.03788647, 0.02446855, 0.02448866, ..., 0.02245014, 0.06329146,\n              0.07718477]), 'ATE__': array([0.04777018, 0.04777018, 0.04777018, ..., 0.04777018, 0.04777018,\n              0.04777018]), 'oracle__': array([ 0.03533416,  0.08240489, -0.00077533, ..., -0.00076798,\n               0.07349067,  0.09716138])}, 'treatment_basket_value': {'single-model_hurdle_gbt': array([0., 0., 0., ..., 0., 0., 0.]), 'two-model_hurdle_gbt': array([ 1.26403917, -9.28367121,  0.7008431 , ...,  1.18039882,\n              -1.10388764,  1.89739908]), 'ATE__': array([-1.54064229, -1.54064229, -1.54064229, ..., -1.54064229,\n              -1.54064229, -1.54064229]), 'oracle__': array([-0.12959499, -3.8125374 ,  2.78090877, ...,  3.10212736,\n               1.40892709,  3.76114992])}, 'treatment_spending': {'single-model_hurdle_gbt': array([2.59428319, 4.26949018, 1.77154853, ..., 2.47192258, 8.0498107 ,\n              8.83357593]), 'two-model_outcome_gbt': array([3.1694737 , 4.35754155, 0.98966567, ..., 3.51329017, 7.2303588 ,\n              7.64327932]), 'two-model_hurdle_gbt': array([3.30066355, 1.37025654, 2.47755107, ..., 2.5819485 , 6.81150836,\n              7.59475969]), 'xbcf_outcome_xbcf': array([3.44647584, 6.77831888, 1.70079932, ..., 1.57545235, 7.5963911 ,\n              6.2735434 ]), 'oracle__': array([ 2.78806036e+00,  6.82057019e+00, -8.01172209e-04, ...,\n               5.25915513e-02,  8.47520398e+00,  1.07185485e+01]), 'ATE__': array([4.57249054, 4.57249054, 4.57249054, ..., 4.57249054, 4.57249054,\n              4.57249054])}, 'control_predictions': {}, 'prediction_intervals': {0.05: defaultdict(<class 'dict'>, {'xbcf_outcome_xbcf': {'quantile_model': {'pred_low': array([-0.09233723, -0.07164996, -0.09303364, ..., -0.09949484,\n              -0.03792589, -0.07715661]), 'pred_high': array([ 9.04762503, 16.78008171,  4.12797054, ...,  3.76503194,\n              12.62927243, 15.29339407])}}, 'Agnostic_QR_two-model': {'quantile_model': {'pred_low': array([-0.42280751, -0.5123244 , -0.65076313, ..., -0.76747299,\n              -0.73818764, -0.62181191]), 'pred_high': array([ 9.76622832, 10.84489748, 14.50526524, ..., 15.82885959,\n              16.32512535, 13.48994287])}}, 'CP_two-model_NN': {'quantile_model': {'pred_low': array([-1.9097112 , -1.88803236, -1.87598471, ..., -1.88953707,\n              -1.86792192, -1.79213196]), 'pred_high': array([19.16316781, 19.3799562 , 19.50043271, ..., 19.36490917,\n              19.5810606 , 20.33896027])}}, 'MAPIE_two-model_naive': {'quantile_model': {'pred_low': array([-1.88200507, -1.90710676, -1.9075753 , ..., -1.89292986,\n              -1.84871925, -1.83393609]), 'pred_high': array([19.57897574, 19.32795883, 19.3232734 , ..., 19.46972784,\n              19.91183392, 20.05966547])}}}), 0.32: defaultdict(<class 'dict'>, {'xbcf_outcome_xbcf': {'quantile_model': {'pred_low': array([1.57595649, 3.98415939, 1.18285229, ..., 0.8574827 , 6.89844743,\n              3.8464709 ]), 'pred_high': array([5.16760186, 9.60522353, 2.29421072, ..., 2.25588008, 8.3513678 ,\n              8.54470564])}}, 'Agnostic_QR_two-model': {'quantile_model': {'pred_low': array([-12.89038861, -40.57079059, -10.48036163, ..., -18.90323793,\n              -17.30119498,  -8.92347162]), 'pred_high': array([ 7.91279873, 21.62624476,  8.14086995, ..., 17.32562327,\n              17.1198582 , 16.99114463])}}, 'CP_two-model_NN': {'quantile_model': {'pred_low': array([-26.96724939, -26.76395202, -27.33647442, ..., -24.51265001,\n              -18.27770638, -15.60929441]), 'pred_high': array([35.08173513, 35.28503251, 34.71251011, ..., 37.53633451,\n              43.77127814, 46.43969011])}}, 'MAPIE_two-model_naive': {'quantile_model': {'pred_low': array([-31.41479661, -31.57782503, -33.71568242, ..., -32.60661583,\n              -28.27953961, -26.55078462]), 'pred_high': array([39.14463209, 38.98160367, 36.84374628, ..., 37.95281287,\n              42.27988909, 44.00864408])}}})}, 'time_model': {'single-model_hurdle_gbt': 36.11564493179321, 'two-model_outcome_gbt': 28.24490451812744, 'two-model_hurdle_gbt': 31.656596183776855, 'xbcf_outcome_xbcf': 2672.1848380565643}, 'time_pi': {0.05: defaultdict(<class 'dict'>, {'xbcf_outcome_xbcf': 2672.1848380565643, 'QR_Agnostic': 1359.7197489738464, 'Agnostic_QR_two-model': 1275.8775568008423, 'CP_two-model_NN': 4376.120482444763, 'MAPIE_two-model_naive': 28.236440420150757}), 0.32: defaultdict(<class 'dict'>, {'xbcf_outcome_xbcf': 2672.1848380565643, 'QR_Agnostic': 1572.228952884674, 'Agnostic_QR_two-model': 1470.5773470401764, 'CP_two-model_NN': 3897.416598558426, 'MAPIE_two-model_naive': 13.337849140167236})}},\n       {'idx': array([     1,      9,     15, ..., 119206, 119208, 119216]), 'conversion': {'single-model_outcome_gbt': array([0.10946815, 0.1458051 , 0.03746864, ..., 0.11798728, 0.1437026 ,\n              0.18291124]), 'single-model_hurdle_gbt': array([0.1266965 , 0.12654385, 0.0496518 , ..., 0.11515329, 0.14445988,\n              0.14030644]), 'two-model_hurdle_gbt': array([0.11575748, 0.11319424, 0.07245801, ..., 0.10020092, 0.12385297,\n              0.17144152]), 'Conversion-Rate__': array([0.1192887, 0.1192887, 0.1192887, ..., 0.1192887, 0.1192887,\n              0.1192887])}, 'treatment_conversion': {'single-model_hurdle_gbt': array([0.079514  , 0.07518768, 0.01516488, ..., 0.06950005, 0.06988196,\n              0.06121359]), 'two-model_hurdle_gbt': array([0.06853422, 0.06276665, 0.02932188, ..., 0.06080474, 0.05889305,\n              0.08689054]), 'ATE__': array([0.04781211, 0.04781211, 0.04781211, ..., 0.04781211, 0.04781211,\n              0.04781211]), 'oracle__': array([ 0.09105945,  0.11871202, -0.00076798, ...,  0.09116666,\n               0.07349067,  0.15      ])}, 'treatment_basket_value': {'single-model_hurdle_gbt': array([0., 0., 0., ..., 0., 0., 0.]), 'two-model_hurdle_gbt': array([-3.91414752,  0.64094531, -1.10576819, ...,  3.9617497 ,\n               2.82142305, -2.87264996]), 'ATE__': array([-0.92067276, -0.92067276, -0.92067276, ..., -0.92067276,\n              -0.92067276, -0.92067276]), 'oracle__': array([-4.03495504, -4.12790629,  3.10212736, ...,  2.11111076,\n               1.40892709, -2.59422476])}, 'treatment_spending': {'single-model_hurdle_gbt': array([5.31654013, 5.2988311 , 1.06268188, ..., 6.45934946, 5.71497213,\n              4.92436473]), 'two-model_outcome_gbt': array([5.15386853, 4.90462356, 2.05182018, ..., 7.55342708, 5.18342811,\n              6.23917501]), 'two-model_hurdle_gbt': array([4.99133828, 4.94844267, 2.14811351, ..., 6.26387572, 5.27842742,\n              7.07489974]), 'xbcf_outcome_xbcf': array([2.73865017, 1.53487246, 0.46039629, ..., 7.76749491, 8.0412112 ,\n              1.52740664]), 'oracle__': array([6.55993591e+00, 7.77346601e+00, 9.00972793e-03, ...,\n              8.81767906e+00, 6.33244755e+00, 1.11900371e+01]), 'ATE__': array([4.61079126, 4.61079126, 4.61079126, ..., 4.61079126, 4.61079126,\n              4.61079126])}, 'control_predictions': {}, 'prediction_intervals': {0.05: defaultdict(<class 'dict'>, {'xbcf_outcome_xbcf': {'quantile_model': {'pred_low': array([-0.32475986, -0.34327468, -0.33764129, ..., -0.19695114,\n              -0.17684314, -0.33450901]), 'pred_high': array([10.69927677,  9.12406079,  4.03245698, ..., 16.99533264,\n              16.44518029, 12.31649305])}}, 'Agnostic_QR_two-model': {'quantile_model': {'pred_low': array([-0.46196286, -0.40625254, -0.43457683, ..., -0.59984333,\n              -0.58986804, -0.45134131]), 'pred_high': array([ 8.22216799,  7.32749288,  6.23649091, ..., 13.08447606,\n              10.15275249,  8.96356386])}}, 'CP_two-model_NN': {'quantile_model': {'pred_low': array([-1.90678927, -1.91762174, -1.92358999, ..., -1.9047591 ,\n              -1.89061487, -1.82317501]), 'pred_high': array([19.4884244 , 19.38009975, 19.32041721, ..., 19.50872612,\n              19.65016842, 20.32456703])}}, 'MAPIE_two-model_naive': {'quantile_model': {'pred_low': array([-1.85959268, -1.8691886 , -1.90070391, ..., -1.83555108,\n              -1.86548511, -1.85682186]), 'pred_high': array([19.73574369, 19.63978443, 19.32463131, ..., 19.97615967,\n              19.67681936, 19.7634519 ])}}}), 0.32: defaultdict(<class 'dict'>, {'xbcf_outcome_xbcf': {'quantile_model': {'pred_low': array([ 1.8384271 , -0.0654592 , -0.29073172, ...,  6.93957772,\n               7.41043016, -0.09007609]), 'pred_high': array([4.28009207, 3.3092375 , 1.38122072, ..., 8.53165135, 8.74485436,\n              3.30612617])}}, 'Agnostic_QR_two-model': {'quantile_model': {'pred_low': array([ -7.46728113,  -5.26001795,  -1.44890165, ..., -16.61274886,\n               -5.46625946, -11.44545597]), 'pred_high': array([ 5.87956553,  9.76855149, -1.6550453 , ..., 21.6675075 ,\n              10.20375373,  3.15165859])}}, 'CP_two-model_NN': {'quantile_model': {'pred_low': array([-33.0769577 , -34.68585014, -34.39446712, ..., -33.90949726,\n              -33.87548304, -31.62614346]), 'pred_high': array([41.59910202, 39.99020958, 40.28159261, ..., 40.76656246,\n              40.80057669, 43.04991627])}}, 'MAPIE_two-model_naive': {'quantile_model': {'pred_low': array([-30.1046629 , -30.34936055, -33.50130963, ..., -27.48708305,\n              -29.95680925, -28.4885223 ]), 'pred_high': array([40.52611301, 40.28141537, 37.12946629, ..., 43.14369287,\n              40.67396667, 42.14225362])}}})}, 'time_model': {'single-model_hurdle_gbt': 36.227482318878174, 'two-model_outcome_gbt': 28.61984372138977, 'two-model_hurdle_gbt': 32.942768573760986, 'xbcf_outcome_xbcf': 1863.9413685798645}, 'time_pi': {0.05: defaultdict(<class 'dict'>, {'xbcf_outcome_xbcf': 1863.9413685798645, 'QR_Agnostic': 1684.5579206943512, 'Agnostic_QR_two-model': 1581.2589440345764, 'CP_two-model_NN': 4301.670905590057, 'MAPIE_two-model_naive': 24.7917423248291}), 0.32: defaultdict(<class 'dict'>, {'xbcf_outcome_xbcf': 1863.9413685798645, 'QR_Agnostic': 1591.1183905601501, 'Agnostic_QR_two-model': 1488.63578748703, 'CP_two-model_NN': 4485.447498321533, 'MAPIE_two-model_naive': 12.871771335601807})}},\n       {'idx': array([     0,      2,      3, ..., 119239, 119242, 119244]), 'conversion': {'single-model_outcome_gbt': array([0.12673927, 0.07846864, 0.13411347, ..., 0.39506205, 0.17797723,\n              0.05165521]), 'single-model_hurdle_gbt': array([0.1187923 , 0.0664216 , 0.14408418, ..., 0.38419485, 0.17670919,\n              0.04590508]), 'two-model_hurdle_gbt': array([0.14689458, 0.09946167, 0.1328996 , ..., 0.25832532, 0.16168368,\n              0.06510555]), 'Conversion-Rate__': array([0.11926778, 0.11926778, 0.11926778, ..., 0.11926778, 0.11926778,\n              0.11926778])}, 'treatment_conversion': {'single-model_hurdle_gbt': array([0.03769596, 0.03119971, 0.07554639, ..., 0.07858451, 0.07251473,\n              0.02343867]), 'two-model_hurdle_gbt': array([0.07015307, 0.04960082, 0.05137058, ..., 0.03299984, 0.05660603,\n              0.04056046]), 'ATE__': array([0.04777018, 0.04777018, 0.04777018, ..., 0.04777018, 0.04777018,\n              0.04777018]), 'oracle__': array([0.00386651, 0.0463569 , 0.03677752, ..., 0.05235969, 0.04754174,\n              0.03647233])}, 'treatment_basket_value': {'single-model_hurdle_gbt': array([0.        , 0.        , 0.        , ..., 0.        , 0.38333075,\n              0.        ]), 'two-model_hurdle_gbt': array([-1.65656261, -9.26290371, -0.72422004, ...,  5.66365418,\n              10.54947852, -9.99312182]), 'ATE__': array([-1.39215916, -1.39215916, -1.39215916, ..., -1.39215916,\n              -1.39215916, -1.39215916]), 'oracle__': array([ 4.38330004,  2.52312043, -2.704291  , ..., -2.87048356,\n              -2.04634058,  1.69015879])}, 'treatment_spending': {'single-model_hurdle_gbt': array([4.2157123 , 3.96627962, 4.37889175, ..., 9.85442012, 5.56704963,\n              2.13295536]), 'two-model_outcome_gbt': array([5.67449495, 4.90770788, 3.39605479, ..., 7.78163197, 4.88397986,\n              4.13454368]), 'two-model_hurdle_gbt': array([7.65771048, 4.46134682, 3.66320222, ..., 5.70860076, 5.9813319 ,\n              3.22738893]), 'xbcf_outcome_xbcf': array([6.1798165 , 5.79727849, 3.46028003, ..., 6.27245918, 2.94665994,\n              5.51086944]), 'oracle__': array([0.9459487 , 4.87410841, 1.78194073, ..., 5.27443365, 3.10359318,\n              3.36071428]), 'ATE__': array([4.57248478, 4.57248478, 4.57248478, ..., 4.57248478, 4.57248478,\n              4.57248478])}, 'control_predictions': {}, 'prediction_intervals': {0.05: defaultdict(<class 'dict'>, {'xbcf_outcome_xbcf': {'quantile_model': {'pred_low': array([-0.16913882, -0.1335925 , -0.27864546, ..., -0.32173082,\n              -0.26931157, -0.14039416]), 'pred_high': array([16.91475254, 13.01348606, 13.00381198, ..., 32.20145519,\n              10.43346361, 12.80396572])}}, 'Agnostic_QR_two-model': {'quantile_model': {'pred_low': array([-0.74549629, -0.57237311, -0.36635177, ..., -1.1763662 ,\n              -0.45898674, -0.50848876]), 'pred_high': array([16.45404345, 13.95896964,  6.73572803, ..., 23.34887102,\n              10.2521658 ,  9.89837453])}}, 'CP_two-model_NN': {'quantile_model': {'pred_low': array([-1.88791358, -1.89940301, -1.79612821, ..., -2.12752863,\n              -1.90201254, -1.96908233]), 'pred_high': array([20.08227472, 19.96738038, 21.00012846, ..., 17.68612423,\n              19.94128513, 19.27058721])}}, 'MAPIE_two-model_naive': {'quantile_model': {'pred_low': array([-1.85574473, -1.86674193, -1.88587065, ..., -1.84676758,\n              -1.8733214 , -1.87204392]), 'pred_high': array([19.74109813, 19.63112608, 19.43983889, ..., 19.83086961,\n              19.56533139, 19.57810627])}}}), 0.32: defaultdict(<class 'dict'>, {'xbcf_outcome_xbcf': {'quantile_model': {'pred_low': array([3.79397079, 4.69427227, 1.08636141, ..., 0.77480045, 1.31459959,\n              4.50875069]), 'pred_high': array([ 8.13062998,  7.05550747,  5.6771541 , ..., 11.97947453,\n               4.66721773,  6.70916304])}}, 'Agnostic_QR_two-model': {'quantile_model': {'pred_low': array([-21.61165939, -12.56834183, -15.86722676, ..., -65.87794943,\n              -24.48489735,  -8.07525903]), 'pred_high': array([17.50390445, 14.08861113, -0.62133563, ..., 64.92863826,\n              28.90879824, -3.87361597])}}, 'CP_two-model_NN': {'quantile_model': {'pred_low': array([-41.09900999, -32.38645601,   5.98638725, ..., -15.76807213,\n              -31.75579739, -31.62695336]), 'pred_high': array([31.19355059, 39.90610456, 78.27894783, ..., 56.52448845,\n              40.53676319, 40.66560721])}}, 'MAPIE_two-model_naive': {'quantile_model': {'pred_low': array([-29.26476685, -29.93561986, -34.49606817, ..., -28.88149397,\n              -30.77525915, -30.19058834]), 'pred_high': array([40.75867289, 40.08781988, 35.52737157, ..., 41.14194576,\n              39.24818059, 39.83285139])}}})}, 'time_model': {'single-model_hurdle_gbt': 36.751439571380615, 'two-model_outcome_gbt': 27.14242649078369, 'two-model_hurdle_gbt': 31.234713554382324, 'xbcf_outcome_xbcf': 1795.26451253891}, 'time_pi': {0.05: defaultdict(<class 'dict'>, {'xbcf_outcome_xbcf': 1795.26451253891, 'QR_Agnostic': 1697.578203201294, 'Agnostic_QR_two-model': 1589.915637254715, 'CP_two-model_NN': 5219.9224734306335, 'MAPIE_two-model_naive': 28.76809859275818}), 0.32: defaultdict(<class 'dict'>, {'xbcf_outcome_xbcf': 1795.26451253891, 'QR_Agnostic': 1413.6621942520142, 'Agnostic_QR_two-model': 1331.406887769699, 'CP_two-model_NN': 3923.2063381671906, 'MAPIE_two-model_naive': 11.509644985198975})}},\n       {'idx': array([    11,     12,     16, ..., 119223, 119233, 119242]), 'conversion': {'single-model_outcome_gbt': array([0.05634491, 0.04372491, 0.07088435, ..., 0.07331928, 0.10865993,\n              0.13573296]), 'single-model_hurdle_gbt': array([0.05988047, 0.05088067, 0.08191008, ..., 0.08489038, 0.10130487,\n              0.12145459]), 'two-model_hurdle_gbt': array([0.07565853, 0.06766464, 0.08770532, ..., 0.09039381, 0.10562851,\n              0.12464769]), 'Conversion-Rate__': array([0.11926778, 0.11926778, 0.11926778, ..., 0.11926778, 0.11926778,\n              0.11926778])}, 'treatment_conversion': {'single-model_hurdle_gbt': array([0.02340022, 0.01436827, 0.01718415, ..., 0.02352578, 0.05152419,\n              0.0256025 ]), 'two-model_hurdle_gbt': array([0.03010201, 0.01682415, 0.01414996, ..., 0.02891658, 0.05683986,\n              0.02902208]), 'ATE__': array([0.04777018, 0.04777018, 0.04777018, ..., 0.04777018, 0.04777018,\n              0.04777018]), 'oracle__': array([-0.00076798,  0.00908851, -0.00076798, ..., -0.00214904,\n               0.06422044,  0.04754174])}, 'treatment_basket_value': {'single-model_hurdle_gbt': array([0.        , 0.        , 0.39848295, ..., 0.        , 0.        ,\n              0.39848295]), 'two-model_hurdle_gbt': array([-3.60997956, -1.96565418,  0.52716539, ...,  0.7764646 ,\n              -0.70451604,  7.8051914 ]), 'ATE__': array([-0.8529945, -0.8529945, -0.8529945, ..., -0.8529945, -0.8529945,\n              -0.8529945]), 'oracle__': array([ 3.10212736,  2.40406638,  3.10212736, ...,  2.98102067,\n               1.36913749, -2.04634058])}, 'treatment_spending': {'single-model_hurdle_gbt': array([2.06521001, 1.33388957, 2.28427769, ..., 2.37785965, 5.03725326,\n              1.75037286]), 'two-model_outcome_gbt': array([2.2670839 , 0.2294869 , 2.63684317, ..., 2.56046808, 5.57581319,\n              4.00386613]), 'two-model_hurdle_gbt': array([2.56287865, 1.47933564, 1.68583932, ..., 2.9383003 , 5.46454741,\n              3.09002241]), 'xbcf_outcome_xbcf': array([2.36929271, 2.19848733, 2.5097958 , ..., 2.40708901, 7.19446921,\n              2.65516452]), 'oracle__': array([ 0.3335798 ,  0.89352626,  0.02915919, ..., -0.02175338,\n               6.29015809,  3.10359318]), 'ATE__': array([4.63314438, 4.63314438, 4.63314438, ..., 4.63314438, 4.63314438,\n              4.63314438])}, 'control_predictions': {}, 'prediction_intervals': {0.05: defaultdict(<class 'dict'>, {'xbcf_outcome_xbcf': {'quantile_model': {'pred_low': array([-0.18274622, -0.18538506, -0.18274622, ..., -0.18274622,\n              -0.16070002, -0.19773542]), 'pred_high': array([ 5.79781882,  5.60503143,  6.26809477, ...,  5.80508021,\n              14.27842968, 10.49231861])}}, 'Agnostic_QR_two-model': {'quantile_model': {'pred_low': array([-0.50623984, -0.50367664, -0.81768977, ..., -0.57440216,\n              -0.56992228, -0.34826144]), 'pred_high': array([11.63201521, 10.69146711, 17.94785831, ..., 12.50953322,\n              12.15927059,  9.23907103])}}, 'CP_two-model_NN': {'quantile_model': {'pred_low': array([-1.95349194, -1.94081556, -1.94421681, ..., -1.93140788,\n              -1.89945077, -1.88051573]), 'pred_high': array([19.71966286, 19.84642658, 19.81241407, ..., 19.94050341,\n              20.26007452, 20.44942491])}}, 'MAPIE_two-model_naive': {'quantile_model': {'pred_low': array([-1.89815334, -1.91518593, -1.89739923, ..., -1.89508595,\n              -1.86351831, -1.87762738]), 'pred_high': array([19.38589861, 19.21557262, 19.39343969, ..., 19.41657245,\n              19.73224885, 19.59115814])}}}), 0.32: defaultdict(<class 'dict'>, {'xbcf_outcome_xbcf': {'quantile_model': {'pred_low': array([1.61804848, 1.45020864, 1.6301855 , ..., 1.61804848, 6.94377463,\n              0.94398677]), 'pred_high': array([3.16308926, 2.97967409, 3.23008249, ..., 3.18313501, 8.11495426,\n              4.46780509])}}, 'Agnostic_QR_two-model': {'quantile_model': {'pred_low': array([-13.82465399,  -2.29271106, -23.23420269, ...,  -4.22788451,\n               -5.60365982, -19.6259012 ]), 'pred_high': array([32.76860334,  5.64701409, 30.22491665, ...,  9.91640266,\n              11.08141189, 22.89874444])}}, 'CP_two-model_NN': {'quantile_model': {'pred_low': array([-29.81780815, -27.74493647, -30.52698183, ..., -28.12423801,\n              -27.16429853, -24.05008459]), 'pred_high': array([27.77370834, 29.84658003, 27.06453466, ..., 29.46727848,\n              30.42721796, 33.5414319 ])}}, 'MAPIE_two-model_naive': {'quantile_model': {'pred_low': array([-34.03133395, -35.59003495, -35.16654985, ..., -32.87191825,\n              -30.28332941, -32.28444351]), 'pred_high': array([37.61048552, 36.05178452, 36.47526961, ..., 38.76990122,\n              41.35849006, 39.35737596])}}})}, 'time_model': {'single-model_hurdle_gbt': 33.13941550254822, 'two-model_outcome_gbt': 29.59862446784973, 'two-model_hurdle_gbt': 37.04603576660156, 'xbcf_outcome_xbcf': 2183.9433872699738}, 'time_pi': {0.05: defaultdict(<class 'dict'>, {'xbcf_outcome_xbcf': 2183.9433872699738, 'QR_Agnostic': 1994.7305431365967, 'Agnostic_QR_two-model': 1865.2114796638489, 'CP_two-model_NN': 4757.152964115143, 'MAPIE_two-model_naive': 16.95241093635559}), 0.32: defaultdict(<class 'dict'>, {'xbcf_outcome_xbcf': 2183.9433872699738, 'QR_Agnostic': 1361.5339968204498, 'Agnostic_QR_two-model': 1267.6295320987701, 'CP_two-model_NN': 2793.502040863037, 'MAPIE_two-model_naive': 17.18985342979431})}},\n       {'idx': array([    15,     17,     19, ..., 119228, 119233, 119243]), 'conversion': {'single-model_outcome_gbt': array([0.0470779 , 0.08105405, 0.07060448, ..., 0.06311307, 0.11227191,\n              0.21335374]), 'single-model_hurdle_gbt': array([0.05122669, 0.08721274, 0.07382605, ..., 0.07008537, 0.09519711,\n              0.21562902]), 'two-model_hurdle_gbt': array([0.07133254, 0.11045023, 0.0834645 , ..., 0.08270219, 0.11060134,\n              0.17440005]), 'Conversion-Rate__': array([0.1192887, 0.1192887, 0.1192887, ..., 0.1192887, 0.1192887,\n              0.1192887])}, 'treatment_conversion': {'single-model_hurdle_gbt': array([0.01794143, 0.03553731, 0.01740842, ..., 0.02890923, 0.0496376 ,\n              0.10582671]), 'two-model_hurdle_gbt': array([0.03142435, 0.0397266 , 0.02363591, ..., 0.03437592, 0.05749916,\n              0.06534817]), 'ATE__': array([0.04781211, 0.04781211, 0.04781211, ..., 0.04781211, 0.04781211,\n              0.04781211]), 'oracle__': array([-0.00076798,  0.00848336, -0.00076798, ...,  0.01136079,\n               0.06422044,  0.09716138])}, 'treatment_basket_value': {'single-model_hurdle_gbt': array([0., 0., 0., ..., 0., 0., 0.]), 'two-model_hurdle_gbt': array([-1.46920349,  6.61312082, -0.13819205, ...,  1.56693037,\n               1.34450379,  1.37880788]), 'ATE__': array([-1.19852078, -1.19852078, -1.19852078, ..., -1.19852078,\n              -1.19852078, -1.19852078]), 'oracle__': array([3.10212736, 5.37398109, 3.10212736, ..., 3.13065113, 1.36913749,\n              3.76114992])}, 'treatment_spending': {'single-model_hurdle_gbt': array([ 1.24305185,  2.43821166,  1.70985133, ...,  2.64413656,\n               4.77931476, 10.02489539]), 'two-model_outcome_gbt': array([1.83381593, 4.34562403, 1.41499297, ..., 2.4302375 , 5.65611842,\n              6.93582434]), 'two-model_hurdle_gbt': array([2.31260647, 3.74297716, 2.30759016, ..., 3.26234543, 5.65173243,\n              6.30885886]), 'xbcf_outcome_xbcf': array([2.28679497, 5.10082735, 2.74629458, ..., 2.48162999, 5.80399152,\n              2.68128745]), 'oracle__': array([9.00972793e-03, 8.81337556e-01, 1.35331467e-01, ...,\n              1.12175844e+00, 6.29015809e+00, 1.07185485e+01]), 'ATE__': array([4.59060422, 4.59060422, 4.59060422, ..., 4.59060422, 4.59060422,\n              4.59060422])}, 'control_predictions': {}, 'prediction_intervals': {0.05: defaultdict(<class 'dict'>, {'xbcf_outcome_xbcf': {'quantile_model': {'pred_low': array([-0.10379281, -0.08093551, -0.0929291 , ..., -0.10094404,\n              -0.07041102, -0.09834482]), 'pred_high': array([ 6.5642805 , 11.66742747,  7.23946139, ...,  6.97336373,\n              13.14463816,  7.63748582])}}, 'Agnostic_QR_two-model': {'quantile_model': {'pred_low': array([-0.39724014, -0.48993114, -0.61672649, ..., -0.47620142,\n              -0.61953537, -0.6235922 ]), 'pred_high': array([ 6.884552  ,  6.67438445, 12.02386128, ..., 10.95553964,\n              12.64663292, 13.22086591])}}, 'CP_two-model_NN': {'quantile_model': {'pred_low': array([-1.98462945, -2.00013642, -1.99931798, ..., -1.98238691,\n              -1.97275932, -1.91550996]), 'pred_high': array([19.79896612, 19.64389639, 19.65208082, ..., 19.82139156,\n              19.91766744, 20.49016104])}}, 'MAPIE_two-model_naive': {'quantile_model': {'pred_low': array([-1.89845223, -1.87089743, -1.90215511, ..., -1.89177823,\n              -1.85803433, -1.84816075]), 'pred_high': array([19.34193608, 19.61748409, 19.30490727, ..., 19.40867613,\n              19.74611508, 19.84485089])}}}), 0.32: defaultdict(<class 'dict'>, {'xbcf_outcome_xbcf': {'quantile_model': {'pred_low': array([0.89415886, 3.24666649, 1.21755948, ..., 1.05559497, 3.74562661,\n              1.05930005]), 'pred_high': array([3.98865436, 6.9498668 , 4.22925346, ..., 4.07085122, 7.88989767,\n              4.1269955 ])}}, 'Agnostic_QR_two-model': {'quantile_model': {'pred_low': array([ -3.0505151 , -13.05023683,  -5.49384471, ...,  -1.7333323 ,\n               -4.44568816, -13.16727828]), 'pred_high': array([ 1.77774409,  8.87530994,  9.37143551, ...,  0.28578094,\n              14.92373264, 14.05840017])}}, 'CP_two-model_NN': {'quantile_model': {'pred_low': array([-38.64202929, -44.10583305, -31.41105795, ..., -35.46295619,\n              -33.56469488, -32.13556099]), 'pred_high': array([42.81164122, 37.34783745, 50.04261255, ..., 45.99071431,\n              47.88897562, 49.31810951])}}, 'MAPIE_two-model_naive': {'quantile_model': {'pred_low': array([-33.92143586, -31.60117577, -33.49568224, ..., -33.70173656,\n              -29.03487537, -27.84742356]), 'pred_high': array([36.90185364, 39.22211374, 37.32760726, ..., 37.12155295,\n              41.78841414, 42.97586595])}}})}, 'time_model': {'single-model_hurdle_gbt': 41.14157676696777, 'two-model_outcome_gbt': 34.40420055389404, 'two-model_hurdle_gbt': 40.42854380607605, 'xbcf_outcome_xbcf': 2342.622182369232}, 'time_pi': {0.05: defaultdict(<class 'dict'>, {'xbcf_outcome_xbcf': 2342.622182369232, 'QR_Agnostic': 1969.2798013687134, 'Agnostic_QR_two-model': 1855.0177862644196, 'CP_two-model_NN': 5133.125752449036, 'MAPIE_two-model_naive': 23.449233055114746}), 0.32: defaultdict(<class 'dict'>, {'xbcf_outcome_xbcf': 2342.622182369232, 'QR_Agnostic': 1827.908879518509, 'Agnostic_QR_two-model': 1703.79687333107, 'CP_two-model_NN': 4839.954015493393, 'MAPIE_two-model_naive': 17.127718448638916})}},\n       {'idx': array([     3,      8,     11, ..., 119232, 119240, 119244]), 'conversion': {'single-model_outcome_gbt': array([0.15248434, 0.11143093, 0.05200398, ..., 0.14951844, 0.04264628,\n              0.04774659]), 'single-model_hurdle_gbt': array([0.159502  , 0.08997058, 0.05662144, ..., 0.12884203, 0.03888387,\n              0.04077007]), 'two-model_hurdle_gbt': array([0.12912089, 0.11205344, 0.07623268, ..., 0.11554836, 0.05959178,\n              0.0640831 ]), 'Conversion-Rate__': array([0.11926778, 0.11926778, 0.11926778, ..., 0.11926778, 0.11926778,\n              0.11926778])}, 'treatment_conversion': {'single-model_hurdle_gbt': array([0.06286735, 0.04767099, 0.01785043, ..., 0.07185163, 0.01495935,\n              0.0179738 ]), 'two-model_hurdle_gbt': array([0.06384852, 0.05719281, 0.02739622, ..., 0.06310345, 0.03156738,\n              0.04072227]), 'ATE__': array([0.04777018, 0.04777018, 0.04777018, ..., 0.04777018, 0.04777018,\n              0.04777018]), 'oracle__': array([ 0.03677752,  0.07047183, -0.00076798, ...,  0.07349067,\n               0.08402407,  0.03647233])}, 'treatment_basket_value': {'single-model_hurdle_gbt': array([0., 0., 0., ..., 0., 0., 0.]), 'two-model_hurdle_gbt': array([ -3.77979312,   1.78099025,  -4.94978133, ...,  -1.92040271,\n               -8.81975102, -10.3286775 ]), 'ATE__': array([-1.20886577, -1.20886577, -1.20886577, ..., -1.20886577,\n              -1.20886577, -1.20886577]), 'oracle__': array([-2.704291  ,  2.37247673,  3.10212736, ...,  1.40892709,\n              -5.87056904,  1.69015879])}, 'treatment_spending': {'single-model_hurdle_gbt': array([3.76471848, 3.36409969, 1.62843251, ..., 8.08794153, 1.33916796,\n              1.67980555]), 'two-model_outcome_gbt': array([4.91911408, 6.65862854, 2.12689089, ..., 6.88773636, 2.43173695,\n              3.92870579]), 'two-model_hurdle_gbt': array([4.26918497, 4.93609536, 2.21069229, ..., 6.7290387 , 2.51230594,\n              3.30394618]), 'xbcf_outcome_xbcf': array([3.97922027, 4.13692554, 2.19872035, ..., 8.35509677, 2.03606786,\n              4.72723081]), 'oracle__': array([1.78194073, 4.6454862 , 0.3335798 , ..., 8.47520398, 7.16482553,\n              3.36071428]), 'ATE__': array([4.5779924, 4.5779924, 4.5779924, ..., 4.5779924, 4.5779924,\n              4.5779924])}, 'control_predictions': {}, 'prediction_intervals': {0.05: defaultdict(<class 'dict'>, {'xbcf_outcome_xbcf': {'quantile_model': {'pred_low': array([-0.21889904, -0.19546377, -0.19251316, ..., -0.13813226,\n              -0.20429081, -0.17468293]), 'pred_high': array([15.60133868, 10.839729  ,  5.46892974, ..., 17.54929839,\n               6.84353287, 10.62352056])}}, 'Agnostic_QR_two-model': {'quantile_model': {'pred_low': array([-0.35313249, -0.42355774, -0.53768596, ..., -0.73255849,\n              -0.53572371, -0.52632425]), 'pred_high': array([ 6.8319656 ,  9.8271915 , 12.23556363, ..., 14.70953567,\n               9.07707498,  9.56349822])}}, 'CP_two-model_NN': {'quantile_model': {'pred_low': array([-1.76131033, -1.7842824 , -1.70788418, ..., -1.68088527,\n              -1.72744846, -1.8134811 ]), 'pred_high': array([19.23299198, 19.00327129, 19.76725349, ..., 20.0372426 ,\n              19.57161067, 18.71128426])}}, 'MAPIE_two-model_naive': {'quantile_model': {'pred_low': array([-1.8870051 , -1.84534303, -1.89788629, ..., -1.84274757,\n              -1.8933715 , -1.87815401]), 'pred_high': array([19.40199605, 19.81861676, 19.29318411, ..., 19.84457132,\n              19.33833204, 19.49050697])}}}), 0.32: defaultdict(<class 'dict'>, {'xbcf_outcome_xbcf': {'quantile_model': {'pred_low': array([2.17988827, 2.79304363, 1.67699453, ..., 7.61860779, 1.38846865,\n              4.14557624]), 'pred_high': array([6.32728162, 5.21428257, 2.63411343, ..., 9.02725065, 2.63593363,\n              5.32743161])}}, 'Agnostic_QR_two-model': {'quantile_model': {'pred_low': array([-17.05103049,   3.17922462, -18.47535992, ..., -19.93741246,\n               -3.97837409,  -4.81596735]), 'pred_high': array([ 8.32225323,  3.86747179, 32.12342256, ..., 21.37475315,\n              -3.26893288, -1.11185027])}}, 'CP_two-model_NN': {'quantile_model': {'pred_low': array([-19.98064518, -26.05061007, -30.3372364 , ..., -24.04004526,\n              -30.86598349, -28.97752571]), 'pred_high': array([45.34119701, 39.27123213, 34.98460579, ..., 41.28179693,\n              34.45585871, 36.34431648])}}, 'MAPIE_two-model_naive': {'quantile_model': {'pred_low': array([-31.62591556, -27.30050771, -32.6522159 , ..., -27.87518946,\n              -31.96617281, -30.44595158]), 'pred_high': array([37.83025255, 42.15566039, 36.8039522 , ..., 41.58097864,\n              37.48999529, 39.01021652])}}})}, 'time_model': {'single-model_hurdle_gbt': 44.71334934234619, 'two-model_outcome_gbt': 33.123334884643555, 'two-model_hurdle_gbt': 38.048354148864746, 'xbcf_outcome_xbcf': 2292.5669906139374}, 'time_pi': {0.05: defaultdict(<class 'dict'>, {'xbcf_outcome_xbcf': 2292.5669906139374, 'QR_Agnostic': 1974.4672803878784, 'Agnostic_QR_two-model': 1855.5996537208557, 'CP_two-model_NN': 5251.501533508301, 'MAPIE_two-model_naive': 26.18233895301819}), 0.32: defaultdict(<class 'dict'>, {'xbcf_outcome_xbcf': 2292.5669906139374, 'QR_Agnostic': 1842.4532008171082, 'Agnostic_QR_two-model': 1730.208324432373, 'CP_two-model_NN': 4845.377739429474, 'MAPIE_two-model_naive': 20.175037622451782})}},\n       {'idx': array([     1,      4,      8, ..., 119238, 119240, 119244]), 'conversion': {'single-model_outcome_gbt': array([0.15330525, 0.10082465, 0.1216363 , ..., 0.09678685, 0.04005437,\n              0.04711151]), 'single-model_hurdle_gbt': array([0.13693396, 0.07832377, 0.09933856, ..., 0.09659488, 0.04195719,\n              0.04106956]), 'two-model_hurdle_gbt': array([0.12762641, 0.10547652, 0.12192546, ..., 0.11035029, 0.06036322,\n              0.06312057]), 'Conversion-Rate__': array([0.1192887, 0.1192887, 0.1192887, ..., 0.1192887, 0.1192887,\n              0.1192887])}, 'treatment_conversion': {'single-model_hurdle_gbt': array([0.07991989, 0.03230176, 0.05420545, ..., 0.04708957, 0.02066262,\n              0.01894077]), 'two-model_hurdle_gbt': array([0.07590033, 0.04651189, 0.06905122, ..., 0.04986232, 0.03314601,\n              0.03750809]), 'ATE__': array([0.04781211, 0.04781211, 0.04781211, ..., 0.04781211, 0.04781211,\n              0.04781211]), 'oracle__': array([0.09105945, 0.03533416, 0.07047183, ..., 0.08099362, 0.08402407,\n              0.03647233])}, 'treatment_basket_value': {'single-model_hurdle_gbt': array([ 0.        ,  0.        , -0.26769156, ...,  0.        ,\n              -0.43349698, -0.26769156]), 'two-model_hurdle_gbt': array([ 0.85328398,  3.42030429,  0.9422655 , ..., -6.36999151,\n              -7.56373215, -9.77047696]), 'ATE__': array([-1.98684391, -1.98684391, -1.98684391, ..., -1.98684391,\n              -1.98684391, -1.98684391]), 'oracle__': array([-4.03495504, -0.12959499,  2.37247673, ..., -6.80910365,\n              -5.87056904,  1.69015879])}, 'treatment_spending': {'single-model_hurdle_gbt': array([5.61437814, 2.53645665, 4.1109254 , ..., 4.07305267, 1.82504256,\n              1.72242825]), 'two-model_outcome_gbt': array([6.5430854 , 3.94101916, 6.22846576, ..., 4.90574794, 2.85034878,\n              3.72934887]), 'two-model_hurdle_gbt': array([5.85551675, 4.09338231, 5.97115387, ..., 4.07616151, 2.68141178,\n              2.93797079]), 'xbcf_outcome_xbcf': array([4.73399259, 4.05640135, 3.08430981, ..., 5.48324722, 2.95305461,\n              4.99194183]), 'oracle__': array([6.55993591, 2.78806036, 4.6454862 , ..., 6.26414532, 7.16482553,\n              3.36071428]), 'ATE__': array([4.52008278, 4.52008278, 4.52008278, ..., 4.52008278, 4.52008278,\n              4.52008278])}, 'control_predictions': {}, 'prediction_intervals': {0.05: defaultdict(<class 'dict'>, {'xbcf_outcome_xbcf': {'quantile_model': {'pred_low': array([-0.19111739, -0.20189498, -0.22680652, ..., -0.16176006,\n              -0.20418229, -0.16195499]), 'pred_high': array([11.16004987,  9.17627674,  8.20231506, ...,  8.8766348 ,\n               7.41026914,  7.6692796 ])}}, 'Agnostic_QR_two-model': {'quantile_model': {'pred_low': array([-0.43949106, -0.43304888, -0.30762754, ..., -0.57461173,\n              -0.50961976, -0.47597386]), 'pred_high': array([6.78702748, 9.31446783, 8.59990982, ..., 8.93040084, 9.77015132,\n              9.1172322 ])}}, 'CP_two-model_NN': {'quantile_model': {'pred_low': array([-1.92260592, -1.94057166, -1.93093154, ..., -1.90729042,\n              -1.89814369, -1.90340185]), 'pred_high': array([19.57603436, 19.39637694, 19.49277806, ..., 19.7291893 ,\n              19.82065661, 19.76807501])}}, 'MAPIE_two-model_naive': {'quantile_model': {'pred_low': array([-1.8539337 , -1.88523809, -1.84536693, ..., -1.86385478,\n              -1.89199935, -1.88064356]), 'pred_high': array([19.78365425, 19.47061032, 19.86932197, ..., 19.68444339,\n              19.40299777, 19.5165556 ])}}}), 0.32: defaultdict(<class 'dict'>, {'xbcf_outcome_xbcf': {'quantile_model': {'pred_low': array([2.61910171, 2.70817297, 1.02087398, ..., 4.20648684, 1.97677326,\n              4.03749924]), 'pred_high': array([7.3365867 , 5.69581621, 5.02056309, ..., 6.49453494, 3.73513434,\n              5.89794765])}}, 'Agnostic_QR_two-model': {'quantile_model': {'pred_low': array([ -5.11684586, -18.88649556, -11.65131465, ..., -12.14073029,\n              -11.74597529,  -2.29953243]), 'pred_high': array([ 3.76098769, 11.28031867, 13.40062007, ...,  4.71537263,\n              -1.98690099, -4.04755949])}}, 'CP_two-model_NN': {'quantile_model': {'pred_low': array([-62.00660276, -60.86989164, -36.87931511, ..., -41.67350101,\n              -57.77599669, -43.77178621]), 'pred_high': array([30.13625002, 31.27296114, 55.26353768, ..., 50.46935177,\n              34.3668561 , 48.37106657])}}, 'MAPIE_two-model_naive': {'quantile_model': {'pred_low': array([-28.87210287, -31.41601321, -28.67044105, ..., -31.41169057,\n              -32.37229142, -31.19566015]), 'pred_high': array([41.47066271, 38.92675237, 41.67232453, ..., 38.93107502,\n              37.97047417, 39.14710544])}}})}, 'time_model': {'single-model_hurdle_gbt': 46.18944478034973, 'two-model_outcome_gbt': 32.31162762641907, 'two-model_hurdle_gbt': 37.5169472694397, 'xbcf_outcome_xbcf': 2376.193598985672}, 'time_pi': {0.05: defaultdict(<class 'dict'>, {'xbcf_outcome_xbcf': 2376.193598985672, 'QR_Agnostic': 1978.7085001468658, 'Agnostic_QR_two-model': 1859.4504969120026, 'CP_two-model_NN': 6070.061793804169, 'MAPIE_two-model_naive': 34.01095008850098}), 0.32: defaultdict(<class 'dict'>, {'xbcf_outcome_xbcf': 2376.193598985672, 'QR_Agnostic': 1767.862534046173, 'Agnostic_QR_two-model': 1664.6229410171509, 'CP_two-model_NN': 4370.479481220245, 'MAPIE_two-model_naive': 22.25419044494629})}},\n       {'idx': array([     0,      4,     16, ..., 119234, 119243, 119244]), 'conversion': {'single-model_outcome_gbt': array([0.11863983, 0.08059351, 0.09212328, ..., 0.10883222, 0.24656462,\n              0.04774761]), 'single-model_hurdle_gbt': array([0.11835418, 0.07951465, 0.09042581, ..., 0.10058256, 0.21793941,\n              0.05008718]), 'two-model_hurdle_gbt': array([0.13518949, 0.10199463, 0.09253213, ..., 0.11913704, 0.1771887 ,\n              0.06445975]), 'Conversion-Rate__': array([0.11926778, 0.11926778, 0.11926778, ..., 0.11926778, 0.11926778,\n              0.11926778])}, 'treatment_conversion': {'single-model_hurdle_gbt': array([0.03771437, 0.03351404, 0.01623185, ..., 0.04008545, 0.11070394,\n              0.02605911]), 'two-model_hurdle_gbt': array([0.05487753, 0.03481922, 0.02513265, ..., 0.0489242 , 0.08044492,\n              0.04016905]), 'ATE__': array([0.04777018, 0.04777018, 0.04777018, ..., 0.04777018, 0.04777018,\n              0.04777018]), 'oracle__': array([ 0.00386651,  0.03533416, -0.00076798, ...,  0.0627878 ,\n               0.09716138,  0.03647233])}, 'treatment_basket_value': {'single-model_hurdle_gbt': array([0., 0., 0., ..., 0., 0., 0.]), 'two-model_hurdle_gbt': array([-1.1253836 ,  3.83937142,  1.0468211 , ..., -8.46522656,\n               0.3936109 , -9.42002127]), 'ATE__': array([-0.71730697, -0.71730697, -0.71730697, ..., -0.71730697,\n              -0.71730697, -0.71730697]), 'oracle__': array([ 4.38330004, -0.12959499,  3.10212736, ...,  2.65699124,\n               3.76114992,  1.69015879])}, 'treatment_spending': {'single-model_hurdle_gbt': array([ 4.25370045,  2.58679599,  2.11827393, ...,  3.84040306,\n              10.54365802,  2.37518038]), 'two-model_outcome_gbt': array([4.93242557, 3.20258476, 2.33261016, ..., 1.86216393, 7.31759428,\n              3.96124633]), 'two-model_hurdle_gbt': array([5.94702816, 3.17706452, 3.01886282, ..., 4.07072212, 7.61564437,\n              3.25897025]), 'xbcf_outcome_xbcf': array([4.95486353, 5.43634133, 1.85772853, ..., 4.41502456, 8.02889708,\n              4.55050626]), 'oracle__': array([ 0.9459487 ,  2.78806036,  0.02915919, ...,  6.36147859,\n              10.71854847,  3.36071428]), 'ATE__': array([4.63822754, 4.63822754, 4.63822754, ..., 4.63822754, 4.63822754,\n              4.63822754])}, 'control_predictions': {}, 'prediction_intervals': {0.05: defaultdict(<class 'dict'>, {'xbcf_outcome_xbcf': {'quantile_model': {'pred_low': array([-0.20636027, -0.22129039, -0.24692238, ..., -0.22412374,\n              -0.14900451, -0.19884809]), 'pred_high': array([24.61641727, 18.0062254 ,  6.94491662, ..., 14.54778455,\n              30.24023966, 13.67323206])}}, 'Agnostic_QR_two-model': {'quantile_model': {'pred_low': array([-0.68135254, -0.47354893, -0.76473898, ..., -0.66107979,\n              -0.56658118, -0.47376847]), 'pred_high': array([16.68790869, 10.37393718, 19.20753715, ..., 13.59595098,\n              12.38385998,  9.34665597])}}, 'CP_two-model_NN': {'quantile_model': {'pred_low': array([-1.78387254, -1.91213854, -1.92993086, ..., -1.88516688,\n              -1.86044505, -1.91834838]), 'pred_high': array([21.11506186, 19.83240185, 19.65447865, ..., 20.1021184 ,\n              20.34933672, 19.77030339])}}, 'MAPIE_two-model_naive': {'quantile_model': {'pred_low': array([-1.86339215, -1.88544879, -1.8766311 , ..., -1.88865809,\n              -1.84912101, -1.87703153]), 'pred_high': array([19.63127044, 19.41070403, 19.49888093, ..., 19.37861106,\n              19.77398186, 19.49487662])}}}), 0.32: defaultdict(<class 'dict'>, {'xbcf_outcome_xbcf': {'quantile_model': {'pred_low': array([3.85740847, 4.31951855, 1.30028913, ..., 3.43751133, 6.82711757,\n              3.92368806]), 'pred_high': array([5.6208509 , 6.41293718, 2.46464504, ..., 5.38591833, 9.28394664,\n              5.18043039])}}, 'Agnostic_QR_two-model': {'quantile_model': {'pred_low': array([-20.49138984, -11.69215874, -23.00309142, ..., -22.36025939,\n              -11.44949806,  -6.21723526]), 'pred_high': array([18.65838253,  8.07228554, 24.69611219, ...,  9.32406421,\n              15.4777789 , -2.85473407])}}, 'CP_two-model_NN': {'quantile_model': {'pred_low': array([-93.11672258,   2.79463863, -19.48007202, ..., -85.51460552,\n              -18.72413301, -99.88026381]), 'pred_high': array([149.65698957, 245.56835079, 223.29364014, ..., 157.25910664,\n              224.04957914, 142.89344835])}}, 'MAPIE_two-model_naive': {'quantile_model': {'pred_low': array([-29.03158078, -31.31904224, -31.40724036, ..., -32.52894234,\n              -27.32650392, -31.01678394]), 'pred_high': array([40.94024574, 38.65278428, 38.56458616, ..., 37.44288418,\n              42.6453226 , 38.95504259])}}})}, 'time_model': {'single-model_hurdle_gbt': 40.90724778175354, 'two-model_outcome_gbt': 33.9737343788147, 'two-model_hurdle_gbt': 40.74959659576416, 'xbcf_outcome_xbcf': 2283.3511736392975}, 'time_pi': {0.05: defaultdict(<class 'dict'>, {'xbcf_outcome_xbcf': 2283.3511736392975, 'QR_Agnostic': 1990.0885300636292, 'Agnostic_QR_two-model': 1861.8464226722717, 'CP_two-model_NN': 4985.439167499542, 'MAPIE_two-model_naive': 20.883103609085083}), 0.32: defaultdict(<class 'dict'>, {'xbcf_outcome_xbcf': 2283.3511736392975, 'QR_Agnostic': 1790.5582082271576, 'Agnostic_QR_two-model': 1663.610270023346, 'CP_two-model_NN': 5682.766437530518, 'MAPIE_two-model_naive': 21.690950393676758})}},\n       {'idx': array([     2,     20,     25, ..., 119234, 119235, 119243]), 'conversion': {'single-model_outcome_gbt': array([0.0774592 , 0.0691457 , 0.07852417, ..., 0.09495658, 0.08516908,\n              0.21702775]), 'single-model_hurdle_gbt': array([0.06990937, 0.05786446, 0.07353212, ..., 0.0853456 , 0.07560787,\n              0.22098623]), 'two-model_hurdle_gbt': array([0.09349866, 0.08563788, 0.12470342, ..., 0.12002413, 0.09480186,\n              0.16631263]), 'Conversion-Rate__': array([0.1192887, 0.1192887, 0.1192887, ..., 0.1192887, 0.1192887,\n              0.1192887])}, 'treatment_conversion': {'single-model_hurdle_gbt': array([0.03045024, 0.02905035, 0.04219801, ..., 0.03882295, 0.01985357,\n              0.10169645]), 'two-model_hurdle_gbt': array([0.04534722, 0.04237731, 0.0881191 , ..., 0.05799864, 0.02765073,\n              0.06186625]), 'ATE__': array([0.04781211, 0.04781211, 0.04781211, ..., 0.04781211, 0.04781211,\n              0.04781211]), 'oracle__': array([0.0463569 , 0.09922467, 0.02723333, ..., 0.0627878 , 0.03448152,\n              0.09716138])}, 'treatment_basket_value': {'single-model_hurdle_gbt': array([-0.71272855,  0.        ,  0.        , ..., -0.2880575 ,\n               0.        ,  0.        ]), 'two-model_hurdle_gbt': array([-0.06476521, -0.61032098,  1.8899563 , ..., -7.03551194,\n              -0.65762655,  0.677289  ]), 'ATE__': array([-1.4084398, -1.4084398, -1.4084398, ..., -1.4084398, -1.4084398,\n              -1.4084398]), 'oracle__': array([ 2.52312043,  1.32345037, -3.37805164, ...,  2.65699124,\n               0.77353928,  3.76114992])}, 'treatment_spending': {'single-model_hurdle_gbt': array([3.3850622 , 2.98173402, 2.53390983, ..., 3.72596892, 1.64653362,\n              9.45198829]), 'two-model_outcome_gbt': array([4.89465476, 4.23535945, 3.94284666, ..., 4.4235838 , 1.96742589,\n              7.02078456]), 'two-model_hurdle_gbt': array([4.56024017, 4.00165893, 6.44514474, ..., 5.09765019, 2.24806814,\n              5.84532149]), 'xbcf_outcome_xbcf': array([4.6153165 , 3.16441499, 4.54182094, ..., 4.21168409, 3.6867062 ,\n              1.84637155]), 'oracle__': array([ 4.87410841,  9.87617341,  1.48872885, ...,  6.36147859,\n               2.90981944, 10.71854847]), 'ATE__': array([4.57043731, 4.57043731, 4.57043731, ..., 4.57043731, 4.57043731,\n              4.57043731])}, 'control_predictions': {}, 'prediction_intervals': {0.05: defaultdict(<class 'dict'>, {'xbcf_outcome_xbcf': {'quantile_model': {'pred_low': array([-0.16010739, -0.18268698, -0.1542642 , ..., -0.16421123,\n              -0.18514123, -0.19187904]), 'pred_high': array([ 8.87026415, 10.63894848,  9.1276514 , ...,  9.37341536,\n               9.73815583,  8.19088164])}}, 'Agnostic_QR_two-model': {'quantile_model': {'pred_low': array([-0.55855413, -0.58999092, -0.38027843, ..., -0.63819627,\n              -0.49628556, -0.57866377]), 'pred_high': array([12.67244124, 11.87433869,  5.53413975, ..., 12.04962794,\n               9.50886012, 12.0179475 ])}}, 'CP_two-model_NN': {'quantile_model': {'pred_low': array([-1.88594724, -1.92457914, -1.80473897, ..., -1.83897279,\n              -1.91642637, -1.81416012]), 'pred_high': array([19.85056937, 19.46425037, 20.66265206, ..., 20.32031393,\n              19.54577813, 20.56844063])}}, 'MAPIE_two-model_naive': {'quantile_model': {'pred_low': array([-1.86925789, -1.8811385 , -1.86868326, ..., -1.87381491,\n              -1.89887118, -1.85250367]), 'pred_high': array([19.59552625, 19.47672022, 19.60127262, ..., 19.54995603,\n              19.2993934 , 19.76306849])}}}), 0.32: defaultdict(<class 'dict'>, {'xbcf_outcome_xbcf': {'quantile_model': {'pred_low': array([4.0122245 , 1.34920379, 3.65045884, ..., 3.10633854, 2.04775576,\n              1.25760532]), 'pred_high': array([5.4232683 , 6.10995789, 5.36566979, ..., 5.29165148, 5.06405965,\n              2.4391904 ])}}, 'Agnostic_QR_two-model': {'quantile_model': {'pred_low': array([ -6.48127275, -10.96112558,  -5.48335485, ..., -18.21583486,\n               -6.46574706, -10.99351486]), 'pred_high': array([13.21925153, 15.00124408, -1.34860983, ..., 10.68842265,\n               4.5466042 , 19.88701412])}}, 'CP_two-model_NN': {'quantile_model': {'pred_low': array([-22.57653356, -21.22980881, -22.96825993, ..., -18.71117401,\n              -11.16321516, -15.46576405]), 'pred_high': array([32.2559011 , 33.60262585, 31.86417472, ..., 36.12126064,\n              43.66921949, 39.36667061])}}, 'MAPIE_two-model_naive': {'quantile_model': {'pred_low': array([-30.89328925, -31.38127929, -31.27252494, ..., -31.15564404,\n              -33.07421556, -29.85826768]), 'pred_high': array([40.28777548, 39.79978543, 39.90853979, ..., 40.02542068,\n              38.10684917, 41.32279704])}}})}, 'time_model': {'single-model_hurdle_gbt': 46.68457818031311, 'two-model_outcome_gbt': 32.91879963874817, 'two-model_hurdle_gbt': 37.87632346153259, 'xbcf_outcome_xbcf': 2321.977607011795}, 'time_pi': {0.05: defaultdict(<class 'dict'>, {'xbcf_outcome_xbcf': 2321.977607011795, 'QR_Agnostic': 1999.5424256324768, 'Agnostic_QR_two-model': 1872.088748216629, 'CP_two-model_NN': 5863.32089304924, 'MAPIE_two-model_naive': 33.54368996620178}), 0.32: defaultdict(<class 'dict'>, {'xbcf_outcome_xbcf': 2321.977607011795, 'QR_Agnostic': 1880.16166806221, 'Agnostic_QR_two-model': 1762.5853629112244, 'CP_two-model_NN': 5099.288387298584, 'MAPIE_two-model_naive': 20.76160955429077})}},\n       {'idx': array([     0,      5,      6, ..., 119227, 119239, 119241]), 'conversion': {'single-model_outcome_gbt': array([0.11526854, 0.16347181, 0.15477991, ..., 0.07700552, 0.39911891,\n              0.14103718]), 'single-model_hurdle_gbt': array([0.10888806, 0.15094764, 0.1542327 , ..., 0.08454143, 0.40864194,\n              0.11261503]), 'two-model_hurdle_gbt': array([0.14173899, 0.12805433, 0.12913158, ..., 0.11529062, 0.27848221,\n              0.14844026]), 'Conversion-Rate__': array([0.11926778, 0.11926778, 0.11926778, ..., 0.11926778, 0.11926778,\n              0.11926778])}, 'treatment_conversion': {'single-model_hurdle_gbt': array([0.04383392, 0.06947316, 0.04811874, ..., 0.04112163, 0.09875232,\n              0.03968986]), 'two-model_hurdle_gbt': array([0.06397573, 0.05744336, 0.04554356, ..., 0.06643148, 0.06607314,\n              0.05613793]), 'ATE__': array([0.04777018, 0.04777018, 0.04777018, ..., 0.04777018, 0.04777018,\n              0.04777018]), 'oracle__': array([0.00386651, 0.06689696, 0.04991055, ..., 0.01557096, 0.05235969,\n              0.06781842])}, 'treatment_basket_value': {'single-model_hurdle_gbt': array([0.11181986, 0.11181986, 0.        , ..., 0.        , 0.11181986,\n              0.        ]), 'two-model_hurdle_gbt': array([-2.13931746, -1.15287657,  1.70395566, ..., -0.56430419,\n              -1.13523572, -2.41044233]), 'ATE__': array([-0.5877513, -0.5877513, -0.5877513, ..., -0.5877513, -0.5877513,\n              -0.5877513]), 'oracle__': array([ 4.38330004,  0.3406405 ,  2.85774959, ...,  5.93650366,\n              -2.87048356, -0.18305433])}, 'treatment_spending': {'single-model_hurdle_gbt': array([ 4.99474209,  5.80200265,  4.57043819, ...,  3.51750283,\n              11.34049668,  3.83551713]), 'two-model_outcome_gbt': array([6.01057464, 6.06501256, 3.1354832 , ..., 5.41435984, 8.04106629,\n              4.28346438]), 'two-model_hurdle_gbt': array([6.81125945, 4.75261437, 4.60291372, ..., 5.7437089 , 8.03147194,\n              5.06836199]), 'xbcf_outcome_xbcf': array([4.8481647 , 4.23601612, 2.84233787, ..., 3.99988086, 6.43927924,\n              5.44257209]), 'oracle__': array([0.9459487 , 6.34200375, 5.02971631, ..., 1.59747209, 5.27443365,\n              7.37093672]), 'ATE__': array([4.6289667, 4.6289667, 4.6289667, ..., 4.6289667, 4.6289667,\n              4.6289667])}, 'control_predictions': {}, 'prediction_intervals': {0.05: defaultdict(<class 'dict'>, {'xbcf_outcome_xbcf': {'quantile_model': {'pred_low': array([-0.11460977, -0.13531877, -0.17228919, ..., -0.12908497,\n              -0.3032685 , -0.14795766]), 'pred_high': array([12.94479772, 10.35608027, 10.04254264, ...,  8.92458578,\n              34.183268  , 15.43628074])}}, 'Agnostic_QR_two-model': {'quantile_model': {'pred_low': array([-0.7605077 , -0.59874399, -0.6136011 , ..., -0.48183418,\n              -1.20254506, -0.58694809]), 'pred_high': array([16.45665808, 14.18474512, 11.91949049, ...,  9.29552573,\n              22.86974536, 11.02762466])}}, 'CP_two-model_NN': {'quantile_model': {'pred_low': array([-1.89388329, -1.98792   , -1.99088667, ..., -1.93855134,\n              -2.16636288, -2.01203355]), 'pred_high': array([20.84680858, 19.9064415 , 19.87677479, ..., 20.40012813,\n              18.12201271, 19.665306  ])}}, 'MAPIE_two-model_naive': {'quantile_model': {'pred_low': array([-1.8576761 , -1.85243288, -1.87873157, ..., -1.85552512,\n              -1.84434311, -1.86976126]), 'pred_high': array([19.67417353, 19.72660569, 19.4636188 , ..., 19.69568333,\n              19.80750334, 19.5533219 ])}}}), 0.32: defaultdict(<class 'dict'>, {'xbcf_outcome_xbcf': {'quantile_model': {'pred_low': array([3.29890191, 2.13988229, 0.69797632, ..., 3.10330636, 1.50569016,\n              2.61673264]), 'pred_high': array([ 6.04259334,  5.74505472,  4.71093539, ...,  4.84823438,\n              12.06314548,  8.02674821])}}, 'Agnostic_QR_two-model': {'quantile_model': {'pred_low': array([-23.58893232, -11.64116447, -11.23306159, ...,  -8.40147203,\n              -83.9761878 , -15.97769574]), 'pred_high': array([23.1435776 , 22.96890644, 10.34993333, ...,  0.38218207,\n              55.15433279,  4.83741078])}}, 'CP_two-model_NN': {'quantile_model': {'pred_low': array([-21.80208039, -27.02099085, -26.45707035, ..., -30.68982172,\n               -5.68007755, -31.75841045]), 'pred_high': array([49.11879706, 43.89988661, 44.46380711, ..., 40.23105574,\n              65.2407999 , 39.162467  ])}}, 'MAPIE_two-model_naive': {'quantile_model': {'pred_low': array([-28.96896602, -28.88554001, -31.81950652, ..., -29.34354269,\n              -28.24467823, -28.14061134]), 'pred_high': array([40.3341997 , 40.41762572, 37.4836592 , ..., 39.95962304,\n              41.0584875 , 41.16255438])}}})}, 'time_model': {'single-model_hurdle_gbt': 46.439417123794556, 'two-model_outcome_gbt': 32.06165647506714, 'two-model_hurdle_gbt': 37.32946276664734, 'xbcf_outcome_xbcf': 2306.498985528946}, 'time_pi': {0.05: defaultdict(<class 'dict'>, {'xbcf_outcome_xbcf': 2306.498985528946, 'QR_Agnostic': 1995.472198009491, 'Agnostic_QR_two-model': 1866.3552904129028, 'CP_two-model_NN': 5430.3297753334045, 'MAPIE_two-model_naive': 27.08911681175232}), 0.32: defaultdict(<class 'dict'>, {'xbcf_outcome_xbcf': 2306.498985528946, 'QR_Agnostic': 1950.4050886631012, 'Agnostic_QR_two-model': 1816.7722697257996, 'CP_two-model_NN': 5547.948068141937, 'MAPIE_two-model_naive': 20.05588436126709})}},\n       {'idx': array([     2,      5,      7, ..., 119231, 119234, 119237]), 'conversion': {'single-model_outcome_gbt': array([0.07365412, 0.14552901, 0.1938488 , ..., 0.07487409, 0.0731018 ,\n              0.23282033]), 'single-model_hurdle_gbt': array([0.06951092, 0.14393212, 0.18595227, ..., 0.08285429, 0.08727328,\n              0.22136651]), 'two-model_hurdle_gbt': array([0.09431353, 0.121659  , 0.16278459, ..., 0.09122395, 0.11871971,\n              0.21732469]), 'Conversion-Rate__': array([0.11926778, 0.11926778, 0.11926778, ..., 0.11926778, 0.11926778,\n              0.11926778])}, 'treatment_conversion': {'single-model_hurdle_gbt': array([0.03120226, 0.05356712, 0.0940829 , ..., 0.02018545, 0.0416049 ,\n              0.11230198]), 'two-model_hurdle_gbt': array([0.04278018, 0.04717927, 0.08913016, ..., 0.02375236, 0.05689897,\n              0.12192963]), 'ATE__': array([0.04777018, 0.04777018, 0.04777018, ..., 0.04777018, 0.04777018,\n              0.04777018]), 'oracle__': array([ 0.0463569 ,  0.06689696,  0.08063181, ..., -0.00076798,\n               0.0627878 ,  0.10987957])}, 'treatment_basket_value': {'single-model_hurdle_gbt': array([-0.78878536,  0.        , -0.62544795, ...,  0.        ,\n              -1.26442449, -0.62544795]), 'two-model_hurdle_gbt': array([-8.91581396,  1.98738461, -9.38430126, ..., -0.24646954,\n              -7.30410251, -0.14058046]), 'ATE__': array([-1.10468245, -1.10468245, -1.10468245, ..., -1.10468245,\n              -1.10468245, -1.10468245]), 'oracle__': array([ 2.52312043,  0.3406405 , -3.37782033, ...,  3.10212736,\n               2.65699124, -0.63793225])}, 'treatment_spending': {'single-model_hurdle_gbt': array([3.87546939, 4.73453885, 9.97500525, ..., 2.37587142, 3.85518199,\n              9.83411856]), 'two-model_outcome_gbt': array([ 3.81729914,  4.90365926,  6.55478826, ...,  2.30816193,\n               3.88718754, 12.27173303]), 'two-model_hurdle_gbt': array([ 3.83164651,  4.27105463,  7.84156075, ...,  2.61505838,\n               4.88937697, 11.38539084]), 'xbcf_outcome_xbcf': array([5.09171782, 2.70527961, 6.30717737, ..., 3.31739493, 4.95440568,\n              6.79477675]), 'oracle__': array([ 4.87410841,  6.34200375,  7.37846812, ...,  0.05259155,\n               6.36147859, 10.19744421]), 'ATE__': array([4.59386448, 4.59386448, 4.59386448, ..., 4.59386448, 4.59386448,\n              4.59386448])}, 'control_predictions': {}, 'prediction_intervals': {0.05: defaultdict(<class 'dict'>, {'xbcf_outcome_xbcf': {'quantile_model': {'pred_low': array([-0.34929576, -0.48743298, -0.2417372 , ..., -0.3866412 ,\n              -0.3845725 , -0.34865175]), 'pred_high': array([11.47809384,  8.12634484, 17.6148762 , ...,  7.88967371,\n              13.05215707, 15.98540286])}}, 'Agnostic_QR_two-model': {'quantile_model': {'pred_low': array([-0.57250073, -0.58174764, -0.5912253 , ..., -0.71004368,\n              -0.60943431, -0.5536271 ]), 'pred_high': array([12.42671739, 12.23242048, 13.57253718, ..., 16.05464799,\n              11.48167039, 12.08458505])}}, 'CP_two-model_NN': {'quantile_model': {'pred_low': array([-1.90098455, -1.84532849, -1.8886607 , ..., -1.87473408,\n              -1.83692025, -1.74596033]), 'pred_high': array([19.25269108, 19.80925169, 19.37592964, ..., 19.51519585,\n              19.89333415, 20.80293336])}}, 'MAPIE_two-model_naive': {'quantile_model': {'pred_low': array([-1.87624858, -1.87090063, -1.84844676, ..., -1.89196918,\n              -1.89053158, -1.79575811]), 'pred_high': array([19.52227311, 19.5757526 , 19.80029131, ..., 19.36506709,\n              19.37944308, 20.32717779])}}}), 0.32: defaultdict(<class 'dict'>, {'xbcf_outcome_xbcf': {'quantile_model': {'pred_low': array([3.74151547, 1.06438194, 3.77091884, ..., 2.10472999, 3.35280198,\n              4.36957851]), 'pred_high': array([6.58770385, 4.03968409, 9.13295995, ..., 4.58599193, 6.63905538,\n              9.01475124])}}, 'Agnostic_QR_two-model': {'quantile_model': {'pred_low': array([-18.02209044,  -8.54213267, -16.33208264, ..., -18.12134696,\n              -18.94111776, -20.04245181]), 'pred_high': array([13.31615921, 13.2515124 , 14.61369045, ..., 23.49858689,\n               5.86308617, 33.22379532])}}, 'CP_two-model_NN': {'quantile_model': {'pred_low': array([-45.65804815, -72.36291599, -73.70416641, ..., -75.40888214,\n              -43.96447754, -49.33432484]), 'pred_high': array([52.20999956, 25.50513172, 24.1638813 , ..., 22.45916557,\n              53.90357018, 48.53372288])}}, 'MAPIE_two-model_naive': {'quantile_model': {'pred_low': array([-30.75123984, -30.15851376, -29.18923257, ..., -32.47685427,\n              -31.01912183, -23.56953307]), 'pred_high': array([38.71464789, 39.30737397, 40.27665516, ..., 36.98903346,\n              38.4467659 , 45.89635466])}}})}, 'time_model': {'single-model_hurdle_gbt': 42.66386342048645, 'two-model_outcome_gbt': 33.59201192855835, 'two-model_hurdle_gbt': 39.16103005409241, 'xbcf_outcome_xbcf': 2325.830244779587}, 'time_pi': {0.05: defaultdict(<class 'dict'>, {'xbcf_outcome_xbcf': 2325.830244779587, 'QR_Agnostic': 1998.4926300048828, 'Agnostic_QR_two-model': 1873.5365703105927, 'CP_two-model_NN': 5924.995284318924, 'MAPIE_two-model_naive': 33.65467095375061}), 0.32: defaultdict(<class 'dict'>, {'xbcf_outcome_xbcf': 2325.830244779587, 'QR_Agnostic': 1849.2495951652527, 'Agnostic_QR_two-model': 1737.5469913482666, 'CP_two-model_NN': 5198.111543893814, 'MAPIE_two-model_naive': 19.56187081336975})}},\n       {'idx': array([     3,      9,     13, ..., 119231, 119232, 119237]), 'conversion': {'single-model_outcome_gbt': array([0.15583045, 0.16809781, 0.04835647, ..., 0.07548217, 0.14394236,\n              0.22464714]), 'single-model_hurdle_gbt': array([0.10731129, 0.14901381, 0.04847723, ..., 0.08668666, 0.12718981,\n              0.26527754]), 'two-model_hurdle_gbt': array([0.12493146, 0.11174607, 0.0696854 , ..., 0.09518393, 0.11825439,\n              0.23737036]), 'Conversion-Rate__': array([0.1192887, 0.1192887, 0.1192887, ..., 0.1192887, 0.1192887,\n              0.1192887])}, 'treatment_conversion': {'single-model_hurdle_gbt': array([0.03263563, 0.09347111, 0.01261563, ..., 0.01489405, 0.06715338,\n              0.16028088]), 'two-model_hurdle_gbt': array([0.03486741, 0.05954139, 0.02271557, ..., 0.02603512, 0.06701942,\n              0.14513239]), 'ATE__': array([0.04781211, 0.04781211, 0.04781211, ..., 0.04781211, 0.04781211,\n              0.04781211]), 'oracle__': array([ 0.03677752,  0.11871202, -0.00077533, ..., -0.00076798,\n               0.07349067,  0.10987957])}, 'treatment_basket_value': {'single-model_hurdle_gbt': array([ 0.        ,  0.        ,  0.        , ..., -0.96908128,\n               0.        ,  0.        ]), 'two-model_hurdle_gbt': array([ 1.6375635 , -4.16958274, -3.97563796, ...,  0.34886133,\n              -0.11434409, 11.11588632]), 'ATE__': array([-1.2741702, -1.2741702, -1.2741702, ..., -1.2741702, -1.2741702,\n              -1.2741702]), 'oracle__': array([-2.704291  , -4.12790629,  2.78090877, ...,  3.10212736,\n               1.40892709, -0.63793225])}, 'treatment_spending': {'single-model_hurdle_gbt': array([ 1.82275457,  6.55322672,  1.28794252, ...,  1.70345187,\n               7.53736142, 13.2785262 ]), 'two-model_outcome_gbt': array([ 4.82492802,  3.49534414,  1.90471604, ...,  3.15435481,\n               7.2220524 , 11.87327223]), 'two-model_hurdle_gbt': array([ 2.70945656,  4.29787241,  2.08265777, ...,  2.86300237,\n               7.28356844, 15.27909624]), 'xbcf_outcome_xbcf': array([3.30550316, 1.96064173, 4.88503417, ..., 4.99230278, 6.19110653,\n              4.0938314 ]), 'oracle__': array([ 1.78194073e+00,  7.77346601e+00, -8.01172209e-04, ...,\n               5.25915513e-02,  8.47520398e+00,  1.01974442e+01]), 'ATE__': array([4.59321824, 4.59321824, 4.59321824, ..., 4.59321824, 4.59321824,\n              4.59321824])}, 'control_predictions': {}, 'prediction_intervals': {0.05: defaultdict(<class 'dict'>, {'xbcf_outcome_xbcf': {'quantile_model': {'pred_low': array([-0.28692103, -0.29218311, -0.21953492, ..., -0.21621162,\n              -0.1784871 , -0.24739714]), 'pred_high': array([13.29801478,  8.47593651, 10.74420194, ..., 10.94096797,\n              14.25868169, 12.99581548])}}, 'Agnostic_QR_two-model': {'quantile_model': {'pred_low': array([-0.37705061, -0.32771218, -0.63357509, ..., -0.71141725,\n              -0.71101888, -0.55802933]), 'pred_high': array([ 6.9860678 ,  7.42971666, 13.4289639 , ..., 16.95941612,\n              15.51664281, 13.5357113 ])}}, 'CP_two-model_NN': {'quantile_model': {'pred_low': array([-1.89556882, -1.91447947, -1.93131382, ..., -1.95374125,\n              -1.89298014, -1.84003728]), 'pred_high': array([20.01665373, 19.82754719, 19.65920377, ..., 19.43492937,\n              20.04254055, 20.57196913])}}, 'MAPIE_two-model_naive': {'quantile_model': {'pred_low': array([-1.86089012, -1.87616762, -1.8992939 , ..., -1.88650111,\n              -1.84463977, -1.78745769]), 'pred_high': array([19.72273006, 19.5699551 , 19.33869228, ..., 19.46662022,\n              19.8852336 , 20.45705441])}}}), 0.32: defaultdict(<class 'dict'>, {'xbcf_outcome_xbcf': {'quantile_model': {'pred_low': array([ 0.57321248, -0.19675083,  4.09491576, ...,  4.14987476,\n               4.78904662,  1.85278692]), 'pred_high': array([5.76200027, 3.56290254, 5.71241771, ..., 5.88884918, 8.18880306,\n              5.86482631])}}, 'Agnostic_QR_two-model': {'quantile_model': {'pred_low': array([-14.36778251,  -2.32430088,  -6.91847375, ..., -19.33954375,\n              -16.45240894, -18.37335455]), 'pred_high': array([ 9.2641103 ,  2.56611161, 10.64670511, ..., 28.61978231,\n              20.98001574, 31.13313308])}}, 'CP_two-model_NN': {'quantile_model': {'pred_low': array([-43.90139771, -30.90323591, -32.33332634, ..., -34.44964218,\n              -27.59658527, -25.7547946 ]), 'pred_high': array([24.63791275, 37.63607454, 36.20598412, ..., 34.08966827,\n              40.94272518, 42.78451586])}}, 'MAPIE_two-model_naive': {'quantile_model': {'pred_low': array([-26.05735908, -31.02629922, -33.78436032, ..., -32.06727421,\n              -27.91614359, -23.91386661]), 'pred_high': array([44.284688  , 39.31574787, 36.55768676, ..., 38.27477288,\n              42.4259035 , 46.42818047])}}})}, 'time_model': {'single-model_hurdle_gbt': 44.9933295249939, 'two-model_outcome_gbt': 31.71961212158203, 'two-model_hurdle_gbt': 37.55522298812866, 'xbcf_outcome_xbcf': 2213.5018837451935}, 'time_pi': {0.05: defaultdict(<class 'dict'>, {'xbcf_outcome_xbcf': 2213.5018837451935, 'QR_Agnostic': 1992.527220249176, 'Agnostic_QR_two-model': 1862.2981281280518, 'CP_two-model_NN': 5678.583189487457, 'MAPIE_two-model_naive': 28.128990173339844}), 0.32: defaultdict(<class 'dict'>, {'xbcf_outcome_xbcf': 2213.5018837451935, 'QR_Agnostic': 1913.9263200759888, 'Agnostic_QR_two-model': 1790.1397428512573, 'CP_two-model_NN': 5596.4187207221985, 'MAPIE_two-model_naive': 18.930840492248535})}},\n       {'idx': array([     1,      6,     10, ..., 119215, 119218, 119241]), 'conversion': {'single-model_outcome_gbt': array([0.11843506, 0.16246268, 0.14147083, ..., 0.24574715, 0.07958004,\n              0.13300061]), 'single-model_hurdle_gbt': array([0.11674447, 0.1531577 , 0.13786351, ..., 0.27205565, 0.08192893,\n              0.11892281]), 'two-model_hurdle_gbt': array([0.13376987, 0.12994121, 0.11551222, ..., 0.2262893 , 0.09562783,\n              0.14434226]), 'Conversion-Rate__': array([0.1192887, 0.1192887, 0.1192887, ..., 0.1192887, 0.1192887,\n              0.1192887])}, 'treatment_conversion': {'single-model_hurdle_gbt': array([0.06134701, 0.03476793, 0.04574411, ..., 0.06057848, 0.0205773 ,\n              0.03787902]), 'two-model_hurdle_gbt': array([0.07376009, 0.04166724, 0.03368483, ..., 0.08517835, 0.03009537,\n              0.05075396]), 'ATE__': array([0.04781211, 0.04781211, 0.04781211, ..., 0.04781211, 0.04781211,\n              0.04781211]), 'oracle__': array([ 0.09105945,  0.04991055,  0.08240489, ...,  0.08336157,\n              -0.00076798,  0.06781842])}, 'treatment_basket_value': {'single-model_hurdle_gbt': array([ 0.       ,  0.       ,  0.       , ..., -0.8752745,  0.       ,\n               0.       ]), 'two-model_hurdle_gbt': array([  0.25966036,   0.82671306, -19.78178403, ...,  -6.39391021,\n                1.07419822,  -5.19152213]), 'ATE__': array([-1.39132974, -1.39132974, -1.39132974, ..., -1.39132974,\n              -1.39132974, -1.39132974]), 'oracle__': array([-4.03495504,  2.85774959, -3.8125374 , ..., -4.62069641,\n               3.10212736, -0.18305433])}, 'treatment_spending': {'single-model_hurdle_gbt': array([4.43410834, 3.363761  , 3.95322067, ..., 5.10958437, 2.30450385,\n              3.56241985]), 'two-model_outcome_gbt': array([6.2321263 , 2.47941167, 1.0742879 , ..., 5.35005922, 3.49218548,\n              5.74339773]), 'two-model_hurdle_gbt': array([5.71169449, 4.13445274, 1.17622727, ..., 7.47982745, 3.35253438,\n              4.26524832]), 'xbcf_outcome_xbcf': array([ 2.59574665,  4.06598999,  2.09086807, ...,  7.4666379 ,\n               2.62180197, 10.34860101]), 'oracle__': array([6.55993591, 5.02971631, 6.82057019, ..., 3.64359769, 0.1582149 ,\n              7.37093672]), 'ATE__': array([4.58558329, 4.58558329, 4.58558329, ..., 4.58558329, 4.58558329,\n              4.58558329])}, 'control_predictions': {}, 'prediction_intervals': {0.05: defaultdict(<class 'dict'>, {'xbcf_outcome_xbcf': {'quantile_model': {'pred_low': array([-0.25393281, -0.20127274, -0.30180135, ..., -0.2309303 ,\n              -0.20844265, -0.14788009]), 'pred_high': array([12.48656999, 15.2616575 , 16.67213083, ..., 33.15835594,\n               8.76615913, 36.25023682])}}, 'Agnostic_QR_two-model': {'quantile_model': {'pred_low': array([-0.45670448, -0.60946839, -0.58895651, ..., -0.67306756,\n              -0.72840524, -0.57321295]), 'pred_high': array([ 8.68106608, 10.76309038, 11.05523732, ..., 11.03583915,\n              14.8989922 , 10.50634847])}}, 'CP_two-model_NN': {'quantile_model': {'pred_low': array([-1.88830148, -1.86364397, -1.86878804, ..., -1.91811089,\n              -1.91227011, -1.87957756]), 'pred_high': array([19.67954316, 19.92611828, 19.87467761, ..., 19.38144913,\n              19.43985691, 19.76678243])}}, 'MAPIE_two-model_naive': {'quantile_model': {'pred_low': array([-1.86365615, -1.89908927, -1.93412572, ..., -1.85398627,\n              -1.88456121, -1.86340587]), 'pred_high': array([19.70193526, 19.34760409, 18.99723963, ..., 19.79863413,\n              19.49288466, 19.70443811])}}}), 0.32: defaultdict(<class 'dict'>, {'xbcf_outcome_xbcf': {'quantile_model': {'pred_low': array([1.63470577, 3.00546361, 0.71731398, ..., 4.74526582, 2.09135699,\n              8.27741882]), 'pred_high': array([ 4.40716032,  5.10285156,  4.00132368, ...,  9.95266148,\n               3.0634918 , 12.864689  ])}}, 'Agnostic_QR_two-model': {'quantile_model': {'pred_low': array([ -8.23248532,  -9.66634113, -33.63883061, ..., -36.92954523,\n              -15.06113731, -13.51019278]), 'pred_high': array([-1.12399608,  7.26860817, 16.13220011, ..., 18.69639712,\n              16.16429871,  6.40694627])}}, 'CP_two-model_NN': {'quantile_model': {'pred_low': array([-37.03340435, -30.72821331, -39.03937054, ..., -31.73001862,\n              -31.75933027, -40.50385857]), 'pred_high': array([44.48978138, 50.79497242, 42.48381519, ..., 49.79316711,\n              49.76385546, 41.01932716])}}, 'MAPIE_two-model_naive': {'quantile_model': {'pred_low': array([-30.76468611, -33.83743116, -37.97584364, ..., -28.67990818,\n              -32.61061548, -29.79313481]), 'pred_high': array([40.6911051 , 37.61836005, 33.47994758, ..., 42.77588303,\n              38.84517573, 41.6626564 ])}}})}, 'time_model': {'single-model_hurdle_gbt': 41.45663809776306, 'two-model_outcome_gbt': 32.88755393028259, 'two-model_hurdle_gbt': 38.1887891292572, 'xbcf_outcome_xbcf': 2339.286924600601}, 'time_pi': {0.05: defaultdict(<class 'dict'>, {'xbcf_outcome_xbcf': 2339.286924600601, 'QR_Agnostic': 1975.8858907222748, 'Agnostic_QR_two-model': 1858.4547126293182, 'CP_two-model_NN': 5792.687148094177, 'MAPIE_two-model_naive': 31.29162883758545}), 0.32: defaultdict(<class 'dict'>, {'xbcf_outcome_xbcf': 2339.286924600601, 'QR_Agnostic': 1921.3803877830505, 'Agnostic_QR_two-model': 1803.4164941310883, 'CP_two-model_NN': 5721.78689622879, 'MAPIE_two-model_naive': 18.847238063812256})}},\n       {'idx': array([     0,      4,     14, ..., 119238, 119239, 119242]), 'conversion': {'single-model_outcome_gbt': array([0.1289608 , 0.08791276, 0.11855766, ..., 0.09415201, 0.37209222,\n              0.13313266]), 'single-model_hurdle_gbt': array([0.12964935, 0.08026219, 0.12933725, ..., 0.08735797, 0.42441842,\n              0.13630018]), 'two-model_hurdle_gbt': array([0.13935962, 0.09920471, 0.14187931, ..., 0.10724302, 0.26847275,\n              0.13714915]), 'Conversion-Rate__': array([0.1192887, 0.1192887, 0.1192887, ..., 0.1192887, 0.1192887,\n              0.1192887])}, 'treatment_conversion': {'single-model_hurdle_gbt': array([0.04621337, 0.02912832, 0.04851711, ..., 0.03837557, 0.13579416,\n              0.06796947]), 'two-model_hurdle_gbt': array([0.05818089, 0.03877294, 0.06325597, ..., 0.04181167, 0.03841071,\n              0.05337914]), 'ATE__': array([0.04781211, 0.04781211, 0.04781211, ..., 0.04781211, 0.04781211,\n              0.04781211]), 'oracle__': array([0.00386651, 0.03533416, 0.0978901 , ..., 0.08099362, 0.05235969,\n              0.04754174])}, 'treatment_basket_value': {'single-model_hurdle_gbt': array([ 0.        ,  0.        ,  0.        , ...,  0.        ,\n              -1.82473335,  0.        ]), 'two-model_hurdle_gbt': array([-1.770359  ,  2.8458788 , -0.66643808, ..., -5.49928303,\n              -6.86134144,  4.42813584]), 'ATE__': array([-1.20681804, -1.20681804, -1.20681804, ..., -1.20681804,\n              -1.20681804, -1.20681804]), 'oracle__': array([ 4.38330004, -0.12959499,  1.91208703, ..., -6.80910365,\n              -2.87048356, -2.04634058])}, 'treatment_spending': {'single-model_hurdle_gbt': array([ 5.25582225,  2.29329325,  3.59053796, ...,  3.43583322,\n              16.15195711,  5.1097183 ]), 'two-model_outcome_gbt': array([5.25464916, 3.50466149, 4.65243505, ..., 3.76146774, 1.14833331,\n              2.63915851]), 'two-model_hurdle_gbt': array([6.28467609, 3.43771966, 5.44304634, ..., 3.44158994, 3.33553465,\n              4.75931409]), 'xbcf_outcome_xbcf': array([5.51911494, 3.02694974, 2.32964053, ..., 4.10401242, 9.70271601,\n              1.0717221 ]), 'oracle__': array([0.9459487 , 2.78806036, 6.56855907, ..., 6.26414532, 5.27443365,\n              3.10359318]), 'ATE__': array([4.59780502, 4.59780502, 4.59780502, ..., 4.59780502, 4.59780502,\n              4.59780502])}, 'control_predictions': {}, 'prediction_intervals': {0.05: defaultdict(<class 'dict'>, {'xbcf_outcome_xbcf': {'quantile_model': {'pred_low': array([-0.27099888, -0.28523974, -0.29787248, ..., -0.27015241,\n              -0.26296895, -0.33150083]), 'pred_high': array([14.80251127, 10.91051029,  8.9602971 , ...,  7.81091528,\n              23.66570764,  8.80127686])}}, 'Agnostic_QR_two-model': {'quantile_model': {'pred_low': array([-0.76002401, -0.44734259, -0.40483176, ..., -0.55403283,\n              -1.1697443 , -0.47295966]), 'pred_high': array([15.83181944,  9.67775422, 10.15025803, ..., 11.12395314,\n              20.509114  ,  9.05183355])}}, 'CP_two-model_NN': {'quantile_model': {'pred_low': array([-1.79738632, -1.75867871, -1.76587048, ..., -1.82803543,\n              -1.88033894, -1.8275899 ]), 'pred_high': array([20.15552831, 20.54260435, 20.47068672, ..., 19.84903717,\n              19.32600212, 19.8534925 ])}}, 'MAPIE_two-model_naive': {'quantile_model': {'pred_low': array([-1.86245546, -1.88347846, -1.88090834, ..., -1.87485474,\n              -1.90715576, -1.88081031]), 'pred_high': array([19.69477519, 19.48454511, 19.51024635, ..., 19.57078239,\n              19.24777211, 19.5112266 ])}}}), 0.32: defaultdict(<class 'dict'>, {'xbcf_outcome_xbcf': {'quantile_model': {'pred_low': array([ 3.68671741,  1.62614561,  0.78293318, ...,  3.19267577,\n               5.35509357, -1.37317792]), 'pred_high': array([ 8.46044165,  4.81866518,  3.52020404, ...,  5.0352379 ,\n              14.33233927,  2.82525374])}}, 'Agnostic_QR_two-model': {'quantile_model': {'pred_low': array([-21.65104386,  -6.32939728,  -5.9123162 , ..., -13.8730964 ,\n              -79.53927797, -18.8247026 ]), 'pred_high': array([19.26711479, 10.35786009, 30.90896753, ...,  8.85798331,\n              55.51540676, 22.84199194])}}, 'CP_two-model_NN': {'quantile_model': {'pred_low': array([-13.50836492, -25.93399334, -25.16748619, ..., -24.25497055,\n              -15.24347878, -23.37284184]), 'pred_high': array([48.88192821, 36.45629978, 37.22280693, ..., 38.13532257,\n              47.14681435, 39.01745129])}}, 'MAPIE_two-model_naive': {'quantile_model': {'pred_low': array([-30.38432244, -32.29340763, -31.45136979, ..., -31.03662625,\n              -32.23821013, -30.9906871 ]), 'pred_high': array([41.08147035, 39.17238516, 40.014423  , ..., 40.42916654,\n              39.22758266, 40.47510569])}}})}, 'time_model': {'single-model_hurdle_gbt': 40.06198048591614, 'two-model_outcome_gbt': 33.685755491256714, 'two-model_hurdle_gbt': 39.098535776138306, 'xbcf_outcome_xbcf': 2242.647395849228}, 'time_pi': {0.05: defaultdict(<class 'dict'>, {'xbcf_outcome_xbcf': 2242.647395849228, 'QR_Agnostic': 1995.6726129055023, 'Agnostic_QR_two-model': 1865.6186034679413, 'CP_two-model_NN': 5679.185706853867, 'MAPIE_two-model_naive': 29.26253914833069}), 0.32: defaultdict(<class 'dict'>, {'xbcf_outcome_xbcf': 2242.647395849228, 'QR_Agnostic': 1908.8405756950378, 'Agnostic_QR_two-model': 1788.8696398735046, 'CP_two-model_NN': 5913.988265514374, 'MAPIE_two-model_naive': 18.884206533432007})}},\n       {'idx': array([     1,     12,     19, ..., 119224, 119235, 119241]), 'conversion': {'single-model_outcome_gbt': array([0.13921392, 0.04867429, 0.07916108, ..., 0.21819111, 0.09590999,\n              0.154038  ]), 'single-model_hurdle_gbt': array([0.10626411, 0.05013984, 0.08100256, ..., 0.22317454, 0.07998401,\n              0.10977658]), 'two-model_hurdle_gbt': array([0.12556058, 0.06860757, 0.08566648, ..., 0.18990524, 0.09370499,\n              0.14355991]), 'Conversion-Rate__': array([0.11926778, 0.11926778, 0.11926778, ..., 0.11926778, 0.11926778,\n              0.11926778])}, 'treatment_conversion': {'single-model_hurdle_gbt': array([0.06370848, 0.01448585, 0.02223511, ..., 0.09263114, 0.02542092,\n              0.03930194]), 'two-model_hurdle_gbt': array([0.07531906, 0.01679193, 0.02480357, ..., 0.06885942, 0.02685492,\n              0.0471498 ]), 'ATE__': array([0.04777018, 0.04777018, 0.04777018, ..., 0.04777018, 0.04777018,\n              0.04777018]), 'oracle__': array([ 0.09105945,  0.00908851, -0.00076798, ...,  0.09368831,\n               0.03448152,  0.06781842])}, 'treatment_basket_value': {'single-model_hurdle_gbt': array([ 0.        , -0.46453612,  0.        , ...,  0.        ,\n               0.        , -0.27019363]), 'two-model_hurdle_gbt': array([-5.02736649, -1.65398804,  0.0704799 , ..., -3.58626415,\n               0.72913642, -2.68586599]), 'ATE__': array([-0.89627825, -0.89627825, -0.89627825, ..., -0.89627825,\n              -0.89627825, -0.89627825]), 'oracle__': array([-4.03495504,  2.40406638,  3.10212736, ...,  2.06742039,\n               0.77353928, -0.18305433])}, 'treatment_spending': {'single-model_hurdle_gbt': array([4.74121872, 1.31027644, 2.17600338, ..., 9.08044723, 2.09103192,\n              4.08086591]), 'two-model_outcome_gbt': array([ 4.87978942, -0.04222374,  2.36130919, ...,  8.02249233,\n               1.57657668,  4.69925982]), 'two-model_hurdle_gbt': array([5.39606722, 1.46105644, 2.44201619, ..., 6.48926018, 2.27990494,\n              4.26951556]), 'xbcf_outcome_xbcf': array([-2.20482194,  2.60972462,  2.66000599, ..., -2.83197581,\n               4.46529354,  9.22562751]), 'oracle__': array([6.55993591, 0.89352626, 0.13533147, ..., 9.27127095, 2.90981944,\n              7.37093672]), 'ATE__': array([4.60852698, 4.60852698, 4.60852698, ..., 4.60852698, 4.60852698,\n              4.60852698])}, 'control_predictions': {}, 'prediction_intervals': {0.05: defaultdict(<class 'dict'>, {'xbcf_outcome_xbcf': {'quantile_model': {'pred_low': array([-0.45971834, -0.29410704, -0.27762153, ..., -0.45971834,\n              -0.25861366, -0.29189081]), 'pred_high': array([13.74474466, 10.32161055, 10.04074036, ...,  6.44826582,\n              16.92203537, 34.71006493])}}, 'Agnostic_QR_two-model': {'quantile_model': {'pred_low': array([-0.45306768, -0.52967371, -0.63796612, ..., -0.72823863,\n              -0.46866246, -0.58814736]), 'pred_high': array([ 8.37662664,  9.68167175, 12.08254968, ..., 15.1874728 ,\n              10.78077803, 10.70919289])}}, 'CP_two-model_NN': {'quantile_model': {'pred_low': array([-1.90386005, -1.89776608, -1.89293996, ..., -1.84692657,\n              -1.90765089, -1.91280483]), 'pred_high': array([19.46856809, 19.52950773, 19.57776899, ..., 20.03790293,\n              19.43065968, 19.37912025])}}, 'MAPIE_two-model_naive': {'quantile_model': {'pred_low': array([-1.86608613, -1.9211794 , -1.89319308, ..., -1.83741243,\n              -1.89661923, -1.86983741]), 'pred_high': array([19.63047622, 19.07954346, 19.35940673, ..., 19.91721323,\n              19.32514524, 19.59296343])}}}), 0.32: defaultdict(<class 'dict'>, {'xbcf_outcome_xbcf': {'quantile_model': {'pred_low': array([-6.26455055,  1.85583848,  1.9279851 , ..., -6.38897663,\n               3.24380321,  7.21160544]), 'pred_high': array([ 2.40287363,  3.44436081,  3.44070419, ...,  1.91441303,\n               5.55702521, 11.21895074])}}, 'Agnostic_QR_two-model': {'quantile_model': {'pred_low': array([ -9.23272773,  -0.15609571,  -7.4490773 , ..., -18.59026084,\n              -10.79651668, -17.15125509]), 'pred_high': array([-2.1489623 ,  5.48162059,  9.25425302, ..., 27.95783603,\n              20.71530187,  7.44421131])}}, 'CP_two-model_NN': {'quantile_model': {'pred_low': array([-33.39378881, -32.49570274, -32.31917143, ..., -27.53459263,\n              -33.71145487, -33.67615366]), 'pred_high': array([35.17272615, 36.07081223, 36.24734354, ..., 41.03192234,\n              34.8550601 , 34.89036131])}}, 'MAPIE_two-model_naive': {'quantile_model': {'pred_low': array([-30.83568023, -36.06380072, -33.07422683, ..., -27.55328589,\n              -33.17792101, -30.36629257]), 'pred_high': array([39.94537971, 34.71725922, 37.7068331 , ..., 43.22777404,\n              37.60313892, 40.41476737])}}})}, 'time_model': {'single-model_hurdle_gbt': 40.04635691642761, 'two-model_outcome_gbt': 33.82636499404907, 'two-model_hurdle_gbt': 39.169679164886475, 'xbcf_outcome_xbcf': 2313.2164976596832}, 'time_pi': {0.05: defaultdict(<class 'dict'>, {'xbcf_outcome_xbcf': 2313.2164976596832, 'QR_Agnostic': 2002.0436220169067, 'Agnostic_QR_two-model': 1875.052773475647, 'CP_two-model_NN': 5862.703269004822, 'MAPIE_two-model_naive': 33.50983166694641}), 0.32: defaultdict(<class 'dict'>, {'xbcf_outcome_xbcf': 2313.2164976596832, 'QR_Agnostic': 1869.0960161685944, 'Agnostic_QR_two-model': 1751.9621496200562, 'CP_two-model_NN': 5823.165548801422, 'MAPIE_two-model_naive': 16.290727615356445})}},\n       {'idx': array([     2,      5,      6, ..., 119236, 119238, 119242]), 'conversion': {'single-model_outcome_gbt': array([0.07489332, 0.14820498, 0.15838527, ..., 0.07430311, 0.08065947,\n              0.14334142]), 'single-model_hurdle_gbt': array([0.06534766, 0.14394259, 0.1447373 , ..., 0.07860687, 0.0834356 ,\n              0.13131417]), 'two-model_hurdle_gbt': array([0.09708428, 0.12099498, 0.12108837, ..., 0.09011564, 0.104503  ,\n              0.12287445]), 'Conversion-Rate__': array([0.1192887, 0.1192887, 0.1192887, ..., 0.1192887, 0.1192887,\n              0.1192887])}, 'treatment_conversion': {'single-model_hurdle_gbt': array([0.03498575, 0.06392971, 0.02879267, ..., 0.01682824, 0.04061344,\n              0.05265577]), 'two-model_hurdle_gbt': array([0.04899405, 0.04514813, 0.0376894 , ..., 0.01655868, 0.04836563,\n              0.0410684 ]), 'ATE__': array([0.04781211, 0.04781211, 0.04781211, ..., 0.04781211, 0.04781211,\n              0.04781211]), 'oracle__': array([ 0.0463569 ,  0.06689696,  0.04991055, ..., -0.00077533,\n               0.08099362,  0.04754174])}, 'treatment_basket_value': {'single-model_hurdle_gbt': array([-0.369997  ,  0.        ,  0.        , ...,  0.        ,\n              -0.06022966, -0.75063925]), 'two-model_hurdle_gbt': array([-8.18468226,  0.04722191,  0.92430538, ...,  1.50171591,\n              -4.88290292,  5.22097087]), 'ATE__': array([-2.14769799, -2.14769799, -2.14769799, ..., -2.14769799,\n              -2.14769799, -2.14769799]), 'oracle__': array([ 2.52312043,  0.3406405 ,  2.85774959, ...,  2.78090877,\n              -6.80910365, -2.04634058])}, 'treatment_spending': {'single-model_hurdle_gbt': array([4.3343743 , 5.35843627, 2.71978058, ..., 1.66225962, 3.6795299 ,\n              4.0153423 ]), 'two-model_outcome_gbt': array([5.12144937, 4.21971983, 3.07441654, ..., 0.57011142, 4.12085056,\n              4.24560115]), 'two-model_hurdle_gbt': array([4.53256336, 3.86481134, 3.75028991, ..., 1.78121746, 4.1004045 ,\n              3.95557332]), 'xbcf_outcome_xbcf': array([4.25798719, 2.43358337, 6.78251169, ..., 2.02467957, 3.82327372,\n              5.39656089]), 'oracle__': array([4.87410841, 6.34200375, 5.02971631, ..., 0.08462564, 6.26414532,\n              3.10359318]), 'ATE__': array([4.50114256, 4.50114256, 4.50114256, ..., 4.50114256, 4.50114256,\n              4.50114256])}, 'control_predictions': {}, 'prediction_intervals': {0.05: defaultdict(<class 'dict'>, {'xbcf_outcome_xbcf': {'quantile_model': {'pred_low': array([-0.09195816, -0.11500704, -0.08068475, ..., -0.1116727 ,\n              -0.09949015, -0.10819501]), 'pred_high': array([ 7.73107627,  9.14125193, 11.82330734, ...,  4.23203809,\n               6.95389145, 11.88076551])}}, 'Agnostic_QR_two-model': {'quantile_model': {'pred_low': array([-0.58112692, -0.59431628, -0.5682533 , ..., -0.64273266,\n              -0.54142822, -0.45262189]), 'pred_high': array([11.97487356, 13.95088956, 11.48259268, ..., 12.10648624,\n               9.69034615,  8.76872379])}}, 'CP_two-model_NN': {'quantile_model': {'pred_low': array([-1.88824059, -1.91428032, -1.9015711 , ..., -1.92176198,\n              -1.87197906, -1.87442975]), 'pred_high': array([19.72994604, 19.4695488 , 19.59664097, ..., 19.39473224,\n              19.89256139, 19.86805453])}}, 'MAPIE_two-model_naive': {'quantile_model': {'pred_low': array([-1.86099442, -1.87461475, -1.88491721, ..., -1.90540794,\n              -1.85968229, -1.87294504]), 'pred_high': array([19.69293353, 19.55673028, 19.45370563, ..., 19.24879835,\n              19.70605482, 19.57342733])}}}), 0.32: defaultdict(<class 'dict'>, {'xbcf_outcome_xbcf': {'quantile_model': {'pred_low': array([3.62420513, 1.29352092, 5.36196339, ..., 1.2984207 , 3.10258862,\n              2.65468211]), 'pred_high': array([4.95953499, 3.10773854, 7.91175644, ..., 2.62361443, 4.45755268,\n              7.62961909])}}, 'Agnostic_QR_two-model': {'quantile_model': {'pred_low': array([-13.73384659, -13.06798054,  -8.20017047, ...,  -7.78154544,\n              -15.52611065, -25.33578885]), 'pred_high': array([11.78547966, 16.66403127,  8.78153953, ..., 17.19888744,\n               8.41895125, 13.77997021])}}, 'CP_two-model_NN': {'quantile_model': {'pred_low': array([-30.46493983, -28.14745522, -30.42722034, ..., -31.71527386,\n              -30.75711155, -31.37617874]), 'pred_high': array([39.66859555, 41.98608017, 39.70631504, ..., 38.41826153,\n              39.37642384, 38.75735664])}}, 'MAPIE_two-model_naive': {'quantile_model': {'pred_low': array([-30.11166596, -31.41831526, -32.64354709, ..., -33.61917255,\n              -30.3143658 , -30.17169001]), 'pred_high': array([39.89912918, 38.59247988, 37.36724805, ..., 36.39162259,\n              39.69642934, 39.83910513])}}})}, 'time_model': {'single-model_hurdle_gbt': 28.63241696357727, 'two-model_outcome_gbt': 16.994922637939453, 'two-model_hurdle_gbt': 19.036423921585083, 'xbcf_outcome_xbcf': 1321.723773241043}, 'time_pi': {0.05: defaultdict(<class 'dict'>, {'xbcf_outcome_xbcf': 1321.723773241043, 'QR_Agnostic': 997.5647740364075, 'Agnostic_QR_two-model': 939.083514213562, 'CP_two-model_NN': 2593.8668727874756, 'MAPIE_two-model_naive': 15.057909727096558}), 0.32: defaultdict(<class 'dict'>, {'xbcf_outcome_xbcf': 1321.723773241043, 'QR_Agnostic': 864.2823333740234, 'Agnostic_QR_two-model': 811.4082791805267, 'CP_two-model_NN': 1115.662413597107, 'MAPIE_two-model_naive': 15.916794776916504})}},\n       {'idx': array([     3,      7,     15, ..., 119230, 119233, 119239]), 'conversion': {'single-model_outcome_gbt': array([0.17219594, 0.18061368, 0.04426098, ..., 0.06871921, 0.09786771,\n              0.46044451]), 'single-model_hurdle_gbt': array([0.13850406, 0.18931667, 0.05079916, ..., 0.07777049, 0.09301736,\n              0.51026279]), 'two-model_hurdle_gbt': array([0.14442783, 0.15553501, 0.07360245, ..., 0.10444906, 0.09485256,\n              0.28735478]), 'Conversion-Rate__': array([0.1192887, 0.1192887, 0.1192887, ..., 0.1192887, 0.1192887,\n              0.1192887])}, 'treatment_conversion': {'single-model_hurdle_gbt': array([0.07081389, 0.08994406, 0.01726054, ..., 0.03528444, 0.04531869,\n              0.13659506]), 'two-model_hurdle_gbt': array([0.05738871, 0.0814451 , 0.02989445, ..., 0.05373739, 0.04301295,\n              0.05608983]), 'ATE__': array([0.04781211, 0.04781211, 0.04781211, ..., 0.04781211, 0.04781211,\n              0.04781211]), 'oracle__': array([ 0.03677752,  0.08063181, -0.00076798, ...,  0.00386651,\n               0.06422044,  0.05235969])}, 'treatment_basket_value': {'single-model_hurdle_gbt': array([-0.72129389,  0.21554947,  0.09527099, ..., -0.56951238,\n               0.        , -0.97727877]), 'two-model_hurdle_gbt': array([-2.849677  , -5.49372368, -1.89022024, ...,  2.7390425 ,\n              -0.17716875,  0.32360889]), 'ATE__': array([-1.52131849, -1.52131849, -1.52131849, ..., -1.52131849,\n              -1.52131849, -1.52131849]), 'oracle__': array([-2.704291  , -3.37782033,  3.10212736, ...,  4.38330004,\n               1.36913749, -2.87048356])}, 'treatment_spending': {'single-model_hurdle_gbt': array([ 3.93209691,  9.80132587,  1.21019588, ...,  2.43180118,\n               4.41170308, 17.55348555]), 'two-model_outcome_gbt': array([3.51782417, 7.90164483, 1.51614899, ..., 4.15811694, 4.50074034,\n              7.21778477]), 'two-model_hurdle_gbt': array([3.72519205, 7.57586626, 2.14490468, ..., 4.35082477, 4.1761109 ,\n              7.10949188]), 'xbcf_outcome_xbcf': array([5.11347244, 9.32560956, 1.27786774, ..., 4.03719832, 7.58895632,\n              9.6974579 ]), 'oracle__': array([1.78194073, 7.37846812, 0.00900973, ..., 0.44178689, 6.29015809,\n              5.27443365]), 'ATE__': array([4.5619892, 4.5619892, 4.5619892, ..., 4.5619892, 4.5619892,\n              4.5619892])}, 'control_predictions': {}, 'prediction_intervals': {0.05: defaultdict(<class 'dict'>, {'xbcf_outcome_xbcf': {'quantile_model': {'pred_low': array([-0.17802228, -0.07709523, -0.20015561, ..., -0.15591488,\n              -0.12746775, -0.2479517 ]), 'pred_high': array([14.58271721, 17.30313062,  4.15213831, ..., 10.09872633,\n              12.60064824, 30.69876962])}}, 'Agnostic_QR_two-model': {'quantile_model': {'pred_low': array([-0.40004191, -0.68393677, -0.40114456, ..., -0.51488438,\n              -0.64252576, -1.10287366]), 'pred_high': array([ 7.20395015, 13.40030767,  7.12507408, ...,  8.097253  ,\n              12.91848802, 22.1358856 ])}}, 'CP_two-model_NN': {'quantile_model': {'pred_low': array([-1.98189308, -2.03096556, -1.99477436, ..., -1.95547249,\n              -1.99015316, -1.86318647]), 'pred_high': array([19.88674088, 19.39601607, 19.75792813, ..., 20.15094678,\n              19.80414004, 21.07380695])}}, 'MAPIE_two-model_naive': {'quantile_model': {'pred_low': array([-1.87936391, -1.84052885, -1.90385699, ..., -1.87783128,\n              -1.86554535, -1.86767652]), 'pred_high': array([19.53545463, 19.92380524, 19.29052389, ..., 19.55078093,\n              19.67364024, 19.65232854])}}}), 0.32: defaultdict(<class 'dict'>, {'xbcf_outcome_xbcf': {'quantile_model': {'pred_low': array([3.0219634 , 7.80566248, 0.51350461, ..., 2.77373484, 6.80141879,\n              5.01824775]), 'pred_high': array([ 7.30611017, 11.19042772,  2.03761717, ...,  5.09832657,\n               8.6261442 , 14.32081803])}}, 'Agnostic_QR_two-model': {'quantile_model': {'pred_low': array([-17.60853981, -17.06353797,  -1.70891821, ..., -13.3194854 ,\n               -7.29620441, -84.89127463]), 'pred_high': array([ 4.64189344, 12.76367486, -0.80671185, ...,  4.50406715,\n              10.93626423, 74.32133011])}}, 'CP_two-model_NN': {'quantile_model': {'pred_low': array([-32.05986691, -26.13264179, -31.99346733, ..., -30.81804228,\n              -23.94751453, -14.88963366]), 'pred_high': array([37.47346401, 43.40068913, 37.53986359, ..., 38.71528864,\n              45.58581638, 54.64369726])}}, 'MAPIE_two-model_naive': {'quantile_model': {'pred_low': array([-30.76795332, -26.95867891, -34.09295787, ..., -31.39813883,\n              -30.32890559, -27.40483171]), 'pred_high': array([39.87758766, 43.68686208, 36.55258311, ..., 39.24740216,\n              40.31663539, 43.24070927])}}})}, 'time_model': {'single-model_hurdle_gbt': 30.836610078811646, 'two-model_outcome_gbt': 19.52305006980896, 'two-model_hurdle_gbt': 21.722580194473267, 'xbcf_outcome_xbcf': 1328.6146540641785}, 'time_pi': {0.05: defaultdict(<class 'dict'>, {'xbcf_outcome_xbcf': 1328.6146540641785, 'QR_Agnostic': 911.9840271472931, 'Agnostic_QR_two-model': 855.846574306488, 'CP_two-model_NN': 1257.4847671985626, 'MAPIE_two-model_naive': 14.675894498825073}), 0.32: defaultdict(<class 'dict'>, {'xbcf_outcome_xbcf': 1328.6146540641785, 'QR_Agnostic': 820.949520111084, 'Agnostic_QR_two-model': 771.3893210887909, 'CP_two-model_NN': 1057.7194647789001, 'MAPIE_two-model_naive': 12.88685655593872})}},\n       {'idx': array([     8,      9,     10, ..., 119232, 119237, 119240]), 'conversion': {'single-model_outcome_gbt': array([0.12094353, 0.14687171, 0.12442694, ..., 0.14219908, 0.28062431,\n              0.0454069 ]), 'single-model_hurdle_gbt': array([0.10944767, 0.11326446, 0.13803868, ..., 0.12460371, 0.2275182 ,\n              0.04082855]), 'two-model_hurdle_gbt': array([0.11008942, 0.11621627, 0.13020812, ..., 0.11013275, 0.21616962,\n              0.06172877]), 'Conversion-Rate__': array([0.1192887, 0.1192887, 0.1192887, ..., 0.1192887, 0.1192887,\n              0.1192887])}, 'treatment_conversion': {'single-model_hurdle_gbt': array([0.06223964, 0.07290057, 0.03801783, ..., 0.06411499, 0.12825799,\n              0.01890741]), 'two-model_hurdle_gbt': array([0.06534101, 0.0628618 , 0.03783597, ..., 0.0587866 , 0.11827784,\n              0.03346518]), 'ATE__': array([0.04781211, 0.04781211, 0.04781211, ..., 0.04781211, 0.04781211,\n              0.04781211]), 'oracle__': array([0.07047183, 0.11871202, 0.08240489, ..., 0.07349067, 0.10987957,\n              0.08402407])}, 'treatment_basket_value': {'single-model_hurdle_gbt': array([0., 0., 0., ..., 0., 0., 0.]), 'two-model_hurdle_gbt': array([ -0.65518001,  -1.93779347, -12.29986205, ...,  -1.2226893 ,\n                2.00066262,  -8.57935727]), 'ATE__': array([-0.82757667, -0.82757667, -0.82757667, ..., -0.82757667,\n              -0.82757667, -0.82757667]), 'oracle__': array([ 2.37247673, -4.12790629, -3.8125374 , ...,  1.40892709,\n              -0.63793225, -5.87056904])}, 'treatment_spending': {'single-model_hurdle_gbt': array([4.52341362, 5.06201114, 3.37559635, ..., 7.28443516, 9.97997599,\n              1.65712545]), 'two-model_outcome_gbt': array([8.13170567, 4.39356579, 0.4466375 , ..., 7.1778359 , 9.8488931 ,\n              3.07437728]), 'two-model_hurdle_gbt': array([ 5.48926547,  4.80445407,  2.3298674 , ...,  6.37943996,\n              11.08022551,  2.75254144]), 'xbcf_outcome_xbcf': array([ 5.90917486, -3.88755039,  2.66464096, ...,  8.3673917 ,\n               0.97985914,  2.7995132 ]), 'oracle__': array([ 4.6454862 ,  7.77346601,  6.82057019, ...,  8.47520398,\n              10.19744421,  7.16482553]), 'ATE__': array([4.63596313, 4.63596313, 4.63596313, ..., 4.63596313, 4.63596313,\n              4.63596313])}, 'control_predictions': {}, 'prediction_intervals': {0.05: defaultdict(<class 'dict'>, {'xbcf_outcome_xbcf': {'quantile_model': {'pred_low': array([-0.28121884, -0.56056872, -0.29280603, ..., -0.16551009,\n              -0.38742225, -0.27455218]), 'pred_high': array([25.10092298,  9.18368791, 14.3265545 , ..., 22.87882882,\n              14.66317897, 11.19799544])}}, 'Agnostic_QR_two-model': {'quantile_model': {'pred_low': array([-0.38920273, -0.35941714, -0.68090512, ..., -0.70114692,\n              -0.52187725, -0.53288835]), 'pred_high': array([ 9.42208778,  6.53675425, 11.03890076, ..., 16.7441205 ,\n              13.63965586, 10.36500545])}}, 'CP_two-model_NN': {'quantile_model': {'pred_low': array([-2.0018888 , -1.90721022, -1.99160817, ..., -1.93708871,\n              -1.91321317, -1.96166716]), 'pred_high': array([19.81685266, 20.7636385 , 19.91965899, ..., 20.46485353,\n              20.70360899, 20.21906905])}}, 'MAPIE_two-model_naive': {'quantile_model': {'pred_low': array([-1.84659506, -1.87471132, -1.91737705, ..., -1.85023379,\n              -1.81068166, -1.88782283]), 'pred_high': array([19.91534196, 19.63417939, 19.20752209, ..., 19.87895463,\n              20.27447592, 19.50306425])}}}), 0.32: defaultdict(<class 'dict'>, {'xbcf_outcome_xbcf': {'quantile_model': {'pred_low': array([ 4.01228069, -9.11709855,  1.52879602, ...,  7.54029276,\n              -2.69255229,  2.04688083]), 'pred_high': array([9.09603488, 1.60233523, 3.68504921, ..., 9.37412403, 5.00470286,\n              3.53526185])}}, 'Agnostic_QR_two-model': {'quantile_model': {'pred_low': array([ -7.73919311,  -4.71185465, -35.88129462, ..., -18.12886658,\n              -19.68761692, -12.16658786]), 'pred_high': array([ 6.29597292,  4.17025878, 10.47045225, ..., 22.86551701,\n              23.68467356, -2.83699373])}}, 'CP_two-model_NN': {'quantile_model': {'pred_low': array([-26.90497446, -31.82356644, -27.09602976, ..., -25.48589611,\n              -18.3474369 , -30.08665121]), 'pred_high': array([40.30441427, 35.3858223 , 40.11335897, ..., 41.72349262,\n              48.86195183, 37.12273753])}}, 'MAPIE_two-model_naive': {'quantile_model': {'pred_low': array([-28.31140346, -31.19106498, -34.31663262, ..., -28.06184468,\n              -24.01989079, -32.36860296]), 'pred_high': array([41.86158943, 38.98192791, 35.85636026, ..., 42.11114821,\n              46.15310209, 37.80438992])}}})}, 'time_model': {'single-model_hurdle_gbt': 28.81934928894043, 'two-model_outcome_gbt': 17.04268503189087, 'two-model_hurdle_gbt': 19.667680025100708, 'xbcf_outcome_xbcf': 1329.8767893314362}, 'time_pi': {0.05: defaultdict(<class 'dict'>, {'xbcf_outcome_xbcf': 1329.8767893314362, 'QR_Agnostic': 921.9688153266907, 'Agnostic_QR_two-model': 865.6276800632477, 'CP_two-model_NN': 1251.746887922287, 'MAPIE_two-model_naive': 13.594851970672607}), 0.32: defaultdict(<class 'dict'>, {'xbcf_outcome_xbcf': 1329.8767893314362, 'QR_Agnostic': 826.8639466762543, 'Agnostic_QR_two-model': 775.455721616745, 'CP_two-model_NN': 1258.2398920059204, 'MAPIE_two-model_naive': 11.489069938659668})}},\n       {'idx': array([     3,     11,     12, ..., 119227, 119231, 119233]), 'conversion': {'single-model_outcome_gbt': array([0.156937  , 0.05384452, 0.03930831, ..., 0.07738001, 0.07038638,\n              0.11742311]), 'single-model_hurdle_gbt': array([0.12409986, 0.05582922, 0.04191583, ..., 0.09181998, 0.07693347,\n              0.1082261 ]), 'two-model_hurdle_gbt': array([0.13238922, 0.07707357, 0.0628498 , ..., 0.11334809, 0.09295226,\n              0.10512384]), 'Conversion-Rate__': array([0.1192887, 0.1192887, 0.1192887, ..., 0.1192887, 0.1192887,\n              0.1192887])}, 'treatment_conversion': {'single-model_hurdle_gbt': array([0.05046881, 0.01978747, 0.00801422, ..., 0.04125604, 0.02086145,\n              0.05571828]), 'two-model_hurdle_gbt': array([0.03194041, 0.03193879, 0.01457104, ..., 0.0629979 , 0.03039708,\n              0.05599397]), 'ATE__': array([0.04781211, 0.04781211, 0.04781211, ..., 0.04781211, 0.04781211,\n              0.04781211]), 'oracle__': array([ 0.03677752, -0.00076798,  0.00908851, ...,  0.01557096,\n              -0.00076798,  0.06422044])}, 'treatment_basket_value': {'single-model_hurdle_gbt': array([ 0.        ,  0.        , -0.61859488, ...,  0.        ,\n               0.        ,  0.        ]), 'two-model_hurdle_gbt': array([-0.34026392, -0.85753615, -4.06059345, ..., -0.93954564,\n              -4.96767431,  0.5874137 ]), 'ATE__': array([-1.00829543, -1.00829543, -1.00829543, ..., -1.00829543,\n              -1.00829543, -1.00829543]), 'oracle__': array([-2.704291  ,  3.10212736,  2.40406638, ...,  5.93650366,\n               3.10212736,  1.36913749])}, 'treatment_spending': {'single-model_hurdle_gbt': array([2.91523855, 1.69883488, 0.73542331, ..., 3.43428123, 2.51794278,\n              5.38773096]), 'two-model_outcome_gbt': array([ 1.58188094,  1.29173451, -0.98658214, ...,  5.63333679,\n               2.94385331,  5.44330134]), 'two-model_hurdle_gbt': array([2.23316761, 2.84985606, 1.14272099, ..., 5.37945962, 3.07603273,\n              5.46415894]), 'xbcf_outcome_xbcf': array([5.09002531, 3.55600709, 2.75805948, ..., 5.25612351, 3.24903388,\n              3.96582566]), 'oracle__': array([1.78194073, 0.3335798 , 0.89352626, ..., 1.59747209, 0.05259155,\n              6.29015809]), 'ATE__': array([4.59478024, 4.59478024, 4.59478024, ..., 4.59478024, 4.59478024,\n              4.59478024])}, 'control_predictions': {}, 'prediction_intervals': {0.05: defaultdict(<class 'dict'>, {'xbcf_outcome_xbcf': {'quantile_model': {'pred_low': array([-0.11976373, -0.10118772, -0.11051193, ..., -0.09449237,\n              -0.10837677, -0.09400781]), 'pred_high': array([16.35712398,  8.9382367 ,  6.84949395, ..., 12.02082028,\n               7.23267901, 13.08244639])}}, 'Agnostic_QR_two-model': {'quantile_model': {'pred_low': array([-0.36995138, -0.48484715, -0.50444363, ..., -0.48158388,\n              -0.73073269, -0.58342221]), 'pred_high': array([ 6.35331827, 12.90772976, 10.4987706 , ...,  8.45150466,\n              15.82410155, 13.31706577])}}, 'CP_two-model_NN': {'quantile_model': {'pred_low': array([-2.09825364, -1.81917959, -1.81757877, ..., -2.19927062,\n              -1.77668108, -1.87186146]), 'pred_high': array([23.94494166, 26.73568211, 26.75169029, ..., 22.93477185,\n              27.16066723, 26.20886345])}}, 'MAPIE_two-model_naive': {'quantile_model': {'pred_low': array([-1.88145378, -1.89958028, -1.91952836, ..., -1.86726011,\n              -1.88402724, -1.84903391]), 'pred_high': array([19.45612074, 19.27485581, 19.07537499, ..., 19.59805751,\n              19.43038619, 19.78031949])}}}), 0.32: defaultdict(<class 'dict'>, {'xbcf_outcome_xbcf': {'quantile_model': {'pred_low': array([2.12487395, 2.86527673, 1.67650163, ..., 4.41494896, 2.6629608 ,\n              3.06696834]), 'pred_high': array([8.08892471, 4.29048965, 3.56186079, ..., 6.21628878, 3.98372706,\n              4.82054853])}}, 'Agnostic_QR_two-model': {'quantile_model': {'pred_low': array([-20.28671311, -19.93409809,  -0.02803692, ...,  -7.11109629,\n              -15.36170202,  -4.07814764]), 'pred_high': array([ 6.12012458, 25.41073237, -0.37114749, ..., -0.66432928,\n              23.62921833, 12.76455811])}}, 'CP_two-model_NN': {'quantile_model': {'pred_low': array([-36.8732214 , -47.79569721, -41.09607029, ..., -38.11675096,\n              -38.4964056 , -36.05711198]), 'pred_high': array([51.31272411, 40.3902483 , 47.08987522, ..., 50.06919456,\n              49.68953991, 52.12883353])}}, 'MAPIE_two-model_naive': {'quantile_model': {'pred_low': array([-33.30520389, -33.00850131, -36.20528942, ..., -30.71771442,\n              -31.85949559, -28.93693685]), 'pred_high': array([36.74807326, 37.04477584, 33.84798773, ..., 39.33556273,\n              38.19378156, 41.1163403 ])}}})}, 'time_model': {'single-model_hurdle_gbt': 44.91836214065552, 'two-model_outcome_gbt': 32.506654262542725, 'two-model_hurdle_gbt': 37.215331077575684, 'xbcf_outcome_xbcf': 2301.4310352802277}, 'time_pi': {0.05: defaultdict(<class 'dict'>, {'xbcf_outcome_xbcf': 2301.4310352802277, 'QR_Agnostic': 1990.534190416336, 'Agnostic_QR_two-model': 1861.4970242977142, 'CP_two-model_NN': 4608.674409389496, 'MAPIE_two-model_naive': 17.45773434638977}), 0.32: defaultdict(<class 'dict'>, {'xbcf_outcome_xbcf': 2301.4310352802277, 'QR_Agnostic': 1332.1270303726196, 'Agnostic_QR_two-model': 1242.6066100597382, 'CP_two-model_NN': 2292.190665960312, 'MAPIE_two-model_naive': 17.492953538894653})}},\n       {'idx': array([     0,      2,     14, ..., 119236, 119237, 119244]), 'conversion': {'single-model_outcome_gbt': array([0.13646346, 0.08251475, 0.13061371, ..., 0.07831971, 0.23009749,\n              0.04926291]), 'single-model_hurdle_gbt': array([0.1383829 , 0.07468236, 0.11601079, ..., 0.07626734, 0.21299947,\n              0.04231571]), 'two-model_hurdle_gbt': array([0.14535474, 0.09505733, 0.1458403 , ..., 0.09454845, 0.2221217 ,\n              0.06570478]), 'Conversion-Rate__': array([0.11926778, 0.11926778, 0.11926778, ..., 0.11926778, 0.11926778,\n              0.11926778])}, 'treatment_conversion': {'single-model_hurdle_gbt': array([0.05411653, 0.03402377, 0.03532839, ..., 0.01527045, 0.12491175,\n              0.0193234 ]), 'two-model_hurdle_gbt': array([0.06176223, 0.04349034, 0.06009413, ..., 0.02174019, 0.11672084,\n              0.0415525 ]), 'ATE__': array([0.04777018, 0.04777018, 0.04777018, ..., 0.04777018, 0.04777018,\n              0.04777018]), 'oracle__': array([ 0.00386651,  0.0463569 ,  0.0978901 , ..., -0.00077533,\n               0.10987957,  0.03647233])}, 'treatment_basket_value': {'single-model_hurdle_gbt': array([ 0.        ,  0.        , -0.23713432, ...,  0.        ,\n               0.        ,  0.        ]), 'two-model_hurdle_gbt': array([-0.51300113, -6.74313311,  3.30028081, ...,  0.41907245,\n               4.28404365, -7.21028259]), 'ATE__': array([-1.23124536, -1.23124536, -1.23124536, ..., -1.23124536,\n              -1.23124536, -1.23124536]), 'oracle__': array([ 4.38330004,  2.52312043,  1.91208703, ...,  2.78090877,\n              -0.63793225,  1.69015879])}, 'treatment_spending': {'single-model_hurdle_gbt': array([6.07977223, 4.30330166, 2.46086779, ..., 1.50990763, 9.78091466,\n              1.72383781]), 'two-model_outcome_gbt': array([ 5.13593348,  4.27730762,  6.24953487, ...,  2.19170404,\n              11.71950021,  4.18471695]), 'two-model_hurdle_gbt': array([ 6.76118005,  4.06848619,  5.54228372, ...,  2.20808192,\n              11.67476069,  3.44411022]), 'xbcf_outcome_xbcf': array([4.57678509, 4.43796956, 2.08251627, ..., 2.0480066 , 4.66463559,\n              4.42402401]), 'oracle__': array([ 0.9459487 ,  4.87410841,  6.56855907, ...,  0.08462564,\n              10.19744421,  3.36071428]), 'ATE__': array([4.5825366, 4.5825366, 4.5825366, ..., 4.5825366, 4.5825366,\n              4.5825366])}, 'control_predictions': {}, 'prediction_intervals': {0.05: defaultdict(<class 'dict'>, {'xbcf_outcome_xbcf': {'quantile_model': {'pred_low': array([-0.43957654, -0.36808815, -0.47686969, ..., -0.43233687,\n              -0.40400567, -0.37137331]), 'pred_high': array([17.8278504 ,  9.67928481,  6.48416449, ...,  4.70258506,\n              15.61925362,  9.67928481])}}, 'Agnostic_QR_two-model': {'quantile_model': {'pred_low': array([-0.81009951, -0.56407734, -0.36016884, ..., -0.68089303,\n              -0.60485144, -0.47786381]), 'pred_high': array([16.08798781, 13.22147917,  8.57248234, ..., 13.04875216,\n              12.0665702 , 10.03558416])}}, 'CP_two-model_NN': {'quantile_model': {'pred_low': array([-1.89977351, -1.90846942, -1.880927  , ..., -1.90945789,\n              -1.84091836, -1.9098003 ]), 'pred_high': array([19.85603843, 19.76907926, 20.0445035 , ..., 19.75919456,\n              20.4445899 , 19.75577054])}}, 'MAPIE_two-model_naive': {'quantile_model': {'pred_low': array([-1.87164979, -1.87153799, -1.85793077, ..., -1.89556729,\n              -1.79799922, -1.87178826]), 'pred_high': array([19.61667818, 19.61779619, 19.75386835, ..., 19.3775032 ,\n              20.35318392, 19.61529352])}}}), 0.32: defaultdict(<class 'dict'>, {'xbcf_outcome_xbcf': {'quantile_model': {'pred_low': array([2.38088709, 3.84854099, 1.54704946, ..., 1.58000726, 3.52413713,\n              3.88174054]), 'pred_high': array([8.99420644, 5.03907346, 2.62924007, ..., 2.50300463, 5.73831616,\n              4.97004541])}}, 'Agnostic_QR_two-model': {'quantile_model': {'pred_low': array([-22.65944821, -12.96415196,  -9.62423656, ...,  -9.36491645,\n              -21.95891776,  -4.84155452]), 'pred_high': array([19.35060697, 17.57401929, 26.01827349, ..., 13.62882731,\n              30.64661411, -4.90866148])}}, 'CP_two-model_NN': {'quantile_model': {'pred_low': array([-40.50205708, -37.4434247 , -33.6085577 , ..., -36.64704752,\n              -25.7050705 , -35.37304497]), 'pred_high': array([36.93534756, 39.99397993, 43.82884693, ..., 40.79035711,\n              51.73233414, 42.06435966])}}, 'MAPIE_two-model_naive': {'quantile_model': {'pred_low': array([-29.99532673, -30.35502595, -29.49698483, ..., -32.99353684,\n              -23.16929364, -30.77181939]), 'pred_high': array([39.91565306, 39.55595384, 40.41399496, ..., 36.91744295,\n              46.74168615, 39.1391604 ])}}})}, 'time_model': {'single-model_hurdle_gbt': 40.72458481788635, 'two-model_outcome_gbt': 34.166029930114746, 'two-model_hurdle_gbt': 40.74808740615845, 'xbcf_outcome_xbcf': 2214.4522058963776}, 'time_pi': {0.05: defaultdict(<class 'dict'>, {'xbcf_outcome_xbcf': 2214.4522058963776, 'QR_Agnostic': 2013.5616717338562, 'Agnostic_QR_two-model': 1882.4504063129425, 'CP_two-model_NN': 5199.428690671921, 'MAPIE_two-model_naive': 23.67677664756775}), 0.32: defaultdict(<class 'dict'>, {'xbcf_outcome_xbcf': 2214.4522058963776, 'QR_Agnostic': 1763.3494007587433, 'Agnostic_QR_two-model': 1643.8176383972168, 'CP_two-model_NN': 3916.162716150284, 'MAPIE_two-model_naive': 17.29732394218445})}},\n       {'idx': array([     2,      5,     16, ..., 119232, 119234, 119243]), 'conversion': {'single-model_outcome_gbt': array([0.08469919, 0.15588983, 0.08228347, ..., 0.134317  , 0.09354341,\n              0.17213483]), 'single-model_hurdle_gbt': array([0.07258841, 0.15255197, 0.08462409, ..., 0.13203025, 0.09497964,\n              0.19518221]), 'two-model_hurdle_gbt': array([0.0968424 , 0.11685526, 0.0963045 , ..., 0.11678809, 0.13529585,\n              0.15274162]), 'Conversion-Rate__': array([0.1192887, 0.1192887, 0.1192887, ..., 0.1192887, 0.1192887,\n              0.1192887])}, 'treatment_conversion': {'single-model_hurdle_gbt': array([0.03362792, 0.07023998, 0.01944346, ..., 0.07157514, 0.03804234,\n              0.07519041]), 'two-model_hurdle_gbt': array([0.04624686, 0.04282204, 0.02210437, ..., 0.06496443, 0.06294093,\n              0.04494639]), 'ATE__': array([0.04781211, 0.04781211, 0.04781211, ..., 0.04781211, 0.04781211,\n              0.04781211]), 'oracle__': array([ 0.0463569 ,  0.06689696, -0.00076798, ...,  0.07349067,\n               0.0627878 ,  0.09716138])}, 'treatment_basket_value': {'single-model_hurdle_gbt': array([0., 0., 0., ..., 0., 0., 0.]), 'two-model_hurdle_gbt': array([-8.28055699,  0.70936022,  3.22817391, ...,  1.00519982,\n              -6.04271245, -3.29624416]), 'ATE__': array([-0.97321032, -0.97321032, -0.97321032, ..., -0.97321032,\n              -0.97321032, -0.97321032]), 'oracle__': array([2.52312043, 0.3406405 , 3.10212736, ..., 1.40892709, 2.65699124,\n              3.76114992])}, 'treatment_spending': {'single-model_hurdle_gbt': array([4.29536897, 6.1342689 , 2.59132155, ..., 8.1448295 , 3.61620673,\n              7.08633751]), 'two-model_outcome_gbt': array([3.6653466 , 4.49406295, 2.74250796, ..., 7.02882186, 4.82885062,\n              5.02194786]), 'two-model_hurdle_gbt': array([4.17375978, 3.70703235, 2.85676321, ..., 7.16258194, 5.544214  ,\n              3.83872601]), 'xbcf_outcome_xbcf': array([4.65428049, 2.57744552, 2.20392512, ..., 8.67689051, 4.37945919,\n              2.85749252]), 'oracle__': array([ 4.87410841,  6.34200375,  0.02915919, ...,  8.47520398,\n               6.36147859, 10.71854847]), 'ATE__': array([4.61592487, 4.61592487, 4.61592487, ..., 4.61592487, 4.61592487,\n              4.61592487])}, 'control_predictions': {}, 'prediction_intervals': {0.05: defaultdict(<class 'dict'>, {'xbcf_outcome_xbcf': {'quantile_model': {'pred_low': array([-0.35528268, -0.37941035, -0.38255714, ..., -0.31281268,\n              -0.36055122, -0.3762035 ]), 'pred_high': array([ 8.3747628 ,  9.42572594,  5.12687163, ..., 14.82233176,\n               8.86218294, 10.27259869])}}, 'Agnostic_QR_two-model': {'quantile_model': {'pred_low': array([-0.57773647, -0.53694342, -0.82648337, ..., -0.71950347,\n              -0.66577101, -0.61650879]), 'pred_high': array([12.46026691, 12.39079778, 17.35687095, ..., 15.11975786,\n              12.4322638 , 13.79767541])}}, 'CP_two-model_NN': {'quantile_model': {'pred_low': array([-2.01646533, -2.04639651, -2.11734825, ..., -2.05739881,\n              -1.97785719, -2.01916869]), 'pred_high': array([20.84325233, 20.54394045, 19.83442307, ..., 20.43391747,\n              21.22933369, 20.81621866])}}, 'MAPIE_two-model_naive': {'quantile_model': {'pred_low': array([-1.86995613, -1.86808859, -1.88528274, ..., -1.84193666,\n              -1.86774866, -1.85876369]), 'pred_high': array([19.62522862, 19.64390403, 19.47196247, ..., 19.90542331,\n              19.64730329, 19.73715302])}}}), 0.32: defaultdict(<class 'dict'>, {'xbcf_outcome_xbcf': {'quantile_model': {'pred_low': array([4.12729068, 1.81427403, 1.74816124, ..., 8.02372791, 3.40889013,\n              1.85445741]), 'pred_high': array([5.19990354, 2.88214401, 2.77114416, ..., 9.28739061, 5.24447477,\n              3.7649716 ])}}, 'Agnostic_QR_two-model': {'quantile_model': {'pred_low': array([-11.7692927 ,  -7.54785861, -23.48549217, ..., -14.35558664,\n              -22.10816393, -15.96472321]), 'pred_high': array([13.69049555, 14.07025239, 29.38780756, ..., 19.79183474,\n               7.93032456, 13.03324108])}}, 'CP_two-model_NN': {'quantile_model': {'pred_low': array([-27.23894215, -30.84642601, -35.75134563, ..., -27.03060722,\n              -31.40362692, -22.68372679]), 'pred_high': array([44.07183743, 40.46435356, 35.55943394, ..., 44.28017235,\n              39.90715265, 48.62705278])}}, 'MAPIE_two-model_naive': {'quantile_model': {'pred_low': array([-31.19993264, -29.89867257, -32.91260335, ..., -27.38272084,\n              -30.44230081, -29.54256547]), 'pred_high': array([38.70511268, 40.00637275, 36.99244198, ..., 42.52232449,\n              39.46274451, 40.36247986])}}})}, 'time_model': {'single-model_hurdle_gbt': 41.36251258850098, 'two-model_outcome_gbt': 33.91624689102173, 'two-model_hurdle_gbt': 39.222628355026245, 'xbcf_outcome_xbcf': 2330.7009902000427}, 'time_pi': {0.05: defaultdict(<class 'dict'>, {'xbcf_outcome_xbcf': 2330.7009902000427, 'QR_Agnostic': 1990.2360146045685, 'Agnostic_QR_two-model': 1866.1728830337524, 'CP_two-model_NN': 4950.996340751648, 'MAPIE_two-model_naive': 20.673912525177002}), 0.32: defaultdict(<class 'dict'>, {'xbcf_outcome_xbcf': 2330.7009902000427, 'QR_Agnostic': 1628.0032267570496, 'Agnostic_QR_two-model': 1522.5284810066223, 'CP_two-model_NN': 4735.043426513672, 'MAPIE_two-model_naive': 19.726748943328857})}},\n       {'idx': array([     4,     10,     11, ..., 119237, 119241, 119242]), 'conversion': {'single-model_outcome_gbt': array([0.09966251, 0.12650443, 0.05918263, ..., 0.27593668, 0.11711752,\n              0.11306731]), 'single-model_hurdle_gbt': array([0.0725648 , 0.10155645, 0.05915394, ..., 0.23072722, 0.11346318,\n              0.10241647]), 'two-model_hurdle_gbt': array([0.09967043, 0.11352504, 0.07725021, ..., 0.21537856, 0.14322892,\n              0.12913677]), 'Conversion-Rate__': array([0.11926778, 0.11926778, 0.11926778, ..., 0.11926778, 0.11926778,\n              0.11926778])}, 'treatment_conversion': {'single-model_hurdle_gbt': array([0.02342648, 0.04004763, 0.01653439, ..., 0.12014946, 0.03962809,\n              0.04025952]), 'two-model_hurdle_gbt': array([0.03217104, 0.0282134 , 0.0294459 , ..., 0.12949966, 0.05376239,\n              0.0471747 ]), 'ATE__': array([0.04777018, 0.04777018, 0.04777018, ..., 0.04777018, 0.04777018,\n              0.04777018]), 'oracle__': array([ 0.03533416,  0.08240489, -0.00076798, ...,  0.10987957,\n               0.06781842,  0.04754174])}, 'treatment_basket_value': {'single-model_hurdle_gbt': array([ 0.        , -0.36410185,  0.        , ..., -0.86132121,\n               0.        , -0.86132121]), 'two-model_hurdle_gbt': array([  0.99299426, -12.03971536,  -5.72709438, ...,   6.77473786,\n               -1.68867875,   0.63065843]), 'ATE__': array([-1.01293058, -1.01293058, -1.01293058, ..., -1.01293058,\n              -1.01293058, -1.01293058]), 'oracle__': array([-0.12959499, -3.8125374 ,  3.10212736, ..., -0.63793225,\n              -0.18305433, -2.04634058])}, 'treatment_spending': {'single-model_hurdle_gbt': array([ 1.81496151,  3.55092273,  1.49412112, ..., 10.71689906,\n               3.82352419,  2.81042079]), 'two-model_outcome_gbt': array([ 3.44983279,  1.54923819,  1.73296294, ..., 12.005838  ,\n               6.38682123,  4.14619704]), 'two-model_hurdle_gbt': array([ 2.74621226,  1.4771476 ,  2.37091169, ..., 13.41977295,\n               4.96472607,  3.8067272 ]), 'xbcf_outcome_xbcf': array([3.79539601, 4.15932332, 3.70947844, ..., 4.99702921, 6.17724877,\n              2.97076218]), 'oracle__': array([ 2.78806036,  6.82057019,  0.3335798 , ..., 10.19744421,\n               7.37093672,  3.10359318]), 'ATE__': array([4.60152901, 4.60152901, 4.60152901, ..., 4.60152901, 4.60152901,\n              4.60152901])}, 'control_predictions': {}, 'prediction_intervals': {0.05: defaultdict(<class 'dict'>, {'xbcf_outcome_xbcf': {'quantile_model': {'pred_low': array([-0.60790728, -0.59852389, -0.59151022, ..., -0.58240051,\n              -0.5957399 , -0.63138452]), 'pred_high': array([13.1671056 , 13.56357278,  8.96828584, ..., 11.35951424,\n              21.67911648,  9.77192892])}}, 'Agnostic_QR_two-model': {'quantile_model': {'pred_low': array([-0.38374609, -0.65530944, -0.51248248, ..., -0.56188036,\n              -0.57154918, -0.46291111]), 'pred_high': array([ 8.42781395, 11.77971864, 10.96150388, ..., 11.58156746,\n              10.82397402, 10.86299568])}}, 'CP_two-model_NN': {'quantile_model': {'pred_low': array([-1.79628964, -1.79106789, -1.84953588, ..., -1.7661426 ,\n              -1.77362119, -1.811816  ]), 'pred_high': array([19.54394712, 19.59616466, 19.01148477, ..., 19.84541759,\n              19.77063165, 19.38868361])}}, 'MAPIE_two-model_naive': {'quantile_model': {'pred_low': array([-1.88217926, -1.88240971, -1.89394368, ..., -1.79857036,\n              -1.85293957, -1.86739322]), 'pred_high': array([19.41503724, 19.41273275, 19.2973931 , ..., 20.25112627,\n              19.70743417, 19.56289772])}}}), 0.32: defaultdict(<class 'dict'>, {'xbcf_outcome_xbcf': {'quantile_model': {'pred_low': array([1.79205363, 2.30731558, 2.33833313, ..., 4.16343718, 2.60901072,\n              0.4754712 ]), 'pred_high': array([ 5.69413265,  6.01536933,  4.96926076, ...,  5.88650504,\n              10.1330459 ,  4.90433459])}}, 'Agnostic_QR_two-model': {'quantile_model': {'pred_low': array([-10.84605796, -37.88922468, -17.81309054, ..., -18.81430289,\n              -13.06000316, -23.23373598]), 'pred_high': array([ 8.08590783, 21.13256843, 18.41815111, ..., 23.83583467,\n               8.87904006, 29.79582394])}}, 'CP_two-model_NN': {'quantile_model': {'pred_low': array([-25.87614822, -25.84429407, -28.0174284 , ..., -17.91448355,\n              -29.34433031, -25.97472382]), 'pred_high': array([30.06219864, 30.09405279, 27.92091846, ..., 38.02386332,\n              26.59401655, 29.96362305])}}, 'MAPIE_two-model_naive': {'quantile_model': {'pred_low': array([-32.15405661, -34.0343634 , -33.60995421, ..., -23.4632544 ,\n              -28.90913863, -29.9412983 ]), 'pred_high': array([38.21172548, 36.33141869, 36.75582788, ..., 46.90252769,\n              41.45664346, 40.42448379])}}})}, 'time_model': {'single-model_hurdle_gbt': 41.21664905548096, 'two-model_outcome_gbt': 33.420663356781006, 'two-model_hurdle_gbt': 38.79669690132141, 'xbcf_outcome_xbcf': 2240.421629190445}, 'time_pi': {0.05: defaultdict(<class 'dict'>, {'xbcf_outcome_xbcf': 2240.421629190445, 'QR_Agnostic': 1994.723167181015, 'Agnostic_QR_two-model': 1864.0439629554749, 'CP_two-model_NN': 5275.5896418094635, 'MAPIE_two-model_naive': 25.95646572113037}), 0.32: defaultdict(<class 'dict'>, {'xbcf_outcome_xbcf': 2240.421629190445, 'QR_Agnostic': 1791.868165254593, 'Agnostic_QR_two-model': 1672.9602954387665, 'CP_two-model_NN': 4856.895820617676, 'MAPIE_two-model_naive': 22.664212465286255})}},\n       {'idx': array([     5,      8,     10, ..., 119229, 119241, 119242]), 'conversion': {'single-model_outcome_gbt': array([0.15352802, 0.08033703, 0.14076863, ..., 0.12727368, 0.12947519,\n              0.13490532]), 'single-model_hurdle_gbt': array([0.15343971, 0.0932143 , 0.15863823, ..., 0.11253621, 0.12852958,\n              0.1049055 ]), 'two-model_hurdle_gbt': array([0.12107194, 0.11112535, 0.13198107, ..., 0.11014787, 0.14750217,\n              0.13467091]), 'Conversion-Rate__': array([0.11926778, 0.11926778, 0.11926778, ..., 0.11926778, 0.11926778,\n              0.11926778])}, 'treatment_conversion': {'single-model_hurdle_gbt': array([0.06270896, 0.05382339, 0.04467263, ..., 0.05499199, 0.03969924,\n              0.04418514]), 'two-model_hurdle_gbt': array([0.04518071, 0.05209634, 0.04150318, ..., 0.04669863, 0.06233497,\n              0.05377446]), 'ATE__': array([0.04777018, 0.04777018, 0.04777018, ..., 0.04777018, 0.04777018,\n              0.04777018]), 'oracle__': array([0.06689696, 0.07047183, 0.08240489, ..., 0.06422044, 0.06781842,\n              0.04754174])}, 'treatment_basket_value': {'single-model_hurdle_gbt': array([ 0.        , -0.37110914, -0.06172038, ...,  0.        ,\n              -0.06172038,  0.52981643]), 'two-model_hurdle_gbt': array([  1.06119644,   2.4878995 , -14.05829313, ...,  -2.86357068,\n               -5.35063908,  11.77294681]), 'ATE__': array([-1.00674794, -1.00674794, -1.00674794, ..., -1.00674794,\n              -1.00674794, -1.00674794]), 'oracle__': array([ 0.3406405 ,  2.37247673, -3.8125374 , ...,  1.36913749,\n              -0.18305433, -2.04634058])}, 'treatment_spending': {'single-model_hurdle_gbt': array([5.34487907, 4.21307657, 3.73574352, ..., 4.14239325, 3.73033021,\n              3.29142102]), 'two-model_outcome_gbt': array([ 5.06990048,  5.31022345, -0.78427107, ...,  3.53782374,\n               6.32754027,  3.33929733]), 'two-model_hurdle_gbt': array([3.92680605, 4.68139599, 2.34465978, ..., 3.32011192, 5.22877976,\n              5.57115621]), 'xbcf_outcome_xbcf': array([ 2.60754713,  3.98415841,  2.91715074, ...,  6.84553413,\n              12.78156362,  2.4825503 ]), 'oracle__': array([6.34200375, 4.6454862 , 6.82057019, ..., 4.69592018, 7.37093672,\n              3.10359318]), 'ATE__': array([4.59972697, 4.59972697, 4.59972697, ..., 4.59972697, 4.59972697,\n              4.59972697])}, 'control_predictions': {}, 'prediction_intervals': {0.05: defaultdict(<class 'dict'>, {'xbcf_outcome_xbcf': {'quantile_model': {'pred_low': array([-0.25259343, -0.23858609, -0.2764391 , ..., -0.21542547,\n              -0.22332032, -0.25942316]), 'pred_high': array([10.23098026, 11.67032902, 14.09964505, ..., 14.28542694,\n              34.9619476 ,  7.86979462])}}, 'Agnostic_QR_two-model': {'quantile_model': {'pred_low': array([-0.59869433, -0.27610544, -0.50263262, ..., -0.44541129,\n              -0.59292084, -0.40404715]), 'pred_high': array([15.03667936, 10.26878411, 10.42953267, ...,  7.11578953,\n              10.30400865, 10.1810033 ])}}, 'CP_two-model_NN': {'quantile_model': {'pred_low': array([-1.88789028, -1.89515776, -1.91138539, ..., -1.90368404,\n              -1.9211011 , -1.89515577]), 'pred_high': array([19.61042824, 19.53775349, 19.37547712, ..., 19.45249062,\n              19.27832003, 19.53777337])}}, 'MAPIE_two-model_naive': {'quantile_model': {'pred_low': array([-1.86782797, -1.8563104 , -1.92384506, ..., -1.8723654 ,\n              -1.83606754, -1.87894112]), 'pred_high': array([19.58241122, 19.69758689, 19.02224036, ..., 19.53703695,\n              19.90001552, 19.47127969])}}}), 0.32: defaultdict(<class 'dict'>, {'xbcf_outcome_xbcf': {'quantile_model': {'pred_low': array([1.92028282, 2.49348364, 0.96813231, ..., 6.19418522, 8.9062746 ,\n              1.92028282]), 'pred_high': array([ 3.03050118,  5.8166662 ,  5.27639735, ...,  7.9350724 ,\n              16.25035161,  2.99201106])}}, 'Agnostic_QR_two-model': {'quantile_model': {'pred_low': array([ -8.76026505, -11.5975531 , -39.75001479, ..., -18.24025239,\n              -19.40705925, -18.83837809]), 'pred_high': array([29.0914976 , 13.46414973, 10.80764879, ...,  5.43763861,\n               4.42755032, 28.26813385])}}, 'CP_two-model_NN': {'quantile_model': {'pred_low': array([-35.32422161, -28.56378603, -25.83893657, ..., -29.12434864,\n              -29.59681702, -27.65669441]), 'pred_high': array([37.21983814, 43.98027372, 46.70512319, ..., 43.41971111,\n              42.94724274, 44.88736534])}}, 'MAPIE_two-model_naive': {'quantile_model': {'pred_low': array([-30.05304945, -28.47441802, -34.46045329, ..., -30.40157013,\n              -27.40461556, -30.86801059]), 'pred_high': array([39.02419823, 40.60282967, 34.6167944 , ..., 38.67567755,\n              41.67263213, 38.2092371 ])}}})}, 'time_model': {'single-model_hurdle_gbt': 40.67642140388489, 'two-model_outcome_gbt': 33.76702904701233, 'two-model_hurdle_gbt': 39.70829200744629, 'xbcf_outcome_xbcf': 2315.5539166927338}, 'time_pi': {0.05: defaultdict(<class 'dict'>, {'xbcf_outcome_xbcf': 2315.5539166927338, 'QR_Agnostic': 1992.20032954216, 'Agnostic_QR_two-model': 1865.7670736312866, 'CP_two-model_NN': 5424.58603978157, 'MAPIE_two-model_naive': 26.944236278533936}), 0.32: defaultdict(<class 'dict'>, {'xbcf_outcome_xbcf': 2315.5539166927338, 'QR_Agnostic': 1852.612209558487, 'Agnostic_QR_two-model': 1742.5492842197418, 'CP_two-model_NN': 5466.315238237381, 'MAPIE_two-model_naive': 25.932146310806274})}},\n       {'idx': array([     1,      2,      8, ..., 119241, 119242, 119243]), 'conversion': {'single-model_outcome_gbt': array([0.14690737, 0.06976391, 0.13078611, ..., 0.13079349, 0.15824031,\n              0.20723787]), 'single-model_hurdle_gbt': array([0.15300056, 0.06340895, 0.08445145, ..., 0.1057472 , 0.1272038 ,\n              0.19970111]), 'two-model_hurdle_gbt': array([0.12741863, 0.09412279, 0.10722744, ..., 0.15978706, 0.13927811,\n              0.17022381]), 'Conversion-Rate__': array([0.11926778, 0.11926778, 0.11926778, ..., 0.11926778, 0.11926778,\n              0.11926778])}, 'treatment_conversion': {'single-model_hurdle_gbt': array([0.10854954, 0.0327236 , 0.04932073, ..., 0.03041409, 0.06011022,\n              0.08242708]), 'two-model_hurdle_gbt': array([0.07445506, 0.04084507, 0.05585062, ..., 0.073737  , 0.05058499,\n              0.05774092]), 'ATE__': array([0.04777018, 0.04777018, 0.04777018, ..., 0.04777018, 0.04777018,\n              0.04777018]), 'oracle__': array([0.09105945, 0.0463569 , 0.07047183, ..., 0.06781842, 0.04754174,\n              0.09716138])}, 'treatment_basket_value': {'single-model_hurdle_gbt': array([ 0.        ,  0.        ,  0.36198167, ...,  0.        ,\n              -0.89605845,  0.        ]), 'two-model_hurdle_gbt': array([-4.97743382, -8.05565505, -6.81093232, ..., -8.0481866 ,\n               2.74309823,  1.44491237]), 'ATE__': array([-1.33200747, -1.33200747, -1.33200747, ..., -1.33200747,\n              -1.33200747, -1.33200747]), 'oracle__': array([-4.03495504,  2.52312043,  2.37247673, ..., -0.18305433,\n              -2.04634058,  3.76114992])}, 'treatment_spending': {'single-model_hurdle_gbt': array([7.7292124 , 4.03031429, 3.79010256, ..., 2.7970657 , 4.47732029,\n              7.93327364]), 'two-model_outcome_gbt': array([8.16509396, 5.27549711, 5.4307411 , ..., 6.67117971, 5.18304154,\n              7.4593332 ]), 'two-model_hurdle_gbt': array([5.22738319, 3.6557975 , 4.2474262 , ..., 5.9549749 , 4.50528294,\n              5.5302165 ]), 'xbcf_outcome_xbcf': array([1.87406311, 5.15805174, 4.49365306, ..., 6.96516169, 1.19497687,\n              1.78735958]), 'oracle__': array([ 6.55993591,  4.87410841,  4.6454862 , ...,  7.37093672,\n               3.10359318, 10.71854847]), 'ATE__': array([4.5807623, 4.5807623, 4.5807623, ..., 4.5807623, 4.5807623,\n              4.5807623])}, 'control_predictions': {}, 'prediction_intervals': {0.05: defaultdict(<class 'dict'>, {'xbcf_outcome_xbcf': {'quantile_model': {'pred_low': array([-0.20676573, -0.15192427, -0.19094103, ..., -0.1539872 ,\n              -0.24112457, -0.20530243]), 'pred_high': array([13.75311813, 15.75270753, 15.74964965, ..., 25.67696828,\n               9.58552347, 14.8270281 ])}}, 'Agnostic_QR_two-model': {'quantile_model': {'pred_low': array([-0.41747686, -0.62696018, -0.35032738, ..., -0.65506258,\n              -0.44179748, -0.5910823 ]), 'pred_high': array([ 8.59721505, 13.06936207,  9.50131263, ..., 10.79544931,\n               9.71889931, 12.4277236 ])}}, 'CP_two-model_NN': {'quantile_model': {'pred_low': array([-1.89852652, -2.01374673, -1.97323999, ..., -1.99740514,\n              -1.97345386, -1.87955124]), 'pred_high': array([20.15077305, 18.99857092, 19.40363834, ..., 19.16198683,\n              19.40149965, 20.34052582])}}, 'MAPIE_two-model_naive': {'quantile_model': {'pred_low': array([-1.85028097, -1.86970651, -1.85852139, ..., -1.86472151,\n              -1.86750252, -1.84794333]), 'pred_high': array([19.88476274, 19.69050727, 19.80235854, ..., 19.74035735,\n              19.71254723, 19.90813914])}}}), 0.32: defaultdict(<class 'dict'>, {'xbcf_outcome_xbcf': {'quantile_model': {'pred_low': array([-0.73056139,  4.48744702,  3.31501161, ...,  5.19661331,\n              -1.85261841, -0.5557173 ]), 'pred_high': array([4.26641098, 5.96846678, 5.99670805, ..., 8.31728666, 2.90774555,\n              3.74902311])}}, 'Agnostic_QR_two-model': {'quantile_model': {'pred_low': array([-12.85775552, -16.07790424,  -8.59578244, ..., -15.3981558 ,\n              -20.56650093, -11.06009921]), 'pred_high': array([-1.98982593, 13.44824663, -6.11268404, ...,  8.1034449 ,\n              14.15982513, 16.2533083 ])}}, 'CP_two-model_NN': {'quantile_model': {'pred_low': array([-33.3394208 , -34.10104513, -34.90257931, ..., -35.76308203,\n              -37.49670982, -27.54873371]), 'pred_high': array([41.6918807 , 40.93025637, 40.12872219, ..., 39.26821947,\n              37.53459167, 47.48256779])}}, 'MAPIE_two-model_naive': {'quantile_model': {'pred_low': array([-28.26705342, -30.89751283, -28.87303915, ..., -29.4113857 ,\n              -30.19178647, -28.0027309 ]), 'pred_high': array([42.56759168, 39.93713226, 41.96160594, ..., 41.4232594 ,\n              40.64285863, 42.8319142 ])}}})}, 'time_model': {'single-model_hurdle_gbt': 34.55377435684204, 'two-model_outcome_gbt': 29.974426746368408, 'two-model_hurdle_gbt': 36.90011763572693, 'xbcf_outcome_xbcf': 2392.6114926338196}, 'time_pi': {0.05: defaultdict(<class 'dict'>, {'xbcf_outcome_xbcf': 2392.6114926338196, 'QR_Agnostic': 1981.5795640945435, 'Agnostic_QR_two-model': 1862.859617948532, 'CP_two-model_NN': 5997.263926267624, 'MAPIE_two-model_naive': 30.903806686401367}), 0.32: defaultdict(<class 'dict'>, {'xbcf_outcome_xbcf': 2392.6114926338196, 'QR_Agnostic': 1825.2166011333466, 'Agnostic_QR_two-model': 1710.903424501419, 'CP_two-model_NN': 5210.405442714691, 'MAPIE_two-model_naive': 27.56714177131653})}},\n       {'idx': array([     6,      8,     24, ..., 119231, 119235, 119240]), 'conversion': {'single-model_outcome_gbt': array([0.1561192 , 0.0845133 , 0.04146005, ..., 0.06866977, 0.09003707,\n              0.04444806]), 'single-model_hurdle_gbt': array([0.13859886, 0.11792255, 0.04106779, ..., 0.08082695, 0.08469234,\n              0.04054635]), 'two-model_hurdle_gbt': array([0.11835513, 0.10471615, 0.06307457, ..., 0.09517621, 0.09545417,\n              0.06044023]), 'Conversion-Rate__': array([0.1192887, 0.1192887, 0.1192887, ..., 0.1192887, 0.1192887,\n              0.1192887])}, 'treatment_conversion': {'single-model_hurdle_gbt': array([0.0337322 , 0.07543853, 0.01588861, ..., 0.01852042, 0.02511438,\n              0.01847755]), 'two-model_hurdle_gbt': array([0.02691669, 0.05533997, 0.03235979, ..., 0.0284456 , 0.02948109,\n              0.03308554]), 'ATE__': array([0.04781211, 0.04781211, 0.04781211, ..., 0.04781211, 0.04781211,\n              0.04781211]), 'oracle__': array([ 0.04991055,  0.07047183, -0.00076798, ..., -0.00076798,\n               0.03448152,  0.08402407])}, 'treatment_basket_value': {'single-model_hurdle_gbt': array([-0.6326008 ,  0.        ,  0.        , ...,  0.        ,\n               0.        , -0.27469659]), 'two-model_hurdle_gbt': array([  0.51128375,  -2.70878775,  -1.66898928, ...,   0.1482757 ,\n               -0.6290517 , -10.4643538 ]), 'ATE__': array([-1.04783027, -1.04783027, -1.04783027, ..., -1.04783027,\n              -1.04783027, -1.04783027]), 'oracle__': array([ 2.85774959,  2.37247673,  3.10212736, ...,  3.10212736,\n               0.77353928, -5.87056904])}, 'treatment_spending': {'single-model_hurdle_gbt': array([3.12874823, 5.42872384, 1.54538013, ..., 2.1310126 , 2.02320703,\n              1.61474491]), 'two-model_outcome_gbt': array([1.97748203, 6.54718455, 2.89366118, ..., 3.5039611 , 1.45951812,\n              2.83946034]), 'two-model_hurdle_gbt': array([2.67242521, 4.48826736, 3.14216389, ..., 3.13090972, 2.39376083,\n              2.56639822]), 'xbcf_outcome_xbcf': array([4.90303285, 1.55150987, 1.47300579, ..., 2.06073476, 3.16592105,\n              2.75278304]), 'oracle__': array([ 5.02971631,  4.6454862 , -0.02697155, ...,  0.05259155,\n               2.90981944,  7.16482553]), 'ATE__': array([4.60196851, 4.60196851, 4.60196851, ..., 4.60196851, 4.60196851,\n              4.60196851])}, 'control_predictions': {}, 'prediction_intervals': {0.05: defaultdict(<class 'dict'>, {'xbcf_outcome_xbcf': {'quantile_model': {'pred_low': array([-0.0930662 , -0.1374405 , -0.11630834, ..., -0.11494798,\n              -0.11443243, -0.10985594]), 'pred_high': array([11.39750048,  6.59194191,  4.2567909 , ...,  5.68224763,\n               9.90513427,  8.40789591])}}, 'Agnostic_QR_two-model': {'quantile_model': {'pred_low': array([-0.57191186, -0.44294939, -0.57206845, ..., -0.71468123,\n              -0.53180044, -0.50773971]), 'pred_high': array([11.14054667,  9.45540167, 11.84855867, ..., 15.47338418,\n               8.67423324, 10.08316477])}}, 'CP_two-model_NN': {'quantile_model': {'pred_low': array([-1.95982186, -1.9245036 , -1.98239216, ..., -1.92956245,\n              -1.86615815, -1.98283897]), 'pred_high': array([19.84203868, 20.1952213 , 19.6163357 , ..., 20.14463272,\n              20.77867579, 19.61186758])}}, 'MAPIE_two-model_naive': {'quantile_model': {'pred_low': array([-1.90046584, -1.85724504, -1.88690031, ..., -1.88603577,\n              -1.90207829, -1.8891427 ]), 'pred_high': array([19.35419801, 19.786406  , 19.48985332, ..., 19.49849871,\n              19.33807348, 19.46742935])}}}), 0.32: defaultdict(<class 'dict'>, {'xbcf_outcome_xbcf': {'quantile_model': {'pred_low': array([ 3.82868809, -0.22333887,  0.76278141, ...,  1.04539764,\n               1.46339474,  1.49320958]), 'pred_high': array([5.75614546, 2.98456161, 2.11857196, ..., 2.99361691, 5.08026115,\n              4.88420792])}}, 'Agnostic_QR_two-model': {'quantile_model': {'pred_low': array([ -8.06031719,  -9.36038036,  -3.84486986, ..., -18.68546423,\n              -16.56927797, -10.27916614]), 'pred_high': array([10.06092596,  6.71323126,  7.76216598, ..., 22.47987058,\n               9.72979187, -3.62201854])}}, 'CP_two-model_NN': {'quantile_model': {'pred_low': array([-30.55951118, -39.47059631, -33.6259551 , ..., -29.62124777,\n              -29.1913352 , -31.79105139]), 'pred_high': array([53.22214699, 44.31106186, 50.15570307, ..., 54.1604104 ,\n              54.59032297, 51.99060678])}}, 'MAPIE_two-model_naive': {'quantile_model': {'pred_low': array([-33.76929998, -29.42276807, -32.39428912, ..., -31.887636  ,\n              -33.69561047, -32.3983499 ]), 'pred_high': array([36.82311777, 41.16964967, 38.19812863, ..., 38.70478175,\n              36.89680728, 38.19406785])}}})}, 'time_model': {'single-model_hurdle_gbt': 39.93206477165222, 'two-model_outcome_gbt': 33.798216581344604, 'two-model_hurdle_gbt': 39.271268129348755, 'xbcf_outcome_xbcf': 2281.743799686432}, 'time_pi': {0.05: defaultdict(<class 'dict'>, {'xbcf_outcome_xbcf': 2281.743799686432, 'QR_Agnostic': 2046.6626648902893, 'Agnostic_QR_two-model': 1912.4591889381409, 'CP_two-model_NN': 6244.577921390533, 'MAPIE_two-model_naive': 32.98764085769653}), 0.32: defaultdict(<class 'dict'>, {'xbcf_outcome_xbcf': 2281.743799686432, 'QR_Agnostic': 1762.17560172081, 'Agnostic_QR_two-model': 1655.1902792453766, 'CP_two-model_NN': 5122.078167676926, 'MAPIE_two-model_naive': 29.39033269882202})}},\n       {'idx': array([     0,      5,      6, ..., 119222, 119235, 119244]), 'conversion': {'single-model_outcome_gbt': array([0.12048076, 0.13760269, 0.14419355, ..., 0.07846784, 0.08552407,\n              0.04850258]), 'single-model_hurdle_gbt': array([0.14650198, 0.1508612 , 0.13414143, ..., 0.06228859, 0.07836502,\n              0.04481215]), 'two-model_hurdle_gbt': array([0.13511352, 0.1187211 , 0.12673247, ..., 0.09173627, 0.09535642,\n              0.06282459]), 'Conversion-Rate__': array([0.1192887, 0.1192887, 0.1192887, ..., 0.1192887, 0.1192887,\n              0.1192887])}, 'treatment_conversion': {'single-model_hurdle_gbt': array([0.06236229, 0.06623427, 0.04419866, ..., 0.0338046 , 0.02069238,\n              0.02514814]), 'two-model_hurdle_gbt': array([0.06005099, 0.04606488, 0.0402454 , ..., 0.05128331, 0.03010442,\n              0.04115331]), 'ATE__': array([0.04781211, 0.04781211, 0.04781211, ..., 0.04781211, 0.04781211,\n              0.04781211]), 'oracle__': array([0.00386651, 0.06689696, 0.04991055, ..., 0.0463569 , 0.03448152,\n              0.03647233])}, 'treatment_basket_value': {'single-model_hurdle_gbt': array([0.        , 0.35357768, 0.        , ..., 0.        , 0.        ,\n              0.00806638]), 'two-model_hurdle_gbt': array([ -1.87249958,   0.78385273,   0.68365028, ..., -16.27753931,\n               -0.5384613 ,  -9.79337662]), 'ATE__': array([-1.05740311, -1.05740311, -1.05740311, ..., -1.05740311,\n              -1.05740311, -1.05740311]), 'oracle__': array([4.38330004, 0.3406405 , 2.85774959, ..., 2.52312043, 0.77353928,\n              1.69015879])}, 'treatment_spending': {'single-model_hurdle_gbt': array([7.0926987 , 5.7398139 , 4.08238779, ..., 3.92404983, 1.6893173 ,\n              2.35276086]), 'two-model_outcome_gbt': array([6.16828457, 4.2468531 , 2.85955093, ..., 4.61835705, 2.87525901,\n              3.45664841]), 'two-model_hurdle_gbt': array([6.50565004, 3.98631873, 3.97624952, ..., 4.10785154, 2.44613281,\n              3.30631386]), 'xbcf_outcome_xbcf': array([4.51053687, 2.73831419, 5.60006166, ..., 3.78262801, 4.48201715,\n              3.83308622]), 'oracle__': array([0.9459487 , 6.34200375, 5.02971631, ..., 5.12024061, 2.90981944,\n              3.36071428]), 'ATE__': array([4.6030721, 4.6030721, 4.6030721, ..., 4.6030721, 4.6030721,\n              4.6030721])}, 'control_predictions': {}, 'prediction_intervals': {0.05: defaultdict(<class 'dict'>, {'xbcf_outcome_xbcf': {'quantile_model': {'pred_low': array([-2.52900893, -2.55164606, -2.53641147, ..., -2.53526069,\n              -2.54270356, -2.53526069]), 'pred_high': array([10.31330718,  8.24451193, 11.70651012, ...,  7.56198594,\n              10.64360215,  7.6896883 ])}}, 'Agnostic_QR_two-model': {'quantile_model': {'pred_low': array([-0.80555364, -0.53904905, -0.62237367, ..., -0.64726327,\n              -0.5336864 , -0.51746588]), 'pred_high': array([16.60112361, 13.93982502, 10.69945087, ..., 14.22153839,\n              10.16942141,  9.97625636])}}, 'CP_two-model_NN': {'quantile_model': {'pred_low': array([-1.97480445, -1.85629139, -1.91148816, ..., -1.99546985,\n              -1.92436989, -1.98558324]), 'pred_high': array([19.81028833, 20.99541893, 20.44345121, ..., 19.60363435,\n              20.31463392, 19.70250044])}}, 'MAPIE_two-model_naive': {'quantile_model': {'pred_low': array([-1.8561357 , -1.87448964, -1.88011216, ..., -1.86601846,\n              -1.88668786, -1.87180976]), 'pred_high': array([19.65596705, 19.47242758, 19.41620237, ..., 19.55713939,\n              19.35044541, 19.49922638])}}}), 0.32: defaultdict(<class 'dict'>, {'xbcf_outcome_xbcf': {'quantile_model': {'pred_low': array([2.7912577 , 0.85426868, 3.50594525, ..., 2.51367513, 2.24664546,\n              2.56694872]), 'pred_high': array([5.76520206, 5.19404495, 7.90538716, ..., 4.89427784, 6.47607937,\n              4.93555463])}}, 'Agnostic_QR_two-model': {'quantile_model': {'pred_low': array([-26.79196218,  -9.4620294 , -13.15933462, ..., -17.51875126,\n               -5.92203336,  -4.78287853]), 'pred_high': array([20.415551  , 31.58001066,  8.76537478, ..., 14.58087725,\n              15.98600141, -4.87890678])}}, 'CP_two-model_NN': {'quantile_model': {'pred_low': array([-24.53568268, -34.07421207, -30.14577103, ..., -33.17717695,\n              -35.01476431, -34.33645344]), 'pred_high': array([48.62554359, 39.0870142 , 43.01545525, ..., 39.98404932,\n              38.14646196, 38.82477283])}}, 'MAPIE_two-model_naive': {'quantile_model': {'pred_low': array([-28.32972454, -31.02747393, -31.8519804 , ..., -30.3657187 ,\n              -32.60935379, -31.47579385]), 'pred_high': array([41.55202658, 38.8542772 , 38.02977072, ..., 39.51603242,\n              37.27239733, 38.40595727])}}})}, 'time_model': {'single-model_hurdle_gbt': 43.609150409698486, 'two-model_outcome_gbt': 32.06920146942139, 'two-model_hurdle_gbt': 37.309069871902466, 'xbcf_outcome_xbcf': 2288.857710123062}, 'time_pi': {0.05: defaultdict(<class 'dict'>, {'xbcf_outcome_xbcf': 2288.857710123062, 'QR_Agnostic': 1979.0942149162292, 'Agnostic_QR_two-model': 1860.1948421001434, 'CP_two-model_NN': 5818.319100141525, 'MAPIE_two-model_naive': 29.511504411697388}), 0.32: defaultdict(<class 'dict'>, {'xbcf_outcome_xbcf': 2288.857710123062, 'QR_Agnostic': 1853.0924324989319, 'Agnostic_QR_two-model': 1735.1061294078827, 'CP_two-model_NN': 5596.278919458389, 'MAPIE_two-model_naive': 31.031150102615356})}},\n       {'idx': array([     0,      3,      7, ..., 119220, 119238, 119244]), 'conversion': {'single-model_outcome_gbt': array([0.12859755, 0.2039043 , 0.17564101, ..., 0.12804496, 0.11140602,\n              0.05242041]), 'single-model_hurdle_gbt': array([0.13319351, 0.09969046, 0.18731232, ..., 0.15002391, 0.09543518,\n              0.04284024]), 'two-model_hurdle_gbt': array([0.13575058, 0.14213653, 0.16081719, ..., 0.14467703, 0.11054961,\n              0.06204662]), 'Conversion-Rate__': array([0.1192887, 0.1192887, 0.1192887, ..., 0.1192887, 0.1192887,\n              0.1192887])}, 'treatment_conversion': {'single-model_hurdle_gbt': array([0.04868601, 0.03513052, 0.09913459, ..., 0.06900576, 0.04783276,\n              0.02268201]), 'two-model_hurdle_gbt': array([0.05427217, 0.06330082, 0.08788203, ..., 0.0577624 , 0.0514103 ,\n              0.03740311]), 'ATE__': array([0.04781211, 0.04781211, 0.04781211, ..., 0.04781211, 0.04781211,\n              0.04781211]), 'oracle__': array([0.00386651, 0.03677752, 0.08063181, ..., 0.0826351 , 0.08099362,\n              0.03647233])}, 'treatment_basket_value': {'single-model_hurdle_gbt': array([ 0.        , -1.42616175,  0.41449664, ...,  0.        ,\n              -0.23882911,  0.        ]), 'two-model_hurdle_gbt': array([ 1.23598647, -5.21506829,  1.45350252, ...,  0.46394141,\n              -6.27948747, -7.09939775]), 'ATE__': array([-0.77959019, -0.77959019, -0.77959019, ..., -0.77959019,\n              -0.77959019, -0.77959019]), 'oracle__': array([ 4.38330004, -2.704291  , -3.37782033, ...,  0.03197376,\n              -6.80910365,  1.69015879])}, 'treatment_spending': {'single-model_hurdle_gbt': array([ 5.53388335,  1.98506281, 10.08069902, ...,  7.46447648,\n               4.13966492,  2.07944   ]), 'two-model_outcome_gbt': array([3.95517456, 7.68339619, 8.33030165, ..., 6.10022104, 4.32386144,\n              4.01379672]), 'two-model_hurdle_gbt': array([6.06340586, 4.08261842, 8.73573577, ..., 6.31488552, 4.2479021 ,\n              3.04401635]), 'xbcf_outcome_xbcf': array([3.70204474, 4.93717463, 9.67021253, ..., 3.29344934, 4.65759569,\n              4.42726747]), 'oracle__': array([0.9459487 , 1.78194073, 7.37846812, ..., 8.71378213, 6.26414532,\n              3.36071428]), 'ATE__': array([4.63375537, 4.63375537, 4.63375537, ..., 4.63375537, 4.63375537,\n              4.63375537])}, 'control_predictions': {}, 'prediction_intervals': {0.05: defaultdict(<class 'dict'>, {'xbcf_outcome_xbcf': {'quantile_model': {'pred_low': array([-0.1622409 , -0.18346691, -0.10692927, ..., -0.16772403,\n              -0.1533615 , -0.15167492]), 'pred_high': array([10.96373176, 19.67752368, 17.92238921, ...,  8.65312587,\n              11.63441426,  9.10222054])}}, 'Agnostic_QR_two-model': {'quantile_model': {'pred_low': array([-0.76007688, -0.3303379 , -0.60032775, ..., -0.74753416,\n              -0.57545677, -0.51719554]), 'pred_high': array([15.52916933,  5.61886036, 13.43436493, ..., 14.97557639,\n              10.38616414, 10.20811338])}}, 'CP_two-model_NN': {'quantile_model': {'pred_low': array([-1.96835983, -1.77307087, -1.8526758 , ..., -1.8275952 ,\n              -1.92147264, -1.92843543]), 'pred_high': array([19.4189652 , 21.37185476, 20.57580547, ..., 20.82661152,\n              19.88783703, 19.81820922])}}, 'MAPIE_two-model_naive': {'quantile_model': {'pred_low': array([-1.86777333, -1.87273084, -1.82784164, ..., -1.86207475,\n              -1.87161476, -1.87871642]), 'pred_high': array([19.58565196, 19.53607688, 19.98496881, ..., 19.64263774,\n              19.54723768, 19.4762211 ])}}}), 0.32: defaultdict(<class 'dict'>, {'xbcf_outcome_xbcf': {'quantile_model': {'pred_low': array([2.72504816, 1.64251929, 8.47044329, ..., 2.21585473, 3.56660047,\n              3.68360201]), 'pred_high': array([ 4.99376454,  7.74701461, 10.57947145, ...,  5.13851636,\n               5.65419261,  5.234667  ])}}, 'Agnostic_QR_two-model': {'quantile_model': {'pred_low': array([-22.26709137, -23.16491932, -13.47232014, ..., -21.9173526 ,\n               -7.65735747,  -4.00214018]), 'pred_high': array([19.03253479,  5.16232705, 16.89477508, ..., 23.58225501,\n               5.83221103, -4.9197602 ])}}, 'CP_two-model_NN': {'quantile_model': {'pred_low': array([-32.09545565, -43.72847176, -29.79506397, ..., -23.94504166,\n              -32.23909092, -33.87419724]), 'pred_high': array([42.94364119, 31.31062508, 45.24403286, ..., 51.09405518,\n              42.80000591, 41.16489959])}}, 'MAPIE_two-model_naive': {'quantile_model': {'pred_low': array([-31.44611835, -30.55398316, -26.63285889, ..., -29.24042183,\n              -30.51017551, -31.9076019 ]), 'pred_high': array([39.35097169, 40.24310688, 44.16423115, ..., 41.55666821,\n              40.28691453, 38.88948814])}}})}, 'time_model': {'single-model_hurdle_gbt': 42.139628648757935, 'two-model_outcome_gbt': 34.045284271240234, 'two-model_hurdle_gbt': 39.222630977630615, 'xbcf_outcome_xbcf': 2281.7281777858734}, 'time_pi': {0.05: defaultdict(<class 'dict'>, {'xbcf_outcome_xbcf': 2281.7281777858734, 'QR_Agnostic': 1996.1341364383698, 'Agnostic_QR_two-model': 1867.1773405075073, 'CP_two-model_NN': 6405.388152122498, 'MAPIE_two-model_naive': 33.676363468170166}), 0.32: defaultdict(<class 'dict'>, {'xbcf_outcome_xbcf': 2281.7281777858734, 'QR_Agnostic': 1721.3471653461456, 'Agnostic_QR_two-model': 1617.6062459945679, 'CP_two-model_NN': 5331.385390043259, 'MAPIE_two-model_naive': 35.73827362060547})}},\n       {'idx': array([     4,      9,     10, ..., 119230, 119232, 119238]), 'conversion': {'single-model_outcome_gbt': array([0.09021538, 0.1605987 , 0.13681917, ..., 0.07896087, 0.1456172 ,\n              0.0969795 ]), 'single-model_hurdle_gbt': array([0.09706428, 0.11643803, 0.11889446, ..., 0.09775985, 0.13278551,\n              0.07396631]), 'two-model_hurdle_gbt': array([0.09700969, 0.1185988 , 0.11798168, ..., 0.10923458, 0.11905309,\n              0.1076635 ]), 'Conversion-Rate__': array([0.11926778, 0.11926778, 0.11926778, ..., 0.11926778, 0.11926778,\n              0.11926778])}, 'treatment_conversion': {'single-model_hurdle_gbt': array([0.03360446, 0.06978471, 0.04318272, ..., 0.03547318, 0.07076265,\n              0.02677613]), 'two-model_hurdle_gbt': array([0.03132644, 0.06564107, 0.0390169 , ..., 0.05557409, 0.06603063,\n              0.04943371]), 'ATE__': array([0.04777018, 0.04777018, 0.04777018, ..., 0.04777018, 0.04777018,\n              0.04777018]), 'oracle__': array([0.03533416, 0.11871202, 0.08240489, ..., 0.00386651, 0.07349067,\n              0.08099362])}, 'treatment_basket_value': {'single-model_hurdle_gbt': array([0., 0., 0., ..., 0., 0., 0.]), 'two-model_hurdle_gbt': array([  2.91110453,   0.25551457, -16.91582896, ...,  -1.16779245,\n                0.02707646,  -4.29806893]), 'ATE__': array([-0.9202906, -0.9202906, -0.9202906, ..., -0.9202906, -0.9202906,\n              -0.9202906]), 'oracle__': array([-0.12959499, -4.12790629, -3.8125374 , ...,  4.38330004,\n               1.40892709, -6.80910365])}, 'treatment_spending': {'single-model_hurdle_gbt': array([2.61859918, 5.01015195, 4.11876943, ..., 2.55077928, 7.90702178,\n              2.35997525]), 'two-model_outcome_gbt': array([ 2.82896731,  4.41374889, -0.77794599, ...,  4.02508193,\n               7.16847796,  4.22730528]), 'two-model_hurdle_gbt': array([2.78077375, 5.13187238, 2.0717667 , ..., 4.31402891, 7.19122826,\n              4.30474858]), 'xbcf_outcome_xbcf': array([2.41575237, 1.5223718 , 2.30958108, ..., 4.02874107, 8.33742432,\n              4.09964599]), 'oracle__': array([2.78806036, 7.77346601, 6.82057019, ..., 0.44178689, 8.47520398,\n              6.26414532]), 'ATE__': array([4.62880767, 4.62880767, 4.62880767, ..., 4.62880767, 4.62880767,\n              4.62880767])}, 'control_predictions': {}, 'prediction_intervals': {0.05: defaultdict(<class 'dict'>, {'xbcf_outcome_xbcf': {'quantile_model': {'pred_low': array([-0.14661595, -0.24886328, -0.17045898, ..., -0.1307458 ,\n              -0.08516247, -0.12726344]), 'pred_high': array([ 8.29271835, 11.48252497,  9.78879946, ...,  8.77449493,\n              13.9079872 ,  8.20880937])}}, 'Agnostic_QR_two-model': {'quantile_model': {'pred_low': array([-0.44669831, -0.35381276, -0.67186186, ..., -0.55653989,\n              -0.7328063 , -0.57363574]), 'pred_high': array([ 9.40759465,  6.69432881, 10.71356663, ...,  7.2902326 ,\n              14.93680676,  9.1930715 ])}}, 'CP_two-model_NN': {'quantile_model': {'pred_low': array([-1.93040641, -1.92568363, -1.95205794, ..., -1.98233444,\n              -1.89760763, -1.81945158]), 'pred_high': array([19.76981745, 19.81704526, 19.5533021 , ..., 19.25053711,\n              20.09780521, 20.87936578])}}, 'MAPIE_two-model_naive': {'quantile_model': {'pred_low': array([-1.89174009, -1.86946082, -1.92352547, ..., -1.88248493,\n              -1.84455309, -1.86611357]), 'pred_high': array([19.44990443, 19.67269711, 19.13205066, ..., 19.54245608,\n              19.92177448, 19.70616968])}}}), 0.32: defaultdict(<class 'dict'>, {'xbcf_outcome_xbcf': {'quantile_model': {'pred_low': array([ 1.27532359, -3.05852113, -0.62375631, ...,  2.85614981,\n               7.47435678,  3.19909149]), 'pred_high': array([4.25531588, 5.49345893, 4.85103348, ..., 5.07509163, 9.11125679,\n              4.80870744])}}, 'Agnostic_QR_two-model': {'quantile_model': {'pred_low': array([ -7.41255439,  -6.19132212, -43.21299977, ...,  -9.84806676,\n              -18.27143758, -14.52004924]), 'pred_high': array([12.67804033,  3.41289198, 18.42128851, ..., -7.73509287,\n              20.0458608 ,  7.78227354])}}, 'CP_two-model_NN': {'quantile_model': {'pred_low': array([-34.52165842, -34.05351448, -37.50677204, ..., -34.44863033,\n              -28.0749979 , -29.35329247]), 'pred_high': array([34.95354986, 35.4216938 , 31.96843624, ..., 35.02657795,\n              41.40021038, 40.12191582])}}, 'MAPIE_two-model_naive': {'quantile_model': {'pred_low': array([-32.16433023, -30.9233874 , -36.73373908, ..., -31.78897546,\n              -28.02721987, -30.44092818]), 'pred_high': array([39.16491167, 40.4058545 , 34.59550282, ..., 39.54026644,\n              43.30202203, 40.88831372])}}})}, 'time_model': {'single-model_hurdle_gbt': 44.70278573036194, 'two-model_outcome_gbt': 32.45978403091431, 'two-model_hurdle_gbt': 37.262197494506836, 'xbcf_outcome_xbcf': 2283.4591925144196}, 'time_pi': {0.05: defaultdict(<class 'dict'>, {'xbcf_outcome_xbcf': 2283.4591925144196, 'QR_Agnostic': 1998.706247806549, 'Agnostic_QR_two-model': 1868.749239206314, 'CP_two-model_NN': 6539.66152882576, 'MAPIE_two-model_naive': 34.0118465423584}), 0.32: defaultdict(<class 'dict'>, {'xbcf_outcome_xbcf': 2283.4591925144196, 'QR_Agnostic': 1664.5325798988342, 'Agnostic_QR_two-model': 1566.04021859169, 'CP_two-model_NN': 5294.471354961395, 'MAPIE_two-model_naive': 34.69952726364136})}},\n       {'idx': array([     7,     20,     27, ..., 119219, 119226, 119240]), 'conversion': {'single-model_outcome_gbt': array([0.1730479 , 0.08536984, 0.05262427, ..., 0.27579555, 0.13483381,\n              0.04380441]), 'single-model_hurdle_gbt': array([0.17925433, 0.06235383, 0.04637576, ..., 0.26807377, 0.12533191,\n              0.03972444]), 'two-model_hurdle_gbt': array([0.15352707, 0.09167189, 0.0640589 , ..., 0.21033942, 0.12285091,\n              0.06125324]), 'Conversion-Rate__': array([0.1192887, 0.1192887, 0.1192887, ..., 0.1192887, 0.1192887,\n              0.1192887])}, 'treatment_conversion': {'single-model_hurdle_gbt': array([0.09956567, 0.03717832, 0.02435242, ..., 0.1135662 , 0.0485656 ,\n              0.01912598]), 'two-model_hurdle_gbt': array([0.08666197, 0.04970713, 0.0375705 , ..., 0.09670456, 0.05933449,\n              0.03220639]), 'ATE__': array([0.04781211, 0.04781211, 0.04781211, ..., 0.04781211, 0.04781211,\n              0.04781211]), 'oracle__': array([0.08063181, 0.09922467, 0.03448152, ..., 0.09699393, 0.09596619,\n              0.08402407])}, 'treatment_basket_value': {'single-model_hurdle_gbt': array([-3.34163189,  0.        ,  0.        , ...,  0.        ,\n              -0.82754994, -0.60459003]), 'two-model_hurdle_gbt': array([ -6.05981272,   0.71578076,  -0.81610298, ...,  -2.24651863,\n              -20.05725827,  -7.9562789 ]), 'ATE__': array([-1.79191068, -1.79191068, -1.79191068, ..., -1.79191068,\n              -1.79191068, -1.79191068]), 'oracle__': array([-3.37782033,  1.32345037,  0.77353928, ...,  4.07034762,\n              -5.17168604, -5.87056904])}, 'treatment_spending': {'single-model_hurdle_gbt': array([10.70874368,  3.8840722 ,  2.2856044 , ..., 12.46591625,\n               4.0465555 ,  1.71373216]), 'two-model_outcome_gbt': array([ 9.12052561,  4.76533973,  4.00580304, ..., 13.18321804,\n               1.07528834,  3.2193403 ]), 'two-model_hurdle_gbt': array([ 7.95015794,  4.65939746,  3.48229363, ..., 10.11786967,\n               3.6509879 ,  2.60471189]), 'xbcf_outcome_xbcf': array([5.10385804, 3.37163467, 3.95791292, ..., 7.84407883, 0.39650615,\n              4.73225507]), 'oracle__': array([ 7.37846812,  9.87617341,  3.29160078, ..., 11.55922633,\n               7.12676252,  7.16482553]), 'ATE__': array([4.5384271, 4.5384271, 4.5384271, ..., 4.5384271, 4.5384271,\n              4.5384271])}, 'control_predictions': {}, 'prediction_intervals': {0.05: defaultdict(<class 'dict'>, {'xbcf_outcome_xbcf': {'quantile_model': {'pred_low': array([-0.08808454, -0.10984571, -0.0962885 , ..., -0.06329818,\n              -0.15651524, -0.10205019]), 'pred_high': array([11.12428507,  9.94787873,  7.94296605, ..., 18.39175573,\n               7.24662452, 12.22316855])}}, 'Agnostic_QR_two-model': {'quantile_model': {'pred_low': array([-0.63877543, -0.56711874, -0.48990715, ..., -0.73153792,\n              -0.58255888, -0.49599803]), 'pred_high': array([13.88175462, 12.92745705,  9.94620014, ..., 14.87234975,\n              11.66267268, 10.26527656])}}, 'CP_two-model_NN': {'quantile_model': {'pred_low': array([-1.89171494, -1.91671716, -1.90181111, ..., -1.72936483,\n              -1.84034447, -1.91781209]), 'pred_high': array([19.94446869, 19.69444642, 19.84350696, ..., 21.5679697 ,\n              20.45817332, 19.6834971 ])}}, 'MAPIE_two-model_naive': {'quantile_model': {'pred_low': array([-1.83104461, -1.88069116, -1.87516046, ..., -1.78572329,\n              -1.89637284, -1.8859942 ]), 'pred_high': array([20.01366542, 19.51719988, 19.57250687, ..., 20.46687861,\n              19.36038308, 19.46416952])}}}), 0.32: defaultdict(<class 'dict'>, {'xbcf_outcome_xbcf': {'quantile_model': {'pred_low': array([ 3.45903514,  2.45209067,  3.11266843, ...,  6.25895381,\n              -2.10842416,  3.123087  ]), 'pred_high': array([ 6.74351451,  4.11749844,  4.86450491, ..., 10.0316119 ,\n               3.25015528,  6.58826064])}}, 'Agnostic_QR_two-model': {'quantile_model': {'pred_low': array([-10.76619787,  -8.23106045,  -5.05419431, ..., -21.51730917,\n              -25.17483584,  -9.92908704]), 'pred_high': array([13.72368837, 16.20249782, -3.05974493, ..., 22.67625523,\n               7.5751855 , -0.53871484])}}, 'CP_two-model_NN': {'quantile_model': {'pred_low': array([-26.11665726, -27.75500393, -22.88733292, ..., -24.765522  ,\n              -16.91422844, -26.35246229]), 'pred_high': array([29.73081207, 28.0924654 , 32.96013641, ..., 31.08194733,\n              38.93324089, 29.49500704])}}, 'MAPIE_two-model_naive': {'quantile_model': {'pred_low': array([-25.64811858, -31.42094388, -31.66590223, ..., -22.59005221,\n              -33.70665461, -32.62980266]), 'pred_high': array([45.13006448, 39.35723919, 39.11228084, ..., 48.18813085,\n              37.07152845, 38.14838041])}}})}, 'time_model': {'single-model_hurdle_gbt': 42.182989835739136, 'two-model_outcome_gbt': 32.310630798339844, 'two-model_hurdle_gbt': 37.496551752090454, 'xbcf_outcome_xbcf': 2320.027796983719}, 'time_pi': {0.05: defaultdict(<class 'dict'>, {'xbcf_outcome_xbcf': 2320.027796983719, 'QR_Agnostic': 1998.8596799373627, 'Agnostic_QR_two-model': 1871.314196586609, 'CP_two-model_NN': 5603.367068052292, 'MAPIE_two-model_naive': 28.10023021697998}), 0.32: defaultdict(<class 'dict'>, {'xbcf_outcome_xbcf': 2320.027796983719, 'QR_Agnostic': 1855.0094954967499, 'Agnostic_QR_two-model': 1735.0087625980377, 'CP_two-model_NN': 6090.785386323929, 'MAPIE_two-model_naive': 36.74797320365906})}},\n       {'idx': array([     1,     21,     28, ..., 119228, 119233, 119239]), 'conversion': {'single-model_outcome_gbt': array([0.11526231, 0.16950504, 0.10445054, ..., 0.05841157, 0.10080764,\n              0.37050875]), 'single-model_hurdle_gbt': array([0.1186141 , 0.17332983, 0.11083222, ..., 0.06266069, 0.09725443,\n              0.45570759]), 'two-model_hurdle_gbt': array([0.12652265, 0.19238559, 0.11385462, ..., 0.08144269, 0.10368754,\n              0.27881879]), 'Conversion-Rate__': array([0.11926778, 0.11926778, 0.11926778, ..., 0.11926778, 0.11926778,\n              0.11926778])}, 'treatment_conversion': {'single-model_hurdle_gbt': array([0.06364558, 0.08822312, 0.074184  , ..., 0.02561555, 0.05321601,\n              0.12822217]), 'two-model_hurdle_gbt': array([0.0709245 , 0.10229873, 0.06637243, ..., 0.03540071, 0.0550835 ,\n              0.0860497 ]), 'ATE__': array([0.04777018, 0.04777018, 0.04777018, ..., 0.04777018, 0.04777018,\n              0.04777018]), 'oracle__': array([0.09105945, 0.08474153, 0.09116666, ..., 0.01136079, 0.06422044,\n              0.05235969])}, 'treatment_basket_value': {'single-model_hurdle_gbt': array([ 0.        , -0.88233767,  0.        , ...,  0.        ,\n               0.        , -0.29302255]), 'two-model_hurdle_gbt': array([-0.11376181, -2.33401311, -2.90208706, ...,  1.65395969,\n              -0.75565988,  2.71465167]), 'ATE__': array([-2.29642616, -2.29642616, -2.29642616, ..., -2.29642616,\n              -2.29642616, -2.29642616]), 'oracle__': array([-4.03495504,  2.97392466,  2.11111076, ...,  3.13065113,\n               1.36913749, -2.87048356])}, 'treatment_spending': {'single-model_hurdle_gbt': array([ 4.54079854,  7.5563092 ,  7.25410244, ...,  2.36354041,\n               5.21601196, 16.10294621]), 'two-model_outcome_gbt': array([ 4.76494943,  7.84830218,  5.91250435, ...,  2.30711873,\n               6.23787842, 12.01952533]), 'two-model_hurdle_gbt': array([ 5.42667063,  9.21544374,  5.91290511, ...,  3.32293116,\n               5.28296939, 11.51437442]), 'xbcf_outcome_xbcf': array([ 2.9940837 ,  5.94549652,  6.61992897, ...,  2.44363908,\n               6.59961882, 12.89084397]), 'oracle__': array([6.55993591, 6.90254847, 8.63071358, ..., 1.12175844, 6.29015809,\n              5.27443365]), 'ATE__': array([4.49267165, 4.49267165, 4.49267165, ..., 4.49267165, 4.49267165,\n              4.49267165])}, 'control_predictions': {}, 'prediction_intervals': {0.05: defaultdict(<class 'dict'>, {'xbcf_outcome_xbcf': {'quantile_model': {'pred_low': array([-0.83980746, -0.59669976, -0.50021977, ..., -0.78837832,\n              -0.47451518, -1.00603443]), 'pred_high': array([11.84507314, 16.22496941, 14.81358752, ...,  6.74889763,\n              14.80187036, 43.56180132])}}, 'Agnostic_QR_two-model': {'quantile_model': {'pred_low': array([-0.47110904, -0.45407126, -0.5433995 , ..., -0.53264829,\n              -0.61223366, -1.18759177]), 'pred_high': array([ 8.40590782, 12.00556731, 10.33725709, ...,  9.96374984,\n              12.52533304, 22.87954997])}}, 'CP_two-model_NN': {'quantile_model': {'pred_low': array([-1.99018256, -1.89289696, -1.99932936, ..., -1.99186057,\n              -1.97526425, -1.84506224]), 'pred_high': array([20.11535277, 21.08820875, 20.0238847 , ..., 20.09857268,\n              20.26453581, 21.56655593])}}, 'MAPIE_two-model_naive': {'quantile_model': {'pred_low': array([-1.86558403, -1.84450177, -1.85695332, ..., -1.89296499,\n              -1.8563029 , -1.79687148]), 'pred_high': array([19.65340231, 19.86422493, 19.73970942, ..., 19.3795927 ,\n              19.74621356, 20.34052781])}}}), 0.32: defaultdict(<class 'dict'>, {'xbcf_outcome_xbcf': {'quantile_model': {'pred_low': array([1.85717062, 4.4638574 , 6.1099755 , ..., 1.88943708, 6.1099755 ,\n              6.15168843]), 'pred_high': array([ 4.50000186,  7.72233178,  7.41950658, ...,  2.99405183,\n               7.41950658, 17.35558403])}}, 'Agnostic_QR_two-model': {'quantile_model': {'pred_low': array([ -5.57964915, -11.48343458,  -2.99005901, ...,  -2.18904181,\n               -4.58639234, -72.8431552 ]), 'pred_high': array([ 6.15846778, 16.37482949,  8.99018146, ...,  2.20880636,\n              13.17538696, 78.21828927])}}, 'CP_two-model_NN': {'quantile_model': {'pred_low': array([-35.34811831, -32.04095387, -31.95230842, ..., -37.27596545,\n              -32.97352982, -13.45357323]), 'pred_high': array([39.58441305, 42.89157748, 42.98022294, ..., 37.6565659 ,\n              41.95900154, 61.47895813])}}, 'MAPIE_two-model_naive': {'quantile_model': {'pred_low': array([-30.41858366, -27.30864953, -29.19814614, ..., -33.04999308,\n              -29.07491206, -25.94781349]), 'pred_high': array([40.29230713, 43.40224126, 41.51274465, ..., 37.66089772,\n              41.63597873, 44.7630773 ])}}})}, 'time_model': {'single-model_hurdle_gbt': 42.073628664016724, 'two-model_outcome_gbt': 32.624539852142334, 'two-model_hurdle_gbt': 37.73498249053955, 'xbcf_outcome_xbcf': 2348.6414206027985}, 'time_pi': {0.05: defaultdict(<class 'dict'>, {'xbcf_outcome_xbcf': 2348.6414206027985, 'QR_Agnostic': 1988.3989017009735, 'Agnostic_QR_two-model': 1863.9547419548035, 'CP_two-model_NN': 5966.222732067108, 'MAPIE_two-model_naive': 29.80594754219055}), 0.32: defaultdict(<class 'dict'>, {'xbcf_outcome_xbcf': 2348.6414206027985, 'QR_Agnostic': 1834.1983153820038, 'Agnostic_QR_two-model': 1717.7424111366272, 'CP_two-model_NN': 5947.523942232132, 'MAPIE_two-model_naive': 39.24555706977844})}},\n       {'idx': array([    12,     17,     27, ..., 119224, 119228, 119233]), 'conversion': {'single-model_outcome_gbt': array([0.04315881, 0.08277536, 0.04372067, ..., 0.23414514, 0.05867925,\n              0.12448109]), 'single-model_hurdle_gbt': array([0.04631559, 0.11922723, 0.04147434, ..., 0.2263423 , 0.06271543,\n              0.1023611 ]), 'two-model_hurdle_gbt': array([0.06701618, 0.11419256, 0.06058152, ..., 0.18436431, 0.08306319,\n              0.10699514]), 'Conversion-Rate__': array([0.1192887, 0.1192887, 0.1192887, ..., 0.1192887, 0.1192887,\n              0.1192887])}, 'treatment_conversion': {'single-model_hurdle_gbt': array([0.0106092 , 0.04137092, 0.01913243, ..., 0.0863481 , 0.02279074,\n              0.0544098 ]), 'two-model_hurdle_gbt': array([0.01797342, 0.04184541, 0.03418967, ..., 0.06053613, 0.03783111,\n              0.05126379]), 'ATE__': array([0.04781211, 0.04781211, 0.04781211, ..., 0.04781211, 0.04781211,\n              0.04781211]), 'oracle__': array([0.00908851, 0.00848336, 0.03448152, ..., 0.09368831, 0.01136079,\n              0.06422044])}, 'treatment_basket_value': {'single-model_hurdle_gbt': array([-0.5698816,  0.       ,  0.       , ...,  0.       ,  0.       ,\n               0.       ]), 'two-model_hurdle_gbt': array([-4.33289929,  9.79962088,  1.02543053, ..., -2.9879057 ,\n               1.02739882,  0.28004962]), 'ATE__': array([-1.56147523, -1.56147523, -1.56147523, ..., -1.56147523,\n              -1.56147523, -1.56147523]), 'oracle__': array([2.40406638, 5.37398109, 0.77353928, ..., 2.06742039, 3.13065113,\n              1.36913749])}, 'treatment_spending': {'single-model_hurdle_gbt': array([0.96176378, 2.72100064, 1.80059855, ..., 8.58345438, 2.12275423,\n              5.25839436]), 'two-model_outcome_gbt': array([0.518161  , 3.4851162 , 3.5417281 , ..., 4.98694298, 3.23691424,\n              5.70226203]), 'two-model_hurdle_gbt': array([1.43817947, 4.32479187, 3.23527096, ..., 5.77547172, 3.52945172,\n              4.981285  ]), 'xbcf_outcome_xbcf': array([1.66167044, 4.52341931, 4.23612308, ..., 5.2419022 , 1.75902847,\n              6.70235615]), 'oracle__': array([0.89352626, 0.88133756, 3.29160078, ..., 9.27127095, 1.12175844,\n              6.29015809]), 'ATE__': array([4.56345567, 4.56345567, 4.56345567, ..., 4.56345567, 4.56345567,\n              4.56345567])}, 'control_predictions': {}, 'prediction_intervals': {0.05: defaultdict(<class 'dict'>, {'xbcf_outcome_xbcf': {'quantile_model': {'pred_low': array([-0.43909909, -0.41462423, -0.37047673, ..., -0.43247384,\n              -0.43605662, -0.30762233]), 'pred_high': array([ 6.66903471,  9.63517264,  7.40001875, ..., 13.41489054,\n               6.66903471, 11.39832429])}}, 'Agnostic_QR_two-model': {'quantile_model': {'pred_low': array([-0.52486745, -0.5034562 , -0.5071749 , ..., -0.76223718,\n              -0.49417208, -0.62113501]), 'pred_high': array([ 9.22552588,  7.92406099,  9.20629749, ..., 14.29314497,\n              10.66445213, 12.01085103])}}, 'CP_two-model_NN': {'quantile_model': {'pred_low': array([-1.73928311, -1.78665891, -1.88176865, ..., -1.6816622 ,\n              -1.72973693, -1.72786569]), 'pred_high': array([20.50292997, 20.02917197, 19.07807462, ..., 21.07913914,\n              20.59839182, 20.6171042 ])}}, 'MAPIE_two-model_naive': {'quantile_model': {'pred_low': array([-1.91081919, -1.88423154, -1.88463938, ..., -1.86245758,\n              -1.89088507, -1.85464497]), 'pred_high': array([19.21260025, 19.47847677, 19.4743984 , ..., 19.69621634,\n              19.41194149, 19.77434247])}}}), 0.32: defaultdict(<class 'dict'>, {'xbcf_outcome_xbcf': {'quantile_model': {'pred_low': array([0.62977836, 3.66921776, 3.7024324 , ..., 1.40584868, 0.70286008,\n              5.95750986]), 'pred_high': array([2.36661767, 5.69818723, 4.79635745, ..., 8.79359107, 2.52675249,\n              7.44884975])}}, 'Agnostic_QR_two-model': {'quantile_model': {'pred_low': array([ -3.76331277, -17.51497825,  -5.90940982, ..., -14.72695708,\n               -2.21099202,  -5.99025447]), 'pred_high': array([ 1.0597212 , 14.63714529, -2.39503739, ..., 23.53260008,\n               3.70178489, 14.4170758 ])}}, 'CP_two-model_NN': {'quantile_model': {'pred_low': array([-34.83164287, -31.62079334, -36.55999303, ..., -29.17799187,\n              -35.98941994, -28.5477562 ]), 'pred_high': array([38.31633687, 41.52718639, 36.58798671, ..., 43.96998787,\n              37.1585598 , 44.60022354])}}, 'MAPIE_two-model_naive': {'quantile_model': {'pred_low': array([-35.50672231, -31.34164196, -31.49876131, ..., -29.11886989,\n              -32.36749773, -30.55115954]), 'pred_high': array([35.03019002, 39.19527037, 39.03815102, ..., 41.41804244,\n              38.1694146 , 39.98575279])}}})}, 'time_model': {'single-model_hurdle_gbt': 29.23760437965393, 'two-model_outcome_gbt': 17.841043710708618, 'two-model_hurdle_gbt': 19.38796043395996, 'xbcf_outcome_xbcf': 1364.5455193519592}, 'time_pi': {0.05: defaultdict(<class 'dict'>, {'xbcf_outcome_xbcf': 1364.5455193519592, 'QR_Agnostic': 1033.0694873332977, 'Agnostic_QR_two-model': 968.0616431236267, 'CP_two-model_NN': 3768.247068166733, 'MAPIE_two-model_naive': 39.768306732177734}), 0.32: defaultdict(<class 'dict'>, {'xbcf_outcome_xbcf': 1364.5455193519592, 'QR_Agnostic': 2140.9209558963776, 'Agnostic_QR_two-model': 2007.1126732826233, 'CP_two-model_NN': 5201.078049182892, 'MAPIE_two-model_naive': 17.530752897262573})}},\n       {'idx': array([     6,      7,      9, ..., 119238, 119240, 119243]), 'conversion': {'single-model_outcome_gbt': array([0.16137067, 0.17007708, 0.18192951, ..., 0.0985079 , 0.04459906,\n              0.21511697]), 'single-model_hurdle_gbt': array([0.15565936, 0.17380266, 0.13215048, ..., 0.08081773, 0.04252474,\n              0.17943379]), 'two-model_hurdle_gbt': array([0.12150987, 0.14364372, 0.11155396, ..., 0.10824716, 0.06093731,\n              0.17550171]), 'Conversion-Rate__': array([0.1192887, 0.1192887, 0.1192887, ..., 0.1192887, 0.1192887,\n              0.1192887])}, 'treatment_conversion': {'single-model_hurdle_gbt': array([0.04554334, 0.08148854, 0.0777048 , ..., 0.03842688, 0.01935066,\n              0.07127738]), 'two-model_hurdle_gbt': array([0.03481909, 0.0708507 , 0.06054912, ..., 0.05013966, 0.03238431,\n              0.07016165]), 'ATE__': array([0.04781211, 0.04781211, 0.04781211, ..., 0.04781211, 0.04781211,\n              0.04781211]), 'oracle__': array([0.04991055, 0.08063181, 0.11871202, ..., 0.08099362, 0.08402407,\n              0.09716138])}, 'treatment_basket_value': {'single-model_hurdle_gbt': array([ 0.        ,  0.        ,  0.        , ..., -0.03928115,\n              -0.40681931,  0.        ]), 'two-model_hurdle_gbt': array([ -0.15292205, -10.27677994,  -0.63871523, ...,  -4.21802855,\n               -7.1564397 ,   0.38902273]), 'ATE__': array([-1.44254033, -1.44254033, -1.44254033, ..., -1.44254033,\n              -1.44254033, -1.44254033]), 'oracle__': array([ 2.85774959, -3.37782033, -4.12790629, ..., -6.80910365,\n              -5.87056904,  3.76114992])}, 'treatment_spending': {'single-model_hurdle_gbt': array([4.46293661, 9.08849499, 5.37716087, ..., 3.37225874, 1.72908032,\n              6.99838683]), 'two-model_outcome_gbt': array([2.35704516, 6.49381028, 4.32997413, ..., 4.97916257, 2.93893132,\n              6.94735785]), 'two-model_hurdle_gbt': array([3.34342472, 6.10857789, 4.64969755, ..., 4.34789987, 2.69789536,\n              6.59261373]), 'xbcf_outcome_xbcf': array([4.47915552, 4.86702488, 2.49128212, ..., 5.75478558, 2.7685341 ,\n              3.79276522]), 'oracle__': array([ 5.02971631,  7.37846812,  7.77346601, ...,  6.26414532,\n               7.16482553, 10.71854847]), 'ATE__': array([4.55723655, 4.55723655, 4.55723655, ..., 4.55723655, 4.55723655,\n              4.55723655])}, 'control_predictions': {}, 'prediction_intervals': {0.05: defaultdict(<class 'dict'>, {'xbcf_outcome_xbcf': {'quantile_model': {'pred_low': array([-0.15283426, -0.12660794, -0.18729072, ..., -0.1325506 ,\n              -0.1465972 , -0.13993582]), 'pred_high': array([10.80343694, 10.80343694, 10.00826576, ..., 11.26938456,\n               7.27814704,  9.46671361])}}, 'Agnostic_QR_two-model': {'quantile_model': {'pred_low': array([-0.57326377, -0.55313173, -0.31361826, ..., -0.54997463,\n              -0.46669508, -0.5506757 ]), 'pred_high': array([11.07248006, 15.31394344,  7.57546709, ..., 10.70152229,\n              10.0512718 , 12.72906261])}}, 'CP_two-model_NN': {'quantile_model': {'pred_low': array([-1.89127243, -1.84616853, -1.7864163 , ..., -1.99523927,\n              -1.91257802, -1.91744399]), 'pred_high': array([21.54316258, 21.99420149, 22.59172382, ..., 20.50349417,\n              21.33010664, 21.28144691])}}, 'MAPIE_two-model_naive': {'quantile_model': {'pred_low': array([-1.88872112, -1.84586444, -1.86774157, ..., -1.85992865,\n              -1.88037046, -1.84166689]), 'pred_high': array([19.32299349, 19.75156037, 19.53278899, ..., 19.61091827,\n              19.40650011, 19.79353588])}}}), 0.32: defaultdict(<class 'dict'>, {'xbcf_outcome_xbcf': {'quantile_model': {'pred_low': array([ 2.74994375,  3.21231325, -0.51708524, ...,  4.21820663,\n               1.30193069,  1.8112027 ]), 'pred_high': array([7.53206037, 7.55851139, 4.83696403, ..., 7.86350759, 3.81446678,\n              5.14441253])}}, 'Agnostic_QR_two-model': {'quantile_model': {'pred_low': array([-15.85043578,  -8.03451839,  -8.68718357, ..., -11.44985742,\n              -10.89623888, -13.87707511]), 'pred_high': array([ 7.82911307, 16.79175096,  3.51640626, ...,  8.39175217,\n              -4.05514781, 14.5535944 ])}}, 'CP_two-model_NN': {'quantile_model': {'pred_low': array([-32.97813797, -31.88412476, -32.27667308, ..., -34.31903362,\n              -32.70974851, -32.07629299]), 'pred_high': array([36.12288666, 37.21689987, 36.82435155, ..., 34.781991  ,\n              36.39127612, 37.02473164])}}, 'MAPIE_two-model_naive': {'quantile_model': {'pred_low': array([-32.73599947, -29.43379413, -30.95974012, ..., -30.46319509,\n              -32.39476476, -28.74469182]), 'pred_high': array([38.31847489, 41.62068024, 40.09473425, ..., 40.59127928,\n              38.6597096 , 42.30978255])}}})}, 'time_model': {'single-model_hurdle_gbt': 30.854673385620117, 'two-model_outcome_gbt': 19.678927183151245, 'two-model_hurdle_gbt': 21.790297985076904, 'xbcf_outcome_xbcf': 1507.595844745636}, 'time_pi': {0.05: defaultdict(<class 'dict'>, {'xbcf_outcome_xbcf': 1507.595844745636, 'QR_Agnostic': 2158.693208694458, 'Agnostic_QR_two-model': 2010.7848453521729, 'CP_two-model_NN': 1543.506065607071, 'MAPIE_two-model_naive': 33.76015877723694}), 0.32: defaultdict(<class 'dict'>, {'xbcf_outcome_xbcf': 1507.595844745636, 'QR_Agnostic': 1540.4058923721313, 'Agnostic_QR_two-model': 1448.12095952034, 'CP_two-model_NN': 5301.589902162552, 'MAPIE_two-model_naive': 31.266127586364746})}},\n       {'idx': array([     1,      3,      4, ..., 119231, 119232, 119239]), 'conversion': {'single-model_outcome_gbt': array([0.11195477, 0.16748025, 0.08687361, ..., 0.07337075, 0.15239145,\n              0.30599164]), 'single-model_hurdle_gbt': array([0.09609832, 0.12073614, 0.07734167, ..., 0.07987086, 0.14664306,\n              0.43028942]), 'two-model_hurdle_gbt': array([0.12188332, 0.13458535, 0.09715473, ..., 0.09610739, 0.12238521,\n              0.26079074]), 'Conversion-Rate__': array([0.1192887, 0.1192887, 0.1192887, ..., 0.1192887, 0.1192887,\n              0.1192887])}, 'treatment_conversion': {'single-model_hurdle_gbt': array([0.04121535, 0.04110106, 0.0258977 , ..., 0.02095973, 0.08704808,\n              0.12029696]), 'two-model_hurdle_gbt': array([0.06274705, 0.05493708, 0.03498112, ..., 0.03014313, 0.06923357,\n              0.05241895]), 'ATE__': array([0.04781211, 0.04781211, 0.04781211, ..., 0.04781211, 0.04781211,\n              0.04781211]), 'oracle__': array([ 0.09105945,  0.03677752,  0.03533416, ..., -0.00076798,\n               0.07349067,  0.05235969])}, 'treatment_basket_value': {'single-model_hurdle_gbt': array([-0.25959494,  0.        , -0.25959494, ...,  0.        ,\n               0.        , -1.08879989]), 'two-model_hurdle_gbt': array([ -2.99515014,  -4.41080347,   1.61499859, ...,   2.64015778,\n               -1.21667255, -10.7933619 ]), 'ATE__': array([-0.86818096, -0.86818096, -0.86818096, ..., -0.86818096,\n              -0.86818096, -0.86818096]), 'oracle__': array([-4.03495504, -2.704291  , -0.12959499, ...,  3.10212736,\n               1.40892709, -2.87048356])}, 'treatment_spending': {'single-model_hurdle_gbt': array([ 2.89146391,  2.43281959,  1.91098562, ...,  2.55798113,\n               9.8262594 , 14.56032403]), 'two-model_outcome_gbt': array([ 6.81082972,  1.84381089,  2.04084628, ...,  3.69849672,\n               7.21590264, -0.43232256]), 'two-model_hurdle_gbt': array([4.53662768, 3.58876136, 3.02706251, ..., 3.55131205, 7.41674348,\n              4.11120436]), 'xbcf_outcome_xbcf': array([-1.14469982,  4.86370407,  2.52652137, ...,  2.59763917,\n               8.54866618, 11.39492367]), 'oracle__': array([6.55993591, 1.78194073, 2.78806036, ..., 0.05259155, 8.47520398,\n              5.27443365]), 'ATE__': array([4.64289362, 4.64289362, 4.64289362, ..., 4.64289362, 4.64289362,\n              4.64289362])}, 'control_predictions': {}, 'prediction_intervals': {0.05: defaultdict(<class 'dict'>, {'xbcf_outcome_xbcf': {'quantile_model': {'pred_low': array([-0.66415755, -0.49675526, -0.50686353, ..., -0.46639905,\n              -0.24954439, -0.40174838]), 'pred_high': array([ 5.62622281, 36.40683658, 18.49375249, ..., 12.82581436,\n              31.19840689, 60.94011269])}}, 'Agnostic_QR_two-model': {'quantile_model': {'pred_low': array([-0.4272306 , -0.35396694, -0.49202769, ..., -0.69800398,\n              -0.73338909, -1.15593367]), 'pred_high': array([ 8.9763195 ,  6.63702075, 10.30300737, ..., 17.43432321,\n              15.45257695, 21.26702343])}}, 'CP_two-model_NN': {'quantile_model': {'pred_low': array([-1.95970861, -1.8431685 , -1.96622125, ..., -1.93588661,\n              -1.89675767, -1.98689175]), 'pred_high': array([19.57055302, 20.73595419, 19.50542665, ..., 19.80877304,\n              20.20006247, 19.29872169])}}, 'MAPIE_two-model_naive': {'quantile_model': {'pred_low': array([-1.86298106, -1.90870451, -1.90220073, ..., -1.88395981,\n              -1.84512054, -1.91054084]), 'pred_high': array([19.74181449, 19.28458003, 19.3496178 , ..., 19.532027  ,\n              19.92041974, 19.26621667])}}}), 0.32: defaultdict(<class 'dict'>, {'xbcf_outcome_xbcf': {'quantile_model': {'pred_low': array([-2.40450817,  2.72144984,  1.44152559, ...,  1.91865834,\n               7.61527672,  6.7741082 ]), 'pred_high': array([-0.01961484,  6.92603315,  3.63993052, ...,  3.2622284 ,\n               9.39808731, 15.93516358])}}, 'Agnostic_QR_two-model': {'quantile_model': {'pred_low': array([ -6.98863232, -12.70955325, -16.49419576, ..., -17.60119902,\n              -18.16297555, -80.4538996 ]), 'pred_high': array([ 4.16197333,  7.22262889, 15.05161914, ..., 20.18381538,\n              17.94702611, 68.27079272])}}, 'CP_two-model_NN': {'quantile_model': {'pred_low': array([-37.54998064,   1.33941507, -39.04453373, ..., -37.34084129,\n              -33.09847832, -79.32122612]), 'pred_high': array([40.87491941, 79.76431513, 39.38036633, ..., 41.08405876,\n              45.32642174, -0.89632607])}}, 'MAPIE_two-model_naive': {'quantile_model': {'pred_low': array([-29.74768139, -32.39052138, -33.24905508, ..., -31.8430196 ,\n              -28.15928026, -34.74287502]), 'pred_high': array([41.07181016, 38.42897016, 37.57043647, ..., 38.97647194,\n              42.66021129, 36.07661652])}}})}, 'time_model': {'single-model_hurdle_gbt': 29.235828161239624, 'two-model_outcome_gbt': 17.371442317962646, 'two-model_hurdle_gbt': 19.369290351867676, 'xbcf_outcome_xbcf': 1376.596758365631}, 'time_pi': {0.05: defaultdict(<class 'dict'>, {'xbcf_outcome_xbcf': 1376.596758365631, 'QR_Agnostic': 1681.483392715454, 'Agnostic_QR_two-model': 1565.0201933383942, 'CP_two-model_NN': 1572.0040833950043, 'MAPIE_two-model_naive': 35.38841891288757}), 0.32: defaultdict(<class 'dict'>, {'xbcf_outcome_xbcf': 1376.596758365631, 'QR_Agnostic': 1985.4889714717865, 'Agnostic_QR_two-model': 1863.7273910045624, 'CP_two-model_NN': 6079.052624940872, 'MAPIE_two-model_naive': 31.265576601028442})}},\n       {'idx': array([     2,      6,      8, ..., 119240, 119241, 119244]), 'conversion': {'single-model_outcome_gbt': array([0.07846544, 0.14089482, 0.117437  , ..., 0.04264535, 0.15824372,\n              0.04364305]), 'single-model_hurdle_gbt': array([0.07044318, 0.14953682, 0.11046793, ..., 0.03945294, 0.10550245,\n              0.04009816]), 'two-model_hurdle_gbt': array([0.09522092, 0.12138279, 0.11234553, ..., 0.05808474, 0.14059621,\n              0.06223558]), 'Conversion-Rate__': array([0.11926778, 0.11926778, 0.11926778, ..., 0.11926778, 0.11926778,\n              0.11926778])}, 'treatment_conversion': {'single-model_hurdle_gbt': array([0.030686  , 0.03985965, 0.06060829, ..., 0.01610499, 0.0308596 ,\n              0.01682144]), 'two-model_hurdle_gbt': array([0.04520568, 0.03535134, 0.0638905 , ..., 0.03008119, 0.04367928,\n              0.03923202]), 'ATE__': array([0.04777018, 0.04777018, 0.04777018, ..., 0.04777018, 0.04777018,\n              0.04777018]), 'oracle__': array([0.0463569 , 0.04991055, 0.07047183, ..., 0.08402407, 0.06781842,\n              0.03647233])}, 'treatment_basket_value': {'single-model_hurdle_gbt': array([-0.35964527,  0.        , -1.21181501, ...,  0.        ,\n              -0.3231742 ,  0.        ]), 'two-model_hurdle_gbt': array([ -5.04504433,   0.58034412,  -0.64840776, ..., -10.06589702,\n               -2.85524447,  -8.81615973]), 'ATE__': array([-1.02910367, -1.02910367, -1.02910367, ..., -1.02910367,\n              -1.02910367, -1.02910367]), 'oracle__': array([ 2.52312043,  2.85774959,  2.37247673, ..., -5.87056904,\n              -0.18305433,  1.69015879])}, 'treatment_spending': {'single-model_hurdle_gbt': array([3.39849332, 3.70545868, 4.05400212, ..., 1.45374291, 2.93211242,\n              1.54374781]), 'two-model_outcome_gbt': array([4.3548626 , 3.21115546, 5.56385849, ..., 2.06280719, 5.20367071,\n              4.24538421]), 'two-model_hurdle_gbt': array([4.25311273, 3.47111441, 5.20867928, ..., 2.33036414, 3.82494686,\n              3.18124693]), 'xbcf_outcome_xbcf': array([5.14764133, 7.42403992, 3.97510273, ..., 2.33419893, 9.36658726,\n              5.02259344]), 'oracle__': array([4.87410841, 5.02971631, 4.6454862 , ..., 7.16482553, 7.37093672,\n              3.36071428]), 'ATE__': array([4.58287883, 4.58287883, 4.58287883, ..., 4.58287883, 4.58287883,\n              4.58287883])}, 'control_predictions': {}, 'prediction_intervals': {0.05: defaultdict(<class 'dict'>, {'xbcf_outcome_xbcf': {'quantile_model': {'pred_low': array([-0.1529414 , -0.18717571, -0.24716593, ..., -0.22846011,\n              -0.1480604 , -0.15722645]), 'pred_high': array([18.80860576, 28.39219879, 17.78652862, ..., 15.21474037,\n              39.18194504, 17.61798497])}}, 'Agnostic_QR_two-model': {'quantile_model': {'pred_low': array([-0.53367019, -0.61290742, -0.3491347 , ..., -0.51481576,\n              -0.5412271 , -0.50918347]), 'pred_high': array([13.71864925, 11.83390228,  8.66499275, ..., 10.52757849,\n              12.31457327, 10.28402907])}}, 'CP_two-model_NN': {'quantile_model': {'pred_low': array([-1.88208272, -1.82894544, -1.87584051, ..., -1.92626286,\n              -1.83778768, -1.90693288]), 'pred_high': array([19.8664165 , 20.39778924, 19.92883856, ..., 19.42461507,\n              20.30936685, 19.61791484])}}, 'MAPIE_two-model_naive': {'quantile_model': {'pred_low': array([-1.86997261, -1.88333762, -1.86269432, ..., -1.89107631,\n              -1.87804334, -1.87147693]), 'pred_high': array([19.60821063, 19.47456057, 19.68099357, ..., 19.39717362,\n              19.52750336, 19.59316748])}}}), 0.32: defaultdict(<class 'dict'>, {'xbcf_outcome_xbcf': {'quantile_model': {'pred_low': array([4.61324058, 5.13890537, 1.93052429, ..., 1.49031642, 6.86958149,\n              4.43375415]), 'pred_high': array([ 5.64829985,  8.74604707,  5.50091124, ...,  3.1428788 ,\n              11.94913214,  5.52702251])}}, 'Agnostic_QR_two-model': {'quantile_model': {'pred_low': array([-14.01007219, -12.48506737,  -8.48601766, ...,  -9.1640109 ,\n              -11.15836085,  -8.16190415]), 'pred_high': array([14.86213776, 10.85603174,  4.5092283 , ..., -3.50687135,\n               9.80933132, -7.15260635])}}, 'CP_two-model_NN': {'quantile_model': {'pred_low': array([-29.59184861, -31.88171291, -28.75983524, ..., -32.80237532,\n              -35.64704561, -32.61912727]), 'pred_high': array([41.86527801, 39.5754137 , 42.69729137, ..., 38.6547513 ,\n              35.81008101, 38.83799934])}}, 'MAPIE_two-model_naive': {'quantile_model': {'pred_low': array([-30.44422722, -32.48329905, -28.41244028, ..., -32.55367043,\n              -29.37719658, -30.57939203]), 'pred_high': array([39.0784993 , 37.03942748, 41.11028624, ..., 36.9690561 ,\n              40.14552995, 38.9433345 ])}}})}, 'time_model': {'single-model_hurdle_gbt': 32.92249059677124, 'two-model_outcome_gbt': 22.45719313621521, 'two-model_hurdle_gbt': 24.86212706565857, 'xbcf_outcome_xbcf': 1544.1893334388733}, 'time_pi': {0.05: defaultdict(<class 'dict'>, {'xbcf_outcome_xbcf': 1544.1893334388733, 'QR_Agnostic': 2291.565565109253, 'Agnostic_QR_two-model': 2143.1425132751465, 'CP_two-model_NN': 1780.933221578598, 'MAPIE_two-model_naive': 26.000239372253418}), 0.32: defaultdict(<class 'dict'>, {'xbcf_outcome_xbcf': 1544.1893334388733, 'QR_Agnostic': 1129.275829076767, 'Agnostic_QR_two-model': 1060.1579484939575, 'CP_two-model_NN': 5190.924890756607, 'MAPIE_two-model_naive': 28.128400564193726})}},\n       {'idx': array([     3,      5,     16, ..., 119237, 119238, 119242]), 'conversion': {'single-model_outcome_gbt': array([0.17699788, 0.15524623, 0.07749928, ..., 0.3080534 , 0.08770062,\n              0.11834943]), 'single-model_hurdle_gbt': array([0.13061144, 0.14669248, 0.08755627, ..., 0.22802589, 0.08641802,\n              0.15025795]), 'two-model_hurdle_gbt': array([0.13396431, 0.12414998, 0.09295624, ..., 0.20829523, 0.10828008,\n              0.12462299]), 'Conversion-Rate__': array([0.11926778, 0.11926778, 0.11926778, ..., 0.11926778, 0.11926778,\n              0.11926778])}, 'treatment_conversion': {'single-model_hurdle_gbt': array([0.05558488, 0.07081435, 0.02411   , ..., 0.12759789, 0.0400273 ,\n              0.05134296]), 'two-model_hurdle_gbt': array([0.05341952, 0.05309925, 0.0220149 , ..., 0.10418697, 0.05191271,\n              0.0237055 ]), 'ATE__': array([0.04777018, 0.04777018, 0.04777018, ..., 0.04777018, 0.04777018,\n              0.04777018]), 'oracle__': array([ 0.03677752,  0.06689696, -0.00076798, ...,  0.10987957,\n               0.08099362,  0.04754174])}, 'treatment_basket_value': {'single-model_hurdle_gbt': array([0., 0., 0., ..., 0., 0., 0.]), 'two-model_hurdle_gbt': array([-5.35390866,  0.62742469,  2.28303901, ..., -1.3667144 ,\n              -3.5615098 ,  9.94939423]), 'ATE__': array([-1.81387793, -1.81387793, -1.81387793, ..., -1.81387793,\n              -1.81387793, -1.81387793]), 'oracle__': array([-2.704291  ,  0.3406405 ,  3.10212736, ..., -0.63793225,\n              -6.80910365, -2.04634058])}, 'treatment_spending': {'single-model_hurdle_gbt': array([ 3.1156394 ,  5.96061391,  3.24806805, ..., 11.17609415,\n               3.46231196,  3.77488404]), 'two-model_outcome_gbt': array([ 3.55895403,  4.38246871,  1.91100028, ..., 10.27360648,\n               5.44401582,  5.3166445 ]), 'two-model_hurdle_gbt': array([3.20887679, 4.50975807, 2.74794885, ..., 9.30854537, 4.50792873,\n              2.97795421]), 'xbcf_outcome_xbcf': array([2.44460961, 2.09846498, 3.05334461, ..., 4.81644766, 5.00159027,\n              2.2280302 ]), 'oracle__': array([ 1.78194073,  6.34200375,  0.02915919, ..., 10.19744421,\n               6.26414532,  3.10359318]), 'ATE__': array([4.54191157, 4.54191157, 4.54191157, ..., 4.54191157, 4.54191157,\n              4.54191157])}, 'control_predictions': {}, 'prediction_intervals': {0.05: defaultdict(<class 'dict'>, {'xbcf_outcome_xbcf': {'quantile_model': {'pred_low': array([-0.1888006 , -0.13740363, -0.12403484, ..., -0.12555434,\n              -0.11034184, -0.16366826]), 'pred_high': array([15.85109873,  6.8580167 ,  8.42746146, ..., 12.74140785,\n              11.87676952, 12.76929626])}}, 'Agnostic_QR_two-model': {'quantile_model': {'pred_low': array([-0.28362577, -0.43488084, -0.74869377, ..., -0.57123569,\n              -0.60349477, -0.39872165]), 'pred_high': array([ 5.4352038 , 14.19569042, 18.1443258 , ..., 11.07813163,\n              10.27489153,  9.37656282])}}, 'CP_two-model_NN': {'quantile_model': {'pred_low': array([-1.63565228, -1.77451164, -1.79614223, ..., -1.68710173,\n              -1.79128815, -1.73726507]), 'pred_high': array([21.32557707, 19.93698349, 19.72067766, ..., 20.81108258,\n              19.76921844, 20.3094492 ])}}, 'MAPIE_two-model_naive': {'quantile_model': {'pred_low': array([-1.89621108, -1.87585853, -1.89651286, ..., -1.80191082,\n              -1.86661205, -1.8635001 ]), 'pred_high': array([19.38514543, 19.58867095, 19.38212761, ..., 20.32814803,\n              19.68113572, 19.71225527])}}}), 0.32: defaultdict(<class 'dict'>, {'xbcf_outcome_xbcf': {'quantile_model': {'pred_low': array([-1.05839676,  1.16824172,  2.13928607, ...,  3.44114425,\n               3.94091261, -0.34517344]), 'pred_high': array([5.46442161, 2.90140179, 3.96580283, ..., 6.07983935, 6.06915766,\n              4.44637261])}}, 'Agnostic_QR_two-model': {'quantile_model': {'pred_low': array([-16.93480393,  -8.44998866, -25.33757037, ..., -18.62668785,\n              -18.51609195, -20.20792194]), 'pred_high': array([ 8.7903989 , 22.08389651, 30.62646006, ..., 16.93526806,\n              13.63032991, 21.61276736])}}, 'CP_two-model_NN': {'quantile_model': {'pred_low': array([-32.89498138, -33.69948339, -35.87855339, ..., -27.63095474,\n              -31.82052135, -31.63603783]), 'pred_high': array([34.32700729, 33.52250528, 31.34343529, ..., 39.59103394,\n              35.40146732, 35.58595085])}}, 'MAPIE_two-model_naive': {'quantile_model': {'pred_low': array([-29.16063613, -30.85925086, -33.90422026, ..., -24.67512852,\n              -30.09484302, -31.27242913]), 'pred_high': array([42.19998336, 40.50136863, 37.45639923, ..., 46.68549097,\n              41.26577647, 40.08819036])}}})}, 'time_model': {'single-model_hurdle_gbt': 36.22422647476196, 'two-model_outcome_gbt': 25.804319381713867, 'two-model_hurdle_gbt': 28.498963356018066, 'xbcf_outcome_xbcf': 1835.9649004936218}, 'time_pi': {0.05: defaultdict(<class 'dict'>, {'xbcf_outcome_xbcf': 1835.9649004936218, 'QR_Agnostic': 2108.2248396873474, 'Agnostic_QR_two-model': 1974.8071238994598, 'CP_two-model_NN': 5699.657799243927, 'MAPIE_two-model_naive': 19.796088933944702}), 0.32: defaultdict(<class 'dict'>, {'xbcf_outcome_xbcf': 1835.9649004936218, 'QR_Agnostic': 1481.3911590576172, 'Agnostic_QR_two-model': 1384.2720713615417, 'CP_two-model_NN': 1626.1040847301483, 'MAPIE_two-model_naive': 15.91774320602417})}},\n       {'idx': array([     3,      4,      8, ..., 119240, 119241, 119243]), 'conversion': {'single-model_outcome_gbt': array([0.21042501, 0.08304779, 0.11087963, ..., 0.04352503, 0.15041583,\n              0.20926377]), 'single-model_hurdle_gbt': array([0.1394744 , 0.0798409 , 0.1059842 , ..., 0.04232849, 0.13074501,\n              0.20563348]), 'two-model_hurdle_gbt': array([0.14102773, 0.09950469, 0.10176448, ..., 0.06133734, 0.13034262,\n              0.1891642 ]), 'Conversion-Rate__': array([0.11926778, 0.11926778, 0.11926778, ..., 0.11926778, 0.11926778,\n              0.11926778])}, 'treatment_conversion': {'single-model_hurdle_gbt': array([0.0645557 , 0.02903001, 0.05770813, ..., 0.01963457, 0.0547211 ,\n              0.09199888]), 'two-model_hurdle_gbt': array([0.06984139, 0.03552969, 0.05333129, ..., 0.03492389, 0.04502259,\n              0.08843166]), 'ATE__': array([0.04777018, 0.04777018, 0.04777018, ..., 0.04777018, 0.04777018,\n              0.04777018]), 'oracle__': array([0.03677752, 0.03533416, 0.07047183, ..., 0.08402407, 0.06781842,\n              0.09716138])}, 'treatment_basket_value': {'single-model_hurdle_gbt': array([ 0.        , -0.35415405, -0.35415405, ..., -0.58805856,\n              -0.22210948,  0.        ]), 'two-model_hurdle_gbt': array([-0.25913039,  1.23555971, -2.14709191, ..., -8.77392991,\n              -2.22235002,  3.20293307]), 'ATE__': array([-1.19111015, -1.19111015, -1.19111015, ..., -1.19111015,\n              -1.19111015, -1.19111015]), 'oracle__': array([-2.704291  , -0.12959499,  2.37247673, ..., -5.87056904,\n              -0.18305433,  3.76114992])}, 'treatment_spending': {'single-model_hurdle_gbt': array([3.78721379, 2.25770717, 4.2563209 , ..., 1.70408763, 5.38255966,\n              8.8198935 ]), 'two-model_outcome_gbt': array([5.28826051, 3.1503435 , 5.9798039 , ..., 3.71159701, 4.85807356,\n              7.90917539]), 'two-model_hurdle_gbt': array([5.10787989, 2.99803926, 4.21304306, ..., 2.79026479, 4.08038799,\n              8.70461135]), 'xbcf_outcome_xbcf': array([2.57931163, 4.07795351, 4.35523725, ..., 3.95365032, 6.36025864,\n              4.43526641]), 'oracle__': array([ 1.78194073,  2.78806036,  4.6454862 , ...,  7.16482553,\n               7.37093672, 10.71854847]), 'ATE__': array([4.60435517, 4.60435517, 4.60435517, ..., 4.60435517, 4.60435517,\n              4.60435517])}, 'control_predictions': {}, 'prediction_intervals': {0.05: defaultdict(<class 'dict'>, {'xbcf_outcome_xbcf': {'quantile_model': {'pred_low': array([-4.33694825, -4.28166051, -4.29912802, ..., -4.28226351,\n              -4.27157556, -4.2821476 ]), 'pred_high': array([ 8.30716359,  8.987383  ,  8.69979117, ...,  7.93390286,\n              16.65000106, 13.42505907])}}, 'Agnostic_QR_two-model': {'quantile_model': {'pred_low': array([-0.3662389 , -0.42976538, -0.41233438, ..., -0.51251203,\n              -0.59148362, -0.57587854]), 'pred_high': array([ 5.82425622,  9.286834  ,  7.32856814, ..., 10.30085395,\n              11.59467233, 12.6520885 ])}}, 'CP_two-model_NN': {'quantile_model': {'pred_low': array([-1.9860944 , -1.89928423, -1.87907993, ..., -1.92583877,\n              -1.8449836 , -1.81198223]), 'pred_high': array([18.77202263, 19.64012432, 19.84216728, ..., 19.37457893,\n              20.1831306 , 20.5131443 ])}}, 'MAPIE_two-model_naive': {'quantile_model': {'pred_low': array([-1.84550442, -1.88503387, -1.85190662, ..., -1.8767376 ,\n              -1.86043672, -1.84169217]), 'pred_high': array([19.81858555, 19.42329107, 19.75456359, ..., 19.50625378,\n              19.6692626 , 19.85670812])}}}), 0.32: defaultdict(<class 'dict'>, {'xbcf_outcome_xbcf': {'quantile_model': {'pred_low': array([0.71965653, 2.61347277, 3.1889674 , ..., 2.4798831 , 3.90908502,\n              2.34455479]), 'pred_high': array([ 4.63211053,  5.24457053,  5.50934483, ...,  5.16015567,\n              10.04694136,  6.3643453 ])}}, 'Agnostic_QR_two-model': {'quantile_model': {'pred_low': array([-20.4616989 ,  -9.62258992, -10.80479342, ..., -11.02732805,\n              -19.0609478 , -11.24353913]), 'pred_high': array([-1.51328977, 17.61249317,  4.9798331 , ...,  0.46542691,\n               6.53169761, 17.77507071])}}, 'CP_two-model_NN': {'quantile_model': {'pred_low': array([-28.88294792, -26.05249405, -27.13677359, ..., -26.99410534,\n              -25.45805931, -20.64945412]), 'pred_high': array([32.07904816, 34.90950203, 33.82522249, ..., 33.96789074,\n              35.50393677, 40.31254196])}}, 'MAPIE_two-model_naive': {'quantile_model': {'pred_low': array([-31.95158668, -32.36070629, -29.48442101, ..., -32.15424151,\n              -30.13104861, -27.95437287]), 'pred_high': array([39.15189786, 38.74277825, 41.61906353, ..., 38.94924304,\n              40.97243594, 43.14911167])}}})}, 'time_model': {'single-model_hurdle_gbt': 45.256810426712036, 'two-model_outcome_gbt': 37.32159495353699, 'two-model_hurdle_gbt': 39.489741802215576, 'xbcf_outcome_xbcf': 1974.1918108463287}, 'time_pi': {0.05: defaultdict(<class 'dict'>, {'xbcf_outcome_xbcf': 1974.1918108463287, 'QR_Agnostic': 1935.601896762848, 'Agnostic_QR_two-model': 1813.7691023349762, 'CP_two-model_NN': 5641.8962643146515, 'MAPIE_two-model_naive': 26.347206115722656}), 0.32: defaultdict(<class 'dict'>, {'xbcf_outcome_xbcf': 1974.1918108463287, 'QR_Agnostic': 1636.3285961151123, 'Agnostic_QR_two-model': 1527.6402847766876, 'CP_two-model_NN': 3857.1734001636505, 'MAPIE_two-model_naive': 15.556150674819946})}},\n       {'idx': array([    10,     13,     25, ..., 119214, 119217, 119233]), 'conversion': {'single-model_outcome_gbt': array([0.14155212, 0.04990406, 0.07382064, ..., 0.09634944, 0.2916027 ,\n              0.11152398]), 'single-model_hurdle_gbt': array([0.13406428, 0.04833538, 0.07214197, ..., 0.08211726, 0.29197261,\n              0.09727258]), 'two-model_hurdle_gbt': array([0.12787652, 0.06826536, 0.12394062, ..., 0.10415474, 0.19407416,\n              0.10245269]), 'Conversion-Rate__': array([0.1192887, 0.1192887, 0.1192887, ..., 0.1192887, 0.1192887,\n              0.1192887])}, 'treatment_conversion': {'single-model_hurdle_gbt': array([0.03907485, 0.01797344, 0.04186417, ..., 0.04090282, 0.06052126,\n              0.05686948]), 'two-model_hurdle_gbt': array([0.03297945, 0.02673009, 0.08825702, ..., 0.05377046, 0.05144851,\n              0.05128748]), 'ATE__': array([0.04781211, 0.04781211, 0.04781211, ..., 0.04781211, 0.04781211,\n              0.04781211]), 'oracle__': array([ 0.08240489, -0.00077533,  0.02723333, ...,  0.0811262 ,\n               0.09824405,  0.06422044])}, 'treatment_basket_value': {'single-model_hurdle_gbt': array([-0.74911343,  0.        , -0.43014995, ..., -0.09610617,\n              -0.47609436,  0.        ]), 'two-model_hurdle_gbt': array([-8.43366514, -0.3966644 ,  0.16796646, ...,  2.48174502,\n              -0.86964624,  0.54617923]), 'ATE__': array([-0.33831206, -0.33831206, -0.33831206, ..., -0.33831206,\n              -0.33831206, -0.33831206]), 'oracle__': array([-3.8125374 ,  2.78090877, -3.37805164, ...,  1.4241357 ,\n               1.18462812,  1.36913749])}, 'treatment_spending': {'single-model_hurdle_gbt': array([3.26889184, 1.83117524, 2.32751491, ..., 4.25270458, 7.67894579,\n              5.55702655]), 'two-model_outcome_gbt': array([ 0.26190808,  1.77303209,  3.59979459, ...,  8.19529834,\n              -1.52650613,  5.88553692]), 'two-model_hurdle_gbt': array([2.117581  , 2.64581295, 6.62581487, ..., 5.35100693, 6.12098846,\n              5.02053498]), 'xbcf_outcome_xbcf': array([6.01855838, 2.81981654, 4.15725523, ..., 6.35654901, 4.0702756 ,\n              6.96035583]), 'oracle__': array([ 6.82057019e+00, -8.01172209e-04,  1.48872885e+00, ...,\n               8.38754074e+00,  1.22361721e+01,  6.29015809e+00]), 'ATE__': array([4.67301184, 4.67301184, 4.67301184, ..., 4.67301184, 4.67301184,\n              4.67301184])}, 'control_predictions': {}, 'prediction_intervals': {0.05: defaultdict(<class 'dict'>, {'xbcf_outcome_xbcf': {'quantile_model': {'pred_low': array([-0.14162878, -0.13413225, -0.10813531, ..., -0.10270334,\n              -0.17653376, -0.07102914]), 'pred_high': array([12.7155612 ,  6.85316155,  7.72691002, ..., 13.20506867,\n              12.55596937, 10.51758481])}}, 'Agnostic_QR_two-model': {'quantile_model': {'pred_low': array([-0.60195399, -0.59240743, -0.3606707 , ..., -0.55578331,\n              -0.94244666, -0.60982883]), 'pred_high': array([10.69258445, 12.75120752,  5.70606428, ..., 12.90112369,\n              18.58260652, 12.60421094])}}, 'CP_two-model_NN': {'quantile_model': {'pred_low': array([-1.90725451, -1.91445106, -1.92229392, ..., -1.82265353,\n              -1.95929705, -1.86539423]), 'pred_high': array([19.5885282 , 19.5165627 , 19.43813412, ..., 20.43453803,\n              19.06810284, 20.00713105])}}, 'MAPIE_two-model_naive': {'quantile_model': {'pred_low': array([-1.94737817, -1.89945786, -1.86779252, ..., -1.84389331,\n              -1.9145476 , -1.85720793]), 'pred_high': array([18.82298856, 19.30219169, 19.61884503, ..., 19.85783713,\n              19.15129432, 19.72469096])}}}), 0.32: defaultdict(<class 'dict'>, {'xbcf_outcome_xbcf': {'quantile_model': {'pred_low': array([2.53774716, 1.58048431, 2.73369529, ..., 3.84508174, 0.98879437,\n              5.24870938]), 'pred_high': array([9.15985593, 4.61269818, 4.92521192, ..., 9.55183716, 6.92655346,\n              8.08019598])}}, 'Agnostic_QR_two-model': {'quantile_model': {'pred_low': array([-34.36971158,  -6.38495805,  -6.93169476, ..., -11.46928205,\n              -53.4221409 ,  -5.70211018]), 'pred_high': array([15.73101353, 10.76931812,  6.11068357, ..., 15.87347774,\n              42.28032203, 20.25163465])}}, 'CP_two-model_NN': {'quantile_model': {'pred_low': array([-77.17773533, -76.02400017, -52.25514412, ..., -45.00825977,\n                9.59948444, -72.08852863]), 'pred_high': array([ 32.44378567,  33.59752083,  57.36637688, ...,  64.61326122,\n              119.22100544,  37.53299236])}}, 'MAPIE_two-model_naive': {'quantile_model': {'pred_low': array([-35.26119131, -33.17444526, -30.48807384, ..., -26.36794036,\n              -38.17170525, -29.1349663 ]), 'pred_high': array([35.07913397, 37.16588002, 39.85225144, ..., 43.97238492,\n              32.16862003, 41.20535898])}}})}, 'time_model': {'single-model_hurdle_gbt': 40.9801664352417, 'two-model_outcome_gbt': 32.288254261016846, 'two-model_hurdle_gbt': 34.716598987579346, 'xbcf_outcome_xbcf': 2045.5775299072266}, 'time_pi': {0.05: defaultdict(<class 'dict'>, {'xbcf_outcome_xbcf': 2045.5775299072266, 'QR_Agnostic': 1983.4721822738647, 'Agnostic_QR_two-model': 1860.3238010406494, 'CP_two-model_NN': 5903.519692659378, 'MAPIE_two-model_naive': 28.644737243652344}), 0.32: defaultdict(<class 'dict'>, {'xbcf_outcome_xbcf': 2045.5775299072266, 'QR_Agnostic': 1574.3907752037048, 'Agnostic_QR_two-model': 1477.9505665302277, 'CP_two-model_NN': 3828.107546567917, 'MAPIE_two-model_naive': 15.071986198425293})}},\n       {'idx': array([     0,      1,     14, ..., 119210, 119218, 119239]), 'conversion': {'single-model_outcome_gbt': array([0.12953333, 0.12245424, 0.16032075, ..., 0.2065756 , 0.07574456,\n              0.34560339]), 'single-model_hurdle_gbt': array([0.13694913, 0.1098555 , 0.15678109, ..., 0.14141288, 0.0804277 ,\n              0.37992846]), 'two-model_hurdle_gbt': array([0.14076125, 0.13176022, 0.13982322, ..., 0.14821719, 0.09265071,\n              0.25991515]), 'Conversion-Rate__': array([0.1192887, 0.1192887, 0.1192887, ..., 0.1192887, 0.1192887,\n              0.1192887])}, 'treatment_conversion': {'single-model_hurdle_gbt': array([0.04902891, 0.06295834, 0.06556426, ..., 0.05715075, 0.01478494,\n              0.13301447]), 'two-model_hurdle_gbt': array([0.06030449, 0.06846741, 0.05735563, ..., 0.05601995, 0.02507084,\n              0.07544673]), 'ATE__': array([0.04781211, 0.04781211, 0.04781211, ..., 0.04781211, 0.04781211,\n              0.04781211]), 'oracle__': array([ 0.00386651,  0.09105945,  0.0978901 , ...,  0.13061277,\n              -0.00076798,  0.05235969])}, 'treatment_basket_value': {'single-model_hurdle_gbt': array([ 0.        ,  0.        ,  0.        , ...,  0.        ,\n               0.        , -0.52605394]), 'two-model_hurdle_gbt': array([-2.25100166, -3.47232698,  4.78192011, ..., -9.80992496,\n              -0.30898344, 10.4476579 ]), 'ATE__': array([-1.2208779, -1.2208779, -1.2208779, ..., -1.2208779, -1.2208779,\n              -1.2208779]), 'oracle__': array([ 4.38330004, -4.03495504,  1.91208703, ..., -3.41926871,\n               3.10212736, -2.87048356])}, 'treatment_spending': {'single-model_hurdle_gbt': array([ 5.57115896,  4.45439795,  4.67542116, ...,  5.30341056,\n               1.6521463 , 16.17052972]), 'two-model_outcome_gbt': array([ 5.02748073,  4.05602087,  6.72569188, ...,  3.8542427 ,\n               3.18262509, 11.98607506]), 'two-model_hurdle_gbt': array([ 6.44968051,  4.77644899,  5.51229447, ...,  4.26633027,\n               2.71449623, 11.71611794]), 'xbcf_outcome_xbcf': array([ 4.64450421,  2.90384248,  0.70335801, ...,  5.68331462,\n               1.92951133, 10.33984207]), 'oracle__': array([ 0.9459487 ,  6.55993591,  6.56855907, ..., 11.20847323,\n               0.1582149 ,  5.27443365]), 'ATE__': array([4.59108227, 4.59108227, 4.59108227, ..., 4.59108227, 4.59108227,\n              4.59108227])}, 'control_predictions': {}, 'prediction_intervals': {0.05: defaultdict(<class 'dict'>, {'xbcf_outcome_xbcf': {'quantile_model': {'pred_low': array([-0.16998757, -0.21445565, -0.23362551, ..., -0.18990266,\n              -0.18875931, -0.20066698]), 'pred_high': array([18.4199903 , 23.044024  ,  8.26432691, ..., 26.67191337,\n               8.47346429, 63.43544425])}}, 'Agnostic_QR_two-model': {'quantile_model': {'pred_low': array([-0.75340921, -0.4490651 , -0.35600246, ..., -0.66661045,\n              -0.75055382, -1.14651019]), 'pred_high': array([15.9733459 ,  8.84389255,  8.80795484, ..., 11.8688778 ,\n              15.20530964, 23.01533922])}}, 'CP_two-model_NN': {'quantile_model': {'pred_low': array([-1.89754622, -1.88713161, -1.88499387, ..., -1.83372076,\n              -1.85244447, -1.80451825]), 'pred_high': array([19.43684559, 19.54099159, 19.56236906, ..., 20.07510018,\n              19.88786306, 20.36712523])}}, 'MAPIE_two-model_naive': {'quantile_model': {'pred_low': array([-1.86815007, -1.86342431, -1.85755053, ..., -1.87366971,\n              -1.88578436, -1.78568512]), 'pred_high': array([19.60793071, 19.65518826, 19.71392602, ..., 19.55273431,\n              19.43158775, 20.43258017])}}}), 0.32: defaultdict(<class 'dict'>, {'xbcf_outcome_xbcf': {'quantile_model': {'pred_low': array([ 3.72353778,  0.24457972, -1.2541524 , ...,  3.71624371,\n               1.3704967 ,  3.62605924]), 'pred_high': array([ 5.64778499,  5.26209778,  2.25321536, ...,  8.01023885,\n               2.40321142, 16.21745348])}}, 'Agnostic_QR_two-model': {'quantile_model': {'pred_low': array([-21.22045197,  -6.89142023,  -2.63302384, ..., -22.24577163,\n              -20.24696814, -65.72334278]), 'pred_high': array([18.77927456,  2.96250366, 25.77215672, ...,  9.62962554,\n              17.0039808 , 67.51810504])}}, 'CP_two-model_NN': {'quantile_model': {'pred_low': array([-36.45290017, -35.1014185 , -27.95014572, ..., -31.94477224,\n              -37.67926693, -35.5247829 ]), 'pred_high': array([39.18784308, 40.53932476, 47.69059753, ..., 43.69597101,\n              37.96147633, 40.11596036])}}, 'MAPIE_two-model_naive': {'quantile_model': {'pred_low': array([-30.22966502, -30.34757326, -30.25758013, ..., -31.44077021,\n              -32.1474101 , -25.07888762]), 'pred_high': array([40.46966824, 40.35176   , 40.44175313, ..., 39.25856305,\n              38.55192316, 45.62044564])}}})}, 'time_model': {'single-model_hurdle_gbt': 40.475839376449585, 'two-model_outcome_gbt': 30.616788148880005, 'two-model_hurdle_gbt': 33.903576612472534, 'xbcf_outcome_xbcf': 1942.1944868564606}, 'time_pi': {0.05: defaultdict(<class 'dict'>, {'xbcf_outcome_xbcf': 1942.1944868564606, 'QR_Agnostic': 2020.4897673130035, 'Agnostic_QR_two-model': 1892.9808011054993, 'CP_two-model_NN': 5460.510292768478, 'MAPIE_two-model_naive': 23.39729595184326}), 0.32: defaultdict(<class 'dict'>, {'xbcf_outcome_xbcf': 1942.1944868564606, 'QR_Agnostic': 1548.4975159168243, 'Agnostic_QR_two-model': 1446.3725900650024, 'CP_two-model_NN': 4645.392263174057, 'MAPIE_two-model_naive': 14.469672203063965})}},\n       {'idx': array([     2,      7,     10, ..., 119233, 119236, 119237]), 'conversion': {'single-model_outcome_gbt': array([0.08014718, 0.1967051 , 0.17743206, ..., 0.0999843 , 0.07134502,\n              0.25865114]), 'single-model_hurdle_gbt': array([0.07172082, 0.16614469, 0.18335933, ..., 0.0914394 , 0.06424757,\n              0.23652127]), 'two-model_hurdle_gbt': array([0.09867907, 0.1653165 , 0.12286844, ..., 0.09916182, 0.08761791,\n              0.22533739]), 'Conversion-Rate__': array([0.1192887, 0.1192887, 0.1192887, ..., 0.1192887, 0.1192887,\n              0.1192887])}, 'treatment_conversion': {'single-model_hurdle_gbt': array([0.03697554, 0.08083061, 0.09652219, ..., 0.04699663, 0.0103378 ,\n              0.14453144]), 'two-model_hurdle_gbt': array([0.04686485, 0.09411186, 0.05955955, ..., 0.04690585, 0.01593467,\n              0.13729755]), 'ATE__': array([0.04781211, 0.04781211, 0.04781211, ..., 0.04781211, 0.04781211,\n              0.04781211]), 'oracle__': array([ 0.0463569 ,  0.08063181,  0.08240489, ...,  0.06422044,\n              -0.00077533,  0.10987957])}, 'treatment_basket_value': {'single-model_hurdle_gbt': array([ 0.        , -2.31597429, -0.0702873 , ...,  0.        ,\n               0.        , -0.90427642]), 'two-model_hurdle_gbt': array([ -7.81048147,  -7.81918989, -10.49213805, ...,   0.08438445,\n               -1.19480424,   8.23441394]), 'ATE__': array([-1.01695876, -1.01695876, -1.01695876, ..., -1.01695876,\n              -1.01695876, -1.01695876]), 'oracle__': array([ 2.52312043, -3.37782033, -3.8125374 , ...,  1.36913749,\n               2.78090877, -0.63793225])}, 'treatment_spending': {'single-model_hurdle_gbt': array([ 4.45250106,  8.36554335,  7.80263744, ...,  4.58590538,\n               1.03184076, 11.69153238]), 'two-model_outcome_gbt': array([ 5.67932627,  8.60590371,  3.86827655, ...,  5.43900974,\n               1.03038201, 10.95406124]), 'two-model_hurdle_gbt': array([ 4.23881297,  8.64892213,  4.50052452, ...,  4.58956007,\n               1.51420175, 13.83420291]), 'xbcf_outcome_xbcf': array([5.25768971, 8.00316975, 3.42830819, ..., 7.39064863, 2.24624091,\n              4.48746068]), 'oracle__': array([ 4.87410841,  7.37846812,  6.82057019, ...,  6.29015809,\n               0.08462564, 10.19744421]), 'ATE__': array([4.60621318, 4.60621318, 4.60621318, ..., 4.60621318, 4.60621318,\n              4.60621318])}, 'control_predictions': {}, 'prediction_intervals': {0.05: defaultdict(<class 'dict'>, {'xbcf_outcome_xbcf': {'quantile_model': {'pred_low': array([-0.29280586, -0.33818847, -0.5196906 , ..., -0.36431515,\n              -0.46510761, -0.4415749 ]), 'pred_high': array([11.76764976, 21.02486241, 16.19530051, ..., 14.53642183,\n               6.41226669, 13.9861308 ])}}, 'Agnostic_QR_two-model': {'quantile_model': {'pred_low': array([-0.61076723, -0.60846014, -0.50569679, ..., -0.60802537,\n              -0.65267765, -0.66897186]), 'pred_high': array([13.068582  , 13.92890536, 11.72146778, ..., 11.64719948,\n              13.99626656, 12.24938601])}}, 'CP_two-model_NN': {'quantile_model': {'pred_low': array([-2.13880043, -1.77741115, -1.6757493 , ..., -1.71946682,\n              -1.7610031 , -1.91682487]), 'pred_high': array([23.12725754, 26.74115038, 27.7577688 , ..., 27.32059364,\n              26.90523088, 25.34701314])}}, 'MAPIE_two-model_naive': {'quantile_model': {'pred_low': array([-1.85518932, -1.8142421 , -1.85547011, ..., -1.85833363,\n              -1.89444252, -1.80031072]), 'pred_high': array([19.64671571, 20.05618797, 19.64390788, ..., 19.61527264,\n              19.25418374, 20.19550174])}}}), 0.32: defaultdict(<class 'dict'>, {'xbcf_outcome_xbcf': {'quantile_model': {'pred_low': array([4.51972839, 7.37526834, 1.36231821, ..., 6.5600411 , 1.61058256,\n              2.2053801 ]), 'pred_high': array([5.98545028, 8.92891334, 6.02417364, ..., 8.7551512 , 2.89302308,\n              6.21388264])}}, 'Agnostic_QR_two-model': {'quantile_model': {'pred_low': array([-14.37089902, -16.93915338, -39.24926448, ...,  -4.68836437,\n               -6.3396084 , -18.99898265]), 'pred_high': array([11.82264809, 14.12188448, 15.25115817, ..., 16.01087656,\n              10.56235971, 27.54674727])}}, 'CP_two-model_NN': {'quantile_model': {'pred_low': array([-40.58603859, -12.86310005, -21.22819424, ..., -20.58231091,\n              -24.8509481 , -21.57669067]), 'pred_high': array([15.69353962, 43.41647816, 35.05138397, ..., 35.69726729,\n              31.42863011, 34.70288754])}}, 'MAPIE_two-model_naive': {'quantile_model': {'pred_low': array([-29.2062946 , -26.989839  , -29.06729504, ..., -29.51633539,\n              -33.94441553, -23.31005052]), 'pred_high': array([40.52125831, 42.73771391, 40.66025787, ..., 40.21121751,\n              35.78313738, 46.41750239])}}})}, 'time_model': {'single-model_hurdle_gbt': 49.02615785598755, 'two-model_outcome_gbt': 39.54131293296814, 'two-model_hurdle_gbt': 41.99834990501404, 'xbcf_outcome_xbcf': 1902.4202198982239}, 'time_pi': {0.05: defaultdict(<class 'dict'>, {'xbcf_outcome_xbcf': 1902.4202198982239, 'QR_Agnostic': 1843.6435613632202, 'Agnostic_QR_two-model': 1739.8359911441803, 'CP_two-model_NN': 5502.084127902985, 'MAPIE_two-model_naive': 27.265964031219482}), 0.32: defaultdict(<class 'dict'>, {'xbcf_outcome_xbcf': 1902.4202198982239, 'QR_Agnostic': 1584.3242983818054, 'Agnostic_QR_two-model': 1483.9166083335876, 'CP_two-model_NN': 4318.037589788437, 'MAPIE_two-model_naive': 15.902533054351807})}},\n       {'idx': array([     0,      1,      5, ..., 119229, 119235, 119244]), 'conversion': {'single-model_outcome_gbt': array([0.13388047, 0.12335283, 0.14894161, ..., 0.12459467, 0.07750329,\n              0.04580715]), 'single-model_hurdle_gbt': array([0.1450975 , 0.12630681, 0.14297248, ..., 0.12977999, 0.08551323,\n              0.0443783 ]), 'two-model_hurdle_gbt': array([0.14206636, 0.12611184, 0.12241235, ..., 0.11253569, 0.09963521,\n              0.06270559]), 'Conversion-Rate__': array([0.11926778, 0.11926778, 0.11926778, ..., 0.11926778, 0.11926778,\n              0.11926778])}, 'treatment_conversion': {'single-model_hurdle_gbt': array([0.05259269, 0.08170674, 0.05865731, ..., 0.07015014, 0.03016405,\n              0.02112412]), 'two-model_hurdle_gbt': array([0.06191931, 0.07642992, 0.04840831, ..., 0.04371639, 0.0340916 ,\n              0.03840483]), 'ATE__': array([0.04777018, 0.04777018, 0.04777018, ..., 0.04777018, 0.04777018,\n              0.04777018]), 'oracle__': array([0.00386651, 0.09105945, 0.06689696, ..., 0.06422044, 0.03448152,\n              0.03647233])}, 'treatment_basket_value': {'single-model_hurdle_gbt': array([0., 0., 0., ..., 0., 0., 0.]), 'two-model_hurdle_gbt': array([ -1.1383749 ,  -2.63348685,  -0.20008923, ...,  -1.10750579,\n               -0.41381759, -11.24066387]), 'ATE__': array([-1.86695283, -1.86695283, -1.86695283, ..., -1.86695283,\n              -1.86695283, -1.86695283]), 'oracle__': array([ 4.38330004, -4.03495504,  0.3406405 , ...,  1.36913749,\n               0.77353928,  1.69015879])}, 'treatment_spending': {'single-model_hurdle_gbt': array([5.84820923, 5.93415398, 5.00330941, ..., 5.15629118, 2.52047653,\n              1.87778691]), 'two-model_outcome_gbt': array([5.83274537, 6.30134577, 4.2656406 , ..., 4.80479941, 2.86208322,\n              3.68272625]), 'two-model_hurdle_gbt': array([6.6915051 , 5.64549802, 4.13142371, ..., 3.21563317, 2.83384182,\n              3.0615296 ]), 'xbcf_outcome_xbcf': array([3.46677669, 3.94226575, 2.45634718, ..., 7.67735265, 5.0401112 ,\n              4.87964782]), 'oracle__': array([0.9459487 , 6.55993591, 6.34200375, ..., 4.69592018, 2.90981944,\n              3.36071428]), 'ATE__': array([4.51495934, 4.51495934, 4.51495934, ..., 4.51495934, 4.51495934,\n              4.51495934])}, 'control_predictions': {}, 'prediction_intervals': {0.05: defaultdict(<class 'dict'>, {'xbcf_outcome_xbcf': {'quantile_model': {'pred_low': array([-0.27054429, -0.2666882 , -0.2724507 , ..., -0.15865619,\n              -0.26704196, -0.23212491]), 'pred_high': array([ 8.37330796, 13.50049196,  8.27508292, ..., 12.7709697 ,\n              16.090215  ,  9.63051206])}}, 'Agnostic_QR_two-model': {'quantile_model': {'pred_low': array([-0.70610352, -0.43772173, -0.53188876, ..., -0.4694806 ,\n              -0.50604775, -0.49482847]), 'pred_high': array([16.23287324,  8.56235906, 14.30957727, ...,  6.63995068,\n               9.96905444, 10.19792489])}}, 'CP_two-model_NN': {'quantile_model': {'pred_low': array([-1.88877073, -1.90559826, -1.88148481, ..., -1.91127413,\n              -1.9203541 , -1.91286718]), 'pred_high': array([19.9525866 , 19.78431132, 20.02544575, ..., 19.7275526 ,\n              19.63675287, 19.71162204])}}, 'MAPIE_two-model_naive': {'quantile_model': {'pred_low': array([-1.86125673, -1.85514933, -1.87497823, ..., -1.87291869,\n              -1.89402075, -1.88262712]), 'pred_high': array([19.74712558, 19.80819952, 19.60991056, ..., 19.6305059 ,\n              19.41948532, 19.53342165])}}}), 0.32: defaultdict(<class 'dict'>, {'xbcf_outcome_xbcf': {'quantile_model': {'pred_low': array([2.08641287, 1.93892755, 1.0357956 , ..., 6.91372733, 2.32475897,\n              4.07227717]), 'pred_high': array([4.71396021, 6.31960283, 4.17573028, ..., 8.4333379 , 8.3680378 ,\n              5.73572809])}}, 'Agnostic_QR_two-model': {'quantile_model': {'pred_low': array([-21.49261238,  -8.90980891, -12.5528544 , ..., -14.33396942,\n               -5.17789728,  -8.52448895]), 'pred_high': array([18.91455945, -0.45896504, 24.63351213, ...,  6.8865075 ,\n               6.35297659, -2.30142168])}}, 'CP_two-model_NN': {'quantile_model': {'pred_low': array([-18.84261823, -29.91563845, -31.11472511, ..., -29.73585367,\n              -34.45055485, -30.92167616]), 'pred_high': array([51.20530772, 40.1322875 , 38.93320084, ..., 40.31207228,\n              35.5973711 , 39.12624979])}}, 'MAPIE_two-model_naive': {'quantile_model': {'pred_low': array([-28.91392835, -27.11049315, -30.20519088, ..., -29.58484805,\n              -32.12020047, -31.12800925]), 'pred_high': array([40.00733075, 41.81076596, 38.71606823, ..., 39.33641106,\n              36.80105864, 37.79324986])}}})}, 'time_model': {'single-model_hurdle_gbt': 43.968363523483276, 'two-model_outcome_gbt': 35.995959758758545, 'two-model_hurdle_gbt': 38.52175760269165, 'xbcf_outcome_xbcf': 2007.8232035636902}, 'time_pi': {0.05: defaultdict(<class 'dict'>, {'xbcf_outcome_xbcf': 2007.8232035636902, 'QR_Agnostic': 1939.8465158939362, 'Agnostic_QR_two-model': 1817.60702085495, 'CP_two-model_NN': 6097.485572338104, 'MAPIE_two-model_naive': 29.712509632110596}), 0.32: defaultdict(<class 'dict'>, {'xbcf_outcome_xbcf': 2007.8232035636902, 'QR_Agnostic': 1445.6054847240448, 'Agnostic_QR_two-model': 1358.1447763442993, 'CP_two-model_NN': 4203.88322353363, 'MAPIE_two-model_naive': 15.548966646194458})}},\n       {'idx': array([     4,      7,      9, ..., 119232, 119236, 119243]), 'conversion': {'single-model_outcome_gbt': array([0.07901246, 0.19704256, 0.14275984, ..., 0.14475638, 0.07063918,\n              0.22225906]), 'single-model_hurdle_gbt': array([0.05903404, 0.19249023, 0.11954976, ..., 0.12645933, 0.07941029,\n              0.21170944]), 'two-model_hurdle_gbt': array([0.09943694, 0.16133924, 0.11444698, ..., 0.11763239, 0.09338925,\n              0.17142732]), 'Conversion-Rate__': array([0.1192887, 0.1192887, 0.1192887, ..., 0.1192887, 0.1192887,\n              0.1192887])}, 'treatment_conversion': {'single-model_hurdle_gbt': array([0.02043365, 0.1071351 , 0.07042561, ..., 0.06916062, 0.01980769,\n              0.08760553]), 'two-model_hurdle_gbt': array([0.03479431, 0.09770154, 0.06230352, ..., 0.06551182, 0.01577098,\n              0.06019717]), 'ATE__': array([0.04781211, 0.04781211, 0.04781211, ..., 0.04781211, 0.04781211,\n              0.04781211]), 'oracle__': array([ 0.03533416,  0.08063181,  0.11871202, ...,  0.07349067,\n              -0.00077533,  0.09716138])}, 'treatment_basket_value': {'single-model_hurdle_gbt': array([-0.04100536, -1.63253175,  0.        , ...,  0.        ,\n               0.        ,  0.        ]), 'two-model_hurdle_gbt': array([ 0.77635586, -8.26604606, -0.5016832 , ..., -2.18060992,\n              -0.03865427,  0.08374752]), 'ATE__': array([-1.70798011, -1.70798011, -1.70798011, ..., -1.70798011,\n              -1.70798011, -1.70798011]), 'oracle__': array([-0.12959499, -3.37782033, -4.12790629, ...,  1.40892709,\n               2.78090877,  3.76114992])}, 'treatment_spending': {'single-model_hurdle_gbt': array([ 1.61559254, 11.47617656,  4.94638112, ...,  7.80452123,\n               1.96608526,  8.81584104]), 'two-model_outcome_gbt': array([3.19633495, 8.3600144 , 4.06229411, ..., 7.77479033, 1.29820399,\n              7.74583685]), 'two-model_hurdle_gbt': array([2.90716524, 8.77880336, 4.8794025 , ..., 6.9901191 , 1.57655683,\n              5.70789307]), 'xbcf_outcome_xbcf': array([3.85793161, 8.77507866, 4.20218059, ..., 8.22088621, 1.99320247,\n              3.14350606]), 'oracle__': array([ 2.78806036,  7.37846812,  7.77346601, ...,  8.47520398,\n               0.08462564, 10.71854847]), 'ATE__': array([4.5569649, 4.5569649, 4.5569649, ..., 4.5569649, 4.5569649,\n              4.5569649])}, 'control_predictions': {}, 'prediction_intervals': {0.05: defaultdict(<class 'dict'>, {'xbcf_outcome_xbcf': {'quantile_model': {'pred_low': array([-0.21859542, -0.11002993, -0.22616951, ..., -0.10707929,\n              -0.23015357, -0.21735081]), 'pred_high': array([ 9.3728846 , 17.64355528, 13.58461723, ..., 13.82118622,\n               4.47339298, 14.55566695])}}, 'Agnostic_QR_two-model': {'quantile_model': {'pred_low': array([-0.46375318, -0.61892724, -0.37905376, ..., -0.73423095,\n              -0.67435904, -0.61120657]), 'pred_high': array([ 9.34402374, 12.56406294,  6.77829067, ..., 15.28158788,\n              12.87149353, 12.86158103])}}, 'CP_two-model_NN': {'quantile_model': {'pred_low': array([-1.95140837, -1.9097813 , -1.94765509, ..., -1.87174042,\n              -1.92804095, -1.86923065]), 'pred_high': array([19.47526717, 19.89153786, 19.51280003, ..., 20.27194667,\n              19.70894141, 20.29704437])}}, 'MAPIE_two-model_naive': {'quantile_model': {'pred_low': array([-1.8864234 , -1.83232269, -1.87734517, ..., -1.84409342,\n              -1.90348494, -1.83383061]), 'pred_high': array([19.46523298, 20.00624003, 19.55601521, ..., 19.88853277,\n              19.29461757, 19.99116087])}}}), 0.32: defaultdict(<class 'dict'>, {'xbcf_outcome_xbcf': {'quantile_model': {'pred_low': array([2.15713828, 7.74890981, 2.21444652, ..., 7.68553284, 1.58901128,\n              1.83863858]), 'pred_high': array([ 5.51872788, 10.08040443,  6.14007186, ...,  8.74058403,\n               2.49197221,  4.72997633])}}, 'Agnostic_QR_two-model': {'quantile_model': {'pred_low': array([-17.78270766, -11.29674831,  -3.08580191, ..., -18.41321893,\n               -7.48210759, -14.56444675]), 'pred_high': array([10.05017657,  9.73625538,  2.66730209, ..., 17.62664942,\n              11.36579978, 12.00539569])}}, 'CP_two-model_NN': {'quantile_model': {'pred_low': array([-31.6764369 , -22.63225174, -31.96838379, ..., -24.3528285 ,\n              -32.85690117, -21.48186779]), 'pred_high': array([37.96049166, 47.00467682, 37.66854477, ..., 45.28410006,\n              36.78002739, 48.15506077])}}, 'MAPIE_two-model_naive': {'quantile_model': {'pred_low': array([-32.15198622, -26.91409549, -31.10024656, ..., -27.56032384,\n              -33.3044627 , -26.43361935]), 'pred_high': array([38.03414728, 43.27203801, 39.08588694, ..., 42.62580966,\n              36.88167079, 43.75251415])}}})}, 'time_model': {'single-model_hurdle_gbt': 37.51525163650513, 'two-model_outcome_gbt': 28.92167639732361, 'two-model_hurdle_gbt': 30.99991798400879, 'xbcf_outcome_xbcf': 1954.2491867542267}, 'time_pi': {0.05: defaultdict(<class 'dict'>, {'xbcf_outcome_xbcf': 1954.2491867542267, 'QR_Agnostic': 2034.4194192886353, 'Agnostic_QR_two-model': 1904.277895450592, 'CP_two-model_NN': 6268.670273065567, 'MAPIE_two-model_naive': 29.81603765487671}), 0.32: defaultdict(<class 'dict'>, {'xbcf_outcome_xbcf': 1954.2491867542267, 'QR_Agnostic': 1507.7402851581573, 'Agnostic_QR_two-model': 1422.2742831707, 'CP_two-model_NN': 4444.708658218384, 'MAPIE_two-model_naive': 15.143970966339111})}},\n       {'idx': array([    16,     21,     26, ..., 119228, 119231, 119234]), 'conversion': {'single-model_outcome_gbt': array([0.06397994, 0.17577863, 0.22446176, ..., 0.05583001, 0.06701474,\n              0.10775021]), 'single-model_hurdle_gbt': array([0.08352868, 0.2054923 , 0.23574057, ..., 0.06231757, 0.07662788,\n              0.10981608]), 'two-model_hurdle_gbt': array([0.09262604, 0.2021068 , 0.16571777, ..., 0.08065242, 0.09145486,\n              0.12687497]), 'Conversion-Rate__': array([0.1192887, 0.1192887, 0.1192887, ..., 0.1192887, 0.1192887,\n              0.1192887])}, 'treatment_conversion': {'single-model_hurdle_gbt': array([0.01652567, 0.11331467, 0.06108986, ..., 0.02625574, 0.0202405 ,\n              0.04746495]), 'two-model_hurdle_gbt': array([0.02687253, 0.10603655, 0.00345849, ..., 0.03550482, 0.02780868,\n              0.05381719]), 'ATE__': array([0.04781211, 0.04781211, 0.04781211, ..., 0.04781211, 0.04781211,\n              0.04781211]), 'oracle__': array([-0.00076798,  0.08474153,  0.0543066 , ...,  0.01136079,\n              -0.00076798,  0.0627878 ])}, 'treatment_basket_value': {'single-model_hurdle_gbt': array([ 0.6047222 , -1.30093745, -0.21940741, ...,  0.        ,\n               0.        , -0.61542811]), 'two-model_hurdle_gbt': array([  5.62839591,  -0.26204926, -20.76739359, ...,   2.47335223,\n                4.12097906,  -6.92894266]), 'ATE__': array([-0.78345105, -0.78345105, -0.78345105, ..., -0.78345105,\n              -0.78345105, -0.78345105]), 'oracle__': array([ 3.10212736,  2.97392466, -4.46388351, ...,  3.13065113,\n               3.10212736,  2.65699124])}, 'treatment_spending': {'single-model_hurdle_gbt': array([ 2.31265552, 10.91127284,  4.6089014 , ...,  2.36873515,\n               2.52464683,  4.48441304]), 'two-model_outcome_gbt': array([ 2.49201792,  8.4662005 , -3.84118721, ...,  2.74163835,\n               3.01333758,  3.26198128]), 'two-model_hurdle_gbt': array([ 3.59437143, 10.18562578, -3.11497854, ...,  3.44255716,\n               3.41970298,  4.68392548]), 'xbcf_outcome_xbcf': array([3.23676415, 5.38320009, 4.73433104, ..., 2.5201972 , 3.24421637,\n              5.06281716]), 'oracle__': array([0.02915919, 6.90254847, 2.73223458, ..., 1.12175844, 0.05259155,\n              6.36147859]), 'ATE__': array([4.63512014, 4.63512014, 4.63512014, ..., 4.63512014, 4.63512014,\n              4.63512014])}, 'control_predictions': {}, 'prediction_intervals': {0.05: defaultdict(<class 'dict'>, {'xbcf_outcome_xbcf': {'quantile_model': {'pred_low': array([-0.9319877 , -0.9251139 , -0.94723765, ..., -0.94414366,\n              -0.93142271, -0.92338837]), 'pred_high': array([13.12440898, 19.82864041, 23.73250882, ...,  8.94082789,\n              13.12440898, 23.48991456])}}, 'Agnostic_QR_two-model': {'quantile_model': {'pred_low': array([-0.75078418, -0.60871602, -0.69720634, ..., -0.46970374,\n              -0.7015697 , -0.66299605]), 'pred_high': array([17.19124277, 12.58000618, 10.71641874, ..., 10.53630933,\n              15.81739524, 12.58065312])}}, 'CP_two-model_NN': {'quantile_model': {'pred_low': array([-1.93197589, -1.9310229 , -1.9624465 , ..., -1.88532843,\n              -1.91839931, -1.93593678]), 'pred_high': array([19.71059999, 19.72012985, 19.4058939 , ..., 20.17707458,\n              19.84636574, 19.67099104])}}, 'MAPIE_two-model_naive': {'quantile_model': {'pred_low': array([-1.8947012 , -1.83862537, -1.94563348, ..., -1.89035619,\n              -1.88446158, -1.86681087]), 'pred_high': array([19.35446396, 19.91522221, 18.84514118, ..., 19.39791403,\n              19.45686015, 19.63336725])}}}), 0.32: defaultdict(<class 'dict'>, {'xbcf_outcome_xbcf': {'quantile_model': {'pred_low': array([2.50937896, 4.49381878, 2.6311027 , ..., 1.98079072, 2.51211316,\n              3.73184304]), 'pred_high': array([3.94334315, 6.42308401, 6.47027216, ..., 3.10967283, 3.94334315,\n              5.943489  ])}}, 'Agnostic_QR_two-model': {'quantile_model': {'pred_low': array([-24.17438156, -18.58012821, -44.04953433, ...,  -1.02984177,\n              -15.89378427, -24.09045317]), 'pred_high': array([31.07335309, 15.95347787,  5.27027963, ...,  2.3742251 ,\n              22.75465405,  6.0283752 ])}}, 'CP_two-model_NN': {'quantile_model': {'pred_low': array([-35.70084858, -33.48650575, -29.60197401, ..., -34.32865715,\n              -32.56917381, -34.6447897 ]), 'pred_high': array([36.98756504, 39.20190787, 43.08643961, ..., 38.35975647,\n              40.11923981, 38.04362392])}}, 'MAPIE_two-model_naive': {'quantile_model': {'pred_low': array([-34.20242474, -26.95966466, -38.12171458, ..., -33.12463264,\n              -32.77785684, -31.36740433]), 'pred_high': array([37.8458737 , 45.08863378, 33.92658386, ..., 38.9236658 ,\n              39.2704416 , 40.68089411])}}})}, 'time_model': {'single-model_hurdle_gbt': 47.74536728858948, 'two-model_outcome_gbt': 37.88167142868042, 'two-model_hurdle_gbt': 41.35523343086243, 'xbcf_outcome_xbcf': 1998.042275428772}, 'time_pi': {0.05: defaultdict(<class 'dict'>, {'xbcf_outcome_xbcf': 1998.042275428772, 'QR_Agnostic': 1902.6948523521423, 'Agnostic_QR_two-model': 1783.4794759750366, 'CP_two-model_NN': 5905.944095849991, 'MAPIE_two-model_naive': 30.372509241104126}), 0.32: defaultdict(<class 'dict'>, {'xbcf_outcome_xbcf': 1998.042275428772, 'QR_Agnostic': 1497.507163286209, 'Agnostic_QR_two-model': 1405.9784471988678, 'CP_two-model_NN': 4429.008631944656, 'MAPIE_two-model_naive': 13.385196924209595})}},\n       {'idx': array([     6,      9,     15, ..., 119230, 119232, 119242]), 'conversion': {'single-model_outcome_gbt': array([0.14868627, 0.13522113, 0.04342872, ..., 0.07353943, 0.14835126,\n              0.13284412]), 'single-model_hurdle_gbt': array([0.14087553, 0.13391395, 0.04921948, ..., 0.08288979, 0.13058698,\n              0.13634282]), 'two-model_hurdle_gbt': array([0.12311896, 0.11007748, 0.06847534, ..., 0.104629  , 0.11787046,\n              0.13771717]), 'Conversion-Rate__': array([0.1192887, 0.1192887, 0.1192887, ..., 0.1192887, 0.1192887,\n              0.1192887])}, 'treatment_conversion': {'single-model_hurdle_gbt': array([0.03748837, 0.08069373, 0.01433989, ..., 0.03996294, 0.07649415,\n              0.05111175]), 'two-model_hurdle_gbt': array([0.03815867, 0.05768407, 0.02903891, ..., 0.05545325, 0.06970333,\n              0.05164795]), 'ATE__': array([0.04781211, 0.04781211, 0.04781211, ..., 0.04781211, 0.04781211,\n              0.04781211]), 'oracle__': array([ 0.04991055,  0.11871202, -0.00076798, ...,  0.00386651,\n               0.07349067,  0.04754174])}, 'treatment_basket_value': {'single-model_hurdle_gbt': array([0.       , 0.       , 0.       , ..., 0.       , 0.       ,\n              0.6921384]), 'two-model_hurdle_gbt': array([-0.96192681, -2.64164671, -2.56867609, ...,  1.71962286,\n              -1.74642904,  7.53886645]), 'ATE__': array([-1.25151838, -1.25151838, -1.25151838, ..., -1.25151838,\n              -1.25151838, -1.25151838]), 'oracle__': array([ 2.85774959, -4.12790629,  3.10212736, ...,  4.38330004,\n               1.40892709, -2.04634058])}, 'treatment_spending': {'single-model_hurdle_gbt': array([3.69793703, 5.84415463, 1.02057114, ..., 2.97372721, 8.60623128,\n              4.11973216]), 'two-model_outcome_gbt': array([3.23308194, 4.7099165 , 1.43917099, ..., 3.90338053, 8.08205954,\n              4.75271637]), 'two-model_hurdle_gbt': array([3.60391443, 4.33657656, 2.08318428, ..., 4.52212725, 7.47356885,\n              5.06855881]), 'xbcf_outcome_xbcf': array([ 5.87804697,  1.78275081,  5.38104383, ...,  1.78064531,\n               6.69924187, -0.73511877]), 'oracle__': array([5.02971631, 7.77346601, 0.00900973, ..., 0.44178689, 8.47520398,\n              3.10359318]), 'ATE__': array([4.58520157, 4.58520157, 4.58520157, ..., 4.58520157, 4.58520157,\n              4.58520157])}, 'control_predictions': {}, 'prediction_intervals': {0.05: defaultdict(<class 'dict'>, {'xbcf_outcome_xbcf': {'quantile_model': {'pred_low': array([-0.16096592, -0.3138511 , -0.25118858, ..., -0.29036309,\n              -0.06784707, -0.51819675]), 'pred_high': array([12.63804386, 10.4943756 , 10.87238946, ...,  7.82243868,\n              13.37343253,  8.00854985])}}, 'Agnostic_QR_two-model': {'quantile_model': {'pred_low': array([-0.54467426, -0.38089568, -0.40488338, ..., -0.56519327,\n              -0.74282349, -0.44434701]), 'pred_high': array([12.0423654 ,  7.94680373,  6.31826837, ...,  7.96846421,\n              16.61543032,  8.85550286])}}, 'CP_two-model_NN': {'quantile_model': {'pred_low': array([-1.86982226, -1.94177941, -1.93346189, ..., -1.97399865,\n              -1.89160039, -1.93976257]), 'pred_high': array([21.61887484, 20.89930339, 20.98247862, ..., 20.57711099,\n              21.40109358, 20.91947174])}}, 'MAPIE_two-model_naive': {'quantile_model': {'pred_low': array([-1.8891058 , -1.87340106, -1.90299063, ..., -1.88255521,\n              -1.83333238, -1.87101565]), 'pred_high': array([19.43946647, 19.59651381, 19.30061815, ..., 19.50497234,\n              19.99720064, 19.62036794])}}}), 0.32: defaultdict(<class 'dict'>, {'xbcf_outcome_xbcf': {'quantile_model': {'pred_low': array([ 4.03137833, -0.1152466 ,  4.7610322 , ...,  0.55749915,\n               5.71655819, -3.54089907]), 'pred_high': array([7.34912347, 3.74937753, 6.61243028, ..., 2.93935176, 7.53712486,\n              1.72451457])}}, 'Agnostic_QR_two-model': {'quantile_model': {'pred_low': array([-11.09569933,  -8.39003464,  -0.47621604, ..., -12.97294933,\n              -17.83936871, -25.50544924]), 'pred_high': array([ 8.2650263 ,  2.22215384,  3.0636856 , ..., -6.36400812,\n              22.86257388, 13.89455898])}}, 'CP_two-model_NN': {'quantile_model': {'pred_low': array([-29.08684206, -34.84270334, -34.19055986, ..., -31.99365163,\n              -28.08998203, -31.6551075 ]), 'pred_high': array([41.21775389, 35.4618926 , 36.11403608, ..., 38.31094432,\n              42.21461391, 38.64948845])}}, 'MAPIE_two-model_naive': {'quantile_model': {'pred_low': array([-32.79731467, -31.1885375 , -34.36949167, ..., -31.64838627,\n              -27.84864775, -31.18599132]), 'pred_high': array([38.07387808, 39.68265525, 36.50170108, ..., 39.22280648,\n              43.022545  , 39.68520143])}}})}, 'time_model': {'single-model_hurdle_gbt': 29.394269943237305, 'two-model_outcome_gbt': 17.278013706207275, 'two-model_hurdle_gbt': 19.325791597366333, 'xbcf_outcome_xbcf': 1392.1240918636322}, 'time_pi': {0.05: defaultdict(<class 'dict'>, {'xbcf_outcome_xbcf': 1392.1240918636322, 'QR_Agnostic': 1559.4828147888184, 'Agnostic_QR_two-model': 1470.530774116516, 'CP_two-model_NN': 4206.357703208923, 'MAPIE_two-model_naive': 13.973362684249878}), 0.32: defaultdict(<class 'dict'>, {'xbcf_outcome_xbcf': 1392.1240918636322, 'QR_Agnostic': 769.3189210891724, 'Agnostic_QR_two-model': 724.4344754219055, 'CP_two-model_NN': 646.0350728034973, 'MAPIE_two-model_naive': 11.490452527999878})}}],\n      dtype=object)"
     },
     "execution_count": 78,
     "metadata": {},
     "output_type": "execute_result"
    }
   ],
   "source": [
    "predictions_test"
   ],
   "metadata": {
    "collapsed": false,
    "pycharm": {
     "name": "#%%\n"
    }
   }
  },
  {
   "cell_type": "code",
   "execution_count": 91,
   "outputs": [],
   "source": [
    "# change ordering of dicts\n",
    "quantiles = [0.05, 0.32] #0.1,0.2,\n",
    "unc_by_alpha = {}\n",
    "for alpha in quantiles:\n",
    "    unc_by_alpha[alpha] = []\n",
    "    for folds in unc_eval_test:\n",
    "        list = folds[alpha]\n",
    "        unc_by_alpha[alpha].append(list)\n"
   ],
   "metadata": {
    "collapsed": false,
    "pycharm": {
     "name": "#%%\n"
    }
   }
  },
  {
   "cell_type": "code",
   "execution_count": 58,
   "outputs": [
    {
     "data": {
      "text/plain": "array([0.87585312, 0.98491325, 0.92388781, ..., 1.00388629, 1.5186635 ,\n       3.52860878])"
     },
     "execution_count": 58,
     "metadata": {},
     "output_type": "execute_result"
    }
   ],
   "source": [],
   "metadata": {
    "collapsed": false,
    "pycharm": {
     "name": "#%%\n"
    }
   }
  },
  {
   "cell_type": "code",
   "execution_count": 93,
   "outputs": [
    {
     "name": "stdout",
     "output_type": "stream",
     "text": [
      "metric                 PICP  QNMPIW   Std  training_time\n",
      "xbcf_outcome_xbcf      0.88    0.92  9.20          33.66\n",
      "Agnostic_QR_two-model  0.97    1.23  3.45          28.64\n",
      "CP_two-model_NN        1.00    2.23  3.88          81.05\n",
      "MAPIE_two-model_naive  1.00    2.16  0.29           0.44\n",
      "metric                 PICP  QNMPIW    Std  training_time\n",
      "xbcf_outcome_xbcf      0.29    0.74   3.33          33.66\n",
      "Agnostic_QR_two-model  0.79    7.12  20.81          25.08\n",
      "CP_two-model_NN        0.99   19.01   0.00          71.80\n",
      "MAPIE_two-model_naive  1.00   17.79   0.00           0.34\n"
     ]
    }
   ],
   "source": [
    "unc_eval_test_dataframe_folds = {}\n",
    "for alpha in quantiles:\n",
    "\n",
    "    unc_eval_test_dataframe = pd.concat([pd.DataFrame(x) for x in unc_by_alpha[alpha]], axis=0, keys=range(len(eval_test)))\n",
    "    unc_eval_test_dataframe.index.rename([\"fold\",\"metric\"], inplace=True)\n",
    "    unc_eval_test_dataframe.rename(str, axis='columns', inplace=True)\n",
    "    unc_eval_test_dataframe_folds[alpha] = unc_eval_test_dataframe\n",
    "    unc_eval_test_dataframe= unc_eval_test_dataframe.groupby(\"metric\").mean().T\n",
    "    print(unc_eval_test_dataframe.round(2))\n",
    "    unc_eval_test_dataframe.to_latex(buf=f\"figures/treatment_uncertainty_prediction_quality_{alpha}_{today}_scaled.tex\", float_format=\"%.2f\")"
   ],
   "metadata": {
    "collapsed": false,
    "pycharm": {
     "name": "#%%\n"
    }
   }
  },
  {
   "cell_type": "markdown",
   "source": [
    "Evaluation Tables"
   ],
   "metadata": {
    "collapsed": false,
    "pycharm": {
     "name": "#%% md\n"
    }
   }
  },
  {
   "cell_type": "code",
   "execution_count": null,
   "outputs": [],
   "source": [
    "# remove instances\n",
    "for alpha in quantiles:\n",
    "    unc_eval_test_dataframe_folds[alpha] = unc_eval_test_dataframe_folds[alpha].loc[:, ~(unc_eval_test_dataframe_folds[alpha].columns.str.contains('single') | unc_eval_test_dataframe_folds[alpha].columns.str.contains('dr')\n",
    "                                              | unc_eval_test_dataframe_folds[alpha].columns.str.contains('DR'))].groupby(\"metric\").mean().T\n",
    "    unc_eval_test_dataframe_folds[alpha]['training_time'] = unc_eval_test_dataframe_folds[alpha]['training_time']/60\n",
    "    unc_eval_test_dataframe_folds[alpha].to_latex(buf=f\"figures/treatment_uncertainty_prediction_quality_small_{alpha}_{today}.tex\", float_format=\"%.2f\")\n"
   ],
   "metadata": {
    "collapsed": false,
    "pycharm": {
     "name": "#%%\n"
    }
   }
  },
  {
   "cell_type": "code",
   "source": [
    "\n",
    "df = pd.DataFrame(unc_eval_test_dataframe_folds[alpha].T)"
   ],
   "metadata": {
    "collapsed": false,
    "pycharm": {
     "name": "#%%\n"
    }
   },
   "execution_count": 82,
   "outputs": [
    {
     "data": {
      "text/plain": "fold                0                                                1  \\\nmetric           PICP     QNMPIW           Std training_time      PICP   \nNames                                                                    \nQR_GBR       0.737851   6.670562  2.245883e+01      1.561073  0.726739   \nSplit-CP_RF  0.986960  22.591146  2.980303e-14      0.734264  0.981760   \nCQR_RF_Sym   0.998952  14.581862  2.600921e+01     19.793254  0.998742   \nMAPIE_Naive  0.999203  17.528388  1.503291e-14      0.021092  0.998658   \nMAPIE_CV+    0.999916  18.798867  1.410176e+00      0.103277  0.999706   \nXBCF         0.323619   0.768368  2.004063e+00     19.681213  0.295107   \nLocal-CP_RF  0.987085  16.420577  3.841837e+01    432.251704  0.988343   \nSplit-CP_NN  0.987589  16.004842  1.372450e-14     30.302477  0.996436   \nLocal-CP_NN  0.990901  11.820649  1.132737e+01     43.518175  0.996268   \nCQR_RF_Asym  0.943520  22.194008  4.541645e+00      7.312167  0.945113   \n\nfold                                                       2             \\\nmetric          QNMPIW           Std training_time      PICP     QNMPIW   \nNames                                                                     \nQR_GBR        6.247460  2.128933e+01      1.536469  0.710722   6.244327   \nSplit-CP_RF  22.576547  2.921912e-14      0.741792  0.977777  23.411904   \nCQR_RF_Sym   15.078585  2.927615e+01     20.254049  0.997945  15.057791   \nMAPIE_Naive  17.126996  2.030343e-14      0.020310  0.998868  17.415869   \nMAPIE_CV+    18.358065  1.374734e+00      0.100012  0.999497  18.421355   \nXBCF          0.616121  2.078661e+00     19.330109  0.445805   1.029508   \nLocal-CP_RF  16.309882  3.995472e+01    436.648083  0.988134  16.083975   \nSplit-CP_NN  16.531698  2.344269e-15     12.004693  0.993375  18.454447   \nLocal-CP_NN  10.665031  8.234448e+00     25.701387  0.981802  12.903019   \nCQR_RF_Asym  21.602916  5.758334e+00      7.312167  0.943520  21.870262   \n\nfold                                            3                           \\\nmetric                Std training_time      PICP     QNMPIW           Std   \nNames                                                                        \nQR_GBR       2.089835e+01      1.574008  0.718730   6.212449  2.115838e+01   \nSplit-CP_RF  1.574386e-14      0.735969  0.985199  24.101604  2.155090e-14   \nCQR_RF_Sym   2.361564e+01     20.286812  0.998197  15.368691  2.459192e+01   \nMAPIE_Naive  2.884593e-14      0.020571  0.999413  17.633255  4.590897e-15   \nMAPIE_CV+    1.283066e+00      0.104819  0.999748  18.529221  1.317621e+00   \nXBCF         1.885650e+00     19.449708  0.393182   0.810494  2.362153e+00   \nLocal-CP_RF  3.934244e+01    432.131560  0.985115  16.312704  4.053000e+01   \nSplit-CP_NN  1.197471e-14     35.284338  0.990943  15.896361  1.264020e-14   \nLocal-CP_NN  1.540771e+01     49.650776  0.983396  13.136190  1.623570e+01   \nCQR_RF_Asym  5.419489e+00      7.312167  0.942723  21.731894  5.328490e+00   \n\nfold                              4                                         \nmetric      training_time      PICP     QNMPIW           Std training_time  \nNames                                                                       \nQR_GBR           1.571387  0.723385   6.229027  2.141134e+01      1.539364  \nSplit-CP_RF      0.731548  0.979244  22.059621  2.909496e-14      0.736127  \nCQR_RF_Sym      19.863849  0.997778  14.697023  2.519317e+01     20.240557  \nMAPIE_Naive      0.021805  0.999497  16.958248  1.989306e-14      0.019008  \nMAPIE_CV+        0.099496  0.999958  18.149629  1.513168e+00      0.091577  \nXBCF            20.488347  0.435700   1.028187  1.776898e+00     19.971568  \nLocal-CP_RF    429.132111  0.989811  15.926637  3.940070e+01    432.036760  \nSplit-CP_NN     26.562179  0.997107  17.774421  5.819894e-16     22.574757  \nLocal-CP_NN     51.571535  0.994759  12.512565  1.898825e+01     43.554077  \nCQR_RF_Asym      7.312167  0.945490  21.798388  5.867040e+00      7.312167  ",
      "text/html": "<div>\n<style scoped>\n    .dataframe tbody tr th:only-of-type {\n        vertical-align: middle;\n    }\n\n    .dataframe tbody tr th {\n        vertical-align: top;\n    }\n\n    .dataframe thead tr th {\n        text-align: left;\n    }\n\n    .dataframe thead tr:last-of-type th {\n        text-align: right;\n    }\n</style>\n<table border=\"1\" class=\"dataframe\">\n  <thead>\n    <tr>\n      <th>fold</th>\n      <th colspan=\"4\" halign=\"left\">0</th>\n      <th colspan=\"4\" halign=\"left\">1</th>\n      <th colspan=\"4\" halign=\"left\">2</th>\n      <th colspan=\"4\" halign=\"left\">3</th>\n      <th colspan=\"4\" halign=\"left\">4</th>\n    </tr>\n    <tr>\n      <th>metric</th>\n      <th>PICP</th>\n      <th>QNMPIW</th>\n      <th>Std</th>\n      <th>training_time</th>\n      <th>PICP</th>\n      <th>QNMPIW</th>\n      <th>Std</th>\n      <th>training_time</th>\n      <th>PICP</th>\n      <th>QNMPIW</th>\n      <th>Std</th>\n      <th>training_time</th>\n      <th>PICP</th>\n      <th>QNMPIW</th>\n      <th>Std</th>\n      <th>training_time</th>\n      <th>PICP</th>\n      <th>QNMPIW</th>\n      <th>Std</th>\n      <th>training_time</th>\n    </tr>\n    <tr>\n      <th>Names</th>\n      <th></th>\n      <th></th>\n      <th></th>\n      <th></th>\n      <th></th>\n      <th></th>\n      <th></th>\n      <th></th>\n      <th></th>\n      <th></th>\n      <th></th>\n      <th></th>\n      <th></th>\n      <th></th>\n      <th></th>\n      <th></th>\n      <th></th>\n      <th></th>\n      <th></th>\n      <th></th>\n    </tr>\n  </thead>\n  <tbody>\n    <tr>\n      <th>QR_GBR</th>\n      <td>0.737851</td>\n      <td>6.670562</td>\n      <td>2.245883e+01</td>\n      <td>1.561073</td>\n      <td>0.726739</td>\n      <td>6.247460</td>\n      <td>2.128933e+01</td>\n      <td>1.536469</td>\n      <td>0.710722</td>\n      <td>6.244327</td>\n      <td>2.089835e+01</td>\n      <td>1.574008</td>\n      <td>0.718730</td>\n      <td>6.212449</td>\n      <td>2.115838e+01</td>\n      <td>1.571387</td>\n      <td>0.723385</td>\n      <td>6.229027</td>\n      <td>2.141134e+01</td>\n      <td>1.539364</td>\n    </tr>\n    <tr>\n      <th>Split-CP_RF</th>\n      <td>0.986960</td>\n      <td>22.591146</td>\n      <td>2.980303e-14</td>\n      <td>0.734264</td>\n      <td>0.981760</td>\n      <td>22.576547</td>\n      <td>2.921912e-14</td>\n      <td>0.741792</td>\n      <td>0.977777</td>\n      <td>23.411904</td>\n      <td>1.574386e-14</td>\n      <td>0.735969</td>\n      <td>0.985199</td>\n      <td>24.101604</td>\n      <td>2.155090e-14</td>\n      <td>0.731548</td>\n      <td>0.979244</td>\n      <td>22.059621</td>\n      <td>2.909496e-14</td>\n      <td>0.736127</td>\n    </tr>\n    <tr>\n      <th>CQR_RF_Sym</th>\n      <td>0.998952</td>\n      <td>14.581862</td>\n      <td>2.600921e+01</td>\n      <td>19.793254</td>\n      <td>0.998742</td>\n      <td>15.078585</td>\n      <td>2.927615e+01</td>\n      <td>20.254049</td>\n      <td>0.997945</td>\n      <td>15.057791</td>\n      <td>2.361564e+01</td>\n      <td>20.286812</td>\n      <td>0.998197</td>\n      <td>15.368691</td>\n      <td>2.459192e+01</td>\n      <td>19.863849</td>\n      <td>0.997778</td>\n      <td>14.697023</td>\n      <td>2.519317e+01</td>\n      <td>20.240557</td>\n    </tr>\n    <tr>\n      <th>MAPIE_Naive</th>\n      <td>0.999203</td>\n      <td>17.528388</td>\n      <td>1.503291e-14</td>\n      <td>0.021092</td>\n      <td>0.998658</td>\n      <td>17.126996</td>\n      <td>2.030343e-14</td>\n      <td>0.020310</td>\n      <td>0.998868</td>\n      <td>17.415869</td>\n      <td>2.884593e-14</td>\n      <td>0.020571</td>\n      <td>0.999413</td>\n      <td>17.633255</td>\n      <td>4.590897e-15</td>\n      <td>0.021805</td>\n      <td>0.999497</td>\n      <td>16.958248</td>\n      <td>1.989306e-14</td>\n      <td>0.019008</td>\n    </tr>\n    <tr>\n      <th>MAPIE_CV+</th>\n      <td>0.999916</td>\n      <td>18.798867</td>\n      <td>1.410176e+00</td>\n      <td>0.103277</td>\n      <td>0.999706</td>\n      <td>18.358065</td>\n      <td>1.374734e+00</td>\n      <td>0.100012</td>\n      <td>0.999497</td>\n      <td>18.421355</td>\n      <td>1.283066e+00</td>\n      <td>0.104819</td>\n      <td>0.999748</td>\n      <td>18.529221</td>\n      <td>1.317621e+00</td>\n      <td>0.099496</td>\n      <td>0.999958</td>\n      <td>18.149629</td>\n      <td>1.513168e+00</td>\n      <td>0.091577</td>\n    </tr>\n    <tr>\n      <th>XBCF</th>\n      <td>0.323619</td>\n      <td>0.768368</td>\n      <td>2.004063e+00</td>\n      <td>19.681213</td>\n      <td>0.295107</td>\n      <td>0.616121</td>\n      <td>2.078661e+00</td>\n      <td>19.330109</td>\n      <td>0.445805</td>\n      <td>1.029508</td>\n      <td>1.885650e+00</td>\n      <td>19.449708</td>\n      <td>0.393182</td>\n      <td>0.810494</td>\n      <td>2.362153e+00</td>\n      <td>20.488347</td>\n      <td>0.435700</td>\n      <td>1.028187</td>\n      <td>1.776898e+00</td>\n      <td>19.971568</td>\n    </tr>\n    <tr>\n      <th>Local-CP_RF</th>\n      <td>0.987085</td>\n      <td>16.420577</td>\n      <td>3.841837e+01</td>\n      <td>432.251704</td>\n      <td>0.988343</td>\n      <td>16.309882</td>\n      <td>3.995472e+01</td>\n      <td>436.648083</td>\n      <td>0.988134</td>\n      <td>16.083975</td>\n      <td>3.934244e+01</td>\n      <td>432.131560</td>\n      <td>0.985115</td>\n      <td>16.312704</td>\n      <td>4.053000e+01</td>\n      <td>429.132111</td>\n      <td>0.989811</td>\n      <td>15.926637</td>\n      <td>3.940070e+01</td>\n      <td>432.036760</td>\n    </tr>\n    <tr>\n      <th>Split-CP_NN</th>\n      <td>0.987589</td>\n      <td>16.004842</td>\n      <td>1.372450e-14</td>\n      <td>30.302477</td>\n      <td>0.996436</td>\n      <td>16.531698</td>\n      <td>2.344269e-15</td>\n      <td>12.004693</td>\n      <td>0.993375</td>\n      <td>18.454447</td>\n      <td>1.197471e-14</td>\n      <td>35.284338</td>\n      <td>0.990943</td>\n      <td>15.896361</td>\n      <td>1.264020e-14</td>\n      <td>26.562179</td>\n      <td>0.997107</td>\n      <td>17.774421</td>\n      <td>5.819894e-16</td>\n      <td>22.574757</td>\n    </tr>\n    <tr>\n      <th>Local-CP_NN</th>\n      <td>0.990901</td>\n      <td>11.820649</td>\n      <td>1.132737e+01</td>\n      <td>43.518175</td>\n      <td>0.996268</td>\n      <td>10.665031</td>\n      <td>8.234448e+00</td>\n      <td>25.701387</td>\n      <td>0.981802</td>\n      <td>12.903019</td>\n      <td>1.540771e+01</td>\n      <td>49.650776</td>\n      <td>0.983396</td>\n      <td>13.136190</td>\n      <td>1.623570e+01</td>\n      <td>51.571535</td>\n      <td>0.994759</td>\n      <td>12.512565</td>\n      <td>1.898825e+01</td>\n      <td>43.554077</td>\n    </tr>\n    <tr>\n      <th>CQR_RF_Asym</th>\n      <td>0.943520</td>\n      <td>22.194008</td>\n      <td>4.541645e+00</td>\n      <td>7.312167</td>\n      <td>0.945113</td>\n      <td>21.602916</td>\n      <td>5.758334e+00</td>\n      <td>7.312167</td>\n      <td>0.943520</td>\n      <td>21.870262</td>\n      <td>5.419489e+00</td>\n      <td>7.312167</td>\n      <td>0.942723</td>\n      <td>21.731894</td>\n      <td>5.328490e+00</td>\n      <td>7.312167</td>\n      <td>0.945490</td>\n      <td>21.798388</td>\n      <td>5.867040e+00</td>\n      <td>7.312167</td>\n    </tr>\n  </tbody>\n</table>\n</div>"
     },
     "execution_count": 82,
     "metadata": {},
     "output_type": "execute_result"
    }
   ]
  },
  {
   "cell_type": "code",
   "execution_count": 78,
   "outputs": [],
   "source": [
    "# change naming for plots\n",
    "column_names = ['QR_GBR', 'Split-CP_RF',\n",
    "       'CQR_RF_Sym', 'MAPIE_Naive',\n",
    "       'MAPIE_CV+', 'XBCF', 'Local-CP_RF',\n",
    "       'Split-CP_NN', 'Local-CP_NN',\n",
    "       'CQR_RF_Asym']"
   ],
   "metadata": {
    "collapsed": false,
    "pycharm": {
     "name": "#%%\n"
    }
   }
  },
  {
   "cell_type": "code",
   "execution_count": 28,
   "outputs": [],
   "source": [
    "column_names = [ 'XBCF','QR_GBR', 'Split-CP_RF',\n",
    "       'MAPIE_Naive']\n"
   ],
   "metadata": {
    "collapsed": false,
    "pycharm": {
     "name": "#%%\n"
    }
   }
  },
  {
   "cell_type": "code",
   "execution_count": 31,
   "outputs": [],
   "source": [
    "numbers = [1,2,3,4,5,6,7,8,9,10]\n",
    "import numpy as np\n",
    "import matplotlib.pyplot as plt\n",
    "for alpha in quantiles:\n",
    "    df = pd.DataFrame(unc_eval_test_dataframe_folds[alpha].T)\n",
    "\n",
    "\n",
    "    PICP_cols = [col for col in df.columns if 'PICP' in col]\n",
    "    MPIW_cols = [col for col in df.columns if 'MPIW' in col]\n",
    "    QNMPIW_cols = [col for col in df.columns if 'QNMPIW' in col]\n",
    "    df['Names'] = column_names\n",
    "    df.set_index('Names', inplace= True)\n",
    "\n",
    "    # plot for average width\n",
    "    df[MPIW_cols].T.boxplot(vert=False)\n",
    "    plt.title(\"Average Width for Miscoverage of \"+str( alpha*100)+\"%\" )\n",
    "    plt.xlabel(\"MPIW\")\n",
    "    plt.ylabel(\"PI Models\")\n",
    "    plt.savefig(f\"figures/{today}_{alpha}_uncertainty_evaluation_width_cv.pdf\",bbox_inches='tight')\n",
    "    plt.close()\n",
    "\n",
    "    df[QNMPIW_cols].T.boxplot(vert=False)\n",
    "    plt.title(\"Quantile-Normalized Average Width for Miscoverage of \"+str( alpha*100)+\"%\" )\n",
    "    plt.xlabel(\"QNMPIW\")\n",
    "    plt.ylabel(\"PI Models\")\n",
    "    plt.savefig(f\"figures/{today}_{alpha}_uncertainty_evaluation_normalized_width_cv.pdf\",bbox_inches='tight')\n",
    "    plt.close()\n",
    "\n",
    "    df[PICP_cols].T.boxplot(vert=False)\n",
    "    plt.title(\"Coverage of PI Methods for Miscoverage level \"+str( alpha*100)+\"%\" )\n",
    "    plt.xlabel(\"PICP\")\n",
    "    plt.ylabel(\"PI Models\")\n",
    "    plt.axvline(x=1-alpha, color='r')\n",
    "    plt.savefig(f\"figures/{today}_{alpha}_uncertainty_evaluation_picp_cv.pdf\",bbox_inches='tight')\n",
    "    plt.close()\n"
   ],
   "metadata": {
    "collapsed": false,
    "pycharm": {
     "name": "#%%\n"
    }
   }
  },
  {
   "cell_type": "markdown",
   "source": [
    "Look at percentiles of interval length:"
   ],
   "metadata": {
    "collapsed": false
   }
  },
  {
   "cell_type": "code",
   "execution_count": 24,
   "outputs": [],
   "source": [
    "percentiles = [helper.calc_percentiles(outcome_dict[\"prediction_intervals\"])\n",
    "             for outcome_dict in predictions_test]"
   ],
   "metadata": {
    "collapsed": false,
    "pycharm": {
     "name": "#%%\n"
    }
   }
  },
  {
   "cell_type": "code",
   "execution_count": 59,
   "outputs": [
    {
     "data": {
      "text/plain": "[{0.05: {'Agnostic_QR_two-model': {'width_percentiles':                   0\n    count  23849.000000\n    mean     129.852818\n    std       31.894727\n    min       17.103240\n    25%      109.296913\n    50%      128.948795\n    75%      148.886214\n    max      322.675054},\n   'RF_two-model': {'width_percentiles':                   0\n    count  2.384900e+04\n    mean   3.431591e+02\n    std    1.421544e-10\n    min    3.431591e+02\n    25%    3.431591e+02\n    50%    3.431591e+02\n    75%    3.431591e+02\n    max    3.431591e+02},\n   'CQR_two-model_rf_QuantileRegErrFun': {'width_percentiles':                   0\n    count  23849.000000\n    mean     320.151404\n    std       48.212525\n    min      265.048028\n    25%      287.865544\n    50%      307.556252\n    75%      336.721466\n    max     1176.678934},\n   'MAPIE_two-model_hurdle_naive': {'width_percentiles':                   0\n    count  2.384900e+04\n    mean   3.215530e+02\n    std    2.022969e-10\n    min    3.215530e+02\n    25%    3.215530e+02\n    50%    3.215530e+02\n    75%    3.215530e+02\n    max    3.215530e+02},\n   'MAPIE_two-model_hurdle_cv_plus': {'width_percentiles':                   0\n    count  23849.000000\n    mean     327.276132\n    std        0.798237\n    min      322.729329\n    25%      326.964188\n    50%      327.259395\n    75%      327.598812\n    max      339.288138},\n   'MAPIE_two-model_naive': {'width_percentiles':                   0\n    count  2.384900e+04\n    mean   3.227951e+02\n    std    1.763888e-10\n    min    3.227951e+02\n    25%    3.227951e+02\n    50%    3.227951e+02\n    75%    3.227951e+02\n    max    3.227951e+02},\n   'MAPIE_two-model_cv_plus': {'width_percentiles':                   0\n    count  23849.000000\n    mean     330.365870\n    std        1.068356\n    min      326.419239\n    25%      329.663487\n    50%      330.318900\n    75%      330.964710\n    max      342.147740},\n   'xbcf_outcome_xbcf': {'width_percentiles':                   0\n    count  23849.000000\n    mean       6.070603\n    std        3.644597\n    min        1.891385\n    25%        3.429568\n    50%        4.848692\n    75%        7.478949\n    max       33.468893},\n   'Local-CP_two-model_rf': {'width_percentiles':                   0\n    count  23849.000000\n    mean     442.772122\n    std      279.627312\n    min        1.250130\n    25%      241.820459\n    50%      398.301289\n    75%      592.582147\n    max     3946.583048},\n   'CP_two-model_NN': {'width_percentiles':                   0\n    count  2.384900e+04\n    mean   3.901326e+02\n    std    2.512528e-11\n    min    3.901326e+02\n    25%    3.901326e+02\n    50%    3.901326e+02\n    75%    3.901326e+02\n    max    3.901326e+02},\n   'Local-CP_two-model_NN': {'width_percentiles':                   0\n    count  23849.000000\n    mean     395.876132\n    std      122.079207\n    min      151.765532\n    25%      333.282758\n    50%      364.763631\n    75%      433.544260\n    max     3773.385129},\n   'CQR_two-model_rf_AsymRegErrFunc': {'width_percentiles':                   0\n    count  23849.000000\n    mean     239.310898\n    std       22.440788\n    min      234.025238\n    25%      234.025238\n    50%      234.025238\n    75%      234.025238\n    max      497.019534}},\n  0.32: {'Agnostic_QR_two-model': {'width_percentiles':                   0\n    count  23849.000000\n    mean      26.093490\n    std       22.459304\n    min        0.001864\n    25%        9.889502\n    50%       20.219676\n    75%       36.045897\n    max      206.928067},\n   'RF_two-model': {'width_percentiles':                   0\n    count  2.384900e+04\n    mean   8.837064e+01\n    std    8.910325e-12\n    min    8.837064e+01\n    25%    8.837064e+01\n    50%    8.837064e+01\n    75%    8.837064e+01\n    max    8.837064e+01},\n   'CQR_two-model_rf_QuantileRegErrFun': {'width_percentiles':                   0\n    count  23849.000000\n    mean      57.040421\n    std       26.009758\n    min       27.739967\n    25%       40.762005\n    50%       50.634664\n    75%       65.129256\n    max      807.040085},\n   'MAPIE_two-model_hurdle_naive': {'width_percentiles':                   0\n    count  2.384900e+04\n    mean   7.709367e+01\n    std    1.196616e-11\n    min    7.709367e+01\n    25%    7.709367e+01\n    50%    7.709367e+01\n    75%    7.709367e+01\n    max    7.709367e+01},\n   'MAPIE_two-model_hurdle_cv_plus': {'width_percentiles':                   0\n    count  23849.000000\n    mean      80.557418\n    std        1.134116\n    min       79.580731\n    25%       79.955223\n    50%       80.202435\n    75%       80.751682\n    max      102.690846},\n   'MAPIE_two-model_naive': {'width_percentiles':                   0\n    count  2.384900e+04\n    mean   6.856646e+01\n    std    1.836085e-11\n    min    6.856646e+01\n    25%    6.856646e+01\n    50%    6.856646e+01\n    75%    6.856646e+01\n    max    6.856646e+01},\n   'MAPIE_two-model_cv_plus': {'width_percentiles':                   0\n    count  23849.000000\n    mean      73.536239\n    std        1.410205\n    min       72.079228\n    25%       72.680204\n    50%       73.078256\n    75%       73.881739\n    max       97.668426},\n   'xbcf_outcome_xbcf': {'width_percentiles':                   0\n    count  23849.000000\n    mean       3.005655\n    std        2.004105\n    min        1.097074\n    25%        1.626109\n    50%        2.141564\n    75%        3.793877\n    max       17.891781},\n   'Local-CP_two-model_rf': {'width_percentiles':                   0\n    count  23849.000000\n    mean      64.232991\n    std       38.419172\n    min        0.383922\n    25%       37.385147\n    50%       58.842830\n    75%       85.706377\n    max      425.722093},\n   'CP_two-model_NN': {'width_percentiles':                   0\n    count  2.384900e+04\n    mean   6.260675e+01\n    std    1.730854e-11\n    min    6.260675e+01\n    25%    6.260675e+01\n    50%    6.260675e+01\n    75%    6.260675e+01\n    max    6.260675e+01},\n   'Local-CP_two-model_NN': {'width_percentiles':                   0\n    count  23849.000000\n    mean      46.239278\n    std       11.327611\n    min       17.976948\n    25%       39.283739\n    50%       44.057910\n    75%       50.838768\n    max      162.797298},\n   'CQR_two-model_rf_AsymRegErrFunc': {'width_percentiles':                   0\n    count  23849.000000\n    mean      86.817139\n    std        4.541740\n    min       86.522872\n    25%       86.522872\n    50%       86.522872\n    75%       86.522872\n    max      258.195674}}},\n {0.05: {'Agnostic_QR_two-model': {'width_percentiles':                   0\n    count  23849.000000\n    mean     127.010321\n    std       30.996548\n    min       18.071826\n    25%      106.840329\n    50%      125.371506\n    75%      145.818177\n    max      305.180179},\n   'RF_two-model': {'width_percentiles':                   0\n    count  2.384900e+04\n    mean   3.276832e+02\n    std    1.783358e-10\n    min    3.276832e+02\n    25%    3.276832e+02\n    50%    3.276832e+02\n    75%    3.276832e+02\n    max    3.276832e+02},\n   'CQR_two-model_rf_QuantileRegErrFun': {'width_percentiles':                   0\n    count  23849.000000\n    mean     308.675711\n    std       47.091289\n    min      257.004230\n    25%      277.667318\n    50%      296.511758\n    75%      323.727174\n    max      753.565995},\n   'MAPIE_two-model_hurdle_naive': {'width_percentiles':                   0\n    count  2.384900e+04\n    mean   3.205935e+02\n    std    4.422511e-11\n    min    3.205935e+02\n    25%    3.205935e+02\n    50%    3.205935e+02\n    75%    3.205935e+02\n    max    3.205935e+02},\n   'MAPIE_two-model_hurdle_cv_plus': {'width_percentiles':                   0\n    count  23849.000000\n    mean     329.430396\n    std        0.737815\n    min      324.562983\n    25%      329.064444\n    50%      329.444535\n    75%      329.794951\n    max      338.505279},\n   'MAPIE_two-model_naive': {'width_percentiles':                   0\n    count  2.384900e+04\n    mean   3.201294e+02\n    std    9.697662e-11\n    min    3.201294e+02\n    25%    3.201294e+02\n    50%    3.201294e+02\n    75%    3.201294e+02\n    max    3.201294e+02},\n   'MAPIE_two-model_cv_plus': {'width_percentiles':                   0\n    count  23849.000000\n    mean     331.857830\n    std        1.020251\n    min      327.619745\n    25%      331.166810\n    50%      331.805468\n    75%      332.341757\n    max      346.062599},\n   'xbcf_outcome_xbcf': {'width_percentiles':                   0\n    count  23849.000000\n    mean       4.812498\n    std        4.236188\n    min        1.526911\n    25%        2.415312\n    50%        3.337752\n    75%        6.363847\n    max      187.920773},\n   'Local-CP_two-model_rf': {'width_percentiles':                   0\n    count  23849.000000\n    mean     427.500435\n    std      262.191713\n    min        3.831460\n    25%      239.430786\n    50%      383.812455\n    75%      569.680707\n    max     2760.129406},\n   'CP_two-model_NN': {'width_percentiles':                   0\n    count  2.384900e+04\n    mean   3.899462e+02\n    std    1.351196e-10\n    min    3.899462e+02\n    25%    3.899462e+02\n    50%    3.899462e+02\n    75%    3.899462e+02\n    max    3.899462e+02},\n   'Local-CP_two-model_NN': {'width_percentiles':                   0\n    count  23849.000000\n    mean     374.265937\n    std       80.830457\n    min      155.217224\n    25%      325.566342\n    50%      381.351098\n    75%      408.215304\n    max     3171.997858},\n   'CQR_two-model_rf_AsymRegErrFunc': {'width_percentiles':                   0\n    count  23849.000000\n    mean     240.713957\n    std       21.766884\n    min      235.826249\n    25%      235.826249\n    50%      235.826249\n    75%      235.826249\n    max      524.905587}},\n  0.32: {'Agnostic_QR_two-model': {'width_percentiles':                   0\n    count  23849.000000\n    mean      24.820421\n    std       21.289778\n    min        0.000350\n    25%        9.031628\n    50%       19.543497\n    75%       34.695714\n    max      196.576392},\n   'RF_two-model': {'width_percentiles':                   0\n    count  2.384900e+04\n    mean   8.969395e+01\n    std    1.851712e-11\n    min    8.969395e+01\n    25%    8.969395e+01\n    50%    8.969395e+01\n    75%    8.969395e+01\n    max    8.969395e+01},\n   'CQR_two-model_rf_QuantileRegErrFun': {'width_percentiles':                   0\n    count  23849.000000\n    mean      59.905438\n    std       29.276759\n    min       27.502061\n    25%       42.054074\n    50%       52.998593\n    75%       68.540279\n    max      570.455563},\n   'MAPIE_two-model_hurdle_naive': {'width_percentiles':                   0\n    count  2.384900e+04\n    mean   7.704730e+01\n    std    2.629042e-11\n    min    7.704730e+01\n    25%    7.704730e+01\n    50%    7.704730e+01\n    75%    7.704730e+01\n    max    7.704730e+01},\n   'MAPIE_two-model_hurdle_cv_plus': {'width_percentiles':                   0\n    count  23849.000000\n    mean      80.656246\n    std        1.167085\n    min       79.458128\n    25%       80.045048\n    50%       80.370817\n    75%       80.905531\n    max      101.829614},\n   'MAPIE_two-model_naive': {'width_percentiles':                   0\n    count  2.384900e+04\n    mean   6.804353e+01\n    std    2.145918e-11\n    min    6.804353e+01\n    25%    6.804353e+01\n    50%    6.804353e+01\n    75%    6.804353e+01\n    max    6.804353e+01},\n   'MAPIE_two-model_cv_plus': {'width_percentiles':                   0\n    count  23849.000000\n    mean      72.934425\n    std        1.374763\n    min       71.453888\n    25%       72.173106\n    50%       72.592532\n    75%       73.234357\n    max       98.893064},\n   'xbcf_outcome_xbcf': {'width_percentiles':                   0\n    count  23849.000000\n    mean       2.447777\n    std        2.078704\n    min        0.792268\n    25%        1.225442\n    50%        1.756921\n    75%        3.065052\n    max       94.934875},\n   'Local-CP_two-model_rf': {'width_percentiles':                   0\n    count  23849.000000\n    mean      64.797237\n    std       39.955560\n    min        0.097804\n    25%       35.852769\n    50%       59.089460\n    75%       87.829873\n    max      540.633120},\n   'CP_two-model_NN': {'width_percentiles':                   0\n    count  2.384900e+04\n    mean   6.567849e+01\n    std    1.420738e-12\n    min    6.567849e+01\n    25%    6.567849e+01\n    50%    6.567849e+01\n    75%    6.567849e+01\n    max    6.567849e+01},\n   'Local-CP_two-model_NN': {'width_percentiles':                   0\n    count  23849.000000\n    mean      42.370908\n    std        8.234621\n    min       18.514360\n    25%       38.871033\n    50%       41.343442\n    75%       45.111950\n    max      307.632705},\n   'CQR_two-model_rf_AsymRegErrFunc': {'width_percentiles':                   0\n    count  23849.000000\n    mean      85.825833\n    std        5.758454\n    min       85.348128\n    25%       85.348128\n    50%       85.348128\n    75%       85.348128\n    max      197.665684}}},\n {0.05: {'Agnostic_QR_two-model': {'width_percentiles':                   0\n    count  23849.000000\n    mean     126.456115\n    std       30.862530\n    min       19.657287\n    25%      106.263300\n    50%      125.538944\n    75%      144.724186\n    max      294.946795},\n   'RF_two-model': {'width_percentiles':                   0\n    count  2.384900e+04\n    mean   3.337102e+02\n    std    1.727508e-10\n    min    3.337102e+02\n    25%    3.337102e+02\n    50%    3.337102e+02\n    75%    3.337102e+02\n    max    3.337102e+02},\n   'CQR_two-model_rf_QuantileRegErrFun': {'width_percentiles':                   0\n    count  23849.000000\n    mean     320.108738\n    std       54.603899\n    min      261.089515\n    25%      283.810110\n    50%      304.840246\n    75%      338.384004\n    max      971.967729},\n   'MAPIE_two-model_hurdle_naive': {'width_percentiles':                   0\n    count  2.384900e+04\n    mean   3.165463e+02\n    std    6.889567e-11\n    min    3.165463e+02\n    25%    3.165463e+02\n    50%    3.165463e+02\n    75%    3.165463e+02\n    max    3.165463e+02},\n   'MAPIE_two-model_hurdle_cv_plus': {'width_percentiles':                   0\n    count  23849.000000\n    mean     327.003967\n    std        0.940431\n    min      321.142102\n    25%      326.629011\n    50%      327.172623\n    75%      327.551605\n    max      331.924559},\n   'MAPIE_two-model_naive': {'width_percentiles':                   0\n    count  2.384900e+04\n    mean   3.127873e+02\n    std    5.923208e-11\n    min    3.127873e+02\n    25%    3.127873e+02\n    50%    3.127873e+02\n    75%    3.127873e+02\n    max    3.127873e+02},\n   'MAPIE_two-model_cv_plus': {'width_percentiles':                   0\n    count  23849.000000\n    mean     327.403748\n    std        1.208066\n    min      320.463948\n    25%      326.762942\n    50%      327.604144\n    75%      328.268801\n    max      333.584560},\n   'xbcf_outcome_xbcf': {'width_percentiles':                   0\n    count  23849.000000\n    mean       7.258924\n    std        3.746764\n    min        2.781614\n    25%        4.096133\n    50%        6.730785\n    75%        8.836836\n    max       33.006552},\n   'Local-CP_two-model_rf': {'width_percentiles':                   0\n    count  23849.000000\n    mean     414.313115\n    std      250.084861\n    min        3.983693\n    25%      229.011094\n    50%      376.354593\n    75%      554.950147\n    max     1924.873653},\n   'CP_two-model_NN': {'width_percentiles':                   0\n    count  2.384900e+04\n    mean   3.873537e+02\n    std    4.022930e-11\n    min    3.873537e+02\n    25%    3.873537e+02\n    50%    3.873537e+02\n    75%    3.873537e+02\n    max    3.873537e+02},\n   'Local-CP_two-model_NN': {'width_percentiles':                   0\n    count  23849.000000\n    mean     380.004739\n    std      106.423516\n    min      150.051421\n    25%      319.694619\n    50%      359.351708\n    75%      413.208311\n    max     2948.423403},\n   'CQR_two-model_rf_AsymRegErrFunc': {'width_percentiles':                   0\n    count  23849.000000\n    mean     240.473405\n    std       22.422613\n    min      235.199120\n    25%      235.199120\n    50%      235.199120\n    75%      235.199120\n    max      498.534286}},\n  0.32: {'Agnostic_QR_two-model': {'width_percentiles':                   0\n    count  23849.000000\n    mean      24.820069\n    std       20.898792\n    min        0.000255\n    25%        8.768070\n    50%       19.656584\n    75%       35.177911\n    max      210.361909},\n   'RF_two-model': {'width_percentiles':                   0\n    count  2.384900e+04\n    mean   9.305807e+01\n    std    1.256274e-11\n    min    9.305807e+01\n    25%    9.305807e+01\n    50%    9.305807e+01\n    75%    9.305807e+01\n    max    9.305807e+01},\n   'CQR_two-model_rf_QuantileRegErrFun': {'width_percentiles':                   0\n    count  23849.000000\n    mean      59.851988\n    std       23.616139\n    min       34.749778\n    25%       45.530361\n    50%       54.506955\n    75%       66.489924\n    max      455.787185},\n   'MAPIE_two-model_hurdle_naive': {'width_percentiles':                   0\n    count  2.384900e+04\n    mean   7.552063e+01\n    std    2.933147e-11\n    min    7.552063e+01\n    25%    7.552063e+01\n    50%    7.552063e+01\n    75%    7.552063e+01\n    max    7.552063e+01},\n   'MAPIE_two-model_hurdle_cv_plus': {'width_percentiles':                   0\n    count  23849.000000\n    mean      79.943710\n    std        1.197673\n    min       78.698519\n    25%       79.271815\n    50%       79.605336\n    75%       80.177297\n    max       95.004751},\n   'MAPIE_two-model_naive': {'width_percentiles':                   0\n    count  2.384900e+04\n    mean   6.922492e+01\n    std    3.025564e-11\n    min    6.922492e+01\n    25%    6.922492e+01\n    50%    6.922492e+01\n    75%    6.922492e+01\n    max    6.922492e+01},\n   'MAPIE_two-model_cv_plus': {'width_percentiles':                   0\n    count  23849.000000\n    mean      73.221544\n    std        1.283093\n    min       71.598449\n    25%       72.462610\n    50%       72.885057\n    75%       73.539393\n    max       92.881345},\n   'xbcf_outcome_xbcf': {'width_percentiles':                   0\n    count  23849.000000\n    mean       4.092110\n    std        1.885689\n    min        1.488467\n    25%        2.186690\n    50%        4.495864\n    75%        5.096565\n    max       17.051037},\n   'Local-CP_two-model_rf': {'width_percentiles':                   0\n    count  23849.000000\n    mean      63.930886\n    std       39.343269\n    min        0.315619\n    25%       34.355051\n    50%       58.210022\n    75%       86.757773\n    max      325.655154},\n   'CP_two-model_NN': {'width_percentiles':                   0\n    count  2.384900e+04\n    mean   7.335308e+01\n    std    1.567903e-11\n    min    7.335308e+01\n    25%    7.335308e+01\n    50%    7.335308e+01\n    75%    7.335308e+01\n    max    7.335308e+01},\n   'Local-CP_two-model_NN': {'width_percentiles':                   0\n    count  23849.000000\n    mean      51.287160\n    std       15.408036\n    min       19.213658\n    25%       40.983310\n    50%       49.199483\n    75%       59.604829\n    max      491.272786},\n   'CQR_two-model_rf_AsymRegErrFunc': {'width_percentiles':                   0\n    count  23849.000000\n    mean      86.930324\n    std        5.419603\n    min       86.502631\n    25%       86.502631\n    50%       86.502631\n    75%       86.502631\n    max      232.326915}}},\n {0.05: {'Agnostic_QR_two-model': {'width_percentiles':                   0\n    count  23849.000000\n    mean     129.491068\n    std       31.427052\n    min       23.836763\n    25%      108.203394\n    50%      128.051974\n    75%      149.109765\n    max      296.246510},\n   'RF_two-model': {'width_percentiles':                   0\n    count  2.384900e+04\n    mean   3.425199e+02\n    std    1.974637e-10\n    min    3.425199e+02\n    25%    3.425199e+02\n    50%    3.425199e+02\n    75%    3.425199e+02\n    max    3.425199e+02},\n   'CQR_two-model_rf_QuantileRegErrFun': {'width_percentiles':                   0\n    count  23849.000000\n    mean     311.677335\n    std       40.519095\n    min      267.196449\n    25%      285.149681\n    50%      301.593631\n    75%      324.982860\n    max      876.203108},\n   'MAPIE_two-model_hurdle_naive': {'width_percentiles':                   0\n    count  2.384900e+04\n    mean   3.192001e+02\n    std    1.327896e-10\n    min    3.192001e+02\n    25%    3.192001e+02\n    50%    3.192001e+02\n    75%    3.192001e+02\n    max    3.192001e+02},\n   'MAPIE_two-model_hurdle_cv_plus': {'width_percentiles':                   0\n    count  23849.000000\n    mean     331.088326\n    std        0.838997\n    min      326.765297\n    25%      330.586383\n    50%      331.008750\n    75%      331.532581\n    max      341.216235},\n   'MAPIE_two-model_naive': {'width_percentiles':                   0\n    count  2.384900e+04\n    mean   3.175807e+02\n    std    1.653040e-10\n    min    3.175807e+02\n    25%    3.175807e+02\n    50%    3.175807e+02\n    75%    3.175807e+02\n    max    3.175807e+02},\n   'MAPIE_two-model_cv_plus': {'width_percentiles':                   0\n    count  23849.000000\n    mean     329.031453\n    std        0.879847\n    min      324.720268\n    25%      328.557845\n    50%      329.062799\n    75%      329.495285\n    max      337.639421},\n   'xbcf_outcome_xbcf': {'width_percentiles':                   0\n    count  23849.000000\n    mean       6.807335\n    std        4.407913\n    min        2.378646\n    25%        3.269425\n    50%        5.420753\n    75%        8.228916\n    max       42.361451},\n   'Local-CP_two-model_rf': {'width_percentiles':                   0\n    count  23849.000000\n    mean     425.021398\n    std      270.207260\n    min        2.314226\n    25%      233.185651\n    50%      378.039838\n    75%      566.212281\n    max     3538.018237},\n   'CP_two-model_NN': {'width_percentiles':                   0\n    count  2.384900e+04\n    mean   3.915525e+02\n    std    6.844091e-11\n    min    3.915525e+02\n    25%    3.915525e+02\n    50%    3.915525e+02\n    75%    3.915525e+02\n    max    3.915525e+02},\n   'Local-CP_two-model_NN': {'width_percentiles':                   0\n    count  23849.000000\n    mean     383.951709\n    std       99.955544\n    min      146.686554\n    25%      342.235289\n    50%      365.308539\n    75%      409.004875\n    max     4517.144708},\n   'CQR_two-model_rf_AsymRegErrFunc': {'width_percentiles':                   0\n    count  23849.000000\n    mean     241.032772\n    std       22.554185\n    min      235.976655\n    25%      235.976655\n    50%      235.976655\n    75%      235.976655\n    max      532.341683}},\n  0.32: {'Agnostic_QR_two-model': {'width_percentiles':                   0\n    count  23849.000000\n    mean      24.599652\n    std       21.158826\n    min        0.002759\n    25%        9.281701\n    50%       19.034755\n    75%       33.898507\n    max      213.845649},\n   'RF_two-model': {'width_percentiles':                   0\n    count  2.384900e+04\n    mean   9.543597e+01\n    std    2.057683e-11\n    min    9.543597e+01\n    25%    9.543597e+01\n    50%    9.543597e+01\n    75%    9.543597e+01\n    max    9.543597e+01},\n   'CQR_two-model_rf_QuantileRegErrFun': {'width_percentiles':                   0\n    count  23849.000000\n    mean      60.855950\n    std       24.592440\n    min       33.632602\n    25%       45.302365\n    50%       55.643797\n    75%       68.576471\n    max      467.819359},\n   'MAPIE_two-model_hurdle_naive': {'width_percentiles':                   0\n    count  2.384900e+04\n    mean   7.657829e+01\n    std    3.875391e-11\n    min    7.657829e+01\n    25%    7.657829e+01\n    50%    7.657829e+01\n    75%    7.657829e+01\n    max    7.657829e+01},\n   'MAPIE_two-model_hurdle_cv_plus': {'width_percentiles':                   0\n    count  23849.000000\n    mean      80.421996\n    std        1.325119\n    min       79.204086\n    25%       79.693490\n    50%       80.094521\n    75%       80.699420\n    max       98.717984},\n   'MAPIE_two-model_naive': {'width_percentiles':                   0\n    count  2.384900e+04\n    mean   6.982302e+01\n    std    2.670261e-11\n    min    6.982302e+01\n    25%    6.982302e+01\n    50%    6.982302e+01\n    75%    6.982302e+01\n    max    6.982302e+01},\n   'MAPIE_two-model_cv_plus': {'width_percentiles':                   0\n    count  23849.000000\n    mean      73.370811\n    std        1.317649\n    min       72.132958\n    25%       72.683673\n    50%       73.034958\n    75%       73.556706\n    max       95.488287},\n   'xbcf_outcome_xbcf': {'width_percentiles':                   0\n    count  23849.000000\n    mean       3.209340\n    std        2.362202\n    min        1.184090\n    25%        1.631107\n    50%        1.949672\n    75%        4.303795\n    max       19.188684},\n   'Local-CP_two-model_rf': {'width_percentiles':                   0\n    count  23849.000000\n    mean      64.593990\n    std       40.530848\n    min        0.519881\n    25%       35.108517\n    50%       58.732339\n    75%       87.404089\n    max      488.711114},\n   'CP_two-model_NN': {'width_percentiles':                   0\n    count  2.384900e+04\n    mean   6.294538e+01\n    std    7.032538e-12\n    min    6.294538e+01\n    25%    6.294538e+01\n    50%    6.294538e+01\n    75%    6.294538e+01\n    max    6.294538e+01},\n   'Local-CP_two-model_NN': {'width_percentiles':                   0\n    count  23849.000000\n    mean      52.015836\n    std       16.236040\n    min       19.194882\n    25%       41.149240\n    50%       50.214589\n    75%       58.232343\n    max      287.150724},\n   'CQR_two-model_rf_AsymRegErrFunc': {'width_percentiles':                   0\n    count  23849.000000\n    mean      86.052547\n    std        5.328602\n    min       85.620990\n    25%       85.620990\n    50%       85.620990\n    75%       85.620990\n    max      216.425322}}},\n {0.05: {'Agnostic_QR_two-model': {'width_percentiles':                   0\n    count  23849.000000\n    mean     129.182303\n    std       30.587413\n    min       24.033606\n    25%      109.238653\n    50%      127.961738\n    75%      146.942373\n    max      323.777366},\n   'RF_two-model': {'width_percentiles':                   0\n    count  2.384900e+04\n    mean   3.656524e+02\n    std    1.318798e-11\n    min    3.656524e+02\n    25%    3.656524e+02\n    50%    3.656524e+02\n    75%    3.656524e+02\n    max    3.656524e+02},\n   'CQR_two-model_rf_QuantileRegErrFun': {'width_percentiles':                   0\n    count  23849.000000\n    mean     328.347928\n    std       50.039111\n    min      273.066698\n    25%      295.212025\n    50%      315.277929\n    75%      343.351049\n    max      944.376092},\n   'MAPIE_two-model_hurdle_naive': {'width_percentiles':                   0\n    count  2.384900e+04\n    mean   3.266222e+02\n    std    1.404502e-10\n    min    3.266222e+02\n    25%    3.266222e+02\n    50%    3.266222e+02\n    75%    3.266222e+02\n    max    3.266222e+02},\n   'MAPIE_two-model_hurdle_cv_plus': {'width_percentiles':                   0\n    count  23849.000000\n    mean     332.988376\n    std        0.827729\n    min      328.227776\n    25%      332.590458\n    50%      332.915788\n    75%      333.317282\n    max      345.325105},\n   'MAPIE_two-model_naive': {'width_percentiles':                   0\n    count  2.384900e+04\n    mean   3.254831e+02\n    std    4.805111e-11\n    min    3.254831e+02\n    25%    3.254831e+02\n    50%    3.254831e+02\n    75%    3.254831e+02\n    max    3.254831e+02},\n   'MAPIE_two-model_cv_plus': {'width_percentiles':                   0\n    count  23849.000000\n    mean     333.481366\n    std        1.006260\n    min      329.582950\n    25%      332.837704\n    50%      333.376789\n    75%      334.001902\n    max      345.007578},\n   'xbcf_outcome_xbcf': {'width_percentiles':                   0\n    count  23849.000000\n    mean       7.457847\n    std        3.530611\n    min        3.531677\n    25%        4.986337\n    50%        6.598155\n    75%        8.507714\n    max       37.713959},\n   'Local-CP_two-model_rf': {'width_percentiles':                   0\n    count  23849.000000\n    mean     417.975556\n    std      251.550609\n    min        3.108737\n    25%      236.808775\n    50%      380.274657\n    75%      554.470332\n    max     3016.459287},\n   'CP_two-model_NN': {'width_percentiles':                   0\n    count  2.384900e+04\n    mean   3.883268e+02\n    std    1.302878e-10\n    min    3.883268e+02\n    25%    3.883268e+02\n    50%    3.883268e+02\n    75%    3.883268e+02\n    max    3.883268e+02},\n   'Local-CP_two-model_NN': {'width_percentiles':                   0\n    count  23849.000000\n    mean     405.420044\n    std      176.115397\n    min      156.148505\n    25%      357.407537\n    50%      393.938233\n    75%      441.992969\n    max    23589.957209},\n   'CQR_two-model_rf_AsymRegErrFunc': {'width_percentiles':                   0\n    count  23849.000000\n    mean     241.635646\n    std       21.703852\n    min      236.714384\n    25%      236.714384\n    50%      236.714384\n    75%      236.714384\n    max      548.007949}},\n  0.32: {'Agnostic_QR_two-model': {'width_percentiles':                   0\n    count  23849.000000\n    mean      24.890718\n    std       21.411789\n    min        0.000197\n    25%        9.040084\n    50%       19.644434\n    75%       34.712914\n    max      205.228315},\n   'RF_two-model': {'width_percentiles':                   0\n    count  2.384900e+04\n    mean   8.814856e+01\n    std    1.544757e-11\n    min    8.814856e+01\n    25%    8.814856e+01\n    50%    8.814856e+01\n    75%    8.814856e+01\n    max    8.814856e+01},\n   'CQR_two-model_rf_QuantileRegErrFun': {'width_percentiles':                   0\n    count  23849.000000\n    mean      58.728180\n    std       25.193698\n    min       31.667566\n    25%       43.540730\n    50%       52.559701\n    75%       65.614465\n    max      438.306257},\n   'MAPIE_two-model_hurdle_naive': {'width_percentiles':                   0\n    count  2.384900e+04\n    mean   7.706851e+01\n    std    2.205545e-11\n    min    7.706851e+01\n    25%    7.706851e+01\n    50%    7.706851e+01\n    75%    7.706851e+01\n    max    7.706851e+01},\n   'MAPIE_two-model_hurdle_cv_plus': {'width_percentiles':                   0\n    count  23849.000000\n    mean      80.900038\n    std        1.260140\n    min       79.804177\n    25%       80.392062\n    50%       80.564705\n    75%       80.971441\n    max      105.337206},\n   'MAPIE_two-model_naive': {'width_percentiles':                   0\n    count  2.384900e+04\n    mean   6.776386e+01\n    std    2.647461e-11\n    min    6.776386e+01\n    25%    6.776386e+01\n    50%    6.776386e+01\n    75%    6.776386e+01\n    max    6.776386e+01},\n   'MAPIE_two-model_cv_plus': {'width_percentiles':                   0\n    count  23849.000000\n    mean      72.524531\n    std        1.513199\n    min       70.977564\n    25%       71.639596\n    50%       72.139015\n    75%       72.883261\n    max       96.816601},\n   'xbcf_outcome_xbcf': {'width_percentiles':                   0\n    count  23849.000000\n    mean       4.108557\n    std        1.776935\n    min        1.991644\n    25%        2.847234\n    50%        3.779643\n    75%        4.586435\n    max       18.070779},\n   'Local-CP_two-model_rf': {'width_percentiles':                   0\n    count  23849.000000\n    mean      63.641623\n    std       39.401522\n    min        0.169750\n    25%       35.318811\n    50%       58.028196\n    75%       84.614134\n    max      446.247364},\n   'CP_two-model_NN': {'width_percentiles':                   0\n    count  2.384900e+04\n    mean   7.102523e+01\n    std    2.623381e-11\n    min    7.102523e+01\n    25%    7.102523e+01\n    50%    7.102523e+01\n    75%    7.102523e+01\n    max    7.102523e+01},\n   'Local-CP_two-model_NN': {'width_percentiles':                   0\n    count  23849.000000\n    mean      49.999253\n    std       18.988653\n    min       19.639629\n    25%       44.092559\n    50%       48.188962\n    75%       54.677831\n    max     2569.604519},\n   'CQR_two-model_rf_AsymRegErrFunc': {'width_percentiles':                   0\n    count  23849.000000\n    mean      87.104693\n    std        5.867163\n    min       86.636340\n    25%       86.636340\n    50%       86.636340\n    75%       86.636340\n    max      265.408719}}}]"
     },
     "execution_count": 59,
     "metadata": {},
     "output_type": "execute_result"
    }
   ],
   "source": [
    "# look into specific percentiles (verify std intuition)\n",
    "percentiles"
   ],
   "metadata": {
    "collapsed": false,
    "pycharm": {
     "name": "#%%\n"
    }
   }
  },
  {
   "cell_type": "markdown",
   "source": [
    "## Analysis of Interval Distribution"
   ],
   "metadata": {
    "collapsed": false,
    "pycharm": {
     "name": "#%% md\n"
    }
   }
  },
  {
   "cell_type": "code",
   "execution_count": 25,
   "outputs": [
    {
     "data": {
      "text/plain": "{0.05: defaultdict(dict,\n             {'Agnostic_QR_two-model': {'quantile_model': {'pred_low': array([ -74.38477607,  -59.10819946,  -59.22539415, ...,  -47.65722557,\n                       -134.86767454,  -64.83915489]),\n                'pred_high': array([ 86.5811635 ,  65.93328438,  66.59447338, ...,  55.89560411,\n                       109.12604657,  67.72006337])}},\n              'RF_two-model': {'quantile_model': {'pred_low': array([-177.53284179, -163.35537895, -160.2707863 , ..., -177.53773344,\n                       -170.99616914, -181.82031972]),\n                'pred_high': array([165.62628527, 179.80374811, 182.88834075, ..., 165.62139362,\n                       172.16295792, 161.33880734])}},\n              'CQR_two-model_rf_QuantileRegErrFun': {'quantile_model': {'pred_low': array([-177.04990372, -145.7661337 , -140.43251923, ..., -152.69329804,\n                       -191.30774833, -200.76109781]),\n                'pred_high': array([155.4717008 , 163.74559722, 152.25557761, ..., 145.31114613,\n                       170.63246972, 170.41042025])}},\n              'MAPIE_two-model_naive': {'quantile_model': {'pred_low': array([-166.40599882, -163.1844357 , -160.91662034, ..., -163.5299889 ,\n                       -156.05089677, -163.73333297]),\n                'pred_high': array([156.38913769, 159.61070081, 161.87851617, ..., 159.26514761,\n                       166.74423974, 159.06180354])}},\n              'MAPIE_two-model_cv_plus': {'quantile_model': {'pred_low': array([-168.30548731, -166.92640677, -165.74401876, ..., -167.77630431,\n                       -171.9153921 , -170.11308368]),\n                'pred_high': array([163.48318724, 164.36902517, 164.05915787, ..., 161.73337283,\n                       160.29987612, 160.72052707])}},\n              'xbcf_outcome_xbcf': {'quantile_model': {'pred_low': array([ 2.30489723, -0.17683429,  4.95818848, ...,  2.82243773,\n                        1.81406651, -1.40319089]),\n                'pred_high': array([10.28563967,  5.31796081, 10.0103173 , ...,  9.32707464,\n                       22.77533105, 12.94059135])}},\n              'Local-CP_two-model_rf': {'quantile_model': {'pred_low': array([-269.58776512, -243.69129777, -295.75675301, ...,  -73.61383   ,\n                       -610.9370898 , -257.74464367]),\n                'pred_high': array([273.75959774, 254.16823519, 324.23537116, ...,  76.56899107,\n                       639.88082234, 275.05253821])}},\n              'CP_two-model_NN': {'quantile_model': {'pred_low': array([-182.18977417, -189.06151256, -186.44520067, ..., -188.93375793,\n                       -189.66267692, -191.54727219]),\n                'pred_high': array([207.9428375 , 201.07109911, 203.68741101, ..., 201.19885375,\n                       200.46993475, 198.58533948])}},\n              'Local-CP_two-model_NN': {'quantile_model': {'pred_low': array([-149.04483849, -209.60846991, -233.58680749, ..., -145.6358091 ,\n                       -327.00366858, -193.02273253]),\n                'pred_high': array([161.25254948, 222.15781101, 246.26358794, ..., 153.20433608,\n                       342.12688112, 197.67768547])}},\n              'CQR_two-model_rf_AsymRegErrFunc': {'quantile_model': {'pred_low': array([-113.39174652, -113.39174652, -113.39174652, ..., -113.39174652,\n                       -170.62762697, -113.39174652]),\n                'pred_high': array([120.63349184, 120.63349184, 120.63349184, ..., 120.63349184,\n                       212.54082632, 120.63349184])}}}),\n 0.32: defaultdict(dict,\n             {'Agnostic_QR_two-model': {'quantile_model': {'pred_low': array([-13.73778002, -16.1407221 ,  -4.07128316, ...,  -7.30470011,\n                       -70.89006911, -19.26371396]),\n                'pred_high': array([21.71992712, 28.18060783, 13.03508276, ...,  2.15212187,\n                       50.51696205,  4.05157858])}},\n              'RF_two-model': {'quantile_model': {'pred_low': array([-57.22664297, -35.62407252, -32.90342764, ..., -45.0301699 ,\n                       -34.06876583, -55.22548444]),\n                'pred_high': array([31.14399588, 52.74656633, 55.46721121, ..., 43.34046895,\n                       54.30187301, 33.14515441])}},\n              'CQR_two-model_rf_QuantileRegErrFun': {'quantile_model': {'pred_low': array([-30.21046891, -26.96687591, -15.6006377 , ..., -26.99776538,\n                       -31.86199577, -50.2856048 ]),\n                'pred_high': array([23.62349771, 34.26633813, 35.09563194, ..., 21.92516674,\n                       49.92628628, 24.24297087])}},\n              'MAPIE_two-model_naive': {'quantile_model': {'pred_low': array([-36.62013448, -36.24966882, -34.0634789 , ..., -36.92969784,\n                       -32.98008338, -38.94959011]),\n                'pred_high': array([31.94632221, 32.31678788, 34.5029778 , ..., 31.63675886,\n                       35.58637331, 29.61686659])}},\n              'MAPIE_two-model_cv_plus': {'quantile_model': {'pred_low': array([-40.99510141, -38.49241107, -36.12048475, ..., -38.96074758,\n                       -44.00840848, -42.16021098]),\n                'pred_high': array([32.47077756, 35.38363446, 36.86890194, ..., 34.28224557,\n                       36.05745342, 31.68293837])}},\n              'xbcf_outcome_xbcf': {'posterior': {'std': array([0.18552798, 0.13777976, 0.13136993, ..., 0.17266886, 0.6015905 ,\n                       0.42065571]),\n                'pred_low': array([0.33038957, 0.06544884, 0.75013625, ..., 0.33617022, 0.72070822,\n                       0.19777358]),\n                'pred_high': array([0.70144554, 0.34100837, 1.0128761 , ..., 0.68150793, 1.92388923,\n                       1.039085  ])},\n               'quantile_model': {'pred_low': array([3.40313668, 0.80533715, 7.3489506 , ..., 3.32844563, 7.383897  ,\n                       1.88721808]),\n                'pred_high': array([ 6.0264179 ,  2.77974339,  9.23906094, ...,  6.18313237,\n                       16.82503951, 10.53781619])}},\n              'Local-CP_two-model_rf': {'quantile_model': {'pred_low': array([-24.18817612, -24.26584951, -25.25015309, ..., -14.30824686,\n                       -84.43979361, -32.44058691]),\n                'pred_high': array([61.71653565, 44.72624793, 44.12812112, ..., 30.16611688,\n                       91.15529171, 46.46548319])}},\n              'CP_two-model_NN': {'quantile_model': {'pred_low': array([ -3.40983885, -23.88357425, -22.8088934 , ..., -30.61122418,\n                         6.84533573, -30.98272709]),\n                'pred_high': array([59.19690747, 38.72317207, 39.79785292, ..., 31.99552214,\n                       69.45208205, 31.62401923])}},\n              'Local-CP_two-model_NN': {'quantile_model': {'pred_low': array([-16.05654275, -19.98669111, -22.38520486, ..., -13.86536111,\n                       -19.41540206, -23.61137702]),\n                'pred_high': array([10.37846011, 27.25048293, 30.82624147, ..., 20.84253459,\n                       53.7226555 , 27.88310741])}},\n              'CQR_two-model_rf_AsymRegErrFunc': {'quantile_model': {'pred_low': array([0., 0., 0., ..., 0., 0., 0.]),\n                'pred_high': array([86.52287203, 86.52287203, 86.52287203, ..., 86.52287203,\n                       86.52287203, 86.52287203])}}})}"
     },
     "execution_count": 25,
     "metadata": {},
     "output_type": "execute_result"
    }
   ],
   "source": [
    "df = pd.DataFrame(predictions_test[0]['prediction_intervals'])\n",
    "PI_model_names = df.index\n",
    "predictions_test[0]['prediction_intervals']"
   ],
   "metadata": {
    "collapsed": false,
    "pycharm": {
     "name": "#%%\n"
    }
   }
  },
  {
   "cell_type": "markdown",
   "source": [
    "This boxplot shows us the distribution of the bounadaries across all folds, per PI model, per alpha"
   ],
   "metadata": {
    "collapsed": false,
    "pycharm": {
     "name": "#%% md\n"
    }
   }
  },
  {
   "cell_type": "code",
   "execution_count": 30,
   "outputs": [
    {
     "name": "stdout",
     "output_type": "stream",
     "text": [
      "Agnostic_QR_two-model\n",
      "        pred_low  pred_high\n",
      "0     -74.384776  86.581163\n",
      "1     -59.108199  65.933284\n",
      "2     -59.225394  66.594473\n",
      "3     -63.722512  70.822318\n",
      "4     -33.482952  46.772957\n",
      "...          ...        ...\n",
      "23844 -78.144107  86.157128\n",
      "23845 -52.037193  62.595508\n",
      "23846 -77.073375  87.369965\n",
      "23847 -74.160861  87.592714\n",
      "23848 -52.517590  62.376077\n",
      "\n",
      "[119245 rows x 2 columns]\n",
      "RF_two-model\n",
      "         pred_low   pred_high\n",
      "0     -177.532842  165.626285\n",
      "1     -163.355379  179.803748\n",
      "2     -160.270786  182.888341\n",
      "3     -192.843681  150.315446\n",
      "4     -164.995571  178.163556\n",
      "...           ...         ...\n",
      "23844 -198.812382  166.840038\n",
      "23845 -182.190311  183.462108\n",
      "23846 -177.886383  187.766037\n",
      "23847 -173.975558  191.676862\n",
      "23848 -163.443546  202.208873\n",
      "\n",
      "[119245 rows x 2 columns]\n",
      "CQR_two-model_rf_QuantileRegErrFun\n",
      "         pred_low   pred_high\n",
      "0     -177.049904  155.471701\n",
      "1     -145.766134  163.745597\n",
      "2     -140.432519  152.255578\n",
      "3     -182.574335  143.824564\n",
      "4     -145.519236  155.809419\n",
      "...           ...         ...\n",
      "23844 -188.338999  140.846065\n",
      "23845 -153.224782  154.557623\n",
      "23846 -161.953404  169.999425\n",
      "23847 -145.108903  156.672493\n",
      "23848 -158.849235  198.431711\n",
      "\n",
      "[119245 rows x 2 columns]\n",
      "MAPIE_two-model_hurdle_naive\n",
      "         pred_low   pred_high\n",
      "0     -163.393345  158.159620\n",
      "1     -163.387764  158.165201\n",
      "2     -160.890643  160.662322\n",
      "3     -162.536697  159.016268\n",
      "4     -159.138468  162.414497\n",
      "...           ...         ...\n",
      "23844 -162.262502  164.359682\n",
      "23845 -163.078966  163.543219\n",
      "23846 -168.615380  158.006805\n",
      "23847 -163.775340  162.846845\n",
      "23848 -152.223862  174.398323\n",
      "\n",
      "[119245 rows x 2 columns]\n",
      "MAPIE_two-model_hurdle_cv_plus\n",
      "         pred_low   pred_high\n",
      "0     -166.991110  159.576700\n",
      "1     -166.092127  161.956037\n",
      "2     -162.844412  164.571023\n",
      "3     -163.983046  163.576092\n",
      "4     -156.543144  169.815984\n",
      "...           ...         ...\n",
      "23844 -167.589343  165.162272\n",
      "23845 -168.731803  164.326750\n",
      "23846 -167.980382  164.765618\n",
      "23847 -167.343688  165.656911\n",
      "23848 -157.245650  173.963198\n",
      "\n",
      "[119245 rows x 2 columns]\n",
      "MAPIE_two-model_naive\n",
      "         pred_low   pred_high\n",
      "0     -166.405999  156.389138\n",
      "1     -163.184436  159.610701\n",
      "2     -160.916620  161.878516\n",
      "3     -165.130097  157.665040\n",
      "4     -157.373737  165.421400\n",
      "...           ...         ...\n",
      "23844 -162.948627  162.534481\n",
      "23845 -166.657212  158.825896\n",
      "23846 -163.800070  161.683038\n",
      "23847 -162.524505  162.958603\n",
      "23848 -152.050522  173.432586\n",
      "\n",
      "[119245 rows x 2 columns]\n",
      "MAPIE_two-model_cv_plus\n",
      "         pred_low   pred_high\n",
      "0     -168.305487  163.483187\n",
      "1     -166.926407  164.369025\n",
      "2     -165.744019  164.059158\n",
      "3     -165.115790  165.510204\n",
      "4     -163.081638  166.381845\n",
      "...           ...         ...\n",
      "23844 -169.231613  163.550991\n",
      "23845 -170.443568  163.389594\n",
      "23846 -169.384444  165.638886\n",
      "23847 -166.395785  166.533748\n",
      "23848 -158.573029  174.264943\n",
      "\n",
      "[119245 rows x 2 columns]\n",
      "xbcf_outcome_xbcf\n",
      "       pred_low  pred_high\n",
      "0      2.304897  10.285640\n",
      "1     -0.176834   5.317961\n",
      "2      4.958188  10.010317\n",
      "3      6.976596  10.667725\n",
      "4     -1.991056   7.564314\n",
      "...         ...        ...\n",
      "23844  0.050828   4.409682\n",
      "23845  0.044606   4.408198\n",
      "23846  0.050828   4.727439\n",
      "23847  2.885030   9.403469\n",
      "23848  7.483052  17.012482\n",
      "\n",
      "[119245 rows x 2 columns]\n",
      "Local-CP_two-model_rf\n",
      "         pred_low   pred_high\n",
      "0     -269.587765  273.759598\n",
      "1     -243.691298  254.168235\n",
      "2     -295.756753  324.235371\n",
      "3     -243.945700  301.646242\n",
      "4     -176.377112  217.388676\n",
      "...           ...         ...\n",
      "23844 -230.312137  246.240121\n",
      "23845 -126.939275  136.205053\n",
      "23846 -203.277558  200.964045\n",
      "23847 -163.951065  169.097117\n",
      "23848 -236.380830  278.945524\n",
      "\n",
      "[119245 rows x 2 columns]\n",
      "CP_two-model_NN\n",
      "         pred_low   pred_high\n",
      "0     -182.189774  207.942837\n",
      "1     -189.061513  201.071099\n",
      "2     -186.445201  203.687411\n",
      "3     -188.941480  201.191131\n",
      "4     -189.017504  201.115108\n",
      "...           ...         ...\n",
      "23844 -189.197049  199.129753\n",
      "23845 -195.543821  192.782981\n",
      "23846 -191.016014  197.310788\n",
      "23847 -188.163850  200.162953\n",
      "23848 -180.773547  207.553255\n",
      "\n",
      "[119245 rows x 2 columns]\n",
      "Local-CP_two-model_NN\n",
      "         pred_low   pred_high\n",
      "0     -149.044838  161.252549\n",
      "1     -209.608470  222.157811\n",
      "2     -233.586807  246.263588\n",
      "3     -318.411235  335.231047\n",
      "4     -207.537572  217.116667\n",
      "...           ...         ...\n",
      "23844 -211.840264  220.409176\n",
      "23845 -173.417717  172.553568\n",
      "23846 -193.772104  197.275819\n",
      "23847 -230.372940  242.003340\n",
      "23848 -231.300976  255.600906\n",
      "\n",
      "[119245 rows x 2 columns]\n",
      "Agnostic_QR_two-model_hurdle\n",
      "       pred_low  pred_high\n",
      "0     -2.221454   9.920564\n",
      "1     -0.209583  10.661105\n",
      "2     -4.211223  10.018831\n",
      "3     -5.292130  12.216837\n",
      "4      1.422339   8.633377\n",
      "...         ...        ...\n",
      "23844 -5.173848   6.071435\n",
      "23845 -0.287323   4.171829\n",
      "23846 -4.656472   7.702264\n",
      "23847  0.697644  12.921463\n",
      "23848 -0.285912  21.246473\n",
      "\n",
      "[119245 rows x 2 columns]\n",
      "CQR_two-model_rf_AsymRegErrFunc\n",
      "         pred_low   pred_high\n",
      "0     -113.391747  120.633492\n",
      "1     -113.391747  120.633492\n",
      "2     -113.391747  120.633492\n",
      "3     -113.391747  191.815591\n",
      "4     -113.391747  120.633492\n",
      "...           ...         ...\n",
      "23844 -116.211540  120.502844\n",
      "23845 -116.211540  120.502844\n",
      "23846 -116.211540  120.502844\n",
      "23847 -116.211540  120.502844\n",
      "23848 -116.211540  120.502844\n",
      "\n",
      "[119245 rows x 2 columns]\n",
      "Agnostic_QR_two-model\n",
      "        pred_low  pred_high\n",
      "0     -13.737780  21.719927\n",
      "1     -16.140722  28.180608\n",
      "2      -4.071283  13.035083\n",
      "3      -9.251716   8.172662\n",
      "4      -0.847190  31.864247\n",
      "...          ...        ...\n",
      "23844 -11.516442  10.332816\n",
      "23845   1.157294  -1.815869\n",
      "23846 -16.973579  16.210630\n",
      "23847 -14.622312  12.226307\n",
      "23848 -24.105807  21.974592\n",
      "\n",
      "[119245 rows x 2 columns]\n",
      "RF_two-model\n",
      "        pred_low  pred_high\n",
      "0     -57.226643  31.143996\n",
      "1     -35.624073  52.746566\n",
      "2     -32.903428  55.467211\n",
      "3     -73.484117  14.886521\n",
      "4     -33.496090  54.874548\n",
      "...          ...        ...\n",
      "23844 -71.564842  16.583718\n",
      "23845 -44.000023  44.148537\n",
      "23846 -51.939022  36.209538\n",
      "23847 -44.596192  43.552368\n",
      "23848 -34.939806  53.208754\n",
      "\n",
      "[119245 rows x 2 columns]\n",
      "CQR_two-model_rf_QuantileRegErrFun\n",
      "        pred_low  pred_high\n",
      "0     -30.210469  23.623498\n",
      "1     -26.966876  34.266338\n",
      "2     -15.600638  35.095632\n",
      "3     -40.615102  13.996669\n",
      "4     -28.019799  38.755298\n",
      "...          ...        ...\n",
      "23844 -55.409676  15.198192\n",
      "23845 -22.491828  27.599649\n",
      "23846 -41.101708  17.855741\n",
      "23847 -21.971699  19.334148\n",
      "23848 -40.357722  44.413901\n",
      "\n",
      "[119245 rows x 2 columns]\n",
      "MAPIE_two-model_hurdle_naive\n",
      "        pred_low  pred_high\n",
      "0     -41.181966  35.911703\n",
      "1     -41.247617  35.846052\n",
      "2     -38.858549  38.235120\n",
      "3     -40.479129  36.614541\n",
      "4     -33.288139  43.805531\n",
      "...          ...        ...\n",
      "23844 -37.934716  39.133793\n",
      "23845 -38.472081  38.596428\n",
      "23846 -43.113910  33.954599\n",
      "23847 -38.557128  38.511381\n",
      "23848 -29.903633  47.164876\n",
      "\n",
      "[119245 rows x 2 columns]\n",
      "MAPIE_two-model_hurdle_cv_plus\n",
      "        pred_low  pred_high\n",
      "0     -44.269741  36.136788\n",
      "1     -42.624635  37.471038\n",
      "2     -39.379147  40.743010\n",
      "3     -40.842821  39.421351\n",
      "4     -35.500901  45.094342\n",
      "...          ...        ...\n",
      "23844 -40.576149  39.745364\n",
      "23845 -41.509781  39.290262\n",
      "23846 -44.071876  36.815152\n",
      "23847 -40.576537  39.730118\n",
      "23848 -34.036427  47.879076\n",
      "\n",
      "[119245 rows x 2 columns]\n",
      "MAPIE_two-model_naive\n",
      "        pred_low  pred_high\n",
      "0     -36.620134  31.946322\n",
      "1     -36.249669  32.316788\n",
      "2     -34.063479  34.502978\n",
      "3     -35.748129  32.818328\n",
      "4     -32.956718  35.609738\n",
      "...          ...        ...\n",
      "23844 -34.467278  33.296586\n",
      "23845 -37.286851  30.477013\n",
      "23846 -34.600387  33.163477\n",
      "23847 -32.880121  34.883743\n",
      "23848 -23.855627  43.908237\n",
      "\n",
      "[119245 rows x 2 columns]\n",
      "MAPIE_two-model_cv_plus\n",
      "        pred_low  pred_high\n",
      "0     -40.995101  32.470778\n",
      "1     -38.492411  35.383634\n",
      "2     -36.120485  36.868902\n",
      "3     -37.310176  35.530775\n",
      "4     -33.436949  39.251246\n",
      "...          ...        ...\n",
      "23844 -36.880768  34.997044\n",
      "23845 -38.637485  33.587199\n",
      "23846 -36.863632  35.557634\n",
      "23847 -35.405177  36.397527\n",
      "23848 -28.398739  46.187647\n",
      "\n",
      "[119245 rows x 2 columns]\n",
      "xbcf_outcome_xbcf\n",
      "       pred_low  pred_high\n",
      "0      3.403137   6.026418\n",
      "1      0.805337   2.779743\n",
      "2      7.348951   9.239061\n",
      "3      7.956137   9.854415\n",
      "4      0.936553   5.929039\n",
      "...         ...        ...\n",
      "23844  0.964242   3.571282\n",
      "23845  0.661751   3.423360\n",
      "23846  0.675273   3.609396\n",
      "23847  3.452277   7.702375\n",
      "23848  9.416455  15.354129\n",
      "\n",
      "[119245 rows x 2 columns]\n",
      "Local-CP_two-model_rf\n",
      "        pred_low  pred_high\n",
      "0     -24.188176  61.716536\n",
      "1     -24.265850  44.726248\n",
      "2     -25.250153  44.128121\n",
      "3     -26.941112  61.939585\n",
      "4     -16.508630  64.057258\n",
      "...          ...        ...\n",
      "23844 -27.228096  30.775858\n",
      "23845 -14.195138  27.619612\n",
      "23846 -30.473272  25.473615\n",
      "23847 -25.531936  26.636580\n",
      "23848 -46.874517  57.721363\n",
      "\n",
      "[119245 rows x 2 columns]\n",
      "CP_two-model_NN\n",
      "        pred_low  pred_high\n",
      "0      -3.409839  59.196907\n",
      "1     -23.883574  38.723172\n",
      "2     -22.808893  39.797853\n",
      "3     -22.701122  39.905624\n",
      "4     -29.079867  33.526879\n",
      "...          ...        ...\n",
      "23844 -34.748027  36.277201\n",
      "23845 -33.827523  37.197705\n",
      "23846 -36.357801  34.667427\n",
      "23847 -27.236372  43.788856\n",
      "23848 -23.855135  47.170093\n",
      "\n",
      "[119245 rows x 2 columns]\n",
      "Local-CP_two-model_NN\n",
      "        pred_low  pred_high\n",
      "0     -16.056543  10.378460\n",
      "1     -19.986691  27.250483\n",
      "2     -22.385205  30.826241\n",
      "3     -22.829988  33.729697\n",
      "4     -20.207942  26.606368\n",
      "...          ...        ...\n",
      "23844 -23.290037  29.565182\n",
      "23845 -21.910736  22.606329\n",
      "23846 -22.115527  28.914565\n",
      "23847 -24.483544  30.503914\n",
      "23848 -21.495424  40.141688\n",
      "\n",
      "[119245 rows x 2 columns]\n",
      "Agnostic_QR_two-model_hurdle\n",
      "        pred_low  pred_high\n",
      "0       4.688754   7.338622\n",
      "1       4.650486   6.679413\n",
      "2       3.214288   6.869388\n",
      "3       5.828776   9.854143\n",
      "4       6.891709   7.200186\n",
      "...          ...        ...\n",
      "23844   0.266174   2.263805\n",
      "23845   2.831315   2.516808\n",
      "23846  -0.449508   0.856533\n",
      "23847   5.968602  10.450960\n",
      "23848  10.907161  20.819690\n",
      "\n",
      "[119245 rows x 2 columns]\n",
      "CQR_two-model_rf_AsymRegErrFunc\n",
      "       pred_low  pred_high\n",
      "0           0.0  86.522872\n",
      "1           0.0  86.522872\n",
      "2           0.0  86.522872\n",
      "3           0.0  86.522872\n",
      "4           0.0  86.522872\n",
      "...         ...        ...\n",
      "23844       0.0  86.636340\n",
      "23845       0.0  86.636340\n",
      "23846       0.0  86.636340\n",
      "23847       0.0  86.636340\n",
      "23848       0.0  86.636340\n",
      "\n",
      "[119245 rows x 2 columns]\n"
     ]
    }
   ],
   "source": [
    "##### Merge all folds\n",
    "# Seperate Plots\n",
    "ylim = [-500, 500]\n",
    "for alpha in [0.05,0.32]:\n",
    "    for PI_model in PI_model_names:\n",
    "        print(PI_model)\n",
    "        predictions_combined = pd.concat([pd.DataFrame(fold['prediction_intervals'][alpha][PI_model]['quantile_model']) for fold in predictions_test])\n",
    "        print(predictions_combined)\n",
    "        plt.boxplot(x=predictions_combined)\n",
    "        plt.ylim(ylim)\n",
    "        plt.xticks([1, 2], ['Lower', 'Upper'])\n",
    "        plt.xlabel('Bounadries')\n",
    "        plt.ylabel('Interval Estimates')\n",
    "        plt.title(f'Prediction Interval Boundaries for {PI_model} at {alpha}')\n",
    "        plt.savefig(f\"figures/PI_Boxplot/y_lim/Final_{alpha}_{PI_model}_estimates.pdf\",bbox_inches='tight')\n",
    "        plt.close()\n"
   ],
   "metadata": {
    "collapsed": false,
    "pycharm": {
     "name": "#%%\n"
    }
   }
  },
  {
   "cell_type": "markdown",
   "source": [
    "## Analysis with Correlation: Oracle?"
   ],
   "metadata": {
    "collapsed": false
   }
  },
  {
   "cell_type": "code",
   "execution_count": null,
   "outputs": [],
   "source": [
    "column_names_corr = ['QR_GBR', 'Split-CP_RF',\n",
    "       'CQR_RF_Sym', 'MAPIE_Naive',\n",
    "       'MAPIE_CV+', 'XBCF', 'Local-CP_RF',\n",
    "       'Split-CP_NN', 'Local-CP_NN',\n",
    "       'CQR_RF_Asym', 'ITE']\n"
   ],
   "metadata": {
    "collapsed": false,
    "pycharm": {
     "name": "#%%\n"
    }
   }
  },
  {
   "cell_type": "markdown",
   "source": [
    "## a) Correlation of TE and bounds"
   ],
   "metadata": {
    "collapsed": false,
    "pycharm": {
     "name": "#%% md\n"
    }
   }
  },
  {
   "cell_type": "code",
   "execution_count": 23,
   "outputs": [],
   "source": [
    "boundary = \"pred_low\"\n",
    "#boundary = \"pred_high\""
   ],
   "metadata": {
    "collapsed": false,
    "pycharm": {
     "name": "#%%\n"
    }
   }
  },
  {
   "cell_type": "code",
   "execution_count": 114,
   "outputs": [
    {
     "name": "stdout",
     "output_type": "stream",
     "text": [
      "0.05\n",
      "       Agnostic_QR_two-model  RF_two-model  \\\n",
      "0                 -74.384776   -177.532842   \n",
      "1                 -59.108199   -163.355379   \n",
      "2                 -59.225394   -160.270786   \n",
      "3                 -63.722512   -192.843681   \n",
      "4                 -33.482952   -164.995571   \n",
      "...                      ...           ...   \n",
      "23844             -99.102704   -155.764955   \n",
      "23845             -67.348861   -177.876205   \n",
      "23846             -47.657226   -177.537733   \n",
      "23847            -134.867675   -170.996169   \n",
      "23848             -64.839155   -181.820320   \n",
      "\n",
      "       CQR_two-model_rf_QuantileRegErrFun  MAPIE_two-model_naive  \\\n",
      "0                             -177.049904            -166.405999   \n",
      "1                             -145.766134            -163.184436   \n",
      "2                             -140.432519            -160.916620   \n",
      "3                             -182.574335            -165.130097   \n",
      "4                             -145.519236            -157.373737   \n",
      "...                                   ...                    ...   \n",
      "23844                         -180.538476            -159.607281   \n",
      "23845                         -183.385048            -157.222018   \n",
      "23846                         -152.693298            -163.529989   \n",
      "23847                         -191.307748            -156.050897   \n",
      "23848                         -200.761098            -163.733333   \n",
      "\n",
      "       MAPIE_two-model_cv_plus  xbcf_outcome_xbcf  Local-CP_two-model_rf  \\\n",
      "0                  -168.305487           2.304897            -269.587765   \n",
      "1                  -166.926407          -0.176834            -243.691298   \n",
      "2                  -165.744019           4.958188            -295.756753   \n",
      "3                  -165.115790           6.976596            -243.945700   \n",
      "4                  -163.081638          -1.991056            -176.377112   \n",
      "...                        ...                ...                    ...   \n",
      "23844              -173.341309          -1.741771            -433.058663   \n",
      "23845              -161.242495           0.650638            -357.079963   \n",
      "23846              -167.776304           2.822438             -73.613830   \n",
      "23847              -171.915392           1.814067            -610.937090   \n",
      "23848              -170.113084          -1.403191            -257.744644   \n",
      "\n",
      "       CP_two-model_NN  Local-CP_two-model_NN  \\\n",
      "0          -182.189774            -149.044838   \n",
      "1          -189.061513            -209.608470   \n",
      "2          -186.445201            -233.586807   \n",
      "3          -188.941480            -318.411235   \n",
      "4          -189.017504            -207.537572   \n",
      "...                ...                    ...   \n",
      "23844      -167.108879            -160.887087   \n",
      "23845      -201.045660            -271.726896   \n",
      "23846      -188.933758            -145.635809   \n",
      "23847      -189.662677            -327.003669   \n",
      "23848      -191.547272            -193.022733   \n",
      "\n",
      "       CQR_two-model_rf_AsymRegErrFunc  tau_fold  \n",
      "0                          -113.391747  0.945949  \n",
      "1                          -113.391747  6.342004  \n",
      "2                          -113.391747  5.029716  \n",
      "3                          -113.391747  7.378468  \n",
      "4                          -113.391747  6.568559  \n",
      "...                                ...       ...  \n",
      "23844                      -113.391747  5.673386  \n",
      "23845                      -113.391747  4.880755  \n",
      "23846                      -113.391747  1.597472  \n",
      "23847                      -170.627627  5.274434  \n",
      "23848                      -113.391747  7.370937  \n",
      "\n",
      "[23849 rows x 11 columns]\n",
      "0.32\n",
      "       Agnostic_QR_two-model  RF_two-model  \\\n",
      "0                 -13.737780    -57.226643   \n",
      "1                 -16.140722    -35.624073   \n",
      "2                  -4.071283    -32.903428   \n",
      "3                  -9.251716    -73.484117   \n",
      "4                  -0.847190    -33.496090   \n",
      "...                      ...           ...   \n",
      "23844             -60.573566    -76.948027   \n",
      "23845             -17.510213    -40.650719   \n",
      "23846              -7.304700    -45.030170   \n",
      "23847             -70.890069    -34.068766   \n",
      "23848             -19.263714    -55.225484   \n",
      "\n",
      "       CQR_two-model_rf_QuantileRegErrFun  MAPIE_two-model_naive  \\\n",
      "0                              -30.210469             -36.620134   \n",
      "1                              -26.966876             -36.249669   \n",
      "2                              -15.600638             -34.063479   \n",
      "3                              -40.615102             -35.748129   \n",
      "4                              -28.019799             -32.956718   \n",
      "...                                   ...                    ...   \n",
      "23844                          -89.068959             -36.719198   \n",
      "23845                          -20.807625             -33.131810   \n",
      "23846                          -26.997765             -36.929698   \n",
      "23847                          -31.861996             -32.980083   \n",
      "23848                          -50.285605             -38.949590   \n",
      "\n",
      "       MAPIE_two-model_cv_plus  xbcf_outcome_xbcf  Local-CP_two-model_rf  \\\n",
      "0                   -40.995101           3.403137             -24.188176   \n",
      "1                   -38.492411           0.805337             -24.265850   \n",
      "2                   -36.120485           7.348951             -25.250153   \n",
      "3                   -37.310176           7.956137             -26.941112   \n",
      "4                   -33.436949           0.936553             -16.508630   \n",
      "...                        ...                ...                    ...   \n",
      "23844               -46.342516           0.255121             -46.169339   \n",
      "23845               -35.199609           1.333843             -32.604683   \n",
      "23846               -38.960748           3.328446             -14.308247   \n",
      "23847               -44.008408           7.383897             -84.439794   \n",
      "23848               -42.160211           1.887218             -32.440587   \n",
      "\n",
      "       CP_two-model_NN  Local-CP_two-model_NN  \\\n",
      "0            -3.409839             -16.056543   \n",
      "1           -23.883574             -19.986691   \n",
      "2           -22.808893             -22.385205   \n",
      "3           -22.701122             -22.829988   \n",
      "4           -29.079867             -20.207942   \n",
      "...                ...                    ...   \n",
      "23844        40.115031             -12.938435   \n",
      "23845       -31.859392             -30.264438   \n",
      "23846       -30.611224             -13.865361   \n",
      "23847         6.845336             -19.415402   \n",
      "23848       -30.982727             -23.611377   \n",
      "\n",
      "       CQR_two-model_rf_AsymRegErrFunc  tau_fold  \n",
      "0                                  0.0  0.945949  \n",
      "1                                  0.0  6.342004  \n",
      "2                                  0.0  5.029716  \n",
      "3                                  0.0  7.378468  \n",
      "4                                  0.0  6.568559  \n",
      "...                                ...       ...  \n",
      "23844                              0.0  5.673386  \n",
      "23845                              0.0  4.880755  \n",
      "23846                              0.0  1.597472  \n",
      "23847                              0.0  5.274434  \n",
      "23848                              0.0  7.370937  \n",
      "\n",
      "[23849 rows x 11 columns]\n",
      "0.05\n",
      "       Agnostic_QR_two-model  RF_two-model  \\\n",
      "0                 -53.184034   -178.205574   \n",
      "1                 -51.024784   -163.941495   \n",
      "2                 -87.318632   -161.655239   \n",
      "3                 -53.200898   -165.864325   \n",
      "4                 -76.833913   -146.976651   \n",
      "...                      ...           ...   \n",
      "23844             -45.785039   -165.072524   \n",
      "23845             -77.484030   -163.661429   \n",
      "23846             -57.090345   -155.456813   \n",
      "23847             -58.395192   -162.623500   \n",
      "23848             -28.293703   -159.424657   \n",
      "\n",
      "       CQR_two-model_rf_QuantileRegErrFun  MAPIE_two-model_naive  \\\n",
      "0                             -201.774178            -166.366871   \n",
      "1                             -138.592718            -162.646727   \n",
      "2                             -152.108436            -154.311202   \n",
      "3                             -134.383115            -162.380463   \n",
      "4                             -142.357484            -155.276261   \n",
      "...                                   ...                    ...   \n",
      "23844                         -148.733540            -152.717338   \n",
      "23845                         -161.996164            -158.544029   \n",
      "23846                         -125.833519            -158.788449   \n",
      "23847                         -130.618417            -159.994057   \n",
      "23848                         -176.417061            -153.337214   \n",
      "\n",
      "       MAPIE_two-model_cv_plus  xbcf_outcome_xbcf  Local-CP_two-model_rf  \\\n",
      "0                  -171.037535          -0.632373             -94.524807   \n",
      "1                  -169.101140           0.715495             -69.947184   \n",
      "2                  -162.632283           1.641695            -206.820477   \n",
      "3                  -166.529952           2.524715             -92.326098   \n",
      "4                  -163.957669           5.294720            -306.807283   \n",
      "...                        ...                ...                    ...   \n",
      "23844              -158.162123           0.999970            -407.143673   \n",
      "23845              -163.868174           2.261807            -270.887413   \n",
      "23846              -166.228515           1.637361            -240.423418   \n",
      "23847              -165.050336           4.992411             -89.545606   \n",
      "23848              -159.087102           0.031947            -386.621509   \n",
      "\n",
      "       CP_two-model_NN  Local-CP_two-model_NN  \\\n",
      "0          -191.982045            -184.948380   \n",
      "1          -188.006918            -161.281561   \n",
      "2          -192.707079            -206.672025   \n",
      "3          -194.152290            -112.647335   \n",
      "4          -192.446206            -211.251293   \n",
      "...                ...                    ...   \n",
      "23844      -190.409252            -201.121485   \n",
      "23845      -190.351492            -202.205909   \n",
      "23846      -191.065294            -192.191863   \n",
      "23847      -189.333288            -165.152710   \n",
      "23848      -190.603551            -173.231150   \n",
      "\n",
      "       CQR_two-model_rf_AsymRegErrFunc   tau_fold  \n",
      "0                          -114.571335   0.333580  \n",
      "1                          -114.571335   0.893526  \n",
      "2                          -114.571335   0.029159  \n",
      "3                          -114.571335   3.291601  \n",
      "4                          -114.571335   8.727276  \n",
      "...                                ...        ...  \n",
      "23844                      -114.571335  11.190037  \n",
      "23845                      -114.571335   8.713782  \n",
      "23846                      -114.571335  -0.021753  \n",
      "23847                      -114.571335   6.290158  \n",
      "23848                      -114.571335   3.103593  \n",
      "\n",
      "[23849 rows x 11 columns]\n",
      "0.32\n",
      "       Agnostic_QR_two-model  RF_two-model  \\\n",
      "0                 -15.792614    -57.261152   \n",
      "1                   2.825307    -44.492459   \n",
      "2                 -21.968338    -38.575604   \n",
      "3                  -2.081784    -35.129992   \n",
      "4                 -11.461208    -67.989435   \n",
      "...                      ...           ...   \n",
      "23844             -10.014522    -48.929816   \n",
      "23845             -11.501814    -51.168722   \n",
      "23846              -1.191117    -44.046804   \n",
      "23847              -2.951874    -45.628913   \n",
      "23848             -11.572789    -61.659292   \n",
      "\n",
      "       CQR_two-model_rf_QuantileRegErrFun  MAPIE_two-model_naive  \\\n",
      "0                              -45.188304             -39.984808   \n",
      "1                              -17.913527             -34.995372   \n",
      "2                              -35.481252             -28.544966   \n",
      "3                              -24.185682             -37.027043   \n",
      "4                             -107.406381             -30.773176   \n",
      "...                                   ...                    ...   \n",
      "23844                          -33.790035             -25.572729   \n",
      "23845                          -33.396534             -32.583112   \n",
      "23846                          -13.287329             -32.210647   \n",
      "23847                          -17.154395             -33.614627   \n",
      "23848                          -67.922018             -23.803325   \n",
      "\n",
      "       MAPIE_two-model_cv_plus  xbcf_outcome_xbcf  Local-CP_two-model_rf  \\\n",
      "0                   -42.881982           1.039840              -6.885640   \n",
      "1                   -39.707298           1.435157              -3.033906   \n",
      "2                   -29.330553           2.061073             -28.500373   \n",
      "3                   -38.198898           2.908820             -11.631421   \n",
      "4                   -34.487298           5.923350             -34.613584   \n",
      "...                        ...                ...                    ...   \n",
      "23844               -29.366649           2.860819             -26.585062   \n",
      "23845               -35.247523           3.476058             -50.523478   \n",
      "23846               -35.470707           2.191125             -17.145255   \n",
      "23847               -37.067531           5.730326             -14.020529   \n",
      "23848               -26.883021           1.887644             -51.471642   \n",
      "\n",
      "       CP_two-model_NN  Local-CP_two-model_NN  \\\n",
      "0           -32.436177             -15.655879   \n",
      "1           -31.452206             -14.436151   \n",
      "2           -24.918256             -19.285033   \n",
      "3           -31.173021              -9.033113   \n",
      "4           -20.588432             -19.782143   \n",
      "...                ...                    ...   \n",
      "23844       -25.941650             -15.321249   \n",
      "23845       -16.605320             -20.837544   \n",
      "23846       -30.627776             -16.968002   \n",
      "23847       -28.344525             -16.268122   \n",
      "23848       -27.596653             -18.713802   \n",
      "\n",
      "       CQR_two-model_rf_AsymRegErrFunc   tau_fold  \n",
      "0                                  0.0   0.333580  \n",
      "1                                  0.0   0.893526  \n",
      "2                                  0.0   0.029159  \n",
      "3                                  0.0   3.291601  \n",
      "4                                  0.0   8.727276  \n",
      "...                                ...        ...  \n",
      "23844                              0.0  11.190037  \n",
      "23845                              0.0   8.713782  \n",
      "23846                              0.0  -0.021753  \n",
      "23847                              0.0   6.290158  \n",
      "23848                              0.0   3.103593  \n",
      "\n",
      "[23849 rows x 11 columns]\n",
      "0.05\n",
      "       Agnostic_QR_two-model  RF_two-model  \\\n",
      "0                 -47.031362   -168.004291   \n",
      "1                 -50.583509   -169.039731   \n",
      "2                 -36.240811   -159.431367   \n",
      "3                 -57.251251   -145.429014   \n",
      "4                 -79.916253   -171.243679   \n",
      "...                      ...           ...   \n",
      "23844             -57.647258   -154.273826   \n",
      "23845             -66.692315   -173.346337   \n",
      "23846             -52.646150   -168.296809   \n",
      "23847             -48.486601   -177.695400   \n",
      "23848             -49.880652   -170.800181   \n",
      "\n",
      "       CQR_two-model_rf_QuantileRegErrFun  MAPIE_two-model_naive  \\\n",
      "0                             -164.720261            -151.302722   \n",
      "1                             -169.630955            -152.909702   \n",
      "2                             -172.756282            -153.675458   \n",
      "3                             -205.630768            -172.381334   \n",
      "4                             -145.694296            -160.757483   \n",
      "...                                   ...                    ...   \n",
      "23844                         -155.102944            -167.737122   \n",
      "23845                         -136.531660            -155.344277   \n",
      "23846                         -148.998086            -161.041936   \n",
      "23847                         -160.625528            -164.133059   \n",
      "23848                         -151.511561            -164.063810   \n",
      "\n",
      "       MAPIE_two-model_cv_plus  xbcf_outcome_xbcf  Local-CP_two-model_rf  \\\n",
      "0                  -160.681196           1.435524            -142.114379   \n",
      "1                  -159.955683           1.214420            -271.585845   \n",
      "2                  -161.319776           1.824193            -193.878855   \n",
      "3                  -170.847456          -3.068679            -343.781256   \n",
      "4                  -163.053029           1.422373            -147.261570   \n",
      "...                        ...                ...                    ...   \n",
      "23844              -175.899972          -3.098350            -128.991249   \n",
      "23845              -163.989608           1.031697            -170.516003   \n",
      "23846              -168.965163           1.604741            -323.415326   \n",
      "23847              -170.589335           0.391027             -54.799500   \n",
      "23848              -171.109961           2.476059             -52.302609   \n",
      "\n",
      "       CP_two-model_NN  Local-CP_two-model_NN  \\\n",
      "0          -188.233741            -176.156815   \n",
      "1          -188.233741            -180.402440   \n",
      "2          -187.159331            -146.070702   \n",
      "3          -190.691152            -160.631095   \n",
      "4          -185.732952            -223.490396   \n",
      "...                ...                    ...   \n",
      "23844      -191.624880            -132.799273   \n",
      "23845      -188.233741            -173.630276   \n",
      "23846      -188.766407            -193.456860   \n",
      "23847      -186.721595            -151.588090   \n",
      "23848      -190.859192            -145.169294   \n",
      "\n",
      "       CQR_two-model_rf_AsymRegErrFunc  tau_fold  \n",
      "0                          -114.368889  6.559936  \n",
      "1                          -114.368889  2.788060  \n",
      "2                          -114.368889  4.645486  \n",
      "3                          -114.368889  6.820570  \n",
      "4                          -114.368889  0.056285  \n",
      "...                                ...       ...  \n",
      "23844                      -114.368889  7.126763  \n",
      "23845                      -114.368889  0.084626  \n",
      "23846                      -114.368889  6.264145  \n",
      "23847                      -114.368889  7.164826  \n",
      "23848                      -114.368889  3.360714  \n",
      "\n",
      "[23849 rows x 11 columns]\n",
      "0.32\n",
      "       Agnostic_QR_two-model  RF_two-model  \\\n",
      "0                 -11.260599    -56.436800   \n",
      "1                  -6.834279    -40.488059   \n",
      "2                  -3.586756    -48.259670   \n",
      "3                 -29.141173    -45.136560   \n",
      "4                 -15.514589    -42.777278   \n",
      "...                      ...           ...   \n",
      "23844             -34.907834    -53.488047   \n",
      "23845              -1.243349    -54.580281   \n",
      "23846             -14.165289    -50.651107   \n",
      "23847              -8.616165    -54.344881   \n",
      "23848              -2.452180    -51.768241   \n",
      "\n",
      "       CQR_two-model_rf_QuantileRegErrFun  MAPIE_two-model_naive  \\\n",
      "0                              -43.023516             -32.809238   \n",
      "1                              -33.571176             -30.261500   \n",
      "2                              -37.858677             -28.825427   \n",
      "3                              -42.522264             -46.705310   \n",
      "4                              -14.170784             -39.000222   \n",
      "...                                   ...                    ...   \n",
      "23844                          -36.236083             -44.215205   \n",
      "23845                          -18.855282             -35.777207   \n",
      "23846                          -31.270069             -41.268982   \n",
      "23847                          -38.722632             -41.297095   \n",
      "23848                          -29.030739             -41.974738   \n",
      "\n",
      "       MAPIE_two-model_cv_plus  xbcf_outcome_xbcf  Local-CP_two-model_rf  \\\n",
      "0                   -34.937871           3.929901             -13.816294   \n",
      "1                   -33.143505           2.409593             -19.380895   \n",
      "2                   -34.036064           3.848559             -19.260911   \n",
      "3                   -48.948203           0.074526             -48.755432   \n",
      "4                   -34.732847           2.191044             -10.062916   \n",
      "...                        ...                ...                    ...   \n",
      "23844               -48.179671          -0.246881             -21.032526   \n",
      "23845               -36.016552           1.430568             -24.979971   \n",
      "23846               -41.860665           3.211271             -27.614174   \n",
      "23847               -42.233421           1.339832              -6.603196   \n",
      "23848               -44.246706           3.462990              -4.047160   \n",
      "\n",
      "       CP_two-model_NN  Local-CP_two-model_NN  \\\n",
      "0           -31.769572             -20.993237   \n",
      "1           -31.902601             -18.175052   \n",
      "2           -29.375579             -11.332523   \n",
      "3           -30.389607             -20.968306   \n",
      "4           -37.833271             -37.781847   \n",
      "...                ...                    ...   \n",
      "23844       -26.644176             -10.700047   \n",
      "23845       -31.933656             -17.787758   \n",
      "23846       -31.478109             -24.446448   \n",
      "23847       -29.541022             -10.211635   \n",
      "23848       -30.658215              -8.065712   \n",
      "\n",
      "       CQR_two-model_rf_AsymRegErrFunc  tau_fold  \n",
      "0                                  0.0  6.559936  \n",
      "1                                  0.0  2.788060  \n",
      "2                                  0.0  4.645486  \n",
      "3                                  0.0  6.820570  \n",
      "4                                  0.0  0.056285  \n",
      "...                                ...       ...  \n",
      "23844                              0.0  7.126763  \n",
      "23845                              0.0  0.084626  \n",
      "23846                              0.0  6.264145  \n",
      "23847                              0.0  7.164826  \n",
      "23848                              0.0  3.360714  \n",
      "\n",
      "[23849 rows x 11 columns]\n",
      "0.05\n",
      "       Agnostic_QR_two-model  RF_two-model  \\\n",
      "0                 -61.341106   -177.614917   \n",
      "1                 -62.149848   -177.248664   \n",
      "2                 -30.853182   -171.987587   \n",
      "3                 -91.024265   -176.527804   \n",
      "4                 -66.398918   -167.347549   \n",
      "...                      ...           ...   \n",
      "23844             -49.614495   -172.080642   \n",
      "23845             -43.967630   -176.034178   \n",
      "23846             -66.652727   -185.055918   \n",
      "23847             -46.728296   -171.692610   \n",
      "23848             -59.647865   -180.268377   \n",
      "\n",
      "       CQR_two-model_rf_QuantileRegErrFun  MAPIE_two-model_naive  \\\n",
      "0                             -175.193424            -155.844044   \n",
      "1                             -143.973147            -159.671057   \n",
      "2                             -160.160764            -155.669362   \n",
      "3                             -155.130274            -148.574308   \n",
      "4                             -146.869726            -167.781554   \n",
      "...                                   ...                    ...   \n",
      "23844                         -144.716171            -163.838521   \n",
      "23845                         -158.360451            -156.991572   \n",
      "23846                         -175.341390            -163.584239   \n",
      "23847                         -147.299835            -161.770629   \n",
      "23848                         -190.054118            -157.064091   \n",
      "\n",
      "       MAPIE_two-model_cv_plus  xbcf_outcome_xbcf  Local-CP_two-model_rf  \\\n",
      "0                  -161.995061           3.283782             -88.586836   \n",
      "1                  -165.782372          -0.014736            -127.178853   \n",
      "2                  -163.602370           2.516848            -125.658646   \n",
      "3                  -153.753312           3.566836            -200.582789   \n",
      "4                  -172.226204          -1.990913             -59.422644   \n",
      "...                        ...                ...                    ...   \n",
      "23844              -169.280979           2.323986             -90.525859   \n",
      "23845              -161.148673           1.683354            -244.152434   \n",
      "23846              -169.623571           1.867884            -167.064832   \n",
      "23847              -167.373216           1.035452            -219.039375   \n",
      "23848              -161.162895           1.089355            -349.335039   \n",
      "\n",
      "       CP_two-model_NN  Local-CP_two-model_NN  \\\n",
      "0          -197.692479            -117.037282   \n",
      "1          -193.047491            -159.962235   \n",
      "2          -194.019790             -97.567096   \n",
      "3          -192.378780            -222.673204   \n",
      "4          -193.047491            -181.464546   \n",
      "...                ...                    ...   \n",
      "23844      -192.973536            -176.796458   \n",
      "23845      -193.551727            -129.323517   \n",
      "23846      -191.384483            -178.394952   \n",
      "23847      -193.047491            -178.016407   \n",
      "23848      -190.992647            -186.694355   \n",
      "\n",
      "       CQR_two-model_rf_AsymRegErrFunc   tau_fold  \n",
      "0                          -115.402374   4.874108  \n",
      "1                          -115.402374   9.876173  \n",
      "2                          -115.402374   1.488729  \n",
      "3                          -115.402374   9.899474  \n",
      "4                          -115.402374   3.360276  \n",
      "...                                ...        ...  \n",
      "23844                      -115.402374   4.695920  \n",
      "23845                      -115.402374   0.441787  \n",
      "23846                      -115.402374   6.361479  \n",
      "23847                      -115.402374   2.909819  \n",
      "23848                      -115.402374  10.718548  \n",
      "\n",
      "[23849 rows x 11 columns]\n",
      "0.32\n",
      "       Agnostic_QR_two-model  RF_two-model  \\\n",
      "0                  -4.248302    -78.922070   \n",
      "1                  -9.071508    -62.788300   \n",
      "2                  -4.877553    -54.676474   \n",
      "3                 -22.408122    -42.367880   \n",
      "4                  -7.984745    -42.369248   \n",
      "...                      ...           ...   \n",
      "23844             -26.485326    -45.530768   \n",
      "23845              -7.544790    -46.250345   \n",
      "23846             -16.603593    -49.742507   \n",
      "23847              -7.707729    -51.024188   \n",
      "23848              -9.672530    -54.729309   \n",
      "\n",
      "       CQR_two-model_rf_QuantileRegErrFun  MAPIE_two-model_naive  \\\n",
      "0                              -72.914124             -34.295918   \n",
      "1                              -47.082968             -37.421840   \n",
      "2                              -37.620271             -34.074473   \n",
      "3                              -29.999435             -24.111686   \n",
      "4                              -25.455243             -44.571112   \n",
      "...                                   ...                    ...   \n",
      "23844                          -19.092021             -40.013044   \n",
      "23845                          -36.651236             -31.809585   \n",
      "23846                          -34.148531             -40.103052   \n",
      "23847                          -31.285101             -37.737308   \n",
      "23848                          -36.784545             -34.902803   \n",
      "\n",
      "       MAPIE_two-model_cv_plus  xbcf_outcome_xbcf  Local-CP_two-model_rf  \\\n",
      "0                   -34.660061           4.067061              -7.711871   \n",
      "1                   -40.170528           0.853313             -12.695001   \n",
      "2                   -36.542323           3.737281             -13.848155   \n",
      "3                   -25.185588           6.722440             -16.480469   \n",
      "4                   -45.012477           0.018112              -3.667650   \n",
      "...                        ...                ...                    ...   \n",
      "23844               -40.027521           5.417145             -12.862517   \n",
      "23845               -32.537350           3.363183             -13.919819   \n",
      "23846               -40.951954           4.099234             -11.037386   \n",
      "23847               -39.938767           2.369762             -14.536256   \n",
      "23848               -36.683601           3.057850             -47.636045   \n",
      "\n",
      "       CP_two-model_NN  Local-CP_two-model_NN  \\\n",
      "0           -22.455144              -9.478872   \n",
      "1           -23.122336             -16.382496   \n",
      "2           -26.159771             -17.438663   \n",
      "3           -29.996616             -26.048320   \n",
      "4           -28.514368             -22.630923   \n",
      "...                ...                    ...   \n",
      "23844       -24.005408             -20.837891   \n",
      "23845       -26.882032             -18.156180   \n",
      "23846       -19.927433             -17.569403   \n",
      "23847       -28.023367             -20.898016   \n",
      "23848       -18.681918             -22.459402   \n",
      "\n",
      "       CQR_two-model_rf_AsymRegErrFunc   tau_fold  \n",
      "0                                  0.0   4.874108  \n",
      "1                                  0.0   9.876173  \n",
      "2                                  0.0   1.488729  \n",
      "3                                  0.0   9.899474  \n",
      "4                                  0.0   3.360276  \n",
      "...                                ...        ...  \n",
      "23844                              0.0   4.695920  \n",
      "23845                              0.0   0.441787  \n",
      "23846                              0.0   6.361479  \n",
      "23847                              0.0   2.909819  \n",
      "23848                              0.0  10.718548  \n",
      "\n",
      "[23849 rows x 11 columns]\n",
      "0.05\n",
      "       Agnostic_QR_two-model  RF_two-model  \\\n",
      "0                 -33.325627   -195.594518   \n",
      "1                 -36.162206   -184.583935   \n",
      "2                 -64.485020   -183.437605   \n",
      "3                 -42.354546   -184.959121   \n",
      "4                 -46.230957   -180.890025   \n",
      "...                      ...           ...   \n",
      "23844             -78.144107   -198.812382   \n",
      "23845             -52.037193   -182.190311   \n",
      "23846             -77.073375   -177.886383   \n",
      "23847             -74.160861   -173.975558   \n",
      "23848             -52.517590   -163.443546   \n",
      "\n",
      "       CQR_two-model_rf_QuantileRegErrFun  MAPIE_two-model_naive  \\\n",
      "0                             -167.581906            -166.707148   \n",
      "1                             -154.486616            -167.065911   \n",
      "2                             -143.994237            -168.107866   \n",
      "3                             -142.275480            -164.476725   \n",
      "4                             -149.977799            -154.096872   \n",
      "...                                   ...                    ...   \n",
      "23844                         -188.338999            -162.948627   \n",
      "23845                         -153.224782            -166.657212   \n",
      "23846                         -161.953404            -163.800070   \n",
      "23847                         -145.108903            -162.524505   \n",
      "23848                         -158.849235            -152.050522   \n",
      "\n",
      "       MAPIE_two-model_cv_plus  xbcf_outcome_xbcf  Local-CP_two-model_rf  \\\n",
      "0                  -170.973744          -3.771169            -146.572172   \n",
      "1                  -170.199504          -3.970427            -164.215954   \n",
      "2                  -170.406922           0.050828             -51.976838   \n",
      "3                  -168.871461          -1.551868             -75.458967   \n",
      "4                  -160.277379           1.767882            -192.480722   \n",
      "...                        ...                ...                    ...   \n",
      "23844              -169.231613           0.050828            -230.312137   \n",
      "23845              -170.443568           0.044606            -126.939275   \n",
      "23846              -169.384444           0.050828            -203.277558   \n",
      "23847              -166.395785           2.885030            -163.951065   \n",
      "23848              -158.573029           7.483052            -236.380830   \n",
      "\n",
      "       CP_two-model_NN  Local-CP_two-model_NN  \\\n",
      "0          -213.733664            -184.796872   \n",
      "1          -193.340936            -196.147911   \n",
      "2          -194.145511            -180.956179   \n",
      "3          -197.840609            -170.299503   \n",
      "4          -197.315214            -160.151337   \n",
      "...                ...                    ...   \n",
      "23844      -189.197049            -211.840264   \n",
      "23845      -195.543821            -173.417717   \n",
      "23846      -191.016014            -193.772104   \n",
      "23847      -188.163850            -230.372940   \n",
      "23848      -180.773547            -231.300976   \n",
      "\n",
      "       CQR_two-model_rf_AsymRegErrFunc   tau_fold  \n",
      "0                           -116.21154   1.781941  \n",
      "1                           -116.21154   7.773466  \n",
      "2                           -116.21154  -0.000801  \n",
      "3                           -116.21154   0.009010  \n",
      "4                           -116.21154   0.881338  \n",
      "...                                ...        ...  \n",
      "23844                       -116.21154   0.158215  \n",
      "23845                       -116.21154   1.121758  \n",
      "23846                       -116.21154   0.052592  \n",
      "23847                       -116.21154   8.475204  \n",
      "23848                       -116.21154  10.197444  \n",
      "\n",
      "[23849 rows x 11 columns]\n",
      "0.32\n",
      "       Agnostic_QR_two-model  RF_two-model  \\\n",
      "0                 -15.820938    -48.413701   \n",
      "1                  -5.143595    -47.858605   \n",
      "2                  -2.723002    -44.871409   \n",
      "3                  -1.487579    -64.175005   \n",
      "4                 -29.745387    -58.327750   \n",
      "...                      ...           ...   \n",
      "23844             -11.516442    -71.564842   \n",
      "23845               1.157294    -44.000023   \n",
      "23846             -16.973579    -51.939022   \n",
      "23847             -14.622312    -44.596192   \n",
      "23848             -24.105807    -34.939806   \n",
      "\n",
      "       CQR_two-model_rf_QuantileRegErrFun  MAPIE_two-model_naive  \\\n",
      "0                              -34.936745             -37.400030   \n",
      "1                              -28.996837             -38.262856   \n",
      "2                              -19.896407             -37.984899   \n",
      "3                              -23.748960             -33.944462   \n",
      "4                              -37.988218             -25.447756   \n",
      "...                                   ...                    ...   \n",
      "23844                          -55.409676             -34.467278   \n",
      "23845                          -22.491828             -37.286851   \n",
      "23846                          -41.101708             -34.600387   \n",
      "23847                          -21.971699             -32.880121   \n",
      "23848                          -40.357722             -23.855627   \n",
      "\n",
      "       MAPIE_two-model_cv_plus  xbcf_outcome_xbcf  Local-CP_two-model_rf  \\\n",
      "0                   -39.043041          -0.984801             -27.151004   \n",
      "1                   -38.713398           3.154127             -16.878128   \n",
      "2                   -39.616106           0.725613              -6.882911   \n",
      "3                   -37.911893           0.049189             -18.818713   \n",
      "4                   -30.142106           3.594998             -27.278633   \n",
      "...                        ...                ...                    ...   \n",
      "23844               -36.880768           0.964242             -27.228096   \n",
      "23845               -38.637485           0.661751             -14.195138   \n",
      "23846               -36.863632           0.675273             -30.473272   \n",
      "23847               -35.405177           3.452277             -25.531936   \n",
      "23848               -28.398739           9.416455             -46.874517   \n",
      "\n",
      "       CP_two-model_NN  Local-CP_two-model_NN  \\\n",
      "0           -21.589929             -24.761372   \n",
      "1           -34.756995             -22.625299   \n",
      "2           -31.371360             -21.673186   \n",
      "3           -34.850271             -21.223339   \n",
      "4           -33.983072             -20.920212   \n",
      "...                ...                    ...   \n",
      "23844       -34.748027             -23.290037   \n",
      "23845       -33.827523             -21.910736   \n",
      "23846       -36.357801             -22.115527   \n",
      "23847       -27.236372             -24.483544   \n",
      "23848       -23.855135             -21.495424   \n",
      "\n",
      "       CQR_two-model_rf_AsymRegErrFunc   tau_fold  \n",
      "0                                  0.0   1.781941  \n",
      "1                                  0.0   7.773466  \n",
      "2                                  0.0  -0.000801  \n",
      "3                                  0.0   0.009010  \n",
      "4                                  0.0   0.881338  \n",
      "...                                ...        ...  \n",
      "23844                              0.0   0.158215  \n",
      "23845                              0.0   1.121758  \n",
      "23846                              0.0   0.052592  \n",
      "23847                              0.0   8.475204  \n",
      "23848                              0.0  10.197444  \n",
      "\n",
      "[23849 rows x 11 columns]\n"
     ]
    }
   ],
   "source": [
    "df = calculate_correlation_matrix_corr(predictions_test, boundary = boundary,\n",
    "                                       tau_true=tau_response)"
   ],
   "metadata": {
    "collapsed": false,
    "pycharm": {
     "name": "#%%\n"
    }
   }
  },
  {
   "cell_type": "code",
   "execution_count": 116,
   "outputs": [],
   "source": [
    "alpha_list = [0.05,0.32]\n",
    "corr_dict = {}\n",
    "for alpha in alpha_list:\n",
    "    corr_dict[alpha] = {}"
   ],
   "metadata": {
    "collapsed": false,
    "pycharm": {
     "name": "#%%\n"
    }
   }
  },
  {
   "cell_type": "code",
   "execution_count": 117,
   "outputs": [],
   "source": [
    "for folds in range(0,5):\n",
    "    for alpha in alpha_list:\n",
    "        corr_dict[alpha][folds] =df[folds][alpha]\n",
    "        #print(corr_dict)"
   ],
   "metadata": {
    "collapsed": false,
    "pycharm": {
     "name": "#%%\n"
    }
   }
  },
  {
   "cell_type": "markdown",
   "source": [
    "Create corrplot for each alpha in alpha list"
   ],
   "metadata": {
    "collapsed": false
   }
  },
  {
   "cell_type": "code",
   "execution_count": 118,
   "outputs": [],
   "source": [
    "df0 = corr_dict[0.05][4]\n",
    "columns = df0.columns"
   ],
   "metadata": {
    "collapsed": false,
    "pycharm": {
     "name": "#%%\n"
    }
   }
  },
  {
   "cell_type": "code",
   "execution_count": 119,
   "outputs": [],
   "source": [
    "# https://stackoverflow.com/questions/57226054/seaborn-correlation-matrix-with-p-values-with-python\n",
    "for alpha in alpha_list:\n",
    "    df0 = corr_dict[alpha][0]\n",
    "    df1 = corr_dict[alpha][1]\n",
    "    df2 = corr_dict[alpha][2]\n",
    "    df3 = corr_dict[alpha][3]\n",
    "    df4 = corr_dict[alpha][4]\n",
    "\n",
    "    mean_corr = np.mean([df0,df1,df2,df3,df4], axis=0)\n",
    "\n",
    "    #Change the column and index names\n",
    "    #%%\n",
    "    #columns = df0.columns\n",
    "    df= pd.DataFrame.from_dict(mean_corr)\n",
    "    df.columns = columns\n",
    "    df.set_index(columns, inplace=True)\n",
    "    #%%\n",
    "\n",
    "    #%%\n",
    "    #corr = df_5.corr()\n",
    "    mask = np.triu(df)\n",
    "    plot_cor_matrix(df,mask,x_axis_labels=column_names_corr)\n",
    "    #plt.show()\n",
    "    plt.savefig(f\"figures/{alpha}_correlation_plot_{boundary}.pdf\",bbox_inches='tight')\n",
    "    plt.close()"
   ],
   "metadata": {
    "collapsed": false,
    "pycharm": {
     "name": "#%%\n"
    }
   }
  },
  {
   "cell_type": "markdown",
   "source": [
    "## b) Correlation: width of PI and deviations of CATE and ITE\n"
   ],
   "metadata": {
    "collapsed": false
   }
  },
  {
   "cell_type": "code",
   "execution_count": 29,
   "outputs": [
    {
     "name": "stdout",
     "output_type": "stream",
     "text": [
      "{0: {}}\n",
      "Agnostic_QR_two-model\n",
      "RF_two-model\n",
      "CQR_two-model_rf_QuantileRegErrFun\n",
      "MAPIE_two-model_naive\n",
      "MAPIE_two-model_cv_plus\n",
      "xbcf_outcome_xbcf\n",
      "Local-CP_two-model_rf\n",
      "CP_two-model_NN\n",
      "Local-CP_two-model_NN\n",
      "CQR_two-model_rf_AsymRegErrFunc\n",
      "(23849, 10)\n",
      "(23849,)\n",
      "   Agnostic_QR_two-model  RF_two-model  CQR_two-model_rf_QuantileRegErrFun  \\\n",
      "0              80.482970    171.579564                          166.260802   \n",
      "1              62.520742    171.579564                          154.755865   \n",
      "2              62.909934    171.579564                          146.344048   \n",
      "3              67.272415    171.579564                          163.199450   \n",
      "4              40.127955    171.579564                          150.664327   \n",
      "\n",
      "   MAPIE_two-model_naive  MAPIE_two-model_cv_plus  xbcf_outcome_xbcf  \\\n",
      "0             161.397568               165.894337           3.990371   \n",
      "1             161.397568               165.647716           2.747398   \n",
      "2             161.397568               164.901588           2.526064   \n",
      "3             161.397568               165.312997           1.845565   \n",
      "4             161.397568               164.731741           4.777685   \n",
      "\n",
      "   Local-CP_two-model_rf  CP_two-model_NN  Local-CP_two-model_NN  \\\n",
      "0             271.673681       195.066306             155.148694   \n",
      "1             248.929766       195.066306             215.883140   \n",
      "2             309.996062       195.066306             239.925198   \n",
      "3             272.795971       195.066306             326.821141   \n",
      "4             196.882894       195.066306             212.327119   \n",
      "\n",
      "   CQR_two-model_rf_AsymRegErrFunc  deviations  \n",
      "0                       117.012619   30.283946  \n",
      "1                       117.012619    3.010871  \n",
      "2                       117.012619    0.562067  \n",
      "3                       152.603669    0.954226  \n",
      "4                       117.012619    5.705299  \n",
      "Agnostic_QR_two-model\n",
      "RF_two-model\n",
      "CQR_two-model_rf_QuantileRegErrFun\n",
      "MAPIE_two-model_naive\n",
      "MAPIE_two-model_cv_plus\n",
      "xbcf_outcome_xbcf\n",
      "Local-CP_two-model_rf\n",
      "CP_two-model_NN\n",
      "Local-CP_two-model_NN\n",
      "CQR_two-model_rf_AsymRegErrFunc\n",
      "(23849, 10)\n",
      "(23849,)\n",
      "   Agnostic_QR_two-model  RF_two-model  CQR_two-model_rf_QuantileRegErrFun  \\\n",
      "0              17.728854     44.185319                           26.916983   \n",
      "1              22.160665     44.185319                           30.616607   \n",
      "2               8.553183     44.185319                           25.348135   \n",
      "3               8.712189     44.185319                           27.305885   \n",
      "4              16.355719     44.185319                           33.387549   \n",
      "\n",
      "   MAPIE_two-model_naive  MAPIE_two-model_cv_plus  xbcf_outcome_xbcf  \\\n",
      "0              34.283228                36.732939           1.311641   \n",
      "1              34.283228                36.938023           0.987203   \n",
      "2              34.283228                36.494693           0.945055   \n",
      "3              34.283228                36.420476           0.949139   \n",
      "4              34.283228                36.344098           2.496243   \n",
      "\n",
      "   Local-CP_two-model_rf  CP_two-model_NN  Local-CP_two-model_NN  \\\n",
      "0              42.952356        31.303373              13.217501   \n",
      "1              34.496049        31.303373              23.618587   \n",
      "2              34.689137        31.303373              26.605723   \n",
      "3              44.440348        31.303373              28.279843   \n",
      "4              40.282944        31.303373              23.407155   \n",
      "\n",
      "   CQR_two-model_rf_AsymRegErrFunc  deviations  \n",
      "0                        43.261436   30.283946  \n",
      "1                        43.261436    3.010871  \n",
      "2                        43.261436    0.562067  \n",
      "3                        43.261436    0.954226  \n",
      "4                        43.261436    5.705299  \n",
      "{0: 0         30.283946\n",
      "5          3.010871\n",
      "6          0.562067\n",
      "7          0.954226\n",
      "14         5.705299\n",
      "            ...    \n",
      "119211     1.224099\n",
      "119212     5.366291\n",
      "119227    14.354020\n",
      "119239    17.993363\n",
      "119241     3.018453\n",
      "Name: TREATMENT_EFFECT_RESPONSE, Length: 23849, dtype: float64, 1: {}}\n",
      "Agnostic_QR_two-model\n",
      "RF_two-model\n",
      "CQR_two-model_rf_QuantileRegErrFun\n",
      "MAPIE_two-model_naive\n",
      "MAPIE_two-model_cv_plus\n",
      "xbcf_outcome_xbcf\n",
      "Local-CP_two-model_rf\n",
      "CP_two-model_NN\n",
      "Local-CP_two-model_NN\n",
      "CQR_two-model_rf_AsymRegErrFunc\n",
      "(23849, 10)\n",
      "(23849,)\n",
      "   Agnostic_QR_two-model  RF_two-model  CQR_two-model_rf_QuantileRegErrFun  \\\n",
      "0              55.984994    163.841602                          184.254711   \n",
      "1              55.398571    163.841602                          138.669406   \n",
      "2              93.798422    163.841602                          153.305702   \n",
      "3              57.536480    163.841602                          136.841792   \n",
      "4              84.068796    163.841602                          158.046615   \n",
      "\n",
      "   MAPIE_two-model_naive  MAPIE_two-model_cv_plus  xbcf_outcome_xbcf  \\\n",
      "0              160.06472               165.673099           2.044489   \n",
      "1              160.06472               166.531921           1.208025   \n",
      "2              160.06472               166.116559           1.358437   \n",
      "3              160.06472               166.065749           1.313752   \n",
      "4              160.06472               165.844462           1.311023   \n",
      "\n",
      "   Local-CP_two-model_rf  CP_two-model_NN  Local-CP_two-model_NN  \\\n",
      "0             108.301765       194.973099             186.429643   \n",
      "1              74.771912       194.973099             165.237646   \n",
      "2             203.985540       194.973099             208.153288   \n",
      "3              96.719569       194.973099             115.867291   \n",
      "4             331.388247       194.973099             212.732556   \n",
      "\n",
      "   CQR_two-model_rf_AsymRegErrFunc  deviations  \n",
      "0                       117.913124    4.564931  \n",
      "1                       117.913124    0.296811  \n",
      "2                       117.913124    2.983298  \n",
      "3                       117.913124    0.289983  \n",
      "4                       117.913124    8.467012  \n",
      "Agnostic_QR_two-model\n",
      "RF_two-model\n",
      "CQR_two-model_rf_QuantileRegErrFun\n",
      "MAPIE_two-model_naive\n",
      "MAPIE_two-model_cv_plus\n",
      "xbcf_outcome_xbcf\n",
      "Local-CP_two-model_rf\n",
      "CP_two-model_NN\n",
      "Local-CP_two-model_NN\n",
      "CQR_two-model_rf_AsymRegErrFunc\n",
      "(23849, 10)\n",
      "(23849,)\n",
      "   Agnostic_QR_two-model  RF_two-model  CQR_two-model_rf_QuantileRegErrFun  \\\n",
      "0              21.680606     44.846977                           32.752221   \n",
      "1               2.570252     44.846977                           19.199027   \n",
      "2              26.622767     44.846977                           35.423767   \n",
      "3               1.563430     44.846977                           23.288715   \n",
      "4              26.609903     44.846977                           66.931833   \n",
      "\n",
      "   MAPIE_two-model_naive  MAPIE_two-model_cv_plus  xbcf_outcome_xbcf  \\\n",
      "0              34.021767                36.310053           0.996099   \n",
      "1              34.021767                36.774164           0.632815   \n",
      "2              34.021767                36.325959           0.692654   \n",
      "3              34.021767                36.194782           0.735933   \n",
      "4              34.021767                35.858508           0.740630   \n",
      "\n",
      "   Local-CP_two-model_rf  CP_two-model_NN  Local-CP_two-model_NN  \\\n",
      "0               9.526292        32.839243              18.938465   \n",
      "1               3.133288        32.839243              18.569129   \n",
      "2              30.358058        32.839243              22.567619   \n",
      "3              21.581188        32.839243              13.959547   \n",
      "4              45.304443        32.839243              23.064729   \n",
      "\n",
      "   CQR_two-model_rf_AsymRegErrFunc  deviations  \n",
      "0                        42.674064    4.564931  \n",
      "1                        42.674064    0.296811  \n",
      "2                        42.674064    2.983298  \n",
      "3                        42.674064    0.289983  \n",
      "4                        42.674064    8.467012  \n",
      "{0: 0         30.283946\n",
      "5          3.010871\n",
      "6          0.562067\n",
      "7          0.954226\n",
      "14         5.705299\n",
      "            ...    \n",
      "119211     1.224099\n",
      "119212     5.366291\n",
      "119227    14.354020\n",
      "119239    17.993363\n",
      "119241     3.018453\n",
      "Name: TREATMENT_EFFECT_RESPONSE, Length: 23849, dtype: float64, 1: 11         4.564931\n",
      "12         0.296811\n",
      "16         2.983298\n",
      "27         0.289983\n",
      "43         8.467012\n",
      "            ...    \n",
      "119216    22.192568\n",
      "119220     8.806682\n",
      "119223     8.150781\n",
      "119233     0.833780\n",
      "119242     0.208328\n",
      "Name: TREATMENT_EFFECT_RESPONSE, Length: 23849, dtype: float64, 2: {}}\n",
      "Agnostic_QR_two-model\n",
      "RF_two-model\n",
      "CQR_two-model_rf_QuantileRegErrFun\n",
      "MAPIE_two-model_naive\n",
      "MAPIE_two-model_cv_plus\n",
      "xbcf_outcome_xbcf\n",
      "Local-CP_two-model_rf\n",
      "CP_two-model_NN\n",
      "Local-CP_two-model_NN\n",
      "CQR_two-model_rf_AsymRegErrFunc\n",
      "(23849, 10)\n",
      "(23849,)\n",
      "   Agnostic_QR_two-model  RF_two-model  CQR_two-model_rf_QuantileRegErrFun  \\\n",
      "0              45.715558    166.855087                          159.831194   \n",
      "1              51.806534    166.855087                          165.182608   \n",
      "2              39.716193    166.855087                          173.677390   \n",
      "3              53.101430    166.855087                          222.428377   \n",
      "4              83.893839    166.855087                          143.173675   \n",
      "\n",
      "   MAPIE_two-model_naive  MAPIE_two-model_cv_plus  xbcf_outcome_xbcf  \\\n",
      "0             156.393634               163.450767           5.171502   \n",
      "1             156.393634               164.306146           4.949923   \n",
      "2             156.393634               163.247618           4.401640   \n",
      "3             156.393634               161.019574           4.714010   \n",
      "4             156.393634               163.688467           1.652675   \n",
      "\n",
      "   Local-CP_two-model_rf  CP_two-model_NN  Local-CP_two-model_NN  \\\n",
      "0             146.516802       193.676842             179.545956   \n",
      "1             281.276960       193.676842             183.030132   \n",
      "2             205.535971       193.676842             150.479436   \n",
      "3             356.452428       193.676842             165.410800   \n",
      "4             156.838796       193.676842             224.654566   \n",
      "\n",
      "   CQR_two-model_rf_AsymRegErrFunc  deviations  \n",
      "0                       117.599560    0.879667  \n",
      "1                       117.599560    1.058458  \n",
      "2                       117.599560    1.376222  \n",
      "3                       147.294847   16.009415  \n",
      "4                       117.599560   12.082502  \n",
      "Agnostic_QR_two-model\n",
      "RF_two-model\n",
      "CQR_two-model_rf_QuantileRegErrFun\n",
      "MAPIE_two-model_naive\n",
      "MAPIE_two-model_cv_plus\n",
      "xbcf_outcome_xbcf\n",
      "Local-CP_two-model_rf\n",
      "CP_two-model_NN\n",
      "Local-CP_two-model_NN\n",
      "CQR_two-model_rf_AsymRegErrFunc\n",
      "(23849, 10)\n",
      "(23849,)\n",
      "   Agnostic_QR_two-model  RF_two-model  CQR_two-model_rf_QuantileRegErrFun  \\\n",
      "0               3.546207     46.529037                           34.148331   \n",
      "1               6.350648     46.529037                           33.388206   \n",
      "2               1.963586     46.529037                           37.487947   \n",
      "3              18.940412     46.529037                           45.481164   \n",
      "4              17.954883     46.529037                           20.153071   \n",
      "\n",
      "   MAPIE_two-model_naive  MAPIE_two-model_cv_plus  xbcf_outcome_xbcf  \\\n",
      "0              34.612461                37.860228           2.901054   \n",
      "1              34.612461                36.563757           2.789214   \n",
      "2              34.612461                36.830658           1.885796   \n",
      "3              34.612461                38.794242           2.637589   \n",
      "4              34.612461                35.890722           0.967912   \n",
      "\n",
      "   Local-CP_two-model_rf  CP_two-model_NN  Local-CP_two-model_NN  \\\n",
      "0              20.766152         36.67654              25.993020   \n",
      "1              23.324083         36.67654              23.854113   \n",
      "2              34.161562         36.67654              17.322352   \n",
      "3              48.918224         36.67654              25.935808   \n",
      "4              26.857408         36.67654              32.330440   \n",
      "\n",
      "   CQR_two-model_rf_AsymRegErrFunc  deviations  \n",
      "0                        43.251316    0.879667  \n",
      "1                        43.251316    1.058458  \n",
      "2                        43.251316    1.376222  \n",
      "3                        43.251316   16.009415  \n",
      "4                        43.251316   12.082502  \n",
      "{0: 0         30.283946\n",
      "5          3.010871\n",
      "6          0.562067\n",
      "7          0.954226\n",
      "14         5.705299\n",
      "            ...    \n",
      "119211     1.224099\n",
      "119212     5.366291\n",
      "119227    14.354020\n",
      "119239    17.993363\n",
      "119241     3.018453\n",
      "Name: TREATMENT_EFFECT_RESPONSE, Length: 23849, dtype: float64, 1: 11         4.564931\n",
      "12         0.296811\n",
      "16         2.983298\n",
      "27         0.289983\n",
      "43         8.467012\n",
      "            ...    \n",
      "119216    22.192568\n",
      "119220     8.806682\n",
      "119223     8.150781\n",
      "119233     0.833780\n",
      "119242     0.208328\n",
      "Name: TREATMENT_EFFECT_RESPONSE, Length: 23849, dtype: float64, 2: 1          0.879667\n",
      "4          1.058458\n",
      "8          1.376222\n",
      "10        16.009415\n",
      "18        12.082502\n",
      "            ...    \n",
      "119226    19.805853\n",
      "119236     1.966667\n",
      "119238     5.562106\n",
      "119240    21.212984\n",
      "119244     0.221102\n",
      "Name: TREATMENT_EFFECT_RESPONSE, Length: 23849, dtype: float64, 3: {}}\n",
      "Agnostic_QR_two-model\n",
      "RF_two-model\n",
      "CQR_two-model_rf_QuantileRegErrFun\n",
      "MAPIE_two-model_naive\n",
      "MAPIE_two-model_cv_plus\n",
      "xbcf_outcome_xbcf\n",
      "Local-CP_two-model_rf\n",
      "CP_two-model_NN\n",
      "Local-CP_two-model_NN\n",
      "CQR_two-model_rf_AsymRegErrFunc\n",
      "(23849, 10)\n",
      "(23849,)\n",
      "   Agnostic_QR_two-model  RF_two-model  CQR_two-model_rf_QuantileRegErrFun  \\\n",
      "0              69.381170    171.259961                          164.324156   \n",
      "1              69.008326    171.259961                          154.461124   \n",
      "2              31.350265    171.259961                          157.968045   \n",
      "3              96.080973    171.259961                          154.707724   \n",
      "4              67.150143    171.259961                          149.833434   \n",
      "\n",
      "   MAPIE_two-model_naive  MAPIE_two-model_cv_plus  xbcf_outcome_xbcf  \\\n",
      "0             158.790354               163.858175           1.781220   \n",
      "1             158.790354               164.215522           3.248432   \n",
      "2             158.790354               164.960125           3.738484   \n",
      "3             158.790354               163.800737           2.634636   \n",
      "4             158.790354               164.245138           2.991990   \n",
      "\n",
      "   Local-CP_two-model_rf  CP_two-model_NN  Local-CP_two-model_NN  \\\n",
      "0              96.979692       195.776249             124.300199   \n",
      "1             135.733581       195.776249             166.641692   \n",
      "2             129.932571       195.776249             101.679650   \n",
      "3             201.384064       195.776249             221.499485   \n",
      "4              59.077466       195.776249             185.685671   \n",
      "\n",
      "   CQR_two-model_rf_AsymRegErrFunc  deviations  \n",
      "0                       117.988327    0.005137  \n",
      "1                       117.988327   34.954672  \n",
      "2                       117.988327   28.395829  \n",
      "3                       117.988327    7.282696  \n",
      "4                       117.988327    0.932020  \n",
      "Agnostic_QR_two-model\n",
      "RF_two-model\n",
      "CQR_two-model_rf_QuantileRegErrFun\n",
      "MAPIE_two-model_naive\n",
      "MAPIE_two-model_cv_plus\n",
      "xbcf_outcome_xbcf\n",
      "Local-CP_two-model_rf\n",
      "CP_two-model_NN\n",
      "Local-CP_two-model_NN\n",
      "CQR_two-model_rf_AsymRegErrFunc\n",
      "(23849, 10)\n",
      "(23849,)\n",
      "   Agnostic_QR_two-model  RF_two-model  CQR_two-model_rf_QuantileRegErrFun  \\\n",
      "0               8.080324     47.717985                           46.955227   \n",
      "1               7.174008     47.717985                           30.892200   \n",
      "2               0.824729     47.717985                           33.012657   \n",
      "3              23.733092     47.717985                           32.807110   \n",
      "4               5.738104     47.717985                           29.015249   \n",
      "\n",
      "   MAPIE_two-model_naive  MAPIE_two-model_cv_plus  xbcf_outcome_xbcf  \\\n",
      "0              34.911512                36.623120           0.791397   \n",
      "1              34.911512                36.669210           2.419057   \n",
      "2              34.911512                36.767013           1.221044   \n",
      "3              34.911512                36.745007           0.768945   \n",
      "4              34.911512                36.274936           1.309481   \n",
      "\n",
      "   Local-CP_two-model_rf  CP_two-model_NN  Local-CP_two-model_NN  \\\n",
      "0              28.375940        31.472691              18.223430   \n",
      "1              27.409307        31.472691              23.416528   \n",
      "2              14.066593        31.472691              16.555442   \n",
      "3              45.754916        31.472691              30.152820   \n",
      "4              11.002829        31.472691              26.440955   \n",
      "\n",
      "   CQR_two-model_rf_AsymRegErrFunc  deviations  \n",
      "0                        42.810495    0.005137  \n",
      "1                        42.810495   34.954672  \n",
      "2                        42.810495   28.395829  \n",
      "3                        42.810495    7.282696  \n",
      "4                        42.810495    0.932020  \n",
      "{0: 0         30.283946\n",
      "5          3.010871\n",
      "6          0.562067\n",
      "7          0.954226\n",
      "14         5.705299\n",
      "            ...    \n",
      "119211     1.224099\n",
      "119212     5.366291\n",
      "119227    14.354020\n",
      "119239    17.993363\n",
      "119241     3.018453\n",
      "Name: TREATMENT_EFFECT_RESPONSE, Length: 23849, dtype: float64, 1: 11         4.564931\n",
      "12         0.296811\n",
      "16         2.983298\n",
      "27         0.289983\n",
      "43         8.467012\n",
      "            ...    \n",
      "119216    22.192568\n",
      "119220     8.806682\n",
      "119223     8.150781\n",
      "119233     0.833780\n",
      "119242     0.208328\n",
      "Name: TREATMENT_EFFECT_RESPONSE, Length: 23849, dtype: float64, 2: 1          0.879667\n",
      "4          1.058458\n",
      "8          1.376222\n",
      "10        16.009415\n",
      "18        12.082502\n",
      "            ...    \n",
      "119226    19.805853\n",
      "119236     1.966667\n",
      "119238     5.562106\n",
      "119240    21.212984\n",
      "119244     0.221102\n",
      "Name: TREATMENT_EFFECT_RESPONSE, Length: 23849, dtype: float64, 3: 2          0.005137\n",
      "20        34.954672\n",
      "25        28.395829\n",
      "29         7.282696\n",
      "41         0.932020\n",
      "            ...    \n",
      "119229     1.374342\n",
      "119230    16.078420\n",
      "119234     1.250798\n",
      "119235     0.035215\n",
      "119243    20.764508\n",
      "Name: TREATMENT_EFFECT_RESPONSE, Length: 23849, dtype: float64, 4: {}}\n",
      "Agnostic_QR_two-model\n",
      "RF_two-model\n",
      "CQR_two-model_rf_QuantileRegErrFun\n",
      "MAPIE_two-model_naive\n",
      "MAPIE_two-model_cv_plus\n",
      "xbcf_outcome_xbcf\n",
      "Local-CP_two-model_rf\n",
      "CP_two-model_NN\n",
      "Local-CP_two-model_NN\n",
      "CQR_two-model_rf_AsymRegErrFunc\n",
      "(23849, 10)\n",
      "(23849,)\n",
      "   Agnostic_QR_two-model  RF_two-model  CQR_two-model_rf_QuantileRegErrFun  \\\n",
      "0              32.150703     182.82621                          163.465506   \n",
      "1              37.940559     182.82621                          154.734737   \n",
      "2              69.200351     182.82621                          144.378608   \n",
      "3              41.505497     182.82621                          141.265616   \n",
      "4              46.637587     182.82621                          152.284192   \n",
      "\n",
      "   MAPIE_two-model_naive  MAPIE_two-model_cv_plus  xbcf_outcome_xbcf  \\\n",
      "0             162.741554               167.284815           6.298258   \n",
      "1             162.741554               166.644799           7.599212   \n",
      "2             162.741554               166.501863           2.197849   \n",
      "3             162.741554               166.525664           2.699233   \n",
      "4             162.741554               166.876456           4.526745   \n",
      "\n",
      "   Local-CP_two-model_rf  CP_two-model_NN  Local-CP_two-model_NN  \\\n",
      "0             150.456924       194.163401             180.444032   \n",
      "1             171.354275       194.163401             195.715834   \n",
      "2              51.672658       194.163401             180.524109   \n",
      "3              70.894391       194.163401             169.867429   \n",
      "4             191.213932       194.163401             157.715692   \n",
      "\n",
      "   CQR_two-model_rf_AsymRegErrFunc  deviations  \n",
      "0                       118.357192    3.323464  \n",
      "1                       118.357192    9.935037  \n",
      "2                       118.357192    5.499678  \n",
      "3                       118.357192    4.225422  \n",
      "4                       118.357192   10.963647  \n",
      "Agnostic_QR_two-model\n",
      "RF_two-model\n",
      "CQR_two-model_rf_QuantileRegErrFun\n",
      "MAPIE_two-model_naive\n",
      "MAPIE_two-model_cv_plus\n",
      "xbcf_outcome_xbcf\n",
      "Local-CP_two-model_rf\n",
      "CP_two-model_NN\n",
      "Local-CP_two-model_NN\n",
      "CQR_two-model_rf_AsymRegErrFunc\n",
      "(23849, 10)\n",
      "(23849,)\n",
      "   Agnostic_QR_two-model  RF_two-model  CQR_two-model_rf_QuantileRegErrFun  \\\n",
      "0               8.722860      44.07428                           31.071622   \n",
      "1               5.003542      44.07428                           25.439750   \n",
      "2               5.113543      44.07428                           21.029585   \n",
      "3               2.653840      44.07428                           20.346617   \n",
      "4              23.627700      44.07428                           32.778567   \n",
      "\n",
      "   MAPIE_two-model_naive  MAPIE_two-model_cv_plus  xbcf_outcome_xbcf  \\\n",
      "0              33.881932                36.272528           3.629747   \n",
      "1              33.881932                36.066091           3.204032   \n",
      "2              33.881932                35.767667           1.357747   \n",
      "3              33.881932                35.797252           1.518061   \n",
      "4              33.881932                36.032616           2.519673   \n",
      "\n",
      "   Local-CP_two-model_rf  CP_two-model_NN  Local-CP_two-model_NN  \\\n",
      "0              31.013475        35.512614              28.132103   \n",
      "1              27.867159        35.512614              22.973096   \n",
      "2               5.950267        35.512614              21.826098   \n",
      "3              18.763029        35.512614              21.571135   \n",
      "4              25.826226        35.512614              24.622137   \n",
      "\n",
      "   CQR_two-model_rf_AsymRegErrFunc  deviations  \n",
      "0                         43.31817    3.323464  \n",
      "1                         43.31817    9.935037  \n",
      "2                         43.31817    5.499678  \n",
      "3                         43.31817    4.225422  \n",
      "4                         43.31817   10.963647  \n"
     ]
    }
   ],
   "source": [
    "df, deviations = calculate_correlation_matrix_corr_width(predictions_test, tau_true=tau_response,\n",
    "                                             CATE_model='two-model_hurdle_gbt')\n"
   ],
   "metadata": {
    "collapsed": false,
    "pycharm": {
     "name": "#%%\n"
    }
   }
  },
  {
   "cell_type": "code",
   "execution_count": 30,
   "outputs": [],
   "source": [
    "alpha_list = [0.05,0.32]\n",
    "corr_dict = {}\n",
    "for alpha in alpha_list:\n",
    "    corr_dict[alpha] = {}"
   ],
   "metadata": {
    "collapsed": false,
    "pycharm": {
     "name": "#%%\n"
    }
   }
  },
  {
   "cell_type": "code",
   "execution_count": 31,
   "outputs": [
    {
     "name": "stdout",
     "output_type": "stream",
     "text": [
      "0\n",
      "1\n",
      "2\n",
      "3\n",
      "4\n"
     ]
    }
   ],
   "source": [
    "for folds in range(0,5):\n",
    "    print(folds)\n",
    "    for alpha in alpha_list:\n",
    "        corr_dict[alpha][folds] =df[folds][alpha]"
   ],
   "metadata": {
    "collapsed": false,
    "pycharm": {
     "name": "#%%\n"
    }
   }
  },
  {
   "cell_type": "markdown",
   "source": [
    "Create corrplot for each alpha in alpha list"
   ],
   "metadata": {
    "collapsed": false
   }
  },
  {
   "cell_type": "code",
   "execution_count": 32,
   "outputs": [
    {
     "name": "stdout",
     "output_type": "stream",
     "text": [
      "0.05\n",
      "[[ 1.00000000e+00 -2.78115398e-03  2.51810393e-01             nan\n",
      "   4.77323210e-02  8.68054181e-02  3.78811096e-01  6.96254155e-03\n",
      "   3.88771719e-01  1.44873343e-01  1.21797286e-01]\n",
      " [-2.78115398e-03  1.00000000e+00 -1.98718293e-02             nan\n",
      "  -4.74939042e-03 -7.83606879e-04 -8.78166897e-03  9.48338176e-02\n",
      "   3.18272819e-03 -4.90187899e-03 -1.46946884e-03]\n",
      " [ 2.51810393e-01 -1.98718293e-02  1.00000000e+00             nan\n",
      "   1.41353575e-01  4.75868459e-01  5.43150384e-01  8.78128435e-03\n",
      "   2.33994336e-01  3.01144979e-01  1.46969855e-01]\n",
      " [            nan             nan             nan             nan\n",
      "              nan             nan             nan             nan\n",
      "              nan             nan             nan]\n",
      " [ 4.77323210e-02 -4.74939042e-03  1.41353575e-01             nan\n",
      "   1.00000000e+00  1.22389489e-01  1.16631785e-01  3.43794636e-03\n",
      "   3.90574831e-02  7.55604656e-02  4.00381210e-02]\n",
      " [ 8.68054181e-02 -7.83606879e-04  4.75868459e-01             nan\n",
      "   1.22389489e-01  1.00000000e+00  5.37541730e-01  4.53799835e-04\n",
      "   2.64737008e-01  3.35468421e-01  1.71554659e-01]\n",
      " [ 3.78811096e-01 -8.78166897e-03  5.43150384e-01             nan\n",
      "   1.16631785e-01  5.37541730e-01  1.00000000e+00  8.07632864e-03\n",
      "   5.07902499e-01  4.95368698e-01  1.77805562e-01]\n",
      " [ 6.96254155e-03  9.48338176e-02  8.78128435e-03             nan\n",
      "   3.43794636e-03  4.53799835e-04  8.07632864e-03  1.00000000e+00\n",
      "   1.70826291e-01  1.56792980e-03  2.61203751e-03]\n",
      " [ 3.88771719e-01  3.18272819e-03  2.33994336e-01             nan\n",
      "   3.90574831e-02  2.64737008e-01  5.07902499e-01  1.70826291e-01\n",
      "   1.00000000e+00  2.60530280e-01  1.12784227e-01]\n",
      " [ 1.44873343e-01 -4.90187899e-03  3.01144979e-01             nan\n",
      "   7.55604656e-02  3.35468421e-01  4.95368698e-01  1.56792980e-03\n",
      "   2.60530280e-01  1.00000000e+00  1.25680501e-01]\n",
      " [ 1.21797286e-01 -1.46946884e-03  1.46969855e-01             nan\n",
      "   4.00381210e-02  1.71554659e-01  1.77805562e-01  2.61203751e-03\n",
      "   1.12784227e-01  1.25680501e-01  1.00000000e+00]]\n",
      "0.32\n",
      "[[ 1.         -0.02653405  0.55941204  0.02166454  0.52986136  0.43229496\n",
      "   0.6656104   0.02111893  0.48189603  0.14673808  0.18504156]\n",
      " [-0.02653405  1.         -0.02670435 -0.00389007 -0.01669974 -0.01540109\n",
      "  -0.02107539 -0.04613203 -0.01648907 -0.00246855 -0.00858814]\n",
      " [ 0.55941204 -0.02670435  1.          0.02246432  0.48805336  0.40807172\n",
      "   0.50591478  0.01143461  0.22237621  0.12949906  0.15081621]\n",
      " [ 0.02166454 -0.00389007  0.02246432  1.          0.0146042   0.01964611\n",
      "   0.01240463  0.00286303  0.00618163  0.00375905  0.00121351]\n",
      " [ 0.52986136 -0.01669974  0.48805336  0.0146042   1.          0.38420163\n",
      "   0.42922634  0.00331515  0.2018669   0.08546025  0.11656407]\n",
      " [ 0.43229496 -0.01540109  0.40807172  0.01964611  0.38420163  1.\n",
      "   0.50623516  0.01983493  0.28618202  0.13265831  0.1615957 ]\n",
      " [ 0.6656104  -0.02107539  0.50591478  0.01240463  0.42922634  0.50623516\n",
      "   1.          0.01926744  0.53398082  0.20540095  0.18198633]\n",
      " [ 0.02111893 -0.04613203  0.01143461  0.00286303  0.00331515  0.01983493\n",
      "   0.01926744  1.          0.0290075  -0.00108021 -0.00336549]\n",
      " [ 0.48189603 -0.01648907  0.22237621  0.00618163  0.2018669   0.28618202\n",
      "   0.53398082  0.0290075   1.          0.09946212  0.1231202 ]\n",
      " [ 0.14673808 -0.00246855  0.12949906  0.00375905  0.08546025  0.13265831\n",
      "   0.20540095 -0.00108021  0.09946212  1.          0.05590378]\n",
      " [ 0.18504156 -0.00858814  0.15081621  0.00121351  0.11656407  0.1615957\n",
      "   0.18198633 -0.00336549  0.1231202   0.05590378  1.        ]]\n"
     ]
    }
   ],
   "source": [
    "# https://stackoverflow.com/questions/57226054/seaborn-correlation-matrix-with-p-values-with-python\n",
    "for alpha in alpha_list:\n",
    "    print(alpha)\n",
    "    df0 = corr_dict[alpha][0]\n",
    "    df1 = corr_dict[alpha][1]\n",
    "    df2 = corr_dict[alpha][2]\n",
    "    df3 = corr_dict[alpha][3]\n",
    "    df4 = corr_dict[alpha][4]\n",
    "\n",
    "    mean_corr = np.mean([df0,df1,df2,df3,df4], axis=0)\n",
    "    print(mean_corr)\n",
    "\n",
    "    df= pd.DataFrame.from_dict(mean_corr)\n",
    "    #\n",
    "    columns = df0.columns\n",
    "    df.columns = columns\n",
    "    df.set_index(columns, inplace=True)\n",
    "    #%%\n",
    "\n",
    "    mask = np.triu(df)\n",
    "    plot_cor_matrix(df,mask,x_axis_labels=column_names_corr)\n",
    "    plt.savefig(f\"figures/{alpha}_width_absolute_error_correlation_plot.pdf\",bbox_inches='tight')\n",
    "    plt.close()"
   ],
   "metadata": {
    "collapsed": false,
    "pycharm": {
     "name": "#%%\n"
    }
   }
  },
  {
   "cell_type": "markdown",
   "source": [
    "## Prediction distribution analysis for CATE Estimates"
   ],
   "metadata": {
    "collapsed": false
   }
  },
  {
   "cell_type": "code",
   "execution_count": null,
   "outputs": [],
   "source": [
    "import matplotlib.pyplot as plt\n",
    "from matplotlib.backends.backend_pdf import PdfPages\n",
    "import seaborn as sns"
   ],
   "metadata": {
    "collapsed": false,
    "pycharm": {
     "name": "#%%\n"
    }
   }
  },
  {
   "cell_type": "code",
   "execution_count": null,
   "outputs": [],
   "source": [
    "##### Evaluation of distribution of predicted treatment effects\n",
    "\n",
    "axes_limits = {\"treatment_spending\":[-20,20,0,0.4],\n",
    "               \"treatment_basket_value\":[-20,20,0,0.3],\n",
    "               \"treatment_conversion\":[-0.15, 0.25, 0, 60]}\n",
    "\n",
    "clip_limits = {\"treatment_spending\":[-50,50],\n",
    "               \"treatment_basket_value\":[-50,50],\n",
    "               \"treatment_conversion\":[-0.5, 0.5]}"
   ],
   "metadata": {
    "collapsed": false,
    "pycharm": {
     "name": "#%%\n"
    }
   }
  },
  {
   "cell_type": "code",
   "execution_count": null,
   "outputs": [],
   "source": [],
   "metadata": {
    "collapsed": false,
    "pycharm": {
     "name": "#%%\n"
    }
   }
  },
  {
   "cell_type": "code",
   "execution_count": null,
   "outputs": [],
   "source": [
    "# plot densities for treatment effects\n",
    "for treatment_level in [\"treatment_spending\",\"treatment_basket_value\",\"treatment_conversion\"]:\n",
    "    for fold_index in range(len(predictions_test)):\n",
    "        with PdfPages(f\"figures/{treatment_level}_distribution_fold{fold_index}.pdf\") as pdf:\n",
    "            for model in predictions_test[fold_index][treatment_level].keys():\n",
    "                if model not in [\"oracle__\", \"ATE__\"]:\n",
    "                    plt.figure()\n",
    "                    plt.title(model)\n",
    "                    plt.xlabel(\"Model Estimate\")\n",
    "                    plt.ylabel(\"Kernel Density\")\n",
    "                    plt.axis(axes_limits[treatment_level]) #\n",
    "                    try:\n",
    "                        sns.kdeplot(predictions_test[fold_index][treatment_level][\"oracle__\"])\n",
    "                    except:\n",
    "                        sns.kdeplot(predictions_test[fold_index][treatment_level][\"oracle\"])\n",
    "                    sns.kdeplot(predictions_test[fold_index][treatment_level][model])\n",
    "                    pdf.savefig()\n",
    "                    plt.close()"
   ],
   "metadata": {
    "collapsed": false,
    "pycharm": {
     "name": "#%%\n"
    }
   }
  },
  {
   "cell_type": "markdown",
   "source": [
    "Look at range of treatment effect predictions"
   ],
   "metadata": {
    "collapsed": false
   }
  },
  {
   "cell_type": "code",
   "execution_count": null,
   "outputs": [],
   "source": [
    "for treatment_level in [\"treatment_spending\"]:\n",
    "    predictions_combined = pd.concat([pd.DataFrame(fold[treatment_level]) for fold in predictions_test])\n",
    "print(predictions_combined.min())\n",
    "print(predictions_combined.max())"
   ],
   "metadata": {
    "collapsed": false,
    "pycharm": {
     "name": "#%%\n"
    }
   }
  },
  {
   "cell_type": "code",
   "execution_count": null,
   "outputs": [],
   "source": [
    "##### Merge all folds\n",
    "for treatment_level in [\"treatment_spending\",\"treatment_basket_value\",\"treatment_conversion\"]:\n",
    "    predictions_combined = pd.concat([pd.DataFrame(fold[treatment_level]) for fold in predictions_test])\n",
    "    for model in predictions_combined.columns.values:\n",
    "        with PdfPages(f\"figures/{treatment_level}_{model}_distribution_combined.pdf\") as pdf:\n",
    "            if model not in [\"oracle__\", \"ATE__\"]:\n",
    "                plt.figure()\n",
    "                plt.title(model)\n",
    "                plt.xlabel(\"Model Estimate\")\n",
    "                plt.ylabel(\"Kernel Density\")\n",
    "                plt.axis(axes_limits[treatment_level]) #\n",
    "                try:\n",
    "                    sns.kdeplot(predictions_combined[[\"oracle__\"]].values.flatten(), linestyle=\"--\", color='grey')\n",
    "                except:\n",
    "                    sns.kdeplot(predictions_combined[[\"oracle\"]].values.flatten(), linestyle=\"--\", color='grey')\n",
    "                #sns.kdeplot(tau_response.values.flatten(), linestyle=\"--\", color='green')\n",
    "                sns.kdeplot(predictions_combined[[model]].values.flatten(),\n",
    "                            clip=clip_limits[treatment_level], color=\"blue\")\n",
    "                pdf.savefig()\n",
    "                plt.close()\n"
   ],
   "metadata": {
    "collapsed": false,
    "pycharm": {
     "name": "#%%\n"
    }
   }
  },
  {
   "cell_type": "markdown",
   "source": [
    "## Prediction distribution analysis"
   ],
   "metadata": {
    "collapsed": false
   }
  },
  {
   "cell_type": "code",
   "execution_count": null,
   "outputs": [],
   "source": [
    "import matplotlib.pyplot as plt\n",
    "from matplotlib.backends.backend_pdf import PdfPages\n",
    "import seaborn as sns"
   ],
   "metadata": {
    "collapsed": false,
    "pycharm": {
     "name": "#%%\n"
    }
   }
  },
  {
   "cell_type": "code",
   "execution_count": null,
   "outputs": [],
   "source": [
    "##### Evaluation of distribution of predicted treatment effects\n",
    "\n",
    "axes_limits = {\"treatment_spending\": [-20, 20, 0, 0.4],\n",
    "               \"treatment_basket_value\": [-20, 20, 0, 0.3],\n",
    "               \"treatment_conversion\": [-0.15, 0.25, 0, 60]}\n",
    "\n",
    "clip_limits = {\"treatment_spending\": [-50, 50],\n",
    "               \"treatment_basket_value\": [-50, 50],\n",
    "               \"treatment_conversion\": [-0.5, 0.5]}"
   ],
   "metadata": {
    "collapsed": false,
    "pycharm": {
     "name": "#%%\n"
    }
   }
  },
  {
   "cell_type": "code",
   "execution_count": null,
   "outputs": [],
   "source": [],
   "metadata": {
    "collapsed": false,
    "pycharm": {
     "name": "#%%\n"
    }
   }
  },
  {
   "cell_type": "code",
   "execution_count": null,
   "outputs": [],
   "source": [
    "# plot densities for treatment effects\n",
    "for treatment_level in [\"treatment_spending\", \"treatment_basket_value\", \"treatment_conversion\"]:\n",
    "    for fold_index in range(len(predictions_test)):\n",
    "        with PdfPages(f\"figures/CATE/{treatment_level}_distribution_fold{fold_index}.pdf\") as pdf:\n",
    "            for model in predictions_test[fold_index][treatment_level].keys():\n",
    "                if model not in [\"oracle__\", \"ATE__\"]:\n",
    "                    plt.figure()\n",
    "                    plt.title(model)\n",
    "                    plt.xlabel(\"Model Estimate\")\n",
    "                    plt.ylabel(\"Kernel Density\")\n",
    "                    plt.axis(axes_limits[treatment_level])  #\n",
    "                    try:\n",
    "                        sns.kdeplot(predictions_test[fold_index][treatment_level][\"oracle__\"])\n",
    "                    except:\n",
    "                        sns.kdeplot(predictions_test[fold_index][treatment_level][\"oracle\"])\n",
    "                    sns.kdeplot(predictions_test[fold_index][treatment_level][model])\n",
    "                    pdf.savefig()\n",
    "                    plt.close()"
   ],
   "metadata": {
    "collapsed": false,
    "pycharm": {
     "name": "#%%\n"
    }
   }
  },
  {
   "cell_type": "markdown",
   "source": [
    "Look at range of treatment effect predictions"
   ],
   "metadata": {
    "collapsed": false
   }
  },
  {
   "cell_type": "code",
   "execution_count": null,
   "outputs": [],
   "source": [
    "for treatment_level in [\"treatment_spending\"]:\n",
    "    predictions_combined = pd.concat([pd.DataFrame(fold[treatment_level]) for fold in predictions_test])\n",
    "print(predictions_combined.min())\n",
    "print(predictions_combined.max())"
   ],
   "metadata": {
    "collapsed": false,
    "pycharm": {
     "name": "#%%\n"
    }
   }
  },
  {
   "cell_type": "code",
   "execution_count": null,
   "outputs": [],
   "source": [
    "##### Merge all folds\n",
    "for treatment_level in [\"treatment_spending\", \"treatment_basket_value\", \"treatment_conversion\"]:\n",
    "    predictions_combined = pd.concat([pd.DataFrame(fold[treatment_level]) for fold in predictions_test])\n",
    "\n",
    "    with PdfPages(f\"figures/CATE/{treatment_level}_distribution_combined.pdf\") as pdf:\n",
    "        for model in predictions_combined.columns.values:\n",
    "            if model not in [\"oracle__\", \"ATE__\"]:\n",
    "                plt.figure()\n",
    "                plt.title(model)\n",
    "                plt.xlabel(\"Model Estimate\")\n",
    "                plt.ylabel(\"Kernel Density\")\n",
    "                plt.axis(axes_limits[treatment_level])  #\n",
    "                try:\n",
    "                    sns.kdeplot(predictions_combined[[\"oracle__\"]].values.flatten(), linestyle=\"--\", color='grey')\n",
    "                except:\n",
    "                    sns.kdeplot(predictions_combined[[\"oracle\"]].values.flatten(), linestyle=\"--\", color='grey')\n",
    "                #sns.kdeplot(tau_response.values.flatten(), linestyle=\"--\", color='green')\n",
    "                sns.kdeplot(predictions_combined[[model]].values.flatten(),\n",
    "                            clip=clip_limits[treatment_level], color=\"blue\")\n",
    "                pdf.savefig()\n",
    "                plt.close()"
   ],
   "metadata": {
    "collapsed": false,
    "pycharm": {
     "name": "#%%\n"
    }
   }
  },
  {
   "cell_type": "code",
   "execution_count": null,
   "outputs": [],
   "source": [
    "##### Merge all folds\n",
    "for treatment_level in [\"treatment_spending\", \"treatment_basket_value\", \"treatment_conversion\"]:\n",
    "    predictions_combined = pd.concat([pd.DataFrame(fold[treatment_level]) for fold in predictions_test])\n",
    "\n",
    "    with PdfPages(f\"figures/CATE/{treatment_level}_scatter_combined.pdf\") as pdf:\n",
    "        for model in predictions_combined.columns.values:\n",
    "            if model not in [\"oracle__\", \"ATE__\"]:\n",
    "                plt.figure()\n",
    "                plt.title(model)\n",
    "                plt.xlabel(\"Model Estimate\")\n",
    "                plt.ylabel(\"ITE\")\n",
    "                try:\n",
    "                    sns.kdeplot(x=predictions_combined[[model]].values.flatten(),\n",
    "                                y=predictions_combined[[\"oracle__\"]].values.flatten(),\n",
    "                                clip=clip_limits[treatment_level])\n",
    "                except:\n",
    "                    sns.kdeplot(x=predictions_combined[[model]].values.flatten(),\n",
    "                                y=predictions_combined[[\"oracle\"]].values.flatten(), clip=clip_limits[treatment_level])\n",
    "                #sns.kdeplot(tau_response.values.flatten(), linestyle=\"--\", color='green')\n",
    "                pdf.savefig()\n",
    "                plt.close()\n",
    "\n"
   ],
   "metadata": {
    "collapsed": false,
    "pycharm": {
     "name": "#%%\n"
    }
   }
  },
  {
   "cell_type": "markdown",
   "source": [
    "## Analyze the distribution of the PIs"
   ],
   "metadata": {
    "collapsed": false
   }
  },
  {
   "cell_type": "code",
   "execution_count": null,
   "outputs": [],
   "source": [
    "df = pd.DataFrame(predictions_test[0]['prediction_intervals'])\n",
    "PI_model_names = df.index\n",
    "predictions_test[0]['prediction_intervals']"
   ],
   "metadata": {
    "collapsed": false,
    "pycharm": {
     "name": "#%%\n"
    }
   }
  },
  {
   "cell_type": "code",
   "execution_count": null,
   "outputs": [],
   "source": [],
   "metadata": {
    "collapsed": false,
    "pycharm": {
     "name": "#%%\n"
    }
   }
  },
  {
   "cell_type": "code",
   "execution_count": null,
   "outputs": [],
   "source": [
    "##### Merge all folds\n",
    "# Seperate Plots\n",
    "ylim = [-100, 100]\n",
    "for alpha in [0.05, 0.32]:\n",
    "    for PI_model in PI_model_names:\n",
    "        print(PI_model)\n",
    "        predictions_combined = pd.concat(\n",
    "            [pd.DataFrame(fold['prediction_intervals'][alpha][PI_model]['quantile_model']) for fold in\n",
    "             predictions_test])\n",
    "        print(predictions_combined)\n",
    "        plt.boxplot(x=predictions_combined)\n",
    "        #plt.ylim(ylim)\n",
    "        plt.xticks([1, 2], ['Lower', 'Upper'])\n",
    "        plt.xlabel('Bounadries')\n",
    "        plt.ylabel('Interval Estimates')\n",
    "        plt.title(f'Combined Oracle Prediction Intervals for {PI_model} at {alpha}')\n",
    "        plt.savefig(f\"figures/PI_Boxplot/{today}_{alpha}_{PI_model}_estimates.pdf\", bbox_inches='tight')\n",
    "        plt.close()\n"
   ],
   "metadata": {
    "collapsed": false,
    "pycharm": {
     "name": "#%%\n"
    }
   }
  },
  {
   "cell_type": "code",
   "execution_count": null,
   "outputs": [],
   "source": [
    "##### Merge all folds\n",
    "# All in one PDF\n",
    "Tot = 12\n",
    "Cols = 3\n",
    "\n",
    "# Compute Rows required\n",
    "\n",
    "Rows = Tot // Cols\n",
    "Rows += Tot % Cols\n",
    "\n",
    "# Create a Position index\n",
    "Position = range(1, Tot + 1)\n",
    "\n",
    "# Create main figure\n",
    "#with PdfPages(f\"figures/PI_Boxplot/{today}_combined_oracle.pdf\") as pdf:\n",
    "fig = plt.figure(1)\n",
    "ylim = [-100, 100]\n",
    "for k in range(Tot):\n",
    "\n",
    "    for alpha in [0.05, 0.32]:\n",
    "        # Plotting all the subplots\n",
    "\n",
    "        for PI_model in PI_model_names:\n",
    "            ax = fig.add_subplot(Rows, Cols, Position[k])\n",
    "            predictions_combined = pd.concat(\n",
    "                [pd.DataFrame(fold['prediction_intervals'][alpha][PI_model]['quantile_model']) for fold in\n",
    "                 predictions_test])\n",
    "            ax.boxplot(x=predictions_combined)\n",
    "            ax.set_ylim(ylim)\n",
    "            ax.set_xticklabels(['Lower', 'Upper'], fontdict=None, minor=False)\n",
    "            #ax.set_xticks(ticks=[1, 2], ,minor=False)\n",
    "            ax.set_xlabel('Bounadries')\n",
    "            ax.set_ylabel('Interval Estimates')\n",
    "            ax.set_title(f'{PI_model} at {alpha}')\n",
    "\n",
    "fig.savefig(f\"figures/PI_Boxplot/{today}_oracle_combined.pdf\", bbox_inches='tight')\n",
    "plt.close(fig)\n"
   ],
   "metadata": {
    "collapsed": false,
    "pycharm": {
     "name": "#%%\n"
    }
   }
  }
 ],
 "metadata": {
  "kernelspec": {
   "name": "uplift",
   "language": "python",
   "display_name": "Python (uplift)"
  },
  "language_info": {
   "codemirror_mode": {
    "name": "ipython",
    "version": 3
   },
   "file_extension": ".py",
   "mimetype": "text/x-python",
   "name": "python",
   "nbconvert_exporter": "python",
   "pygments_lexer": "ipython3",
   "version": "3.7.11"
  }
 },
 "nbformat": 4,
 "nbformat_minor": 1
}